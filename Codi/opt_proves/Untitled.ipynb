{
 "cells": [
  {
   "cell_type": "code",
   "execution_count": 4,
   "metadata": {},
   "outputs": [],
   "source": [
    "import numpy as np\n",
    "import pybobyqa"
   ]
  },
  {
   "cell_type": "code",
   "execution_count": 19,
   "metadata": {},
   "outputs": [],
   "source": [
    "def f(v):\n",
    "    [x,y,z] = v\n",
    "    a = 1\n",
    "    b = 100\n",
    "    return (a-x)**2 + b*(y-x**2)**2 + z\n",
    "\n",
    "lower = np.array([-10.0, -10.0,-10.0])\n",
    "upper = np.array([0.9, 0.85, 1])\n"
   ]
  },
  {
   "cell_type": "code",
   "execution_count": 20,
   "metadata": {},
   "outputs": [],
   "source": [
    "soln = pybobyqa.solve(f, np.array([0.0,0.0,0.0]), bounds = (lower,upper))"
   ]
  },
  {
   "cell_type": "code",
   "execution_count": 21,
   "metadata": {
    "scrolled": true
   },
   "outputs": [
    {
     "name": "stdout",
     "output_type": "stream",
     "text": [
      "****** Py-BOBYQA Results ******\n",
      "Solution xmin = [  0.9    0.81 -10.  ]\n",
      "Objective value f(xmin) = -9.99\n",
      "Needed 141 objective evaluations (at 141 points)\n",
      "Approximate gradient = [ -1.99999862e-01  -3.83573965e-19   9.99999969e-01]\n",
      "Approximate Hessian = [[ 665.38750237 -362.50316677    4.25279138]\n",
      " [-362.50316677  205.26790144   17.81488663]\n",
      " [   4.25279138   17.81488663   12.40984539]]\n",
      "Exit flag = 0\n",
      "Success: rho has reached rhoend\n",
      "******************************\n",
      "\n"
     ]
    }
   ],
   "source": [
    "print(soln)"
   ]
  },
  {
   "cell_type": "code",
   "execution_count": 26,
   "metadata": {},
   "outputs": [
    {
     "ename": "TypeError",
     "evalue": "'slice' object is not iterable",
     "output_type": "error",
     "traceback": [
      "\u001b[0;31m---------------------------------------------------------------------------\u001b[0m",
      "\u001b[0;31mTypeError\u001b[0m                                 Traceback (most recent call last)",
      "\u001b[0;32m<ipython-input-26-72d477dbdb95>\u001b[0m in \u001b[0;36m<module>\u001b[0;34m()\u001b[0m\n\u001b[0;32m----> 1\u001b[0;31m \u001b[0mlist\u001b[0m\u001b[0;34m(\u001b[0m\u001b[0mslice\u001b[0m\u001b[0;34m(\u001b[0m\u001b[0;34m-\u001b[0m\u001b[0;36m4\u001b[0m\u001b[0;34m,\u001b[0m\u001b[0;36m4\u001b[0m\u001b[0;34m,\u001b[0m\u001b[0;36m0.25\u001b[0m\u001b[0;34m)\u001b[0m\u001b[0;34m)\u001b[0m\u001b[0;34m\u001b[0m\u001b[0m\n\u001b[0m",
      "\u001b[0;31mTypeError\u001b[0m: 'slice' object is not iterable"
     ]
    }
   ],
   "source": [
    "list(slice(-4,4,0.25))"
   ]
  },
  {
   "cell_type": "code",
   "execution_count": 23,
   "metadata": {},
   "outputs": [],
   "source": [
    ">>> params = (2, 3, 7, 8, 9, 10, 44, -1, 2, 26, 1, -2, 0.5)\n",
    ">>> def f1(z, *params):\n",
    "...     x, y = z\n",
    "...     a, b, c, d, e, f, g, h, i, j, k, l, scale = params\n",
    "...     return (a * x**2 + b * x * y + c * y**2 + d*x + e*y + f)\n",
    ">>>\n",
    ">>> def f2(z, *params):\n",
    "...     x, y = z\n",
    "...     a, b, c, d, e, f, g, h, i, j, k, l, scale = params\n",
    "...     return (-g*np.exp(-((x-h)**2 + (y-i)**2) / scale))\n",
    ">>>\n",
    ">>> def f3(z, *params):\n",
    "...     x, y = z\n",
    "...     a, b, c, d, e, f, g, h, i, j, k, l, scale = params\n",
    "...     return (-j*np.exp(-((x-k)**2 + (y-l)**2) / scale))\n",
    ">>>\n",
    ">>> def f(z, *params):\n",
    "...     return f1(z, *params) + f2(z, *params) + f3(z, *params)\n",
    ">>>\n",
    ">>> rranges = (slice(-4, 4, 0.25), slice(-4, 4, 0.25))\n",
    ">>> from scipy import optimize\n",
    ">>> resbrute = optimize.brute(f, rranges, args=params, full_output=True,\n",
    "...                           finish=optimize.fmin)"
   ]
  },
  {
   "cell_type": "code",
   "execution_count": 24,
   "metadata": {},
   "outputs": [
    {
     "data": {
      "text/plain": [
       "(array([-1.05665192,  1.80834843]),\n",
       " -3.4085818767996527,\n",
       " array([[[-4.  , -4.  , -4.  , ..., -4.  , -4.  , -4.  ],\n",
       "         [-3.75, -3.75, -3.75, ..., -3.75, -3.75, -3.75],\n",
       "         [-3.5 , -3.5 , -3.5 , ..., -3.5 , -3.5 , -3.5 ],\n",
       "         ..., \n",
       "         [ 3.25,  3.25,  3.25, ...,  3.25,  3.25,  3.25],\n",
       "         [ 3.5 ,  3.5 ,  3.5 , ...,  3.5 ,  3.5 ,  3.5 ],\n",
       "         [ 3.75,  3.75,  3.75, ...,  3.75,  3.75,  3.75]],\n",
       " \n",
       "        [[-4.  , -3.75, -3.5 , ...,  3.25,  3.5 ,  3.75],\n",
       "         [-4.  , -3.75, -3.5 , ...,  3.25,  3.5 ,  3.75],\n",
       "         [-4.  , -3.75, -3.5 , ...,  3.25,  3.5 ,  3.75],\n",
       "         ..., \n",
       "         [-4.  , -3.75, -3.5 , ...,  3.25,  3.5 ,  3.75],\n",
       "         [-4.  , -3.75, -3.5 , ...,  3.25,  3.5 ,  3.75],\n",
       "         [-4.  , -3.75, -3.5 , ...,  3.25,  3.5 ,  3.75]]]),\n",
       " array([[ 134.        ,  119.6875    ,  106.25      , ...,   74.18749997,\n",
       "           85.24999999,   97.1875    ],\n",
       "        [ 129.125     ,  115.        ,  101.75      , ...,   74.74999948,\n",
       "           85.99999987,   98.12499997],\n",
       "        [ 124.5       ,  110.5625    ,   97.5       , ...,   75.5624928 ,\n",
       "           86.99999818,   99.31249964],\n",
       "        ..., \n",
       "        [  94.12499965,   85.24999772,   77.24998843, ...,  192.        ,\n",
       "          208.5       ,  225.875     ],\n",
       "        [  96.49999997,   87.81249979,   79.99999892, ...,  199.8125    ,\n",
       "          216.5       ,  234.0625    ],\n",
       "        [  99.125     ,   90.62499998,   82.99999992, ...,  207.875     ,\n",
       "          224.75      ,  242.5       ]]))"
      ]
     },
     "execution_count": 24,
     "metadata": {},
     "output_type": "execute_result"
    }
   ],
   "source": [
    "resbrute"
   ]
  }
 ],
 "metadata": {
  "kernelspec": {
   "display_name": "Python 3",
   "language": "python",
   "name": "python3"
  },
  "language_info": {
   "codemirror_mode": {
    "name": "ipython",
    "version": 3
   },
   "file_extension": ".py",
   "mimetype": "text/x-python",
   "name": "python",
   "nbconvert_exporter": "python",
   "pygments_lexer": "ipython3",
   "version": "3.5.3"
  }
 },
 "nbformat": 4,
 "nbformat_minor": 2
}
