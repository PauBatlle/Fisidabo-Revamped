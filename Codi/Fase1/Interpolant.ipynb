{
 "cells": [
  {
   "cell_type": "markdown",
   "metadata": {},
   "source": [
    "Interpolant els resultats d'un llit elàstic, per poder posar a l'èbola la funcio i les dues primeres derivades"
   ]
  },
  {
   "cell_type": "markdown",
   "metadata": {},
   "source": [
    "Aquest exemple usa els resultats de l'òptim de les dades 1 "
   ]
  },
  {
   "cell_type": "code",
   "execution_count": 1,
   "metadata": {
    "collapsed": true
   },
   "outputs": [],
   "source": [
    "import numpy as np\n",
    "import os\n",
    "import matplotlib.pyplot as plt"
   ]
  },
  {
   "cell_type": "code",
   "execution_count": 2,
   "metadata": {
    "collapsed": true
   },
   "outputs": [],
   "source": [
    "folder = \"EL=140.712415711-TI=1.42203583964\""
   ]
  },
  {
   "cell_type": "code",
   "execution_count": 3,
   "metadata": {
    "collapsed": true
   },
   "outputs": [],
   "source": [
    "llit = np.load(\"Function-Results/\"+folder+\"/tensor.npy\")"
   ]
  },
  {
   "cell_type": "code",
   "execution_count": 4,
   "metadata": {
    "scrolled": true
   },
   "outputs": [
    {
     "data": {
      "text/plain": [
       "(218, 154, 3)"
      ]
     },
     "execution_count": 4,
     "metadata": {},
     "output_type": "execute_result"
    }
   ],
   "source": [
    "llit.shape"
   ]
  },
  {
   "cell_type": "code",
   "execution_count": 5,
   "metadata": {},
   "outputs": [
    {
     "data": {
      "text/plain": [
       "array([-2.2, -1.3,  0. ])"
      ]
     },
     "execution_count": 5,
     "metadata": {},
     "output_type": "execute_result"
    }
   ],
   "source": [
    "llit[0,0]"
   ]
  },
  {
   "cell_type": "code",
   "execution_count": 6,
   "metadata": {
    "collapsed": true
   },
   "outputs": [],
   "source": [
    "from scipy.interpolate import interp2d"
   ]
  },
  {
   "cell_type": "code",
   "execution_count": 7,
   "metadata": {
    "collapsed": true
   },
   "outputs": [],
   "source": [
    "x = llit[:,:,0]\n",
    "y = llit[:,:,1]\n",
    "z = llit[:,:,2]"
   ]
  },
  {
   "cell_type": "code",
   "execution_count": 8,
   "metadata": {
    "collapsed": true
   },
   "outputs": [],
   "source": [
    "import scipy"
   ]
  },
  {
   "cell_type": "code",
   "execution_count": 10,
   "metadata": {
    "scrolled": false
   },
   "outputs": [
    {
     "name": "stdout",
     "output_type": "stream",
     "text": [
      "CPU times: user 0 ns, sys: 0 ns, total: 0 ns\n",
      "Wall time: 8.58 µs\n"
     ]
    }
   ],
   "source": [
    "%%time \n",
    "def g(s):\n",
    "    if s < 0:\n",
    "        return g(-s)\n",
    "    p = scipy.interpolate.bisplrep(x, y, z, s = s)\n",
    "    o = lambda i,j: scipy.interpolate.bisplev(llit[i,j,0],llit[i,j,1],p)\n",
    "    aux = np.zeros(x.shape)\n",
    "    for i in range(len(aux)):\n",
    "        for j in range(len(aux[0])):\n",
    "            aux[i,j] = o(i,j)\n",
    "    ipp = np.linalg.norm(aux-z)\n",
    "    return ipp"
   ]
  },
  {
   "cell_type": "code",
   "execution_count": null,
   "metadata": {},
   "outputs": [
    {
     "name": "stdout",
     "output_type": "stream",
     "text": [
      "0.1\n",
      "0.316338242416 1.3224294185638428\n",
      "0.01\n",
      "0.100000446318 3.0884311199188232\n",
      "0.001\n",
      "0.0316148643848 7.59289813041687\n",
      "0.0001\n",
      "0.0100029571159 17.651944637298584\n",
      "1e-05\n",
      "0.00316222303104 41.28553581237793\n",
      "1e-06\n",
      "0.0010000733961 73.23258209228516\n",
      "1e-07\n"
     ]
    }
   ],
   "source": [
    "import time\n",
    "for i in range(1,10):\n",
    "    s = 10**(-i)\n",
    "    print(s)\n",
    "    t0 = time.time()\n",
    "    d = g(s)\n",
    "    print(d,time.time()-t0)"
   ]
  },
  {
   "cell_type": "code",
   "execution_count": 13,
   "metadata": {
    "scrolled": true
   },
   "outputs": [
    {
     "name": "stdout",
     "output_type": "stream",
     "text": [
      "[ 0.01]\n",
      "-> 0.100000446318\n",
      "[ 0.0105]\n",
      "-> 0.102474901923\n",
      "[ 0.0095]\n",
      "-> 0.0974677421207\n",
      "[ 0.009]\n",
      "-> 0.0948672270965\n",
      "[ 0.008]\n",
      "-> 0.0894870885822\n",
      "[ 0.007]\n",
      "-> 0.0836702792455\n",
      "[ 0.005]\n"
     ]
    },
    {
     "ename": "KeyboardInterrupt",
     "evalue": "",
     "output_type": "error",
     "traceback": [
      "\u001b[0;31m---------------------------------------------------------------------------\u001b[0m",
      "\u001b[0;31mKeyboardInterrupt\u001b[0m                         Traceback (most recent call last)",
      "\u001b[0;32m<ipython-input-13-5a386cb8219d>\u001b[0m in \u001b[0;36m<module>\u001b[0;34m()\u001b[0m\n\u001b[0;32m----> 1\u001b[0;31m \u001b[0mscipy\u001b[0m\u001b[0;34m.\u001b[0m\u001b[0moptimize\u001b[0m\u001b[0;34m.\u001b[0m\u001b[0mminimize\u001b[0m\u001b[0;34m(\u001b[0m\u001b[0mg\u001b[0m\u001b[0;34m,\u001b[0m \u001b[0mmethod\u001b[0m \u001b[0;34m=\u001b[0m \u001b[0;34m'nelder-mead'\u001b[0m\u001b[0;34m,\u001b[0m \u001b[0mx0\u001b[0m \u001b[0;34m=\u001b[0m \u001b[0;36m0.01\u001b[0m\u001b[0;34m)\u001b[0m\u001b[0;34m\u001b[0m\u001b[0m\n\u001b[0m",
      "\u001b[0;32m/media/pau/HDD/anaconda3/lib/python3.6/site-packages/scipy/optimize/_minimize.py\u001b[0m in \u001b[0;36mminimize\u001b[0;34m(fun, x0, args, method, jac, hess, hessp, bounds, constraints, tol, callback, options)\u001b[0m\n\u001b[1;32m    436\u001b[0m                       callback=callback, **options)\n\u001b[1;32m    437\u001b[0m     \u001b[0;32melif\u001b[0m \u001b[0mmeth\u001b[0m \u001b[0;34m==\u001b[0m \u001b[0;34m'nelder-mead'\u001b[0m\u001b[0;34m:\u001b[0m\u001b[0;34m\u001b[0m\u001b[0m\n\u001b[0;32m--> 438\u001b[0;31m         \u001b[0;32mreturn\u001b[0m \u001b[0m_minimize_neldermead\u001b[0m\u001b[0;34m(\u001b[0m\u001b[0mfun\u001b[0m\u001b[0;34m,\u001b[0m \u001b[0mx0\u001b[0m\u001b[0;34m,\u001b[0m \u001b[0margs\u001b[0m\u001b[0;34m,\u001b[0m \u001b[0mcallback\u001b[0m\u001b[0;34m,\u001b[0m \u001b[0;34m**\u001b[0m\u001b[0moptions\u001b[0m\u001b[0;34m)\u001b[0m\u001b[0;34m\u001b[0m\u001b[0m\n\u001b[0m\u001b[1;32m    439\u001b[0m     \u001b[0;32melif\u001b[0m \u001b[0mmeth\u001b[0m \u001b[0;34m==\u001b[0m \u001b[0;34m'powell'\u001b[0m\u001b[0;34m:\u001b[0m\u001b[0;34m\u001b[0m\u001b[0m\n\u001b[1;32m    440\u001b[0m         \u001b[0;32mreturn\u001b[0m \u001b[0m_minimize_powell\u001b[0m\u001b[0;34m(\u001b[0m\u001b[0mfun\u001b[0m\u001b[0;34m,\u001b[0m \u001b[0mx0\u001b[0m\u001b[0;34m,\u001b[0m \u001b[0margs\u001b[0m\u001b[0;34m,\u001b[0m \u001b[0mcallback\u001b[0m\u001b[0;34m,\u001b[0m \u001b[0;34m**\u001b[0m\u001b[0moptions\u001b[0m\u001b[0;34m)\u001b[0m\u001b[0;34m\u001b[0m\u001b[0m\n",
      "\u001b[0;32m/media/pau/HDD/anaconda3/lib/python3.6/site-packages/scipy/optimize/optimize.py\u001b[0m in \u001b[0;36m_minimize_neldermead\u001b[0;34m(func, x0, args, callback, maxiter, maxfev, disp, return_all, initial_simplex, xatol, fatol, **unknown_options)\u001b[0m\n\u001b[1;32m    531\u001b[0m         \u001b[0mxbar\u001b[0m \u001b[0;34m=\u001b[0m \u001b[0mnumpy\u001b[0m\u001b[0;34m.\u001b[0m\u001b[0madd\u001b[0m\u001b[0;34m.\u001b[0m\u001b[0mreduce\u001b[0m\u001b[0;34m(\u001b[0m\u001b[0msim\u001b[0m\u001b[0;34m[\u001b[0m\u001b[0;34m:\u001b[0m\u001b[0;34m-\u001b[0m\u001b[0;36m1\u001b[0m\u001b[0;34m]\u001b[0m\u001b[0;34m,\u001b[0m \u001b[0;36m0\u001b[0m\u001b[0;34m)\u001b[0m \u001b[0;34m/\u001b[0m \u001b[0mN\u001b[0m\u001b[0;34m\u001b[0m\u001b[0m\n\u001b[1;32m    532\u001b[0m         \u001b[0mxr\u001b[0m \u001b[0;34m=\u001b[0m \u001b[0;34m(\u001b[0m\u001b[0;36m1\u001b[0m \u001b[0;34m+\u001b[0m \u001b[0mrho\u001b[0m\u001b[0;34m)\u001b[0m \u001b[0;34m*\u001b[0m \u001b[0mxbar\u001b[0m \u001b[0;34m-\u001b[0m \u001b[0mrho\u001b[0m \u001b[0;34m*\u001b[0m \u001b[0msim\u001b[0m\u001b[0;34m[\u001b[0m\u001b[0;34m-\u001b[0m\u001b[0;36m1\u001b[0m\u001b[0;34m]\u001b[0m\u001b[0;34m\u001b[0m\u001b[0m\n\u001b[0;32m--> 533\u001b[0;31m         \u001b[0mfxr\u001b[0m \u001b[0;34m=\u001b[0m \u001b[0mfunc\u001b[0m\u001b[0;34m(\u001b[0m\u001b[0mxr\u001b[0m\u001b[0;34m)\u001b[0m\u001b[0;34m\u001b[0m\u001b[0m\n\u001b[0m\u001b[1;32m    534\u001b[0m         \u001b[0mdoshrink\u001b[0m \u001b[0;34m=\u001b[0m \u001b[0;36m0\u001b[0m\u001b[0;34m\u001b[0m\u001b[0m\n\u001b[1;32m    535\u001b[0m \u001b[0;34m\u001b[0m\u001b[0m\n",
      "\u001b[0;32m/media/pau/HDD/anaconda3/lib/python3.6/site-packages/scipy/optimize/optimize.py\u001b[0m in \u001b[0;36mfunction_wrapper\u001b[0;34m(*wrapper_args)\u001b[0m\n\u001b[1;32m    290\u001b[0m     \u001b[0;32mdef\u001b[0m \u001b[0mfunction_wrapper\u001b[0m\u001b[0;34m(\u001b[0m\u001b[0;34m*\u001b[0m\u001b[0mwrapper_args\u001b[0m\u001b[0;34m)\u001b[0m\u001b[0;34m:\u001b[0m\u001b[0;34m\u001b[0m\u001b[0m\n\u001b[1;32m    291\u001b[0m         \u001b[0mncalls\u001b[0m\u001b[0;34m[\u001b[0m\u001b[0;36m0\u001b[0m\u001b[0;34m]\u001b[0m \u001b[0;34m+=\u001b[0m \u001b[0;36m1\u001b[0m\u001b[0;34m\u001b[0m\u001b[0m\n\u001b[0;32m--> 292\u001b[0;31m         \u001b[0;32mreturn\u001b[0m \u001b[0mfunction\u001b[0m\u001b[0;34m(\u001b[0m\u001b[0;34m*\u001b[0m\u001b[0;34m(\u001b[0m\u001b[0mwrapper_args\u001b[0m \u001b[0;34m+\u001b[0m \u001b[0margs\u001b[0m\u001b[0;34m)\u001b[0m\u001b[0;34m)\u001b[0m\u001b[0;34m\u001b[0m\u001b[0m\n\u001b[0m\u001b[1;32m    293\u001b[0m \u001b[0;34m\u001b[0m\u001b[0m\n\u001b[1;32m    294\u001b[0m     \u001b[0;32mreturn\u001b[0m \u001b[0mncalls\u001b[0m\u001b[0;34m,\u001b[0m \u001b[0mfunction_wrapper\u001b[0m\u001b[0;34m\u001b[0m\u001b[0m\n",
      "\u001b[0;32m<timed exec>\u001b[0m in \u001b[0;36mg\u001b[0;34m(s)\u001b[0m\n",
      "\u001b[0;32m/media/pau/HDD/anaconda3/lib/python3.6/site-packages/scipy/interpolate/_fitpack_impl.py\u001b[0m in \u001b[0;36mbisplrep\u001b[0;34m(x, y, z, w, xb, xe, yb, ye, kx, ky, task, s, eps, tx, ty, full_output, nxest, nyest, quiet)\u001b[0m\n\u001b[1;32m    956\u001b[0m     tx, ty, c, o = _fitpack._surfit(x, y, z, w, xb, xe, yb, ye, kx, ky,\n\u001b[1;32m    957\u001b[0m                                     \u001b[0mtask\u001b[0m\u001b[0;34m,\u001b[0m \u001b[0ms\u001b[0m\u001b[0;34m,\u001b[0m \u001b[0meps\u001b[0m\u001b[0;34m,\u001b[0m \u001b[0mtx\u001b[0m\u001b[0;34m,\u001b[0m \u001b[0mty\u001b[0m\u001b[0;34m,\u001b[0m \u001b[0mnxest\u001b[0m\u001b[0;34m,\u001b[0m \u001b[0mnyest\u001b[0m\u001b[0;34m,\u001b[0m\u001b[0;34m\u001b[0m\u001b[0m\n\u001b[0;32m--> 958\u001b[0;31m                                     wrk, lwrk1, lwrk2)\n\u001b[0m\u001b[1;32m    959\u001b[0m     \u001b[0m_curfit_cache\u001b[0m\u001b[0;34m[\u001b[0m\u001b[0;34m'tx'\u001b[0m\u001b[0;34m]\u001b[0m \u001b[0;34m=\u001b[0m \u001b[0mtx\u001b[0m\u001b[0;34m\u001b[0m\u001b[0m\n\u001b[1;32m    960\u001b[0m     \u001b[0m_curfit_cache\u001b[0m\u001b[0;34m[\u001b[0m\u001b[0;34m'ty'\u001b[0m\u001b[0;34m]\u001b[0m \u001b[0;34m=\u001b[0m \u001b[0mty\u001b[0m\u001b[0;34m\u001b[0m\u001b[0m\n",
      "\u001b[0;31mKeyboardInterrupt\u001b[0m: "
     ]
    }
   ],
   "source": [
    "scipy.optimize.minimize(g, method = 'nelder-mead', x0 = 0.01)"
   ]
  },
  {
   "cell_type": "code",
   "execution_count": 11,
   "metadata": {},
   "outputs": [
    {
     "data": {
      "text/plain": [
       "1.4142605228589624"
      ]
     },
     "execution_count": 11,
     "metadata": {},
     "output_type": "execute_result"
    }
   ],
   "source": [
    "g(2)"
   ]
  },
  {
   "cell_type": "code",
   "execution_count": null,
   "metadata": {},
   "outputs": [],
   "source": [
    "g(0)"
   ]
  },
  {
   "cell_type": "code",
   "execution_count": 42,
   "metadata": {},
   "outputs": [
    {
     "data": {
      "text/plain": [
       "-0.034477253250061402"
      ]
     },
     "execution_count": 42,
     "metadata": {},
     "output_type": "execute_result"
    }
   ],
   "source": []
  },
  {
   "cell_type": "code",
   "execution_count": 43,
   "metadata": {},
   "outputs": [
    {
     "data": {
      "text/plain": [
       "-0.026898672552421163"
      ]
     },
     "execution_count": 43,
     "metadata": {},
     "output_type": "execute_result"
    }
   ],
   "source": [
    "llit[1,2,2]"
   ]
  },
  {
   "cell_type": "code",
   "execution_count": null,
   "metadata": {
    "collapsed": true
   },
   "outputs": [],
   "source": [
    "%%time\n",
    "f = interp2d(x, y, z, kind='cubic')"
   ]
  },
  {
   "cell_type": "code",
   "execution_count": null,
   "metadata": {
    "collapsed": true,
    "scrolled": false
   },
   "outputs": [],
   "source": [
    "#PLOT A SURFACE\n",
    "%matplotlib notebook\n",
    "from mpl_toolkits.mplot3d import Axes3D\n",
    "\n",
    "fig = plt.figure('Llit')\n",
    "ax = fig.gca(projection='3d')\n",
    "fig.suptitle(\"Llit elàstic\")\n",
    "plt.xlabel(\"X (meters)\")\n",
    "plt.ylabel(\"Y (meters)\")\n",
    "ax.set_zlabel('Height (meters)')\n",
    "ax.set_zlim(-1,0.1)\n",
    "\n",
    "surf = ax.plot_surface(llit[:,:,0], llit[:,:,1], llit[:,:,2], antialiased=True)\n"
   ]
  },
  {
   "cell_type": "code",
   "execution_count": 34,
   "metadata": {
    "collapsed": true
   },
   "outputs": [],
   "source": [
    "aux = np.zeros(llit[:,:,0].shape)\n",
    "for i in range(len(aux)):\n",
    "    for j in range(len(aux[0])):\n",
    "        aux[i,j] = f(llit[i,j,0], llit[i,j,1])"
   ]
  },
  {
   "cell_type": "code",
   "execution_count": 40,
   "metadata": {},
   "outputs": [
    {
     "data": {
      "text/plain": [
       "2.2666325313169811e-05"
      ]
     },
     "execution_count": 40,
     "metadata": {},
     "output_type": "execute_result"
    }
   ],
   "source": [
    "np.max(abs(aux-llit[:,:,2]))"
   ]
  },
  {
   "cell_type": "code",
   "execution_count": 37,
   "metadata": {
    "scrolled": false
   },
   "outputs": [
    {
     "data": {
      "application/javascript": [
       "/* Put everything inside the global mpl namespace */\n",
       "window.mpl = {};\n",
       "\n",
       "\n",
       "mpl.get_websocket_type = function() {\n",
       "    if (typeof(WebSocket) !== 'undefined') {\n",
       "        return WebSocket;\n",
       "    } else if (typeof(MozWebSocket) !== 'undefined') {\n",
       "        return MozWebSocket;\n",
       "    } else {\n",
       "        alert('Your browser does not have WebSocket support.' +\n",
       "              'Please try Chrome, Safari or Firefox ≥ 6. ' +\n",
       "              'Firefox 4 and 5 are also supported but you ' +\n",
       "              'have to enable WebSockets in about:config.');\n",
       "    };\n",
       "}\n",
       "\n",
       "mpl.figure = function(figure_id, websocket, ondownload, parent_element) {\n",
       "    this.id = figure_id;\n",
       "\n",
       "    this.ws = websocket;\n",
       "\n",
       "    this.supports_binary = (this.ws.binaryType != undefined);\n",
       "\n",
       "    if (!this.supports_binary) {\n",
       "        var warnings = document.getElementById(\"mpl-warnings\");\n",
       "        if (warnings) {\n",
       "            warnings.style.display = 'block';\n",
       "            warnings.textContent = (\n",
       "                \"This browser does not support binary websocket messages. \" +\n",
       "                    \"Performance may be slow.\");\n",
       "        }\n",
       "    }\n",
       "\n",
       "    this.imageObj = new Image();\n",
       "\n",
       "    this.context = undefined;\n",
       "    this.message = undefined;\n",
       "    this.canvas = undefined;\n",
       "    this.rubberband_canvas = undefined;\n",
       "    this.rubberband_context = undefined;\n",
       "    this.format_dropdown = undefined;\n",
       "\n",
       "    this.image_mode = 'full';\n",
       "\n",
       "    this.root = $('<div/>');\n",
       "    this._root_extra_style(this.root)\n",
       "    this.root.attr('style', 'display: inline-block');\n",
       "\n",
       "    $(parent_element).append(this.root);\n",
       "\n",
       "    this._init_header(this);\n",
       "    this._init_canvas(this);\n",
       "    this._init_toolbar(this);\n",
       "\n",
       "    var fig = this;\n",
       "\n",
       "    this.waiting = false;\n",
       "\n",
       "    this.ws.onopen =  function () {\n",
       "            fig.send_message(\"supports_binary\", {value: fig.supports_binary});\n",
       "            fig.send_message(\"send_image_mode\", {});\n",
       "            if (mpl.ratio != 1) {\n",
       "                fig.send_message(\"set_dpi_ratio\", {'dpi_ratio': mpl.ratio});\n",
       "            }\n",
       "            fig.send_message(\"refresh\", {});\n",
       "        }\n",
       "\n",
       "    this.imageObj.onload = function() {\n",
       "            if (fig.image_mode == 'full') {\n",
       "                // Full images could contain transparency (where diff images\n",
       "                // almost always do), so we need to clear the canvas so that\n",
       "                // there is no ghosting.\n",
       "                fig.context.clearRect(0, 0, fig.canvas.width, fig.canvas.height);\n",
       "            }\n",
       "            fig.context.drawImage(fig.imageObj, 0, 0);\n",
       "        };\n",
       "\n",
       "    this.imageObj.onunload = function() {\n",
       "        this.ws.close();\n",
       "    }\n",
       "\n",
       "    this.ws.onmessage = this._make_on_message_function(this);\n",
       "\n",
       "    this.ondownload = ondownload;\n",
       "}\n",
       "\n",
       "mpl.figure.prototype._init_header = function() {\n",
       "    var titlebar = $(\n",
       "        '<div class=\"ui-dialog-titlebar ui-widget-header ui-corner-all ' +\n",
       "        'ui-helper-clearfix\"/>');\n",
       "    var titletext = $(\n",
       "        '<div class=\"ui-dialog-title\" style=\"width: 100%; ' +\n",
       "        'text-align: center; padding: 3px;\"/>');\n",
       "    titlebar.append(titletext)\n",
       "    this.root.append(titlebar);\n",
       "    this.header = titletext[0];\n",
       "}\n",
       "\n",
       "\n",
       "\n",
       "mpl.figure.prototype._canvas_extra_style = function(canvas_div) {\n",
       "\n",
       "}\n",
       "\n",
       "\n",
       "mpl.figure.prototype._root_extra_style = function(canvas_div) {\n",
       "\n",
       "}\n",
       "\n",
       "mpl.figure.prototype._init_canvas = function() {\n",
       "    var fig = this;\n",
       "\n",
       "    var canvas_div = $('<div/>');\n",
       "\n",
       "    canvas_div.attr('style', 'position: relative; clear: both; outline: 0');\n",
       "\n",
       "    function canvas_keyboard_event(event) {\n",
       "        return fig.key_event(event, event['data']);\n",
       "    }\n",
       "\n",
       "    canvas_div.keydown('key_press', canvas_keyboard_event);\n",
       "    canvas_div.keyup('key_release', canvas_keyboard_event);\n",
       "    this.canvas_div = canvas_div\n",
       "    this._canvas_extra_style(canvas_div)\n",
       "    this.root.append(canvas_div);\n",
       "\n",
       "    var canvas = $('<canvas/>');\n",
       "    canvas.addClass('mpl-canvas');\n",
       "    canvas.attr('style', \"left: 0; top: 0; z-index: 0; outline: 0\")\n",
       "\n",
       "    this.canvas = canvas[0];\n",
       "    this.context = canvas[0].getContext(\"2d\");\n",
       "\n",
       "    var backingStore = this.context.backingStorePixelRatio ||\n",
       "\tthis.context.webkitBackingStorePixelRatio ||\n",
       "\tthis.context.mozBackingStorePixelRatio ||\n",
       "\tthis.context.msBackingStorePixelRatio ||\n",
       "\tthis.context.oBackingStorePixelRatio ||\n",
       "\tthis.context.backingStorePixelRatio || 1;\n",
       "\n",
       "    mpl.ratio = (window.devicePixelRatio || 1) / backingStore;\n",
       "\n",
       "    var rubberband = $('<canvas/>');\n",
       "    rubberband.attr('style', \"position: absolute; left: 0; top: 0; z-index: 1;\")\n",
       "\n",
       "    var pass_mouse_events = true;\n",
       "\n",
       "    canvas_div.resizable({\n",
       "        start: function(event, ui) {\n",
       "            pass_mouse_events = false;\n",
       "        },\n",
       "        resize: function(event, ui) {\n",
       "            fig.request_resize(ui.size.width, ui.size.height);\n",
       "        },\n",
       "        stop: function(event, ui) {\n",
       "            pass_mouse_events = true;\n",
       "            fig.request_resize(ui.size.width, ui.size.height);\n",
       "        },\n",
       "    });\n",
       "\n",
       "    function mouse_event_fn(event) {\n",
       "        if (pass_mouse_events)\n",
       "            return fig.mouse_event(event, event['data']);\n",
       "    }\n",
       "\n",
       "    rubberband.mousedown('button_press', mouse_event_fn);\n",
       "    rubberband.mouseup('button_release', mouse_event_fn);\n",
       "    // Throttle sequential mouse events to 1 every 20ms.\n",
       "    rubberband.mousemove('motion_notify', mouse_event_fn);\n",
       "\n",
       "    rubberband.mouseenter('figure_enter', mouse_event_fn);\n",
       "    rubberband.mouseleave('figure_leave', mouse_event_fn);\n",
       "\n",
       "    canvas_div.on(\"wheel\", function (event) {\n",
       "        event = event.originalEvent;\n",
       "        event['data'] = 'scroll'\n",
       "        if (event.deltaY < 0) {\n",
       "            event.step = 1;\n",
       "        } else {\n",
       "            event.step = -1;\n",
       "        }\n",
       "        mouse_event_fn(event);\n",
       "    });\n",
       "\n",
       "    canvas_div.append(canvas);\n",
       "    canvas_div.append(rubberband);\n",
       "\n",
       "    this.rubberband = rubberband;\n",
       "    this.rubberband_canvas = rubberband[0];\n",
       "    this.rubberband_context = rubberband[0].getContext(\"2d\");\n",
       "    this.rubberband_context.strokeStyle = \"#000000\";\n",
       "\n",
       "    this._resize_canvas = function(width, height) {\n",
       "        // Keep the size of the canvas, canvas container, and rubber band\n",
       "        // canvas in synch.\n",
       "        canvas_div.css('width', width)\n",
       "        canvas_div.css('height', height)\n",
       "\n",
       "        canvas.attr('width', width * mpl.ratio);\n",
       "        canvas.attr('height', height * mpl.ratio);\n",
       "        canvas.attr('style', 'width: ' + width + 'px; height: ' + height + 'px;');\n",
       "\n",
       "        rubberband.attr('width', width);\n",
       "        rubberband.attr('height', height);\n",
       "    }\n",
       "\n",
       "    // Set the figure to an initial 600x600px, this will subsequently be updated\n",
       "    // upon first draw.\n",
       "    this._resize_canvas(600, 600);\n",
       "\n",
       "    // Disable right mouse context menu.\n",
       "    $(this.rubberband_canvas).bind(\"contextmenu\",function(e){\n",
       "        return false;\n",
       "    });\n",
       "\n",
       "    function set_focus () {\n",
       "        canvas.focus();\n",
       "        canvas_div.focus();\n",
       "    }\n",
       "\n",
       "    window.setTimeout(set_focus, 100);\n",
       "}\n",
       "\n",
       "mpl.figure.prototype._init_toolbar = function() {\n",
       "    var fig = this;\n",
       "\n",
       "    var nav_element = $('<div/>')\n",
       "    nav_element.attr('style', 'width: 100%');\n",
       "    this.root.append(nav_element);\n",
       "\n",
       "    // Define a callback function for later on.\n",
       "    function toolbar_event(event) {\n",
       "        return fig.toolbar_button_onclick(event['data']);\n",
       "    }\n",
       "    function toolbar_mouse_event(event) {\n",
       "        return fig.toolbar_button_onmouseover(event['data']);\n",
       "    }\n",
       "\n",
       "    for(var toolbar_ind in mpl.toolbar_items) {\n",
       "        var name = mpl.toolbar_items[toolbar_ind][0];\n",
       "        var tooltip = mpl.toolbar_items[toolbar_ind][1];\n",
       "        var image = mpl.toolbar_items[toolbar_ind][2];\n",
       "        var method_name = mpl.toolbar_items[toolbar_ind][3];\n",
       "\n",
       "        if (!name) {\n",
       "            // put a spacer in here.\n",
       "            continue;\n",
       "        }\n",
       "        var button = $('<button/>');\n",
       "        button.addClass('ui-button ui-widget ui-state-default ui-corner-all ' +\n",
       "                        'ui-button-icon-only');\n",
       "        button.attr('role', 'button');\n",
       "        button.attr('aria-disabled', 'false');\n",
       "        button.click(method_name, toolbar_event);\n",
       "        button.mouseover(tooltip, toolbar_mouse_event);\n",
       "\n",
       "        var icon_img = $('<span/>');\n",
       "        icon_img.addClass('ui-button-icon-primary ui-icon');\n",
       "        icon_img.addClass(image);\n",
       "        icon_img.addClass('ui-corner-all');\n",
       "\n",
       "        var tooltip_span = $('<span/>');\n",
       "        tooltip_span.addClass('ui-button-text');\n",
       "        tooltip_span.html(tooltip);\n",
       "\n",
       "        button.append(icon_img);\n",
       "        button.append(tooltip_span);\n",
       "\n",
       "        nav_element.append(button);\n",
       "    }\n",
       "\n",
       "    var fmt_picker_span = $('<span/>');\n",
       "\n",
       "    var fmt_picker = $('<select/>');\n",
       "    fmt_picker.addClass('mpl-toolbar-option ui-widget ui-widget-content');\n",
       "    fmt_picker_span.append(fmt_picker);\n",
       "    nav_element.append(fmt_picker_span);\n",
       "    this.format_dropdown = fmt_picker[0];\n",
       "\n",
       "    for (var ind in mpl.extensions) {\n",
       "        var fmt = mpl.extensions[ind];\n",
       "        var option = $(\n",
       "            '<option/>', {selected: fmt === mpl.default_extension}).html(fmt);\n",
       "        fmt_picker.append(option)\n",
       "    }\n",
       "\n",
       "    // Add hover states to the ui-buttons\n",
       "    $( \".ui-button\" ).hover(\n",
       "        function() { $(this).addClass(\"ui-state-hover\");},\n",
       "        function() { $(this).removeClass(\"ui-state-hover\");}\n",
       "    );\n",
       "\n",
       "    var status_bar = $('<span class=\"mpl-message\"/>');\n",
       "    nav_element.append(status_bar);\n",
       "    this.message = status_bar[0];\n",
       "}\n",
       "\n",
       "mpl.figure.prototype.request_resize = function(x_pixels, y_pixels) {\n",
       "    // Request matplotlib to resize the figure. Matplotlib will then trigger a resize in the client,\n",
       "    // which will in turn request a refresh of the image.\n",
       "    this.send_message('resize', {'width': x_pixels, 'height': y_pixels});\n",
       "}\n",
       "\n",
       "mpl.figure.prototype.send_message = function(type, properties) {\n",
       "    properties['type'] = type;\n",
       "    properties['figure_id'] = this.id;\n",
       "    this.ws.send(JSON.stringify(properties));\n",
       "}\n",
       "\n",
       "mpl.figure.prototype.send_draw_message = function() {\n",
       "    if (!this.waiting) {\n",
       "        this.waiting = true;\n",
       "        this.ws.send(JSON.stringify({type: \"draw\", figure_id: this.id}));\n",
       "    }\n",
       "}\n",
       "\n",
       "\n",
       "mpl.figure.prototype.handle_save = function(fig, msg) {\n",
       "    var format_dropdown = fig.format_dropdown;\n",
       "    var format = format_dropdown.options[format_dropdown.selectedIndex].value;\n",
       "    fig.ondownload(fig, format);\n",
       "}\n",
       "\n",
       "\n",
       "mpl.figure.prototype.handle_resize = function(fig, msg) {\n",
       "    var size = msg['size'];\n",
       "    if (size[0] != fig.canvas.width || size[1] != fig.canvas.height) {\n",
       "        fig._resize_canvas(size[0], size[1]);\n",
       "        fig.send_message(\"refresh\", {});\n",
       "    };\n",
       "}\n",
       "\n",
       "mpl.figure.prototype.handle_rubberband = function(fig, msg) {\n",
       "    var x0 = msg['x0'] / mpl.ratio;\n",
       "    var y0 = (fig.canvas.height - msg['y0']) / mpl.ratio;\n",
       "    var x1 = msg['x1'] / mpl.ratio;\n",
       "    var y1 = (fig.canvas.height - msg['y1']) / mpl.ratio;\n",
       "    x0 = Math.floor(x0) + 0.5;\n",
       "    y0 = Math.floor(y0) + 0.5;\n",
       "    x1 = Math.floor(x1) + 0.5;\n",
       "    y1 = Math.floor(y1) + 0.5;\n",
       "    var min_x = Math.min(x0, x1);\n",
       "    var min_y = Math.min(y0, y1);\n",
       "    var width = Math.abs(x1 - x0);\n",
       "    var height = Math.abs(y1 - y0);\n",
       "\n",
       "    fig.rubberband_context.clearRect(\n",
       "        0, 0, fig.canvas.width, fig.canvas.height);\n",
       "\n",
       "    fig.rubberband_context.strokeRect(min_x, min_y, width, height);\n",
       "}\n",
       "\n",
       "mpl.figure.prototype.handle_figure_label = function(fig, msg) {\n",
       "    // Updates the figure title.\n",
       "    fig.header.textContent = msg['label'];\n",
       "}\n",
       "\n",
       "mpl.figure.prototype.handle_cursor = function(fig, msg) {\n",
       "    var cursor = msg['cursor'];\n",
       "    switch(cursor)\n",
       "    {\n",
       "    case 0:\n",
       "        cursor = 'pointer';\n",
       "        break;\n",
       "    case 1:\n",
       "        cursor = 'default';\n",
       "        break;\n",
       "    case 2:\n",
       "        cursor = 'crosshair';\n",
       "        break;\n",
       "    case 3:\n",
       "        cursor = 'move';\n",
       "        break;\n",
       "    }\n",
       "    fig.rubberband_canvas.style.cursor = cursor;\n",
       "}\n",
       "\n",
       "mpl.figure.prototype.handle_message = function(fig, msg) {\n",
       "    fig.message.textContent = msg['message'];\n",
       "}\n",
       "\n",
       "mpl.figure.prototype.handle_draw = function(fig, msg) {\n",
       "    // Request the server to send over a new figure.\n",
       "    fig.send_draw_message();\n",
       "}\n",
       "\n",
       "mpl.figure.prototype.handle_image_mode = function(fig, msg) {\n",
       "    fig.image_mode = msg['mode'];\n",
       "}\n",
       "\n",
       "mpl.figure.prototype.updated_canvas_event = function() {\n",
       "    // Called whenever the canvas gets updated.\n",
       "    this.send_message(\"ack\", {});\n",
       "}\n",
       "\n",
       "// A function to construct a web socket function for onmessage handling.\n",
       "// Called in the figure constructor.\n",
       "mpl.figure.prototype._make_on_message_function = function(fig) {\n",
       "    return function socket_on_message(evt) {\n",
       "        if (evt.data instanceof Blob) {\n",
       "            /* FIXME: We get \"Resource interpreted as Image but\n",
       "             * transferred with MIME type text/plain:\" errors on\n",
       "             * Chrome.  But how to set the MIME type?  It doesn't seem\n",
       "             * to be part of the websocket stream */\n",
       "            evt.data.type = \"image/png\";\n",
       "\n",
       "            /* Free the memory for the previous frames */\n",
       "            if (fig.imageObj.src) {\n",
       "                (window.URL || window.webkitURL).revokeObjectURL(\n",
       "                    fig.imageObj.src);\n",
       "            }\n",
       "\n",
       "            fig.imageObj.src = (window.URL || window.webkitURL).createObjectURL(\n",
       "                evt.data);\n",
       "            fig.updated_canvas_event();\n",
       "            fig.waiting = false;\n",
       "            return;\n",
       "        }\n",
       "        else if (typeof evt.data === 'string' && evt.data.slice(0, 21) == \"data:image/png;base64\") {\n",
       "            fig.imageObj.src = evt.data;\n",
       "            fig.updated_canvas_event();\n",
       "            fig.waiting = false;\n",
       "            return;\n",
       "        }\n",
       "\n",
       "        var msg = JSON.parse(evt.data);\n",
       "        var msg_type = msg['type'];\n",
       "\n",
       "        // Call the  \"handle_{type}\" callback, which takes\n",
       "        // the figure and JSON message as its only arguments.\n",
       "        try {\n",
       "            var callback = fig[\"handle_\" + msg_type];\n",
       "        } catch (e) {\n",
       "            console.log(\"No handler for the '\" + msg_type + \"' message type: \", msg);\n",
       "            return;\n",
       "        }\n",
       "\n",
       "        if (callback) {\n",
       "            try {\n",
       "                // console.log(\"Handling '\" + msg_type + \"' message: \", msg);\n",
       "                callback(fig, msg);\n",
       "            } catch (e) {\n",
       "                console.log(\"Exception inside the 'handler_\" + msg_type + \"' callback:\", e, e.stack, msg);\n",
       "            }\n",
       "        }\n",
       "    };\n",
       "}\n",
       "\n",
       "// from http://stackoverflow.com/questions/1114465/getting-mouse-location-in-canvas\n",
       "mpl.findpos = function(e) {\n",
       "    //this section is from http://www.quirksmode.org/js/events_properties.html\n",
       "    var targ;\n",
       "    if (!e)\n",
       "        e = window.event;\n",
       "    if (e.target)\n",
       "        targ = e.target;\n",
       "    else if (e.srcElement)\n",
       "        targ = e.srcElement;\n",
       "    if (targ.nodeType == 3) // defeat Safari bug\n",
       "        targ = targ.parentNode;\n",
       "\n",
       "    // jQuery normalizes the pageX and pageY\n",
       "    // pageX,Y are the mouse positions relative to the document\n",
       "    // offset() returns the position of the element relative to the document\n",
       "    var x = e.pageX - $(targ).offset().left;\n",
       "    var y = e.pageY - $(targ).offset().top;\n",
       "\n",
       "    return {\"x\": x, \"y\": y};\n",
       "};\n",
       "\n",
       "/*\n",
       " * return a copy of an object with only non-object keys\n",
       " * we need this to avoid circular references\n",
       " * http://stackoverflow.com/a/24161582/3208463\n",
       " */\n",
       "function simpleKeys (original) {\n",
       "  return Object.keys(original).reduce(function (obj, key) {\n",
       "    if (typeof original[key] !== 'object')\n",
       "        obj[key] = original[key]\n",
       "    return obj;\n",
       "  }, {});\n",
       "}\n",
       "\n",
       "mpl.figure.prototype.mouse_event = function(event, name) {\n",
       "    var canvas_pos = mpl.findpos(event)\n",
       "\n",
       "    if (name === 'button_press')\n",
       "    {\n",
       "        this.canvas.focus();\n",
       "        this.canvas_div.focus();\n",
       "    }\n",
       "\n",
       "    var x = canvas_pos.x * mpl.ratio;\n",
       "    var y = canvas_pos.y * mpl.ratio;\n",
       "\n",
       "    this.send_message(name, {x: x, y: y, button: event.button,\n",
       "                             step: event.step,\n",
       "                             guiEvent: simpleKeys(event)});\n",
       "\n",
       "    /* This prevents the web browser from automatically changing to\n",
       "     * the text insertion cursor when the button is pressed.  We want\n",
       "     * to control all of the cursor setting manually through the\n",
       "     * 'cursor' event from matplotlib */\n",
       "    event.preventDefault();\n",
       "    return false;\n",
       "}\n",
       "\n",
       "mpl.figure.prototype._key_event_extra = function(event, name) {\n",
       "    // Handle any extra behaviour associated with a key event\n",
       "}\n",
       "\n",
       "mpl.figure.prototype.key_event = function(event, name) {\n",
       "\n",
       "    // Prevent repeat events\n",
       "    if (name == 'key_press')\n",
       "    {\n",
       "        if (event.which === this._key)\n",
       "            return;\n",
       "        else\n",
       "            this._key = event.which;\n",
       "    }\n",
       "    if (name == 'key_release')\n",
       "        this._key = null;\n",
       "\n",
       "    var value = '';\n",
       "    if (event.ctrlKey && event.which != 17)\n",
       "        value += \"ctrl+\";\n",
       "    if (event.altKey && event.which != 18)\n",
       "        value += \"alt+\";\n",
       "    if (event.shiftKey && event.which != 16)\n",
       "        value += \"shift+\";\n",
       "\n",
       "    value += 'k';\n",
       "    value += event.which.toString();\n",
       "\n",
       "    this._key_event_extra(event, name);\n",
       "\n",
       "    this.send_message(name, {key: value,\n",
       "                             guiEvent: simpleKeys(event)});\n",
       "    return false;\n",
       "}\n",
       "\n",
       "mpl.figure.prototype.toolbar_button_onclick = function(name) {\n",
       "    if (name == 'download') {\n",
       "        this.handle_save(this, null);\n",
       "    } else {\n",
       "        this.send_message(\"toolbar_button\", {name: name});\n",
       "    }\n",
       "};\n",
       "\n",
       "mpl.figure.prototype.toolbar_button_onmouseover = function(tooltip) {\n",
       "    this.message.textContent = tooltip;\n",
       "};\n",
       "mpl.toolbar_items = [[\"Home\", \"Reset original view\", \"fa fa-home icon-home\", \"home\"], [\"Back\", \"Back to  previous view\", \"fa fa-arrow-left icon-arrow-left\", \"back\"], [\"Forward\", \"Forward to next view\", \"fa fa-arrow-right icon-arrow-right\", \"forward\"], [\"\", \"\", \"\", \"\"], [\"Pan\", \"Pan axes with left mouse, zoom with right\", \"fa fa-arrows icon-move\", \"pan\"], [\"Zoom\", \"Zoom to rectangle\", \"fa fa-square-o icon-check-empty\", \"zoom\"], [\"\", \"\", \"\", \"\"], [\"Download\", \"Download plot\", \"fa fa-floppy-o icon-save\", \"download\"]];\n",
       "\n",
       "mpl.extensions = [\"eps\", \"jpeg\", \"pdf\", \"png\", \"ps\", \"raw\", \"svg\", \"tif\"];\n",
       "\n",
       "mpl.default_extension = \"png\";var comm_websocket_adapter = function(comm) {\n",
       "    // Create a \"websocket\"-like object which calls the given IPython comm\n",
       "    // object with the appropriate methods. Currently this is a non binary\n",
       "    // socket, so there is still some room for performance tuning.\n",
       "    var ws = {};\n",
       "\n",
       "    ws.close = function() {\n",
       "        comm.close()\n",
       "    };\n",
       "    ws.send = function(m) {\n",
       "        //console.log('sending', m);\n",
       "        comm.send(m);\n",
       "    };\n",
       "    // Register the callback with on_msg.\n",
       "    comm.on_msg(function(msg) {\n",
       "        //console.log('receiving', msg['content']['data'], msg);\n",
       "        // Pass the mpl event to the overriden (by mpl) onmessage function.\n",
       "        ws.onmessage(msg['content']['data'])\n",
       "    });\n",
       "    return ws;\n",
       "}\n",
       "\n",
       "mpl.mpl_figure_comm = function(comm, msg) {\n",
       "    // This is the function which gets called when the mpl process\n",
       "    // starts-up an IPython Comm through the \"matplotlib\" channel.\n",
       "\n",
       "    var id = msg.content.data.id;\n",
       "    // Get hold of the div created by the display call when the Comm\n",
       "    // socket was opened in Python.\n",
       "    var element = $(\"#\" + id);\n",
       "    var ws_proxy = comm_websocket_adapter(comm)\n",
       "\n",
       "    function ondownload(figure, format) {\n",
       "        window.open(figure.imageObj.src);\n",
       "    }\n",
       "\n",
       "    var fig = new mpl.figure(id, ws_proxy,\n",
       "                           ondownload,\n",
       "                           element.get(0));\n",
       "\n",
       "    // Call onopen now - mpl needs it, as it is assuming we've passed it a real\n",
       "    // web socket which is closed, not our websocket->open comm proxy.\n",
       "    ws_proxy.onopen();\n",
       "\n",
       "    fig.parent_element = element.get(0);\n",
       "    fig.cell_info = mpl.find_output_cell(\"<div id='\" + id + \"'></div>\");\n",
       "    if (!fig.cell_info) {\n",
       "        console.error(\"Failed to find cell for figure\", id, fig);\n",
       "        return;\n",
       "    }\n",
       "\n",
       "    var output_index = fig.cell_info[2]\n",
       "    var cell = fig.cell_info[0];\n",
       "\n",
       "};\n",
       "\n",
       "mpl.figure.prototype.handle_close = function(fig, msg) {\n",
       "    var width = fig.canvas.width/mpl.ratio\n",
       "    fig.root.unbind('remove')\n",
       "\n",
       "    // Update the output cell to use the data from the current canvas.\n",
       "    fig.push_to_output();\n",
       "    var dataURL = fig.canvas.toDataURL();\n",
       "    // Re-enable the keyboard manager in IPython - without this line, in FF,\n",
       "    // the notebook keyboard shortcuts fail.\n",
       "    IPython.keyboard_manager.enable()\n",
       "    $(fig.parent_element).html('<img src=\"' + dataURL + '\" width=\"' + width + '\">');\n",
       "    fig.close_ws(fig, msg);\n",
       "}\n",
       "\n",
       "mpl.figure.prototype.close_ws = function(fig, msg){\n",
       "    fig.send_message('closing', msg);\n",
       "    // fig.ws.close()\n",
       "}\n",
       "\n",
       "mpl.figure.prototype.push_to_output = function(remove_interactive) {\n",
       "    // Turn the data on the canvas into data in the output cell.\n",
       "    var width = this.canvas.width/mpl.ratio\n",
       "    var dataURL = this.canvas.toDataURL();\n",
       "    this.cell_info[1]['text/html'] = '<img src=\"' + dataURL + '\" width=\"' + width + '\">';\n",
       "}\n",
       "\n",
       "mpl.figure.prototype.updated_canvas_event = function() {\n",
       "    // Tell IPython that the notebook contents must change.\n",
       "    IPython.notebook.set_dirty(true);\n",
       "    this.send_message(\"ack\", {});\n",
       "    var fig = this;\n",
       "    // Wait a second, then push the new image to the DOM so\n",
       "    // that it is saved nicely (might be nice to debounce this).\n",
       "    setTimeout(function () { fig.push_to_output() }, 1000);\n",
       "}\n",
       "\n",
       "mpl.figure.prototype._init_toolbar = function() {\n",
       "    var fig = this;\n",
       "\n",
       "    var nav_element = $('<div/>')\n",
       "    nav_element.attr('style', 'width: 100%');\n",
       "    this.root.append(nav_element);\n",
       "\n",
       "    // Define a callback function for later on.\n",
       "    function toolbar_event(event) {\n",
       "        return fig.toolbar_button_onclick(event['data']);\n",
       "    }\n",
       "    function toolbar_mouse_event(event) {\n",
       "        return fig.toolbar_button_onmouseover(event['data']);\n",
       "    }\n",
       "\n",
       "    for(var toolbar_ind in mpl.toolbar_items){\n",
       "        var name = mpl.toolbar_items[toolbar_ind][0];\n",
       "        var tooltip = mpl.toolbar_items[toolbar_ind][1];\n",
       "        var image = mpl.toolbar_items[toolbar_ind][2];\n",
       "        var method_name = mpl.toolbar_items[toolbar_ind][3];\n",
       "\n",
       "        if (!name) { continue; };\n",
       "\n",
       "        var button = $('<button class=\"btn btn-default\" href=\"#\" title=\"' + name + '\"><i class=\"fa ' + image + ' fa-lg\"></i></button>');\n",
       "        button.click(method_name, toolbar_event);\n",
       "        button.mouseover(tooltip, toolbar_mouse_event);\n",
       "        nav_element.append(button);\n",
       "    }\n",
       "\n",
       "    // Add the status bar.\n",
       "    var status_bar = $('<span class=\"mpl-message\" style=\"text-align:right; float: right;\"/>');\n",
       "    nav_element.append(status_bar);\n",
       "    this.message = status_bar[0];\n",
       "\n",
       "    // Add the close button to the window.\n",
       "    var buttongrp = $('<div class=\"btn-group inline pull-right\"></div>');\n",
       "    var button = $('<button class=\"btn btn-mini btn-primary\" href=\"#\" title=\"Stop Interaction\"><i class=\"fa fa-power-off icon-remove icon-large\"></i></button>');\n",
       "    button.click(function (evt) { fig.handle_close(fig, {}); } );\n",
       "    button.mouseover('Stop Interaction', toolbar_mouse_event);\n",
       "    buttongrp.append(button);\n",
       "    var titlebar = this.root.find($('.ui-dialog-titlebar'));\n",
       "    titlebar.prepend(buttongrp);\n",
       "}\n",
       "\n",
       "mpl.figure.prototype._root_extra_style = function(el){\n",
       "    var fig = this\n",
       "    el.on(\"remove\", function(){\n",
       "\tfig.close_ws(fig, {});\n",
       "    });\n",
       "}\n",
       "\n",
       "mpl.figure.prototype._canvas_extra_style = function(el){\n",
       "    // this is important to make the div 'focusable\n",
       "    el.attr('tabindex', 0)\n",
       "    // reach out to IPython and tell the keyboard manager to turn it's self\n",
       "    // off when our div gets focus\n",
       "\n",
       "    // location in version 3\n",
       "    if (IPython.notebook.keyboard_manager) {\n",
       "        IPython.notebook.keyboard_manager.register_events(el);\n",
       "    }\n",
       "    else {\n",
       "        // location in version 2\n",
       "        IPython.keyboard_manager.register_events(el);\n",
       "    }\n",
       "\n",
       "}\n",
       "\n",
       "mpl.figure.prototype._key_event_extra = function(event, name) {\n",
       "    var manager = IPython.notebook.keyboard_manager;\n",
       "    if (!manager)\n",
       "        manager = IPython.keyboard_manager;\n",
       "\n",
       "    // Check for shift+enter\n",
       "    if (event.shiftKey && event.which == 13) {\n",
       "        this.canvas_div.blur();\n",
       "        // select the cell after this one\n",
       "        var index = IPython.notebook.find_cell_index(this.cell_info[0]);\n",
       "        IPython.notebook.select(index + 1);\n",
       "    }\n",
       "}\n",
       "\n",
       "mpl.figure.prototype.handle_save = function(fig, msg) {\n",
       "    fig.ondownload(fig, null);\n",
       "}\n",
       "\n",
       "\n",
       "mpl.find_output_cell = function(html_output) {\n",
       "    // Return the cell and output element which can be found *uniquely* in the notebook.\n",
       "    // Note - this is a bit hacky, but it is done because the \"notebook_saving.Notebook\"\n",
       "    // IPython event is triggered only after the cells have been serialised, which for\n",
       "    // our purposes (turning an active figure into a static one), is too late.\n",
       "    var cells = IPython.notebook.get_cells();\n",
       "    var ncells = cells.length;\n",
       "    for (var i=0; i<ncells; i++) {\n",
       "        var cell = cells[i];\n",
       "        if (cell.cell_type === 'code'){\n",
       "            for (var j=0; j<cell.output_area.outputs.length; j++) {\n",
       "                var data = cell.output_area.outputs[j];\n",
       "                if (data.data) {\n",
       "                    // IPython >= 3 moved mimebundle to data attribute of output\n",
       "                    data = data.data;\n",
       "                }\n",
       "                if (data['text/html'] == html_output) {\n",
       "                    return [cell, data, j];\n",
       "                }\n",
       "            }\n",
       "        }\n",
       "    }\n",
       "}\n",
       "\n",
       "// Register the function which deals with the matplotlib target/channel.\n",
       "// The kernel may be null if the page has been refreshed.\n",
       "if (IPython.notebook.kernel != null) {\n",
       "    IPython.notebook.kernel.comm_manager.register_target('matplotlib', mpl.mpl_figure_comm);\n",
       "}\n"
      ],
      "text/plain": [
       "<IPython.core.display.Javascript object>"
      ]
     },
     "metadata": {},
     "output_type": "display_data"
    },
    {
     "data": {
      "text/html": [
       "<img src=\"data:image/png;base64,iVBORw0KGgoAAAANSUhEUgAAAoAAAAHgCAYAAAA10dzkAAAgAElEQVR4Xuy9CZhc51km+ta+b71vklpLtyRbsiRbi7fYzuIEsuAEyARCIBmSXLgTCMxNuBcI3AuEG+DODYTLwGSAhCEJCVxCwoRksjqOd1u2ZUuyrF3dLan3vbv2dZ73P3WqTpWqu6tbvVSpv/95ZEvdp87/n/c/Veet9/u+9zNBhiAgCAgCgoAgIAgIAoLApkLAtKmuVi5WEBAEBAFBQBAQBAQBQQBCAOUmEAQEAUFAEBAEBAFBYJMhIARwk224XK4gIAgIAoKAICAICAJCAOUeEAQEAUFAEBAEBAFBYJMhIARwk224XK4gIAgIAoKAICAICAJCAOUeEAQEAUFAEBAEBAFBYJMhIARwk224XK4gIAgIAoKAICAICAJCAOUeEAQEAUFAEBAEBAFBYJMhIARwk224XK4gIAgsikAAwJMALgL4KcFKEBAEBIFbFQEhgLfqzsp1CQIbi8AHAPwdgCMAXlxgKd0A+gD8ewD/LX+M/rrtAPrzP3svgBYAn1nlS/o9AP8XcIMfageAZwH8fwA+fRNz/gcAUcO16aeqdN03MY28VBAQBASB5SMgBHD5mMkrBAFBYGkEVkoAmwHsBPAygER+mm8C2AeAxGk1x0IEkHPsBfAjAD+dVwRXMu+rACYAPFT2YgeAQwAuAxhfyYnlNYKAICAI3CwCQgBvFkF5vSAgCFRCYKUEsNK5NoIArsauLkQAV+Pccg5BQBAQBG4KASGANwWfvFgQEAQWQGClBLA8BEwV7sEKcyz12fUeAL8O4A4AOQBPA/jNvLKon66SAsjXfRDAfgDBfBj6vwP4JICIYR07AHwKwAMAGgHMACDh+xiAV/Kv21a27oG8irlQCHhPPiT9hvzco3kV8sMGNVRuOEFAEBAEVgWBpT5EV2USOYkgIAhsOgRWiwDeBuCv82HhdxlQfG4RRH8bwB/mcxC/BsAO4DfyZPAogNfyr61EAH8HQBjAhTzhIyn7P/KEjsRMH+cAWAD8PoCrAJoA3AuAaiVJK0O8XwUwC4C5gBwMaTO0XYkAHgDwVD5k/Mf5IpR2AD8B4EMA5jfdHSQXLAgIAmuKgBDANYVXTi4IbFoEVosAEsDlhIC3ALgC4L8A+KgBfW+eVD0BgCofx2I5gPw9Px9J8kjsHgdAknYqr/gxt48K458vssMLhYArEcBHAdwJoFfyAjfte0YuXBBYVwSEAK4r3DKZILBpENgoAki17G/y1ccMxRrHlwC8HkDrIgSQoV2qh1T7WHls/Iz8GQD/lP8ZbWKcAP4UwGMATgLIls1XLQF0A5gD8DkAv7Rp7hC5UEFAENhQBIQAbij8MrkgcMsisFEE8BN5ArcQsCRpVPUqKYBUCc8DiAP4o3wYmDYuVBUZSjba1TC/7/8E8LY8oZwC8A8AOL8erq2WAHYCuJ4/H3MNZQgCgoAgsOYICAFcc4hlAkFgUyKwUQSQCtpn8/YtLLqoNHRfwvIQMPPtWPBB2xaGfPXxJgDfLyOAxvMybPvv8iHlvwXwy/lfVksAXXnSKArgpnyryEULAhuDgBDAjcFdZhUEbnUEVpMA/guA+w2h28WwY34dw7NU4v6fJUAuJ4DvAPANAPcAMBaZ/HOeUBoVwEqnZoFHCgALTTheApAGcKzs4IVyAFk4QjLJ/EIZgoAgIAisKQJCANcUXjm5ILBpEdAJICtoWZRRPv5HPseumk4gOlFjNS1JFcO4C3UX4Ty/BeAP8jl13wEwnSePJGa0cmH3D45yAkg7F5JHVvWyupdk7ucA3AWgx6AA0lrmPwMgMeTxyXzOIOdlBS/JJwe7mzBv8P15DBhaPr1EFfBY/hyX8mumKklVU6qAN+1bSS5cEFgbBIQArg2uclZBYLMjoBPAhXBgqzeOaghgKG8Fw1Ase/Xyc2upz65HAPxanryx88YIgBfy4WFW3FYigPwZ1T+2f2PFL8kiQ8J/BeCEgQCyOORPANydzw+kzyBJLlvf/QWATP78zBOkhQ3P6QOwlA8gu4+QeLIAhcdzzT/Mh5T1riib/b6S6xcEBIFVQmCpD9FVmkZOIwgIAoKAICAICAKCgCBQKwgIAayVnZB1CAKCgCAgCAgCgoAgsE4ICAFcJ6BlGkFAEBAEBAFBQBAQBGoFASGAtbITsg5BQBAQBAQBQUAQEATWCQEhgOsEtEwjCAgCgoAgIAgIAoJArSAgBLBWdkLWIQgIAoKAICAICAKCwDohIARwnYCWaQQBQUAQEAQEAUFAEKgVBIQA1spOyDoEAUFAEBAEBAFBQBBYJwSEAK4T0DKNICAICAKCgCAgCAgCtYKAEMBa2QlZhyAgCAgCgoAgIAgIAuuEgBDAdQJaphEEBAFBQBAQBAQBQaBWEBACWCs7IesQBAQBQUAQEAQEAUFgnRAQArhOQMs0goAgIAgIAoKAICAI1AoCQgBrZSdkHYKAICAICAKCgCAgCKwTAkIA1wlomUYQEAQEAUFAEBAEBIFaQUAIYK3shKxDEBAEBAFBQBAQBASBdUJACOA6AS3TCAKCgCAgCAgCgoAgUCsICAGslZ2QdQgCgoAgIAgIAoKAILBOCAgBXCegZRpBQBAQBAQBQUAQEARqBQEhgLWyE7IOQUAQEAQEAUFAEBAE1gkBIYDrBLRMIwgIAoKAICAICAKCQK0gIASwVnZC1iEICAKCgCAgCAgCgsA6ISAEcJ2AlmkEAUFAEBAEBAFBQBCoFQSEANbKTsg6BAFBQBAQBAQBQUAQWCcEhACuE9AyjSAgCAgCgoAgIAgIArWCgBDAWtkJWYcgIAgIAoKAICAICALrhIAQwHUCWqYRBAQBQUAQEAQEAUGgVhAQAlgrOyHrEAQEAUFAEBAEBAFBYJ0QEAK4TkDLNIKAICAICAKCgCAgCNQKAkIAa2UnZB2CgCAgCAgCgoAgIAisEwJCANcJaJlGEBAEBAFBQBAQBASBWkFACGCt7ISsQxAQBAQBQUAQEAQEgXVCQAjgOgEt0wgCgoAgIAgIAoKAIFArCAgBrJWdkHUIAoKAICAICAKCgCCwTggIAVwnoGUaQUAQEAQEAUFAEBAEagUBIYC1shOyDkFAEBAEBAFBQBAQBNYJASGANwl0LpfL3eQp5OWCgCAgCAgCgoAgsM4ImEymTc2BNvXFr8a9JgRwNVCUcwgCgoAgIAgIAuuLgBDA9cX7lptNCOAtt6VyQYKAICAICAKbAAEhgJtgk9fyEoUAriW6cm5BQBAQBAQBQWBtEBACuDa4bpqzCgHcNFstFyoICAKCgCBwCyEgBPAW2syNuBQhgBuBuswpCAgCgoAgIAjcHAJCAG8Ov03/aiGAm/4WEAAEAUFAEBAE6hABIYB1uGm1tGQhgLW0G7IWQUAQEAQEAUGgOgSEAFaHkxy1AAJCAOXWEAQEAUFAEBAE6g8BIYD1t2c1tWIhgDW1HbIYQUAQEAQEAUGgKgSEAFYFkxy0EAJCAOXeEAQEAUFAEBAE6g8BIYD1t2c1tWIhgDW1HbIYQUAQEAQEAUGgKgSEAFYFkxwkCqDcA4KAICAICAKCwK2DgBDAW2cvN+RKRAHcENhlUkFAEBAEBAFB4KYQEAJ4U/DJi4UAyj0gCAgCgoAgIAjUHwJCAOtvz2pqxUIAa2o7ZDGCgCAgCAgCgkBVCAgBrAomOWghBIQAyr0hCAgCgoAgIAjUHwJCAOtvz2pqxUIAa2o7ZDGCgCAgCAgCgkBVCAgBrAomOUgUQLkHBAFBQBAQBASBWwcBIYC3zl5uyJWIArghsMukgoAgIAgIAoLATSEgBPCm4JMXCwGUe0AQEAQEAUFAEKg/BIQA1t+e1dSKhQDW1HbIYgQBQUAQEAQEgaoQEAJYFUxy0EIICAGUe0MQEAQEAUFAEKg/BIQA1t+e1dSKhQDW1HbIYgQBQUAQEAQEgaoQEAJYFUxykCiAcg8IAoKAICAICAK3DgJCAG+dvdyQKxEFcENgl0kFAUFAEBAEBIGbQkAI4E3BJy8WAij3gCAgCAgCtYFALpdTCyn/v/Fn/LvVaq2NBcsqNhQBIYAbCn/9Ty4EsP73UK5AEBAEaguBaogcjzEeZ/y3fjX6700mkzo2m80ilUrB7/fDYrHU1kXLatYdASGA6w75rTWhEMBbaz/lagQBQWD1EFiIyOk/15W55RI5ndDx/+VjsZ9lMhnEYjG4XC643e7Vu1A5U10iIASwLretdhYtBLB29kJWIggIAmuDQK0RuZVeJQlgPB6H2WyG1+uVUPBKgbxFXicE8BbZyI26DCGAG4W8zCsICALLRWA1iRyVtsuXL8Nut2PLli0qxLpcRW6567/Z49PpNJLJpFqrw+FQKmClNd/sPPL6+kBACGB97FPNrlIIYM1ujSxMELglESgPn/IiFyp6qCa0qhMgncAth8idPn0aHo8HO3furAusSQCZA8hrZj4gVUCbzVYXa5dFrj4CQgBXH9NNdUYhgJtqu+ViBYFVQ2AtiFx50cNaK3KvvPIKAoEAtm/fvmq4rOWJGAImAWQImP8n+SMJFBVwLVGv3XMLAazdvamLlQkBrIttkkUKAmuGQDVErrxCVf+38bUXLlzA1q1b4XQ6S8Kpy1Hk1pvInDhxAg0NDeju7l4zfFfzxFQA+YcEkLiSEFLBZBhbxuZDQAjg5tvzVb1iIYCrCqecTBDYMASWS+TKw6vGhZeHU43KXPkF6qTtBz/4Ae6+++66UqReeuklNDc3K+JaD4OqH0kfCSAHySDtYHw+n6iA9bCBq7xGIYCrDOhmO50QwM2243K9tY7ARhM5Iz7LUeS+//3v45577lEEsF7GCy+8gPb2dnR1ddXFkssJIO8VkkAWg1B5lbG5EBACuLn2e9WvVgjgqkMqJxQEFAIrJXLz8/NK5aHZrz5WositlMitdPu+973v4b777lMhyXoZzz//vKoA7ujoqIslG0PA+oJ5r5CoUwXUlcG6uBhZ5E0jIATwpiHc3CcQAri591+ufmkEVkLkKlW16qTQaAJcKbR66dIlJBIJ7Nu374bFLUeRW/rKVveI7373u3jd615XVwbFzz33HLZt26ZUwHoY5Qqgfk+RGNIcmn9kbB4EhABunr1ekysVArgmsMpJaxCB9SZyOgTVVrLqx5MAstvD/v37axDFhZdUjwTwmWeeURYwra2tNY81718SQNq/lCt9V69exczMjMrBlBZxNb+Vq7ZAIYCrBuXmPJEQwM257/V81dUSOYbG+LDkA/FmFLmVErmVYkxz4kgkgjvuuGOlp9iQ133nO9/Bgw8+WFcq1FNPPYXe3l60tLRsCGbLmXQxAjgwMIDZ2VkcPHhQzKGXA2qdHysEsM43cKOXLwRwo3dg885fLZGrVK1qfK0eBisPrU5MTODixYu49957S0BeriK33jskBHD9EH/yySexd+9eNDU1rd+kK5xpMQLY19enVGOSWeYCWq3WFc4iL6snBIQA1tNu1eBahQDW4KbU2ZLWmsgRjmpJm/G4yclJnDlzBg888EBdIXrlyhWwEOTAgQN1s27eAwwBP/TQQ3VVjfr444+rUDu9AGt96ASwkq8i0waodtPQmp6ALMSp5XzRWse6XtYnBLBedqpG1ykEsEY3ZgOWtRFEbqGH1Go8vKampnDq1ClFSuppkADOzc2pcF69jHolgD/60Y8U0Q6FQjUP9WIE8Pz58yrVYceOHYoIijl0zW/nqixQCOCqwLh5TyIE8Nbb+9Umckwuv379ulJKFjIEXksit9Id4rpffvllvP71r1/pKTbkdQzn6flcG7KAFUxK0kEbGGLtcDhWcIaNeckPf/hD3HXXXaodXK0PvveSyaRaZvn77ezZs0p5pQIo5tC1vpOrtz4hgKuH5aY8kxDA2t321SZyS9mPVHqw8GfMpTt37pyy+KinQRWNRr9vfOMb62nZIAEkeT106FDdrLteCSC7lxw7dkzlzdX6WIwAvvrqq8o3kh1NdHNoqoD1RMZrHf9aXJ8QwFrclTpakxDA9d0sfjjrfzjzQgUOxmOMK6zWELjanLlqrn56ehonT56su1BqOBzGs88+i4cffriay6yZY/r7+0HM64kAsuKanUDe8IY31FVf2o3uXkLiTGsX4x+qfAv9jPYvrA632Wwl9ytTHZjHqHc00fsFizl0zbyt12QhQgDXBNbNc1IhgOu71/zAp8nvRhC5lV5pvSpptFJ5+umn8eY3v3mll74hr6OlBwtY7rzzzg2ZfyWT1isBXC3vQj0/j8StEoGr9HMeR9w4mL9HUqf/YSGH8d/631khTqLHXD/jYKpDW1tbwdBaVwHFHHold3P9vEYIYP3sVU2uVAjg+m4LCeBCeTzru5LqZ6OSRsPceiNStMVgledb3vKWuqqIJAFk2J25afUyqDgxnMpwe7k6VavXUKlwRSdOCxG2cmVOP47Xz0GFbjEitxCxq8a8mZ8d4+PjqrCJPZd5Ln28+OKLqqWd0dBabxHH3szVnL9W90nWtTACQgDl7rgpBIQA3hR8K3oxFcB6GvVKpIjzY489pohrPfVIZVcHPuiFAK78XUIiRwK0mBrH3w0PD6vcORI4ndxxVqZQkMgtRNjKf67/ey2Jlv7lkfl+LPig558+jh8/rlRBo5+hTmZ5rNvtXjmY8sqaRUAIYM1uTX0sTAjg+u8THzzlRsbrv4rqZ+R6WS3JXLq1fMBVv6LqjuQD/dFHH8Wb3vSmujLGJQEcGxvD4cOHq7vQGjhqrbDWiVw1eXLlqp3+HluIyPFepuUOey6TJBmP4+9Ww4poNbdGJ4D8QsbipqNHjxaIHXNd9+zZc4OdDV9DHKgCijn0au5GbZxLCGBt7EPdrkII4PpvXb0RwHrN76rHsCTvxmvXrmFkZARHjhxZ/5tzhTNWQwB1AlNtwYN+HF/HUSknrpJCZ/wZSc9CRE7/YlMvXxB0/Khm0/aF70uSVw62tKNNU7mdja4CshqYKmCtkdoV3m7ysjwCQgDlVrgpBIQA3hR8K3pxvRFAPVeq3vq81qs1CT0XGZqsVQJYqXI1Go0qq6Du7u4FQ696wQNJWTmZWyikajxutclLvaUIGAkg107Vj4VCDGE/8cQT6u9U+soHX8c//F295Geu6IN1E75ICOAm3PTVvGQhgKuJZnXnorKhqxrVvWLjj9pou4yVIFCvxJUEcGhoSIX41nKsZuUqSR2ta2hDYiRzlRS6WsnHrLfcViMB5H3BimAahtMuiB1N7r77brDqt9LgZw7JH0ngahPptbxH5dyLIyAEUO6Qm0JACOBNwbeiF9cjAaynjgnGTaHNx/33369aY9XLGBwcBP9USwBXs3K1GiVOz5UzErl6U9N4L1C1fPLJJ1WV+HqMeDKN6XAcM5E4piNx3LmjDU67teqpywkgUxz03L/Tp0/jvvvuW9D4Wc+llBZxVcNdFwcKAayLbardRQoBXP+94Qe3Hg5b/9lXNiPtVJhjRA+yehr1pFzqD2kqgCSAu3fvLlSmllezlv+be0JlZ7lVqyRzq1HYU48EcKVG4al0BjORhCJyiszlSd1if+fxJIDG8Zs/dS9++cert/opJ4A8F/NFqRbT8/KBBx5YtNBDWsTV0ydXdWsVAlgdTnLUAggIAVz/W6MeCSCTzElImpub1x+wm5iRVcDMpWOe1HqN5VSulhM5Y69lJu0vJ1duIytX4/G4CkPWk+fi9MwMnnjmeey/82ie0MXU/8sJ3Wye5FG149/D8dSq3EoBtwNP/PH7wf9XM3QTeSNh58+oApKAP/TQQ4vaHelKMe8rVj3LqH8EhADW/x5u6BUIAVx/+OuRAPIhw0bz7DZQT4M+gMyRCgaDK1o2ldqlqlYrmQYvVLlajUJHD0BawTCnq17GRhJAEpv5WAKzkSRmopoiF4knMT4TUQrdFBW6cAypbA7XJ+cVieMxczF25NlYhH/lbYfx8XfdU9UidF/DcsWW98qlS5fAIq2l1FzdHFpaxFUFec0fJASw5reothcoBHD994cfwnrngPWffWUzPv/88yrBv7Ozc2Un2KBXUZVi71QSwMWI3EKGwQtVrlabK7eShHtawPT19aluD/Uy9IKKH/uxH7upJccSKU2BixbDq0UyR3VOU+mYf3hldBoz6tgEDu1owwuXhgtz260WeO0WTM3HCj87trsTz18sHnNTC12lF7vsVjzxR+9Hc2Bpo2bdrLqc5M3PzytfwF27dmHr1q2LrkzMoVdp42rkNEIAa2Qj6nUZQgDXf+fqkQCy1VRLS8uSD5i1RpPKGh+E1fZb5cORJExX5PSeq9UocXqxAytc17NytR4JYHlBRVLlyWkhUxI6/uHfI4kURqnMGYoh3HYrXrs2oY5PpDKKzL3cN1K4lcwmE9qDHgxOzhd+drinAy9eLh5js5gR8rkwNhstHHN0VzuOn79e+LfTZoXLaVcFGLU03v+GO/D7731wySUtRABZCXzy5En1en5pWMrqRf9SQxVwKcVwyUXJARuKgBDADYW//icXArj+e1iPBJDN5kOhkPJ5W42hKxFLFTfoqp1+XHnP1aWMgOlNx9A1e6TywbieRG6lOI2OjiqLj3vvvXelp1i112WyWczmCx7mogmlqJFAkdBRrVNkLhLH5FwEg2OT2NLWgleujCiix7F/WwtOD4yVrGd7axB9ozOFnx3c0YpXrowW/m0yAZ2NflyfnCv87K6d7Xjp4lDh3xazCS1BL4ZnIkVSuIuksFQF9DusmJgrksJaVAFJXn/4h+/DlubAovumpyOU38NTU1M4f/68yusjqaMSuNjge4+WPXw/tLe3iy3Mqr1b1v9EQgDXH/NbakYhgOu/nbqR7vrPvPIZ2YCeFhI7d+4sOclCPVcrKXTLqVxdithVq1w888wzas0kgPUy1oIAanlyyULl6nw0iYn5aKHgIZ5KY2QqXFLV2ux346XLw4U8udu3NuPM1fESGHs6Qrg4NF342R3dLTjVvwTh296KV/qKhI8v3tLkx7WJMsJ3pUjmqAK2Bd0YmgwXCV+ZCmg1m9HgL1UBj+xqxwsGFdBhs8DjdmBqvrZUwJ+8Zw/+9IMPL3qL8ssP/5QTwImJCdXSbu/evXjppZdU7uhSRR4XLlxQLeIOHDiwpGJYL++bzbhOIYCbcddX8ZqFAK4imFWeqhYJ4FKVq+xMwUGj2fK+rHwtw6zVtOoqJ3ZrXbnK4hWqllQ66mWwD/DFixeVr1v5INbRRAqz0WK1ajSewuhspBBuTWWyKlxqrGbtaPDi9ECRvN22pQmvXSslc7s7GnF+cLIw5b5tzXjV8Br+Yld7CJeGi4TvwPZWnCwjc90tQfSPLazwVSJ8d+5swwlDSFeFfRs8GJwqEr5KKmBzyIuR6aIKeKSnoyQX0GY1I+i0YdwYGu7txHFDvmAt3BdUPb/7e+9Fb2fjgsvh+44qYDkB5BcG2sGwd/SZM2fUe/G2225b9LKojPO919vbq77YrSRXtRZw2+xrEAK42e+Am7x+IYA3CeAKXr7WBNBYuVptrpyxPZ2RyOmEjbl0fPB0dHQooldO5BbruboCiFbtJSxe2bJli1p3rY1EKq3Cqwyp6h5ysWQKV66Poe/6MLyhJqW+9Y3NaMfl8+Z2tAVw7vpU4XKqUeYqhWJ3tgZw2RCKPdBdBZmroN5ta/ZjYLyo3qkcvivF/LxCSLdE4WvDS+WEL1RG+Ha1KwVSHyrs63NjeHpxFbDR71aEWB9HdrXhhfODhX+TFAa8LkzMFQtEauHeePjgdvzNr7x92QSQPoAkgax2ZzEO73mSwUpt4fSTkyjSDobvDTGHroXdX9kahACuDDd5VR4BIYDrfytQxSHhWmoYe64uJ1dOL3gw9lxdKqS6VM9VKlL0GtObzy+19lr5Pasjqf6xgnmtRjqTxWzefkTPlyNZI8EbyodVSfBYmUqFTSd9VPJ2tgZLSNhKQ6jbWgIYGJstXOKhHa142ZBXx19sbfbj6g1ErbQqtou5dwaiVq7MKTLX4FN2KvqodExHyHujemcgcyqkG/IofPRxFwmfQZnT8vw8pYRvZzteNOQCMuzbGPSoXMQC4etpxwuXygpE3DaMzRgKRGpIBfQ4rPC5nfA4bPj0Lz4M5kRWGgspgDQOZx4gq905+F5lUQ7DuwsNpnQwp5fvDSqBzB0UFXCtPiHW7rxCANcO201xZiGA67/NJGj9/f0qlLpYrpxerbdY5epCxG61K1eZY0QVcLGHyvojufSMzImiefVS9hg8Uzar+clpHR6ozMXy1aqJPJmbzxsFx+B3O1SuG4kec+s4Oht9JZWqlYhRW8iL4fKwpoEYkWC1+F0YnS2qUyr0WXZMa5ChT408Wf1jONhyAC9eGsa96T68ZO7EO117cdwxgb45jRT+zuUf4o7ENP6s/TCeDW1TPyMJawm6C+fhzw7vIsEqzb2jRYmRYB3uqXCMWnORYJUfQzLXHPCUzlV2Hh7TRPXOWNjBY8pIYZPXVXZMaUWwIoU3qICluYAsvPB7HJgMJ5a+iao8wk5l0aMROZfDBofNCs5DYmUCkMnmkMxk1b0UTaQRjiWVFyF/ro97dnfiyx975AYyphdNVQoBDwwMqPem/uWMnylMfSAhJMmrNFjUxbxYEkDmFVIFdDiqM6SuEg45bB0QEAK4DiDfylMIAVz/3eWHOTtrVAq16j8zErtaqFwlYaXKcOedd64/YMucUc+TIzl7/sRJ5KxOOLyBvC1JAgyzMoyoW5S0BDw4fmFQ5dXxYUwC4XfbMWWwCzna04HjBuWJD3av01FiKXLDMVYzPHab8qnTx7HeDjx/oVjNynBk+TGHtjfj5T4tP88dymL7IQcSM15sHZnEuaksPuDswds9TfjYxAW80vE43DtOIjW+Dfed3orbEleRM/nh8r8PObMDjyWG8EJyEN9+6QuwQCMakzYX/r79EL7ZvBtHdnfihbLr8rnsJUUSKq+u7JiAx1ESQr1zRwtOXCkWf6iCDJ+zxJal/NxfzfcAACAASURBVDyVjlH2LuUKnyKXxmrfdrxowFARvoDnxmMMIWZ1jMdeQhz3b23E6evFfEZ9j0iM2Z3D67LDrRM5qwVWM2kckMkBGZ3IJdOIxFOKyNHCZjmD5yMJ9TntGmG0mhVh/PVHjuH+vVtKTsV7Wu8hXv55wC9nVOdZBKIPvl9ZHHLXXXdVVPZo68TwL0mgXlgi5tDL2b3aOFYIYG3sQ92uQgjgxmwdP7DraTDJnP50bKu2noPVqYXODboNiaH3KtU32nwo1S4cR1eTH0+9dhXJdFYjUHaL+nvaoLIcZfjvQjEnjISHfVpZPKGPo72lhI/HULnRz8vjNMJXVMt4DP3vjERAncdAViodU04KGRJkv9lkJofgvS2IzLXDPJ3EYesAcuEp/K7tHjRZ7BhIx/DBrX8EW2BCLXvn1Xbc/6pdqU0mcwPsvnfDZPZgMhvHtaHv4RcGnkBTqqgsxsxWPN68C1/cfjeGM+ZSknq+SFLpn+ewW1ToeiEiS/XLbgHCiTIMy8iu3+XApMGcuRKxDnodGDcooEdUSLeIsyJzXueSKmBz0K3UWZ/boUj2liYfZsMxRfBhMiEe17DIWOxIJDMIJ5JgdbRuYVP9fZ5DwO2E12mD22mDK6/8Waj+UVnO5cA0Ad4/vJ/DsZRSmmNlvYH1+Ziv+Y3f+XclxG0xAsguIIwqsKBDH1QKqQLyZ/TvLB/ME2R1fFMT80xzigSywIt/ZNQPAkIA62evanKlQgA3ZluMRRcbs4LlzcpEc5LAY8eOLe+F+aP5ANRJGsOr4VgC4yRuNAmOxFRlK018tdCrZhpMaxCjWqZCrBPFPDee+s6d7SXVo+VhWB5zW2cQrw0Wq1I7GnwYmirmsPGYu3aWFiW0M1TLEKsm+qhRnqPWFvRgRIUriwepEKqBrFBdHJ+N5LU37TzKmsRwDMOeU/NRGDgqepvduDAeRS7khuXIAdjOzCBoieBQ8jz88934jWA3csjhHcMnEDv4LdgbtJy35hE/fvxECIrOmdyw+34WZktAPeRPpCeQmHke77/8DLris4VVUxe87GrAlzruwBMNO+B12pHLZhFJpAvXfqy3E88bSDM7WFgt5kL4mwfqa9ZfROLotFlKFNBywqc6drhsiyqOJGytIbci6B6qZXYb2gJuzMdTKoxNHKjcUk2lvQsJHMOrPR0NePFy0W6GIeZWvxNDhvzFPe1+nBvLh65zOXicNnhdDnhVGNeqzsn59XnSmRxSaRK5jFL+SOT0FIDlvDFIFn0uh5qPONltFoUn7yVezwffdBA/dmfRckkngHrFvXEuegAyTaTc/4/vWYaH+Z4tVw1pj0TFUA8R6y3iWDhSrcXScq5Xjl0bBIQArg2um+asQgA3ZqvrjQDq3nR3330PaAisqlbzqlvFv0fYm1UzDObvmbNmtA/Zv60Zpw3dHrgLuzobS47Zt7UZr5b5zvV2hHDBYFWiVcBqCpg+9nQ24pzhmB0tPlwZKyV8e7uacPZ68XW7uxpx/nrRAoXn2retCa8azk1CcXGoWH3LY7Tq2qKdyo7WIK4YKmt5zIHuFpw0eON1twTQbyjY4DHlRRtNHhsmIpqZsu99dyLxeAymLHAYF/H0YBpPdxyB3WTGNyLj+OTMFXhuewrO9ssUtuCfteMnnmmHNQfkYIHV917YrM3qXPFcGucb5vHKxRP4yNXncdfcUCE0zN8nTBac8Lfjxbvfgq9PFnPTmPOYVApWMcxZrlw6SZasFoTj2ro5yo8h8WH42GwyKzJHXz4SYEWiTFoeJr8sWMxmFWIOx7U8uYPbW/GCQW1VKqDPeWPYN0+sbRYTQl4XmoMeRQ4dVubjmVTuZjgaUz8LR6JK+W0IaQU0c9Ek0tmiglnNJ4OW90cipxFTXg+JHNevrJWyOUVc9bw/XidJozHvr9I8O9qC+N7vvTdPCqHOxRBwJQJ49uxZ5ftHw3PjoCp4/PhxVQBVXgT15JNPqnxev9+vXiIt4qrZ7do7Rghg7e1JXa1ICODGbJeez7Mxs2sf+FRK9BZdql2XoXUXlbiZSCxP4BKq0wNVqkgyUzAGXs7ay8OlVFSCVH7CxZDkkd7OEmWMZKbRV2rXoRUpFMO3XAPJpbFwoLxogsd0NpRWpZYXaPCYcjNiko5X+ksNi8u7WGhVu4ubI9++pQlnrpWR1K5GnDMQzt2dpR58ioDmCfCef9+GS6c7YBmOoQWzuDY4hL9s3IOjzgBmkMbDgy+prXBueQ3e3hcUkXJHLXjkyQ44MmbkYMKk+x3otO9UYUUqTJPZBP4lfgXTmTDeM3IaPz11Ef7YfIkqGLXY8KKvE19u34+LnuZ8yLsYGm5v8MICwGG3wWY1IRmPY3tni1LmaF/DLiIkc8yXmwrH1RcH3nMaKSyGdFWLNrulQj4lj8kp0tbgdSmlkPcN8+RIsHxuO+YiCUXaGHYnmeNa+kdnCuFVbZ+Lc/Ge6mrw4KqxYnpnG04OTCLgtqu8P4/DrlQ5q5XzaAUcVGdJ5JKpDKLJ1Irz/ng+houp/DHUrxWKWGDO5xfqBJih4g++6QDefb/m57cYAXz11VcVkatU6DQ+Pg56/rFFHAvD9MEe2UznYPGHPkgYOQ9VQOOxy3mfy7Hri4AQwPXF+5abTQjgxmzpahJAPmhpdGs0/jX+XYVVw7FidWu+L6sx522tUQh6nErlMSofR3tKe7WqXLx0Bilm2edHeQ4dk/IzmXRJnp0WnizNWWM0bbEQJkN7VGxIShaaSz2svaVdI8oLGVTVbqCcgJaGk3n+rsZS65Ty9mc8ppxcKpV0YBxv+EAaP5x9PRzHJ1SAMD5yGe90BPGJ0A5kkcOxweOFa7AGRhG661HkzCk4E2a8/el2eONWUNf6vv1ePOQ6hIBZq/bkw74/M4+vJ/rR2eGHd2IY7+l/EftHr8CVLrUpSlhs6GvsxGNd+/GofwvmYilFvMrxoBpGImbMg9RVQKpjLK5o9LkVsbKpwgqzIj8kd0wHYA5lPJlRuXIkXlcNljQqF7BMBWwKlFYxH9reiovD0yq86nZYVRGH22ktfGkhMSXxYlh+NhxRRDGezqE1SJW4NL1g0fdEDoqAsoCDczjtVmXzQ/WvmPfHcHFGFR1phSJJlepQ7WAawmOfep8io0brqHK7FvYBbmxsrGh1pEL/J06oUO+OHTsK+/7YY4+pVoPGjiG6GTwL0cQcutpd2tjjhABuLP51P7sQwI3ZwtUkgHxYHvnfPreiXKSbuXo3kojCXvUptFBoUS1TodCR0pDqoZ3teNnQWaJSTt9dO1tL/OKYZzemqkQNuXhl1aQNPhdmwrGSPLtyckmlif1tjcRYkRdDVSpz3zhL1JDAX65okVySFBiLJspz30iAWCVrLHaopFySOD789hP4vPmX4Xl6CJkIkE1EEJwaxv9o1yqyP5y5hFdGtPA1haQD20O43vpl5DxjigS+9dk2+KM2ZE1mPLfzHWhMNOD2SADWnFb4wSKF19LTGGiP4eUBTfHcMz+GX5x6DXsnrsKdTRlTIZGBCUOuAE61bMeJ/fdizOGF1QTEolGEQkGlorHQg2oZCZbeT5hV1guRbeJKQlhCyHvacXlkRqvGtWs5eXaLubCHXDfzFZmrSWLFcDH/tAY8JT6FKrzeV9qerrvZh74RVgDnFHE7uKMN4/MJuO2aKkcip+X9aRW/ehhX5f3FtWIRzr+cwXxI3mMMF5Oc6oSxME82i1Q6ixhtYtQ8CXz0bUfxoTcfXJQA0tKlra1twW43s7OzeOWVV1SLOFq9MN/v8ccfx+te97ob2sBRBeQfqoAkgjJqGwEhgLW9PzW/OiGAG7NFrLrTff5WYwUf+/z38S/PnFuNUy15DhK/f+r4Em53jOKOvv+IMJxLvoYHqJBq2YN4e4s//yDWTrG/uwWny3L6VIuyoWJ+nsrfu1b6QNfCpcUwa3nLMp67vG1ZeciXx5SHhltpMmywIOEx5apXyOtUhMBYaXxjZa9NEQZj5Wf5MSQEJDk6cWS+3MHtLfixo5/DJyz/L2xD87CcZseNHPbYw/jbZKfC7I/do3hmYkLllun5dzSGHnU+Dc+uE/AkzHjbM23wJKyYNVvxN+Z7AbMZ7wntwo6EDxbKmCSCyKHfGcb5wDxYwUrWx2II+7UBPHj2WewZ64M/GSshg6RASasNFxwhPBXqxrebe+BsaFBk24jH3b2d6B+f1Tzy7FYVAtXz2bQq2RyCHofKxeM18Fr4c4ZjS9IEygpoCmbRU2G1LiqMzAtlgZEqrrBq4VWn3YJoIqNUSxJTv8uOc1eHEU4Uq793d7XggqGv8UI3NUl2kGFc3SbGboE9H8ZVfn/5ql9+MYsl0ogkkspiiORuOYM2MdzHr//Wu6Gqx/Pm8eUKIC1dGP6tVO2rz0fjZ5K/3bt3q/PQhuqhhx66oTiEx/OziSFgkkAxh17Ojq3/sUIA1x/zW2pGIYAbs52rTQAff3UA7//MN9blYvbYR/Fo118rtenleDveOvihquZl7pbTbitRKsvDwCo30O8qqQotr6zlZO3B0pZgd+5oxwlD+zEeU15sUanLRnnuXaVcPBWKNRSjVC7iYPuzYr4gDZ91o2Y+vBkq3NXRgKn5mCIlFgtz2SyFPDnay7BQoDXkUb11GS6nwNQRjOGP3vUFfBhfRAIOOL4/CFPOBGc6hR9YGxWJetPICdg8NqW6kTTSaoUEmDmdZnsUY+3/jEBkFm99rg3mnAkv7cjgYuqtaPWG8GrfON5m3Yo91qBSvDhSuSyeS43i8dQwetobcHG4qNJ603F8JHUVe/rPojMyBWuulNSQEMatDow3tOB4cCu+29SDgYxN+SpSnTPa6JQTYKqmJHS8dl0t29PVhMm5aKFKlrl/DBtTgdXCq2m0BNw4PTBWuK94GST3xq4nlXI1twTtGA/HEfS4lGLb2RhAOJFSSqRejavMm/NKJoncymxioPZF2dHo4WKLdg8o9Y8FHpkckum0uh4VLo4WbWJ+7R1H8GtvP6KImzKVzu+T/qYzWros9EaMRCJgV5yjR4+q1z/33HN4/etfX/FwPRQsLeKq+ljb0IOEAG4o/PU/uRDAjdnD1SaAfBge+/jnVbL9eozfCj2KjzY8oylQkw/iz2ceqGpaTT0rJuVTPZsNR1X1pz6O7e7E84Zj+NDUE/0LxzA0e/564TUMuzpt5eSy1MuPD9tG/9Jh13JlUCmH/aMqfOdTXm92NPlcSKSyWpWmCcr7jaFB5QPIh3girVqdsSeuHimsRBzv3NFWQlxJZmiHYzMDIZ8bP91zAvfufwyfzH4S5yy3wXt5CulLtC0x4Q/gwutgwXsS57Gl2Y/nzg0WwpIk28yD09UzR/slvMF0Frf3+zDrTuFrrxtGfGQnmqfejFgcaLQ7cF+yFS1pJ7SyByBtyuKcZw6TjSnV65fWPVSymKuoV3QzVPy2ifO4OzqKYHSupKKY51AKodmCcVcAw53bcbylB/0dO2CxMsxqUgQ4Qc9DFlckUqrNHC1yiCMH8wbLVUDtC0Gx1Rv3tavRo8ibbqpMAk4rGJ3UUk2k8jg2q1kOkYyGXBZcHi3N+9u3rRVnyqrBjTc2cWWeI0PPetWv6vbBb0OGql/mQXKelYaLVXVxPlzM9IW/+qU3w++wKouWcgJIv789e/Ys2PVDXz+LQZh6wmph5gU+8MDC71l+PnEuqoC1YERf1YfLJjxICOAm3PTVvGQhgKuJZvXnYviXH7KrOT7xxcfwD4+/upqnXPRcj3V9Fnsc4yon65HB9+PFxNYl5+7taLghzHbHtiacMuT9bW0OaMn/BqWjMlEKawwjP8rJJQlbNF4amqXi+Nq1iYIawwc5iYj2kNMqZKmgMeyrP8RZucrcs/G5hduzcQnlxJHKIYkTSSM7PTAkyTAnCY+m/EApW1R7WDTB/EMSE+b9nRoYR5szjY8cewHbd7yCryR+Ht90vhNIpmH/Th/MDrcKvH8oZcKnx15T5JTefU6HVXUoIdlhEQEtVFTlbw4wJedx36VvwJIz4Vv3jGA8lAByZsQGdyJy4SiQtSIIO97j3YWmrKNANBKmDP4tOoBz2RmVI+f3OLGtyY9IMgUH1UyzGRZTFhOT0zgYncahvlPYPnEdTfF5WMoUQuJEzXDO6kC/M4SJ7h58OdeEfneD2kWen2oc7WR0tYxheJI53g4kcplMTlXo0iZGV8v2bmkqqfblucqLasotgzx2C7qbPUhmWMnM/EKLCrXG0qyGhWbenFcZI7SjiSZVccpyBwmjKhah51++UETji7wW5hdq5uFU/1SLOENYWp/rDbsC+IVjW5SnX7lPH8O5+/fvRyAQWHRpNJ/XzaH7+vpw3333LXi8bgvjdrtLCkWWe+1y/NoiIARwbfG95c8uBHBjtngtCOBz5wfxM//pa+t2QX5zHC9v+wzc5hRiWSsOD/wqprLeJeenyjNo6IfLPLdXDFYdPMHOjkZcVkn62rhtS5MibsZxx9YmjMyE4XZolZiNfhdiSY1ccVBdspmyGJoKI2vSFDoSvsFJ5tEVR7kxMx/YkViRODIseaynA1cn51QxAis+SebUQzxvEUKywNddG58rKExUgJp87pIcwkM7GCouqlfqWluDuGzwDtzTGcL8zBTe2hrB7bc9jqbmqzgxdzc+7f+4IsUfODmFvpEknmc5Ri4He2IKiblJMMxpVFepILEC1Rh2/WjmOdgzcZxqT+Klg8NFjp0zwRXpRdP0W9DgDCI7k8P+6QB8GRa9aMR4KpvAV+NXMJ6LV9yP7gYX+qeKJJlENjR8FQ/P9GHfzCDaIjNwpJMlOYT6LrCwZNbuwoAziMltu/CPmUZc8TSqX2sqYKllkFEFpALH7iFUXNPpnAofkyByr0kQVRiX1cWpNKg4n78+pYgxSV53kxd9Y0WTcM53YEe7IuDlo6SIQ1X9ahXMWp9fze5G6/ZBMk8VOKVsk5Y1crxes6Y05/MlWZTCe+69Bxqwb9fWG+xennjiCdWikWrdUuPy5cuqRRwLPWgNs9jQzaGlRdxSqG7c74UAbhz2t8TMQgA3ZhvXggDyIXTv//7fSjzx1vrqDjuu4r93/r0iQyNpL44M/CrSKPqNVZq/vGqWKlLIbVcPbRYH8IHXHPConC5yOT7ASbCoChXMgaNJ7NtK1aeUTHW3+EtMlnvbA7gwrBE+PqjZe3VXa1CRQT5UVU/ffCs4vRiBZKHB68SFoSm1BhK5YtcPA3EssyUpbxdHVY6Vz6xS5TWpdmlKMTOpogfOx9B9wONUxQ8kDCx+cJuS+KmuGCwm4Nixr8LuiOF7596Mv2/7OSDkxbZwBv/12Qj+QzaMIVKzXA7Z2Dy2u2OIRBOqkwUJKnPZqDjyWhli53U9cPkbcGbiuGJtwded3fDd9jTsjUOFAmrl3zfXBOvQfZgYDKLb7MM7HNsQMGvV3iSC1y1RnPBPwu9zIJnOqb1PkGjGY8haSDrTak569FEFNVZ1b/HacFv/GRybuYae6CSakxHYctmKpJA/jTqcmPA2YrRtC043b8P5pm2IZ6HmIDHsG50tqHLlZtpcb3kx0B7lvzilyLrdzCpiB1hpzvw+Reiz2vXEUll1Xn6hoO9fOJ4uKWqp5n3F+432NiykobKpWcVoFcYms7lgeq0Xi+im1wsVi7z9zm14Z69L2bcYffpo6cIK32rauDHq8PTTT6sKX55nsSHm0NXs8sYeIwRwY/Gv+9mFAG7MFvIbOPNxVnv8wT8+ic//4JXVPu2i5/sF/4v446ZvK7J2IdWM98z/R3jsjnwrLXq9FRPXSeT4gJ2JsOdqulC5enhXW0kLNT6gGfYr8Q1U/XlHVK4VSRtNoh1WsyI6KhTJ/Cy3Q+Wp6arPfCQGZNOYimUKRQKVTKDL8/O0cOG46h7hcznVg5zKJUkaizdI4qgIsRihoDAltby/U/3FggQSSX09OoiVqn9JDhgK3upO4y1tcYWRxRrHvff+s3rZ3zz/cRzMdeNLh1ox4TSjZy4D95kruDhjR9asEe5cJo0ttjAuXyvmWBptdALZKD6UPq7I1g8su3DJs12Fu0PBHGZbHkXcexGq3YjG9GDOuGCdug3pa4ewPRrCQ9YO2LQmc0jmMng5MI3vD18tuTeMHVYYhu7tbFD7yHw5jfwQT7vCROV1JjPwRWawd+AsesYG0B2ZRFMquiAppOLKHsbjdg+mmzvwpCWEM129SAYalGLmc9nUlwUOvscYuqcPZoFkJVKqHVzfRL79G4AWrw2jhvA+X7u7za9a8elY6KqcFpbWOn7wvlPhWIaLWV2sPAy1Ig6SuZW0iCNm3BOPiz2FbfniF6qMDONn8Z4Djdi3vb3g6cdrpKkzw7ms8q1mnDlzBjSIfvDBB5es8tWdCqgCSou4atBd32OEAK4v3rfcbEIAN2ZL14oAMrz4rk9ppOFmBkkb1TI9qZ4EKxqZhy/fJUCt39Di6n+1/Cve73lGkUBVGXz9A3SlW3AJvZ1NKhdQb8+1sz2kcqxIqlRSvcmkQngM1ekVsiRe1yfnSgyly4mjKiqJ0EKkOPXeNi8ujIVVBwYSOSpzvD4rrTtUVSUUKZkweNcx54sqmtGIuJJ5c3l7OP770tCUyjFUyo/Tho6QB/PxtJqTIUPmzFH5S+Y7S5CcsFNJarwfB/zxfK4bMGIfwXvu+T7YnWzi3/4M97uCOOe34MNH3YhTHmTY+fQAon1xmF2+/MM8BwdIBCNw21hlCqWqzs5FcM/lbyr1LwMz/tL5AJKGAl7Np/A63DtOwtl1HmZ70bNPqYLzDeiMvw77+w9jZ8ZXCAuPeOI4FZhFPJHEXDiK1katFd5sNF6wPbmju1WRYn10NHgxPBVWaqI+GIZn2z/uDXHrsKRw++Al9Iz1o2NaKzCxZ0r9CI03F22jZ61UC4M46WjEi4FOvOJrQ9psxdYGF67mQ9Mkvz1tfszH0rCYcqqgx+NyIsgq5URKKYDMyeP9NxdLK6JKYr5c03TdksbrtsNDwphXm7n3xpZ3JepfFfO8YV8XfvZ2jwrf2u12lUfMEDALOqrt3nH9+nVcunQJvb296OjoWPRjQlcBSS6ZDyi2MDfzqbr6rxUCuPqYbqozCgHcmO1eKwLID+wHfusLuKZ3UMjlFBnRk9BZrWq3aa20ih0LNPWi0LHAYEGxHHQ+2/5veMRzSr3kfHYLPmb+DVhMWtWiFl7NJ9UnUmhv8OHE5dGSpHqjdQrPoRGuUr+/nvYgRmejhethaJYhWnU9+SIBEsexGa3Lw3w0oQoURuaKhIbnLreW0Uygk6VdSHZ34PLQtLLwYBEH1Rmt04NGGhlWpRLJql1ipxL4Y0k0+90leWUV8xdVCznt2szI4p1b0miyaSHvVNaExye9eMOhMTy446uwJHzY9fhfqGPHTCn8evs8Lty+VXN95ojEYXruCuxJL0xmWphoBQa5ZAypmWEcaLLgnquPwoukolzftfTCtusgBsbnVTcLqlpUTulfx2vjdc3briDS/BRitkGjvzZyWTM8Y714V/8vwJfT2oj1p+fxpcSlwq3S0xFC/+g0gl6nCrGyGCUSTyj7Fq0/blaFRDXc0kpF5ZWwhZzRO7CnyYmLE8WqdicyuDc6ij3jA9gTmUBnYg6BdAJsdldpqApkiw2zbh/6XA14xduKH3q7MO7w5j0hi/cWldKhyZmSavSjvV144dKI2vdKqpxu4Mz7WrekUZW/qt9vaSeVat5Hi82jpwuQiP784VbVJpAEjoUdDOku5OlXad6rV6+Cvb1pK8PQ8VLKnphDV7N7G3OMEMCNwf2WmVUI4MZspbG102qv4C+/9QK+/PhpRUb0ZPflzGFMdudDSe+MEJ6fh8PphMViRTKjhbuUpYZhns+2fg2P+M6q6S4mG/Gmqx9CskJOII14+bBnvho7I3AeEkASNqpkei9Zsg9eg/5gpU8fbUKMoz3oUXl2+tAMp4uefBTL9m1twUw0ocLSvJ6gW2tZRuah5xgy7Gw0IiYpZIs94yjvHqJ6xlpMBQNmHnt3bwcGJvIFI3nCzfCkyu3KE0d2gpici8GciuKwa1zlo3FMJUz4+nUX3GY7/ry7EbYHfw/ImbDjR5/B92eS+FZjHMcvDyHncQJvOUTn40K1tCmRguv8FHIj7MWrkUNTLoueyCXcNfMyGlNTOOvZhadsO1W3DLZMM467dpa2sFNt3dJxmDtfhqvzkvIULDYLNuGegUdwYFjzkuszz+KHpmuqorbBY8fFseJ+8Pdbgg5cmymS8GafAxPzCdWnmMNmNuGObY0Yn4+pQhsqZiTdHIzoKruYVAaNPqfK4WOuJMkjCfMhZxbdfa9hf3gEO6LTaEnHFlULMyYTIg4PhtwBDDRvwYXu2zHY0K5scybmwvmK3JSilTMRrYXbcoaea0pVeTXVP30Nx3ra8MFDflURzM8R+gAu5OlXad2sAI5Go+oPzaO3bdu25OWRaFJhZKWxqIBLwrVuBwgBXDeob82JhABuzL6uJQF87do43vp7X1YCkRb21KpkC3lLJi0MpQxo6VtH9U9ZkGgGtLoHW7XIUAmhgqTP89uOf8TDZi3XbAY+fBS/ifGM3zCP1hlhb1czTg0UVZjyfrmc36jU8XxdTT71YGblryp0UBWgTuVRRyKnEwUey24QnIfEodw7TpGSJl9RKQVUBwnm/SlCYjGrcKQKTUcSBeyooCbSabUGKj8MTzf5XbgwOFXI+6KixnWwGlQf5a3g+PP72oHbXWFFYkh4x3I+HJ904tdcW/GQJaDC0wPHfh/xQB+i8x34m5O/BIvZotqE8dwkxZONXqQP9yDpsBZtc7JZOAZm4bo8jXimmBdmT8cQjceQmR1TBSl7uhqUsbEKu5tNqvqUpJhr1xThDEJuK86PhpUyaraH4d11EtamazDZaC8DHLr+MI5dezvS5iS+vPO/YHw6iPi13djZ0oRYMqtZuTisCHld6h7jfPmY1AAAIABJREFUjad342B+5PmhqYLpMXM6SewWM4vmvjDMT9Nr3tvM+etuDaqwf9GPD/CYgab+89g5fAXbpobQFp2FNxG9wadQ3x9Gw8M2JwYcAbzibcFjoW70uRtxbE8X+kfnCl9S+B7S+xfrX1IKuX83of7pfZL1L0Pl86SVVUwaiXQWTE/45Qe6cWBLSFUEL+XpV/4+ZviXuX3Nzc149dVXVTh5qbZvk5OTOH/+vCKaDD3LqA0EhADWxj7U7SqEAG7c1vFb9VoMErtH/vCfcKq/qIJVOw8f2HrHAr0/qwp7mkyYnw/DTCNai7WQ7M5QFxPey8cnGh7FR0LPKpKQyFrwvuGfwVOx7fnDckrluWN7q1LYqPQwoZ5KGn9OZUdPqud6GM42htUq5ZQNTc2XLOFIvkKXOYYumxkdjQFVeckqXFXEYTLB57FjJhxXRE6r+EyrYpKB8VlFGjnK1UT+bE9nI84NFlvTGf3mGC6mqtnTFsRkOK4l8XNeixk8YzaTQzqbQW9uEAFzXLMQyQFPjXrwbttOvNXdBGvexiady+FE1/cQuP0rai0jcwH8399+BFtadpTk1LUG3Ih4HUge3IFs0ImUI9+ajyHdmSTsfXPAeNF+hbl32XgErdkpDE6zh3Jx7Grx4pJBvWvyOTEdjityT4WM/+8IeTGZHsVc4FlEHZfxyNlfRktkK57q/he82v6EIrOWjAfR8WbEh3qQntbyzMpD4bpvot5ajfly21sCmI0mVaidhTYkjPwvi2+4P7zXWLBDyyPjKC/iMRaj6MfduaMV6cEh3D09gL3T19ExM4ZgPAxrliY0Nw4GpqfsHlzwt+IHgW14KtiNrPKLXHxQ+aPCrXz/8u3oCikKrGjPq5maIfXKvnTt39qIjxwN4bbbblP5fPfff/9Syyr8nkSOYd9du3apHsHs+NHT07Po61k0cuXKFdVJhAUhogJWDfeaHigEcE3hvfVPLgRw4/Z4rQggr+jPv/Ec/v6Hp7QiDoZx7TalkDC8ysE8r2IRRz6Mq/rZLq9fKR/SBfVPhe60Ig4aK78x+yx+BV9SOVokBV9MPIg/mXmTKvbgPFQ5lKLFUGx+VFLKGK4cn4soxYfVkdtbQ5riYy3mMrKKloUHetsu5gFeGJosEDmeXqv+LZJidlhgz1rmV+mDFbq0llHFCE6bUn64TrNJIyR88LGogqRIV374IG/0uXHm2nih64dmP1Jsocbz37WzHa/2DeHdW6LwWLU5IykLDob34X5nY7Enby6HFzNz+DvrJBKWDB65/V+xu/VMoTikb6Ib/3ziAVyfDiCWysCWjOGt1gG0x0dhQxaTwWZc2dqLszv3Y7SlU1MG4xlYr0dguRaBKV/9wSixKWSDL5BBUyQKXyShdTSJJZXapJOTnW1BvGSw21Gh4WS6gO2H3b1oNXlxruElPNb7BaN/twZrzgxbKgR/aicc03cA8YZ8yzPN9Pr4xaEC/lQBy4sujvV24vkLxWN4f3U2elQKgcduV/cc8afpt+bLqFnecA8Z0mcKAZXOLtUerrTzx8HuZly6dB33TQ/gyNx17IlNKQPrStY0PPecy4tLbdvxbM9hDDR2IZXS/AVJUFeacqEXQpFcs1paK4SyaN1FoBlf6zm69BdU3UViSfzW227HvhaHchNYytPP+Cn32muvKcsYdgSZn5/HSy+9pMLJi9nIjIyMYHBwEHfccYcijNVWHG/cp+vmmFkI4ObY5zW7SiGAawbtkidmEjbVurUYNFF+4ye+uIxT0xPNni8KsCvPMr3Lg15cMTcfVmpV1mRRYSjdI2+xSfbZh/G1zi/BZ9FUwguJRvz8xAeQdDap8CAfyvOxVKGlGpU51U5Nf7DGU6qjwzPnytq+lfUUViFeA5HgXPQEJNm0IoOGoB8tgWLBiFLBmIPotCvfRNWDlTl0qvK3lCRopLSYd6hC6WV5f3ftaMW5wSlV9MD8Ph7D8CRD7MonhK3IzBncZhqE1cR/A72prXhdZldBTWERxnOJGXxy5gomM0VSfHuHH52Bp/Deo8/Ams8V5G0TmXNi8nwAkcseJOcYlqNhMxC1edHfehDJ9l2Yjqcx3uzFVIMfMa8LGasF5rE4rP1hmOc1G6Kc3YzU/hCyjQ7GtWFjn93JeYCFRCMz2I4cwpG4IuAu+jRaGdJ1KmxtSeDBiRawNOasaQrfTFxFruEynB0X4QhOIWvWQsXGkcuYkYn6kZzsREPsAGYmXPArcm9X+DcH3IpMkaDqX1QIGD0gNSU4oci0sR0cz0+iajQPN/YxVgUWbgd2tYVULijv7Uh4DgG/TynayRTD3poKTIXzyqvncP/oRRyZG0JPdAq+TOIGlTButqpK4y+2H8JZX6u6RI/DWtLzV+XPGgqU6P+4UM/fZbxZVRHN7Vub8IsHvXC7XMsigKdPn1a5fAwfc9AWhl9sqCYuNEj+aCB9++23qy93Yg69nN1au2OFAK4dtpvizEIAN26b15IA8qp+/k//VSlnTquWK6cpClpCPQsSNAsKrWqRqotRCasGlaJVjNZ6TLe60NqqaQSL82RTUXza9pfYb72mTpvKmfGpyYfw2Zl7sG9bC169Wtrhw5iLx+O3NftVqNbncWiKj82CpoBLmfNqXRg0M2QSR4YI9bZdd2xvwfELReJGItJU1gtYC/EW8xB5Tfu2NascM+ZNMleOKiqrfPWOD8zH8tqtGJ6JIpbSqlh5rcoPkAw5P3Y1uXBpQu+MkcX7u2NwWnKw5Sx4S/Ig2nJBdWQyl8WjiSl8Lj0Ks8OKzgYPro9OoLEhpLVZY1EMcrAkZ/Gmlq9jS+dVOAOlHpLJiBXxiAMD0RBOjW3BiavdcDi33aB4kcw+PzEL2452mBxemEZSMCWyijimjjQh21DBS46hZGLMYoj5GDA5D/9cFJYrk/iQtQdOk1XdO9/yXsHJsVmEPC71RYK4OT1xzHpPIOq6jJRtEjlzhVZqOTPSUS9S061IjHbDn96OcKy0g4mx+IYkK+hxosHnVvhp5tqaiTjJoe4vyD0j6ac1km7jworksdlImb9kJ44bFEbeyy6bVg2t57VuDTjQc+4kDl09g67JoZKOJsRuyu7G57qO4DuNi4dSy99Xyi6GvYWXKhhRX1B4b2tFKbrX4Uce2oGDrTZlA1NtWPbkyZNoampCZ2enWk4sFlOFJHfddZcidpUGK4fn5uYUAaT1DNXCaoynq/kckWNWjoAQwJVjJ6/U7CLWRoISdJdEgKEbWiys1fjst1/EH3/16apOz3CnlvunqX8kPnyoshBBt3CZC0eUMpfKmQqJ+1WdPH/Q/xJ4Dr/b9ENNAQMwnGvAJ/FLGLZug6IgeUNdEofBqXn1sOMDnaHIHW1BXBkptuxiNfD5wdIQ66HtrXi5T+sMQiLH4oA4vd0yKTSFgrCYAb/Lph6gqgdrmrY0abZ/wFSEHT+0JPueZg8u6ibA+bW3+20YnivmOnaGXBicLrY9oyH1vi2NGJuLKzJMs2AqgcSuO+PAsUwYF6z9sOTMeHvyLjRlfZjJpfGP0VE85oiU2MZoSpZ2rY3ZeRzODKLXMgN7WssZ5HAEEgj1zsK/PQxX8EaVjcfwnZ3KOBBOejEVDWJ0PoSx+Rac6PehbzKU92k0w9XZA3bdyJqzSLZlgUYfLEEPMnYrFGjlEl5+DeZsDs2zGfVnEnHMjQzDfHUM4XARJyp1Lxna/JndM+jovY6w4zIs7jmYLBXu/5wJ1qwHtkQrHJEdsM70IBm3KZLKVnt6mkJ5SJ/L2t3ZgPOG/EzmBrL1H7utUO0lqW8JetSXhNnZWdU+zWy2KKz4JUjrxpJUeZ7HL2hfWDj4PuhqDuLahJZruiU2jfcNvYJ7Zq/CmymS8evuED51/3th9nqVUsruNnrfZ724RplF30TBCHNlVdqF04ZmrwPvPxjA4TsPorFRa5231GDIl+Svra2tcOjFixcRiURw8ODBii9n/h9TVvbu3asKSJRPp9e7pIXMUmuR398cAkIAbw6/Tf9qIYAbdwusNQG8Nj6LX/2v3y7NJ8qrcjer/mm5f5qxsm7boef+6UqZ0SiaVboMGTZgFl/p/Ar22scL1a8vmm7H+/reirmsVrxAAqU9LLUWYTSkvmNbC0ZmIgWjaIqZDK3F02mNyKXS8DosuDoRVh1GSOQ4toWcGJguesk1um2YjGrVqPq4vTOAM4Mz6idUrkJuhyreYOcKVcRhsSDgZvcKdibJE8dUWplH943OFHIajW3HGJD9oK8LP+1vgy9nxhO2s7hoHcaedCeC0S58ZnYAJ5OaVQrzDhm6VD2NLTnsjPSjdW4AgXQYllxpL1kiMm/z4aJzK5LbDuD5S8Pw2CN4oOccbmsbwpaGKfidEVjyoeKF7m4SnmzOjIHZLfiLkx/GXNKPXYEreOuWpzET8yGVbcbpazacm3Aj7G0A2hvg7WqCyWKH02LDnNuMhL1CQQTVwmQavpFpdPWPwmMyq3Ar7wW9YwqVun5lFp1AwjwFZ8dlBDrGkLBOwGTRrF2Mg2vNZSxwZBsQHm+AY34X3Mnt8Du1CneeVydZ/OIyFY5peXn5Aos9XU0l/ZeZZ0ilWC/00ffgeYNaTFWu1UdvRO1+5H3A+z2azBQ9LdnzN5nG7qtn8fPnn0B7QiOHkzYX3n3HzwJVFIzoIWOSU1Uwki8aUmkXoHdmPmSsF4zEkpp9kWG873AHfnxfKw4fPlyVCvjCCy+gu7tbVQHrg59Fzz77LPbt24eGhoYbbhsSRGoF9B6UFnEb98won1kIYO3sRV2uRAjgxm3bWhNAXtlPfur/xwmDAlPpapX6p/z4tDZXfIhqeUua+qdbq8xFaCOSRCydUxYkyx18kCpvNKcd73SewEet/wKnSVOLMjkzvp89gk8n3on5lBkhtw0XR+YQobEcSaDTirl46YOvt8WNC+NFFY6klBW/kTjJmdaDdWuTD8OTM2gIBlWeIYtg+KClCqgKRkgcnTZcHp5Wqow+yo2ima/IDhFGi5IjPR144eKQCq9rhsp23OMN4pFUELvgVHlx+njc+poigCQz1+1b8MqYRlCi0Tj2mifRkxpGa2YWLtzY7SIFM4ZNfow39eKxaVeBWDCcOToTVniSiHN+Xi9bn3kdUWwNXUab9xpafKNw26bhtMZgt6RgMuUwMLcFj159AMdH7kI6Z4XPNo/fPvZnaHGXhuO5fmV3knIiHW1AOtqITNKLdMKNEZcbpxqbcdm8BcO2DsxZQyo/tDD4wmfO4UgmW9Lmj7/XO6gwL8/vtqs2eyQ2ZlsKUd9riDovI+UYRdocLjGi1s+tSGHKAWemGdNDjUiMbkc2qoXU2SOaXUX00dvRoIyoPU5Hvv+z1iP52vAYPF4f+FWB9wJJ5NB0WCmBJJWsGn7pUmm18Z6uFmVdc+ODGPjF8dN4b9/zatf/7p534mz3/mLRFS2XaISue2eyV/IKiq7UeyEfXqeaacpm4LGb8aGjrTiwb6/y9VtqPPfcc4rIlRO9/v5+1SKuEpE8d+6csn/ZsWOHOr1uDs2QcbUdSJZal/x++QgIAVw+ZvIKAwJCADfudmAujd5rc61W8ZXHT+Prz51Tihc/tPW2air3Tz2EtIfdckZFf0HVIUPzFtRDXVTlWLUYSaYUKTN2eeB87IDxJ83fxs/4TxbCwsmcGV+d34/Pm9+NM6MJuO2WQuiOdidU9hhWs5jM6v8komyppofVuptLLUIYzs6m0yVtzzTiVmomva3ZhynmGTJM6LShPehFOJHU1NO8Tx9VGtUuLq158PFaWUUci6fwQV8nfsrTiqDFmjcu0apRzyTD+Jp5Gs/PXMO7urQ2b+oBmojDMjMJ1/wkzKmiRYsiXCzksLgw6+/EUONuRB0BtUckeWMz0ULuJlWsHW2hEksYKlf0CTS2LtPJrNnlh8UThNnuAugFmR8trnG8b8/X0OUbgsMSh8XMziq0RsktFP2teLtQnbyOrXgRR/Et/ATiJje8uTl8Ov0rMGVNSKQdiKUcmI87kcoGcHHEgrF5H8bm/RiaCaGnaztevlKs0maeXzwZR9o9AntrP+zBUdi8YeRMqYqkkFUj5rQXjlQLkpMdiA9vw9y8Ft4tJ/T8IpJKpRFPl7ajo8k4CT1x5L1A42nmfOrtCVnUEWGRTDqr5X+qNIWkei91xmbxhdP/rN4Hf7XlGL7avn/Rt5WeQ0vLGH7xMlb/8hxahxEtV1cvuuI8lZJ2fvGBXjy0zalsWrQc3IUHO4dQ6WMhiHHws4jkkPYwra1aUYs+6BdIsqebRqv3OXGx2VRVcLX5h8v5nJFjl0ZACODSGMkRiyAgBHDjbo/1IIBsiXbs439b8aHBK2c1oepbm7eL0axVyHi0YhHNgFZvcp9UD794avl5i3zYKfWPLdUKbdUYXjXDmwvj45Z/wIH0qUJ3s0zOhB8lduPjw2/BSNavNqk8n4w/29kWwuXRYm4g8+d4zTqR40MViQicvqB6MKoWacoAO6uS6lX7tng+56uMFLIYY3Cq2NFC85Yr+v+1mu34o45e7M26Ct59XFMYGTxnjeBb1lmkkcSW6CA8E/3wpueQbW5HxhsoyaszpRIwJZNIZHIYTztwPunFWNKKXVvb8eJlY4GKGX6PHVPzxZA21a7BybAircpCxG5Bi9+jrimasWAybUM4Y0VS9WU2xlZzyKZTyMxNIBuby+Pbhqm+CI7ZmrHN4oPNBNX9w+qYh8U5g2zwOnJtAzA7JuG0xRRZtKk/aZhNaUUap9GAp0wP4Tt4G+ZMQYRyk/hTfAR2LK0Ya2FpC5IZO+IpFyJJL6KpRrw61IwTV7fg6qQDFua/+cyYd56DvfE6rP5JWJwxwFwaKldEWnnCmGFK+uBKt8Ma3g5/bDccFhJgIDY3A4vTp8iyaknHKnCHFX2jxSpwVtqeKfPTPLCzDSf7iwoj53rb9GV89NITsOUyYKeRT/zUxwH6MZrY1YZkSfvyFVVfhjTvP8653EF1nvl/VHupqGczKWUfFPJ78d47/Li9d+eS/X3ZO/jOO+9UOXzlY2hoCFQC2SLOSCRZOMIcw66ursJLpEXccndv9Y8XArj6mG6qMwoB3LjtXksCqOfpMMz8iS/9CFdGposhqPzDjrly5apcNWh4HVYVdmT+kioYUR05NN8yPnSNPX/1ilyqGIuNbS0BRCaH8emWb+KN7kuw5AtFeL7L2Tb8ffZtOOk4DP6Y4pXehYEhxOtTYaXEkPRQjWkPukuIm9aGrNSs+uD2lpJ2cR0NXqTTWc2KJH9NNEHW24DpdiTMZ/PMpfFhUxt2mZ0F5YNq37lUBJ+bvogm13U4J6+jARE4cKPJcMbmQKKxDWmPHyabfcEiC12borKWzlnAmmeT2Ya5ZBaRNMCalNlEDi63BwPTMcQsPqQcfjjcPqSh9WA2DlXvlU0jE5uHJxvBtgYX0qkcdmV92BL3IJiylYStWXmcNGdxIj6BJ1PDSLJUxASwb+71fDFEzmpG0507MRHyAU0+luQWrseSS+PHR7+DPelzcNvCcNkjsJkisFvjsFsScNpIHBl6rU5pzGRNCCfcuDp7AD84dw+yJl9BoTU7IhiznELU2Ye0YwI5K9vW3ahsa/mEVmSjfmRmW2Cb7cXUCEPHmmp2sLsFV8Zm1JcVhlidNhuCHpsK3fLiSXoYKmZqAouT9l49i5+78BQ6EnNab20Av9vzMJ4NLdFeLQel6KrUC86jWi7SoLzY01rrNKOpzcpjMJpU3XQWGj9zzy68ZYdjyf6+jz32mPL9c7u1Kmrj4PUxR5BFIkayx24j7e3t6o9x8DOMIWCSSVEBq/n0XN1jhACuLp6b7mxCADduyxlC4QfoUkOFbpNJZfiq/zH+e6G/84HPD+Wn++fxheOluUyck152VMqY+6ebRStLDVZ+wqRVyuZ7/jI/jqqF8mdbasFlv+cDkzlXJI1aSzpWGVtuMKXmGobZmSI+g4+7voGf8J6B3VR84M1l7HjGfBd+o/9uTGQ19YJmzjRl1tfEc9CTj8od1U12GAnPz6KpoRGMdKsijkxWPeCvjs9ppDGfi7V/WzNOG1rTtQTcGDP0Aqbi9xedt6E7Yy887BLZJE5Fz+PMzDOwp+ZgURSgdCiLFZsLU7Yg+u3tuGhpQgYWlXOYS6fQ40uh1ZFFu88MSyYJm9apb9HwazxnxXjWg/GsFxM5/t+D1A09l3MImWJoMoXRap5Hu2lWhd1zWTPsWSecOSesGQdMOYsWts5pJCiNNMKIYyQ3jzQNq2mCze4pFgtiHg+mmxox6vNh2udHzOlEroxo2uJxhIZG4Tl1CdmY1lOXPX+Zi/fa4KQi7/wZyVVHs19Vage9CbT4JtDim4bPMQ6PYxYeO/spkzjGFUksJbPAf/reW3FqSCNat29pwplrpfmL+/YAg7mTsIZGAdc0cub4AqFjXrQb2flGxMY60Jo9hP6hosqqqrKHi8qvPxXHx+KXceDSK/Bnil8sxlx+/PU9P4nJpg4VMmYVPQfD9/SD1Nv38Z5bSeoFz8X71mcwKE8naYhugdOpfRl538EQbtu5teDxV4ng/ehHP1KdQxZq6Ua/v7NnzypvQT2/r1LhCM+th4JJJsUcepkfjKtwuBDAVQBxM59CCODG7X44HFZJ10uROT1PkA9gfmgz74Z/qvk7P8CZ2/ZL//nflJKgt9PiA8hYBVktCg6LCUGf2xAy1sK4fPgUeqPmiyt0Gxf+v5qhOj7kzZwZMg547PiV0PP4aevjaMRcgRCRCoygCd/O3oOvpF4Hr8ePC0PTyjKG5I5GvuWt4Q7vbMOLhi4gLHJhVxF2FNFzsfZ2NSqzYdXNRPnvad5yVHpen/DiJ9MBpdBwTCfHcHrqCQzHLt9wadT8IhY3BrJenLe0oB8h7NnajHOG8DFfRE++K6MzedsYq1KCSJZZqDI3M4X2gAtBW0YRRZLfuZwD8zknwjkH4rDdMC/JZ6MpghZzGG3mebSY52E3LT9cr584YndgwhvEuC+o/d8bQMR5o2rkTCbQMTOBzplxdE2PIxAvbS9Xzd4vdYzVmoDbPYvtO16C368RvQsXjmFkpPdGtl12Mp06KiJqyiJtSiNjTiNtTiNjSiNryqo/yhw8/3dTzgRL1gZr1gVb2gdH1obQ1CRap8YQmpkGr9mWTMGWSmHOZMM3GnfjW4FdSOeVxCWvx2xS1e2qU49SGm/s/qFX0fP+471NdXsp065HDnfjJ3o0Y+hKxRn8Avnkk08q38CFijdI6qj4hUKhQtHHQoUj6gtDOq2+HGiWOku3ylsKG/l99QgIAaweKzmyAgJCADfuthgdHVUN1hcjc8bf3cyH6wc+86/40emBwsUWVTkqc+z6QbVMIz0qdaqkVZyWJ0fSqBvQLge1hT0GmfOlhYwZ6mLuIbtyMOyq50fpreHYUeQTjY/iPtcAbAZSw9dfM7Xj8xP78MXwUbjcXkXaOoIelTxPdWR2dgbNDSGwoFifiybBHQ0+1fZNn4uqpN1qUoTPrPr1TuCIJ4L9mSAean4LTCYz5lNTeHnyhwXiR6zSZhvmrV7MeFoxFtyOpDukKjUZsmNomA9yKkCsPmaVqR7SY/7ixbJ2cXu3b8GFyYQq1DBZ7YD5xlCujn0ul4Upk4Y1l8RWnxmm+Ay8NhMCOaAt6UAgbYU9a4ZyhFGxc5KcLHKmHDKmJOLmGNL2JEYsKcyEgpj1BzDn8SHs9mDe6UaS4enykcvBF4+iITKHlrkpdE2NoTE8qymWZcdW6q+rVQrdeGDFYwFYLCn4A6MIBkcQCg3B49Hy87JZM06dfDPm54tWJv+TvTcBkuNMr8Re3pl1V3X13ejGTQAkwQMEOUMOZziSpdExklchhdaxh9f22rtSrHclh8J7he2NWDnCDscqNmw5LNk7siRLYVu7sj26VlppNBwOjyHB+wJA3EA3+u7quvPOdLw/q7qrG93obgAkKKH+QEZWF/L8/8zKl+/7vvf2ck1+WsuKlyDICCQFLnQsI4cK0j15tImQ851U0ffq/zHfk5IxnuNA52ddX7tn/+PTQzixf3QNvPWeq+M4eO211/DVr371tiFbaiTSJ5i5gGT2XnnlFTz66KO3FI5w2910E7KAZCL77bPrgT4A/Oz6+i/lnvoA8P4NK0O7fCP/LNofnrmAf/n7b6yJK++Wles9NjJlli6jlMskrIXa9f1NLMgIGrs2bnzA3YnDyKHRktDES0JdOvYN5YX0TNftQYoj/Lj2PXyf++eYxNxa0YgABTFwLSji3zaP443Sj+NblzYyUfuHCri2uJ7g39XtyxoqprQ2DvkLGAsqMNw6lChxGWH7+r6fRVrNYbp1Ht9b+hPYqoobYRoXpAFckgYQyCpO7CvjbE8IknZmSz3hY26n181C03QYmTyMdBZOJCOUFBEm3S5Gyf9h+FYNPUiBjbIe4cpc4j08CBPP5kYw4BkoyyZEJt+msCxt5mYMH5cnVLyTC+EOphBnTMTaes7eVmAPFCpvuSh4PqoX5oFri5AcT7wscIwqdAbptEPlNJxIQsZKnGEYBmWOJr14u9Wsono6AqZXksITtiT0zurfCMeHF/DEvmt4fLKCorUAU6NszfqR8XyXGkP47sWvwQ0Poe16IiFUiJVT0sfShfCz7RJ8RyilDPHyIsXUCuQEHBzKYXq5BoVFLgSZUiKtEjVbeKi9hGF3FRnPgREAoawgUmSEioK2qWCxoGIlryHULJiBBT3SIceJR/R2bd6W8Xuz1lqeIZdbK74SRVFJSgSZ9LWiEaZ9+HdWNPIDJ/fhp4+nBAu4OcxLsWeGc1944YUdf3ZoGcf1H3roIbz00kvCKWSrwhFuqCsO3beI27Fb7+kCfQB4T7vzwdtYHwDevzH/LAGg8E/9+W8IgMa2W1aOTBltubj+HVctMv/P6Hjk8kG3wR2BDFmnytj1MUkZlws3N4S6REh3db0at5vvZcLD3ym8gb/AIxoiAAAgAElEQVSafR/7tdUNYJCAtB6ncVY6jP+v9Tg+tp5EMZvYgKHdwGDtOgbtBZTjFozI3TJwx23YUPEfTv0cFFnFjN/CP6lcxTXJg6qQnZKF1iDB8MRAVggbC61BhsOFL6wmKnZrgYwGK3ElXdjgUStvO8BANoUcbBj4iH0HkdNCUQ9RqTXXiLMjch7Pl0ZhtmTkJUNUgXZbIAOVjIKFvIzpQRU3SwpWsgp8kVi4PUgRQM8NgKYNVJoYaLtYOXcDqheCwsmT5ZyQ2yFTLIp9OjZpMysNNNquEF9mleuRsSIu9ujkjdB6rdoU4LzbTh8ZxdnpOTw9tYBHx69jX3EWpdQqdGVdJqf3rgwiGQv1HJbax/Bbrx3AQiPR+2M/jxY3VmonDjFJvl5XyuXgcAFV24WuJHmnYnxY3X5zBl9ZvIzj85cx2VzZYO/W3T/9fj8qFPBvT5r48KQNWHVIm0S2Y8rPtAZQrJ3EhH0YA4qLAlpiHLvtQ28QN50EjJJJ75Xp2d0vUCx8kpOKfYaME9Fou92CZRpQNX2N3aYk0s98aZ94KaHeX2+jnRsrep9//vkdd9sFi6dPnxZWcQSU29m/9cWhd+zOT2WBPgD8VLr1wdloHwDev7EW/rXexurUT/No/uGvfwt/+u6VO/L95XGR8VGlCOVCViTwJwUjonzgFneE7oNur3mGLLxYbTkoZMyO1IWG0VJGHLPwxBWFHLEAPdW2I0Jp1EY7MpzCkyt/jJ/Kfohj+uJamJjAY9lNY7qVx6XWABbsDPyIYsWbKmR5DpICW0ujmRrEUn4Cq+lRYZH2D7whHA/XQ1vtKBRh07caVZxxavieWwdUCaquw5FMyHoKkmZA0XQBfLZlhzqslIYAlhQipwTIqxHyaQ03ZheRy+VghQpGWhZGohQsV4ZOWCFJqFsyKllZgL2VnIL5goLlnIK2IW0P9ET1RQzZD4GWA7PhIN9oY5x9S/AnkcmJReicGnwUU2aOZLc9cXB4g04fWT4CXjK9jOuyOvyxAyOoctu62rES9HBkcAZ5/RMMZmZRsCrIGm0hHbMVHuUhuoGKlVYGq/Z+/O7b+3FpaVRceyOFtABwSbpCcu1lTUMAb77YEPhQZqWctfD+tYW1lwiut1hv41BjCd9fuYwn6nOYcmvQwnWWt3uOlHBZSBVwfuQgPnrki5hJ5dfSItg3dIS52j6HVv49hJlpQHNgRDrKTllMQ/YQcn5uTQuS2521ZfzBBgYwFtW/1P9LxNcTtpTpF7xWEvklutvQaSSpbuc47AU0PvvQKP6jx3Ki2rcXtK2urooCj2effXZXPzVMUaEFHAtDCBqZkrJd6+YqkwVkTmC/ffo90AeAn34f/6XeQx8A3r/h/awB4B++eQH/+a/+yZrQbaL9p4miB9qdMTzGxgddLysnJChsd8cE9K16kg9uPuioU7db0Dg1VMCFHhZpajCP60vroVvup5sb2N0nfXeLaRPFqIVD3k0cca8jG9bR9lWE8a0Po4zqIqO5cFUD33PH8WfRUbhykvPWG6rtbv8fDh3EjyglpBkSRIw5xLiIEJcQ4oKYIixvUx/NbjUIvOIQhhxisbqKyGnSXkNs/tShEbx9eR4qZBxXCjiq5TGkWIjSFhoZRYC8SpZzgj4F1TRDkrdh87ivKIbqB7AcH3q9DWO1CWmugnbDARmxty5tFMJOhJITH2U2gu1yLiVCvAM5C3nLAME5wSFzURN3mADFjImPbyzD9Vbx0MhNPDQ0j2MjVeTNFWQtBxoFpbc5VII9av7VnQIWmxO42TiKi0uH4fiqAD98weC491bMJuO+fuws5ilmDSzV1kPR1O6bvj6HH2pex9OVaRxoLCLvNCFvUUERSjKWzCw+zI7g0omn8G9aDNWut97KcIbgHyopGFAclLQQeS2CqSQ2dJtbQ21gVa9hDnlEjccScCrs3DwBWHcq5tjyXjI1EeKmZSD1Htk/rWYT6VQKsqKsMYDUtqT80s99/yE8OlHEiRMn1jZHIHf58mUBDHfTCP5oEcdoBcPGt8tD7rKAzBlkPmBfFmY3PXx3y/QB4N313wO/dh8A3r9L4LMGgMz7+/I//g2s9ORt7fbsu+4IcuSjlM/DNMj+fDqg8YsPjePGch2pjj8q880I8JhHJnK9GIrUVCxUmijXb2DMnsVgUEMODOVuof0GQFcCjFoNHM8tYX+qgoy2MfcyiGUsoYAL0n68o57CK8HDCGRDhDWrgYxATaHi8GGvIgJz9rbuuRFIOAwFhyDjEBQchoxxyFTlW1tBiFHTfkwCpk0J11MyplMyZiwZsykZs2kZCykZwW1AHsFM2mdBRoi8HaBQd1GouTjmxWjMrIqKVh8RaHQxXErjxkpd7JPetnRrY3iU7KTG6lNVFlqODPFSF9INEiaNwK8rfM1aYlX28NjhBhT1IsrFReQzq0inG9A1G5KyvT4dHTqiwITtZFFtlDC7PIilyn7MLI3CYSd0WmIPty63wq+nBguYXqkJCSG+rPC4CT4Zhk6sCoGUKiF34wKm5q9itDqPgl2DHrqJDGAcgcUywlmXjLskY07P4L3MMM4fPo4/9bJr+2fInvZ6ESIMaSGKmoeC4kOPWHPN+t4kS3Orxn6t+jFmrHnMDH4Mx1p/YYk8A42PvwR/JRFR5otWIWUKzcn1AixljeEWhUM9sjFMv+gWFO32fuVyj02V8bOniwLs0a2DjYVn09PTwu5tt40s4M2bN3csHOH2+uLQu+3Ve7NcHwDem358YLfSB4D3d+j5hv1Ztp/73/4E3/7g2prQrRA9Zjitx/s3EXLu2Lh1PEt3EnLe6hy6oHGvTCNzzpaF28X64/aZo2P44PxVPBzN42BcQTluwhLSyLc2sjqOmkYjNYDW4AGctS3oVmJ/xjBa0Z3HD0iv4Uv6BRzSVmDJ6/6701EZ78eH8G50GG9Ex3Eh3gdvC8kVEUplEUEcYkSKcVSW8CSBn6wjF8rIQIEeSwhkCXNpBbOWgnlLwgyBXmeaMyWEXdp1i/PQohjj7Qj72jH2tSNMtiNMcN6KMOzE+DSCbKwS9q0V+NYi/NQCPE7peXipefjW8paOG91Dl/0U9NYI9NY4jOYY9NaYmKvOAKRdyqN8lveChwA1qY2q1EJVbqMmtcTfdclGuI18jhLTucZEKrJgRSb0IAUtSsM0U1gNfDTlEMtKiEupK/ho4I/g6kvJZUzgXd0P++PvQ9O5DVi+TQf0egB3w8aNRh1ZijDLigCNFIqm/SLTIpib+U9+9GE8PpETFbxsdPogCHziiSd23dXValXIwpw8eRLlcnnH9VjYxuKRvkXcjl111wv0AeBdd+GDvYE+ALy/4/9ZA8A/e/cK/rP/+Q/3fNLdohEEHgq5rCh8EPp/9BjusHL3BjRKyKVMHBguwms1cKB9HUOtWWTcGuSeytzuCZDkcaBiScrgmlzCXGYS0846LBQhvGvrdmpc74kDw3j36qIIhWcyaeQzBlhQUkEONdxqj5WCg0ekqzgu38AYFpEJa1iyZbwtPYJvrQwgzqSA4QJQziE3VoINWeQDhpoMT7+9LprKvDInQt6LUXRDDDshJhsBJqouDjrUoouhxASakpB5FmouMVMOCakk6KxQDRMwmtQQS0LXkEUaZMi6dcX8RFZQ5GvKPsJ0Au781KIAe4G1BD+1BN+s3BbkSaEGrT0MrT0EvT0sAJ/WGoHRHoHsZW+T79jB8zupiN8iE8O8xagzdT7zLMQQd86uE4JlbiRz+OisTH6XEtSOFKEGB1XJRU1yOpOLuuTBRiDYXOZ5cqL9YPfvOJahQYcW67Cgw+I8NmBg3et5u5uII56GhHQM6FIMV6nhZuoqrqeu4Eq8iKvvP4Nc2krsCg1dOIAIr2GymsIDuMsABkIDkkBuOw/gnW7kk1OD+NnTBTx16pSQcJmZmUGlUhFgbreNeYOsCGZolwUhO8lRdVlAAsDtxKZ3u+/+crfvgT4A7F8hd9UDfQB4V9131yuzCERYdH1GjXlbP/hf/7bYG0EcQ6l8+DC5nu1eSLl0T0WARlpddRLdhdTFJqaRyftrlcYtGwfdmzgRL2Jcam6QYuluk8G8BgzMSTlUi5N4rZ5hwhryKVPkRx0cyWO15SZOIwRAEtCs1xArGsiZcV8DmRQ+WgkRp4qQNgnXCveUOMJgvIqnpHP4YeUMXlA/QMvK4Zo1jmvmOK5bY7ja+XzVmkBduxU09g6n6UUoNCNk7Ai6EyC2XSHncvbaNYQrDfHQZ64k2RuGnLvt5FQZH2zynH3i4BAuzq52bMpUISFCACGAX2ccGSpVsITR7A0MZm6iZC2glK7DUBowVG9H6zVh5xfJaHsGmm4eK+0BrLTGMN88gOXWKFKmheV6W4ATFifQieXoaB7nZ6sA+1NSkDYNeGEsQs7UMiT7um+oIBxaTF0XIsQsFFBVBWEEobtYaNeRc5qwPBs69Q2jUMiweLIKX1bhKd25hpZqwlF1uIoOn3mZa+N4m9zIz+ge22k3T2szePlaY6fFbvl/Suokftoc8+S+bdTryOXzYlmmSDB3kuF7FuZwYsHUf/nDJ3BqPCVYv+vXr4PVvQ8//PCu98+8wUuXLonfqampqR29hrnhrjg0C0L6uYC77uo9L9gHgHvusv4KvT3QB4D393r4rAEgz5bVwP/6lbO7PnEWBAgDelNHHHjIZ9OwTB2ycMWIEwHaIBIFAt1E991aXRmRh2fiaTwULYkcvs2PbzIzrpZGNT2E5shDmI6zAlhQkqblesKR5NLc6tq5CG2/+eqGczs2nMH5+fUHrj5yGJLSU80Yx7DUCKoFKMM6vJwFx9IRGBp8RUYs6LXbAwuCu2IzRLEZodQMMNpexZgzj8HmHBy3gu8GGl51hpCxkurm/UMEqk4n/J7ksxEsd/utslqFYVoC3DEcTuDKvqWWIWVOVDnAwfIiDg0u4sn9NuRoDoUUXUwoqE0ApyCINPhiUsU84DxMPjuhjpafRt3NoOHlUHdzqLl5NP0cao6BIGI1auJHRzAtKlC7fSCYxUTqhm2NjNs2Q27Xl9o9XZBHSH5vc+6e0KwUgs0JgyhewIRtYnKKdIEhq91lVXlQfEGiNWKSVpjoDvK7XsAuXqKEJiHz/GSxHeo7RpsunTHEqNWvImMYiZe2Ion8P0F+xolVYfd+sj0CumS6k8aXsCOjRfydpwp44rGTYDiXvznHjh3b9ea6eYP79u0TQJDi0DtV+XYLQsgC9i3idt3Ve16wDwD33GX9FfoA8PNzDTBfhiGTz7K9/PEN/LP/8ztJBTAN6AUrJ55dIsHeu0Mrt95z4PYIGikKzOR6EeYSuYYSaUaMrZzH2OolWH5rA2zgA7YJHTekAqrDx/C9ynoIlZpy8z16gNwfK3bfuzIvigMIrFK6JrTS+IDuMg9OuwUvomOHjCUrDae9ztjFPO+UitiQ+eRHTL08tTMXu+6GGwHLi5Hm5EZIuzHSToSMGyPjOshgBXl1DgPqNDLKEiQpTBwhhDsw5zK8WEUNaaxEWSzHXKOAOT+LapwWDBn7J5H6SJhLRY5gaSFkyYciRZB79OeiWBaAjhXOBHhhRCHpz48Nl2BSCZziCFoUwAx9WIGLtG+LORk+PfLFnP/PXgpVBY5hwCd7qGuIeW0qMQwphCqRv406vUkZIH7uficgncizc4IYDqVsYhWykcFKoAGalbjcSLK4NqotF23bQaNtA0oiL/PO1XnBlrGRWctSw7G17gdMnUdqHva2xw8M49zMsrjOdcNApKUA1UArkOFvCT2TtU+pdbxReR/hHl1MspaGXIdR5/1ENr3ZqCNfKIh7t5sD2KZ1HHMAOwwg9/n3f+A4vjBhijAw74sjR47s+ienmzf4+OOP46233sLg4CD279+/4/oXLlwQ++J6O4WNd9xYf4Ete6APAPsXxl31QJ8BvKvuu+uV7wcAZJHHM7/wa7uuBubDpssARoGLbMqCZZodweNYPDiFDpufyE90w09bdc6TwQyei67BwDqjQcizgAw+VoZxLTWJdDolKoD3DeSEZEYXoJJpZNHKcsMWDCD3Q4YjcfdIaJZYlnHs1EGc9wOglAGyKSoyA3rH8YK5c0sO1KsNSKvMFvvL2shqbXRd6/RQwnt1cG23BkX8n6hOjqDLMuoERyL3LhasFCV2VikSHSV2csWUjmq9jbSeVGgP2lWcrt7A0coM9lVmMdCizt56cU1AJ41UCs1MBq10GtV8HrV8XvztmYYYt9s1QdKxirljs8YK7VakiZeFSqCj6UkYKabx3tWFji5hsjUyrb3uL9Q35DXqi9h00igb8/H0sgitkoXl+YyX0iK8LThusnpRJPItZ9tAO9aEqHcoq5AUVQDv7cKcFBY6DgWPQsHBGHh59P/GW4UziN77aWTkERHK5/1FljXZBu8nwPc791M3B5A+wHu+VGOxfYLG8VIGf/tUAQOFnACBBw8e3PXWWDVM5pCFJN18QIpC304TkBun3iBD/cePH99WQHrXB9FfsA8At+iBv7y/35/RBd8HgJ9RR2+zm/sBAHko//3vvoJXz84IN4Fu+EkUcwh9N+blrfv/7lXMmdvXlKSYg3l5ZBppdn9k5SNMLSehZz7MWnoOlzMHcVYbR9MNbtEaLGVMVJrrLAzX6+r/xSkdGBsABvOwRgpwTQ0xWaOdwrVxDCWIkGmFKK/4KKz4yDdCmHYMyY/gSCwciOFKgN+ZtxHBliJwTvkXOoCIsGEnJLrVjxAPg2yqKvmwVBsprY0BvYGM2oapONBocaaGCbNHNksOockBFKkzlwPxd8KQhZDDGEGgoumnMeeNYs6ZQNUpQZUUKFIs+tfzfUhRJGy5aIM2mLNwYXYFghGyXQHUTx2ZwDub8gof2T+Mj6crybjEMYao+2ckTJipJ8U+ZM5Wmy4C28X+mYs4PHcZR5pLGGpXkQtcoW1CgEdw18qkk3k6jWY6g2Y2A88wdrzREh9dFnIoaPgSVl1g0QYWXQWTE+MbdAqZ31nMWhteYiYHc7ixlFjMdStmD3RC7QyLs2iGYNZiWL1uixcWamK3/RBFS8WNqiNyGGXNgmJYUDUTgZSAPH4vgrS3SQUYgoQpyJgUk4KHxFzCjOThO2ENfzTxDUT5WcShjJUX/8YGa7gdOwd0ApFF8Qh1NZkDSJWgdruJQr6w5jntiTSMHu/uHguW//SFY3hmGJicnMSBAwd23mVniatXr8K27TU9QXoEM7S7E4v40UcfCes47o/zncLGuz6g/oJrPdBnAPsXw131QB8A3lX33fXKTJbuKujf9cb2sIEzF27ip/+H/2dXawhmhLplhoYo8JAyDaQts6PDRl0+MoBBkpfn+CKPbSvbuJ/3XgL5ErZvKg/jkjK4Yf8ETd1ijjVmpJTBfC6NZs6CbenwdVWECm+bk8fwYxQjdjwoTRcjlQCHV4GDKzFGW9IG67TuAZD7CqQYth5iRXMxb9hYgotA5GSFWKnbQouNAPnk1BA+uJ5UFuuyj0NDC3jhuA2E1zCSq6GYaiFjuNCU7UWQ1/YraC0JiifBbEfItgIU2i7yLQ+WE0LdJjuAX7cjHYtBGtf9Is55Q5i1HsLvzg6gFqXE5gdzKXg+x4uFAzpMQ0MpY8EOGE6WhPsb2WCKCs/S0s1hUYcjgOLTh4ax/P5HeKY2jUeai5j06zBUIDANtHsAXhfo2UJm5/bv4wR4PG4nlNAOJNQDGauejHxpAK9ercGNEhYw0X3UEhcSSUI+Z2H/eAmrrg/F0kEfvoghXUNFi2wZCyAo8SMBhqmhynw54dUni0nTVfiiGCU5PimQIDkRJHfzFEKicOLtGoGkpUK1VCgpFcraXIGkyAgkwJOTyWa2A1nUMIIcVaBF5yBHbfjeGOTaKMoX55CTIGzdkhB1AjD54tCbU3snntrdU+CLAYtHmL87kDHw1x/JYGp8BI888siu7n0uxLw//kbRE5it2WyKUPBml5HNG6Tl3MDAAIaHh2GapmAB+wUhu+72XS3YB4C76qb+Qtv1QB8A3t9r434BQIZT/+a//KZwKOiGWPngZw4aK4XXWISWK0DPXltv2JhhW/79zNU/EXIu3Ua9vraSQkO2sBwbuFLeh7nJA2iOjACFNGDoaw/tLfcvrCQCqK4Ptekg1XCwv+LhxJKC4cCA4SsihJek1683slwUSa7FHhYkGx86FVyOEubo+ERZ5HX1tu97OAXbfg8HSsuYKldRzjSQN21oiivYux1wD6JIghOoaDgmvKiEiwspXK+UcWlxBAuNIRRzacxV1r2OD40UcXV+BadTC/hKdgYn9Zs4rK+gGK0iDVswftvfzwmL1ohMzAcZrOqjeGW1iDedSZxxJuFBxXqhTCzCg6NKgK+2b2K0chP5yBZ5d4GmwUlZa0weAR4rbSOJ2oYKGNJlha74LCsIFQW+LMNRdNiqhpaio6UaCA0LFVYUKxoCVYOiq5CZYyl1imsoWUNvXjF1zqq3Q3fq3M0dIa6JCJIdQrKDZO6EkNr83Pl7B4wXq1KSF2opiC117XOUVgFzh5ePvd4or56D9MnNXa3FFzGqCuUzlqiyZnGL5zrCMlAIfweRSMUQTiDu1vZxX39kCH/lkQE899xzu2bkKARN9u7w4cNrx3n27FnBFt+umvjtt9/G+Pg4hoaGRAidFcEMCffbveuBPgC8d335QG6pDwDv77DfLwDIs/5vf+dlfOPP3tuxA7oagGSRqAOo6yoywuopqaYMwnB3YeMowo+FZ3EoXhEJ/CvFIVw8cBzXJo5gsTwCT1/32+09qGyzhny9glyjilytilJ9FZmFBci2Ay1OI6MUkFHzUJGBJBmJ1YWAfZQkYUVnBDv2YSs+rjhVXI0agiEyDBNTw3nUWm2U83WMFecxkF1CKbsKy6jD1G2oii+UTW7XhGxKIMMLTFQaBlbqWSxUc5heomjufkwvh0jrKixdQdagjhzLQohtyVSK2hM4rocgDOAzLOkHyGnAYiNxNmElq0YmLKWj1rKRkRzs16o4lG4hE9WQ0kJoTDZTFXhKIo3iyKYAY45sdOYmGmoGVaWAupyBraTgaCZ8VYenG/A0DYGs3gLsCPR6AR+B2v1siu9BsX0obR9yB9TBiQA3QuQCEenANSS59ZGyOpiWfGklQk6VMaCqGFIMDKkGyrKMrCRDjWJo1FvsSNR4QQvNsIFaWEclbmA+qKEZBWCWI0PWWiqFFTeGI2twJI6BBpApHfwIilVBrBThWk8hMNdBFI9O9gM8+vLZHi/gxOuazCxD1BR1pg0jtQDp0rLXpipJBT+r5cmqxr6Dv/vcPjx69IAIze6mEezR2q238MNxHLz++us4deqUAHZbtTfeeAOHDh0SLCAZROYM9sWhd9Pju1+mDwB331f9JbfogT4AvL+XBX8YCQLvR3v/6jx+8XdeSTQAGZ67xYLKE+Fcfr/XRtZPVCwyB1BTRa4hc8ocQ8WlYxNoZ8xbEv+VMEB5ZQHDK3MYXJ7D0Aqneei+t9fdb3WlQ00FMHI+jLwnJj3nweCU96Hot2c5fVuBV9fh1jUx9+oa3M7cbwuJZhHcjgQ7RiDFUHUyF5OaMGBbffbFcp3/7yznr63T83892/HXtsXilvtQ/cvq3iCAGvhQqdnHeWfSev/ufg75/wG0nuV61+uuo4Q+vFCDAxNtmLAlEy05haacRlPNoKFmEQmAv32jjmM6bCEXtFCOfAzFMSYkFVOyhUNKDpN8Wdimz9pBHTVvGTV/GTVvEavuIhr+irCH222zDQuL5VEsdKfBUVTzg4L13NA8H3j9AqRNvszb7cdQFeTTutBMzKaTyubI95HNZoTEN1/EyAJSB5CpGAwdb5WK8fXHJvATJ3JgIcduGLkPPvgAxWIRlIHpbRcvXhSagqzy3aq99tprogCE6/Yt4nZ79extuT4A3Ft/9Zfe1AN9AHh/L4n7CQAZwnnhn/4Wri+th2W36g2KzzLxnLlkYFGCIiGTTot8HrIVzFliKLlbOMLKXT6Itmrx154Axksb/4tlj5UG5IUqUp6HkttGLnKRij1k/BBlV4blx6BrhhSHQCxKBYA4QBwzmOsijF0ESoBIC6AXAqi5AGomhJKJIVsxJCtGrCoIoCLE+jzs/O3HKnxfg+sacHwTjk8hYwNuqMOPdfiShnATsAsJ2gQoUzv/lwge369G4KOGzBsMoUQRCKo4V6MAasj/C6AHHjTPgx64MAMXqaCFbNRANmwiFbRhhi6M0IUVeWJuRK6o5o3pw+zHCEMZTVtGNUhhCQMIVEukEAg9PEmCouuQKd7MohX6Cof0Fg5RyqVxbbEuiiocIwtPz0C2cqhTn1A1EchJVa0AdzuxjNTgQyRGTotD5OIQByQZh0IZJ6DhuGSgoBiiQGa7FsYhmqGLBmxcaVdw2a3gorcEX/FQzhjwPV7ngEKgyysmCoHQB+hGw36UYlDCe3VgCLXSABqFAdTyRVQKg2hmEmHmzS3damBi/hqOXvkYB29cgOZ7gqH9ZPAxVEoHOyLpiRwT80674dymnbyIsR/32siD59K6YACZw+u7NgrZDP7W6WEcmxrdVTXwu+++K/L4xsbGNuyeBWzf+973RD5hqbTpngbw3e9+V4hPdxlCvugScLIgpJ8LuNeR3Hr5PgC8N/34wG6lDwDv79DfTwDIM/+VP34bL35wTTBYDJUSuBHIUXQ48RP17oABpFxLR7PM0gQDaOiJ3mAzZ+LsyQM7P+Tv77Dcm733MqdCQTgRHBZx8zgCZf0iPtSTODrScgzFsZEKfaRDH6nQE5MZ+DADTwC7XoDX/ZvghJ/JyKXabaRbLTHpjgPZC+CEMm6EOt6QS3g3OyJCvYWULrTwKOg9YMl4OrOAU+YMDisLGIsXUIxXkY7bHaO07buD9mmt2MSsn8ElfwBvuAfwangCrdJxzNYDSKoGyKoAhUkRxi5CyN1+iyNEYYCsQceLJqZiCT/ZhtMAACAASURBVE9IKk6rFo4aKeRjBSkpcXzZrpG9bksRqggxLweYM0O8EzVx2a6LtAUKguuqjGuL1TW27MBwAVcXEjFxwX0X05h87ABu8LgKmY6sEM9r+/3K/gJUfwn5VgZDs1VMXL+EwZVZGH4bqciB0eNjzX28LY3jO9rttflYJJLoXWoCjLJCm3Uu9AJm6+bwrt2/HTeQrfrma49N4qeOWYIF3MmujQUfDBczl29zo7PI4uIinnrqqQ2gji+X3/nOd4RoNIs/RF/GfIEIRTi5Lw59b35i+gDw3vTjA7uVPgC8v0PP0AjfpO9Xo6vE1/7Z/3Wb3cdCG42+pWlLg0RJEsTIZZO3eJGvFIVCPLrrAnI7BlA8CDQV+OJD9D9L9PmEFI2CVCxDiSX4ynpBQMyCBzlCLItkrE7+HOcbNe64XQXk84I1jwqGxcJYXhNL9iJN4C9ydCyCEXl4Qqw4TvxzyTAymBZGooqYaXWu4yHyAnhugNDzMZZLYZbgIAxJ04hpMp/CjdmKKEgRRSlRjKwqo0rdPAApPSm8IPtS1kPkFR+W5CMlh1DiRAS5q813u+uAEi+9AK8L9FKtNuB4aIUKZvODuDGyH59MHIWdyYnz4blm1AgzVy/BcV20KILcauPkE6fw/mqPIwqAp45N4b2F9esxiyZ+CG/giH8Bx/UFmEqEtpRCJc5iEUXcjMsbpgaSCuTbtcT6kOg3gqlKaNttxL6HOHCQ9jz85PAIys0Yh7UUJlQDRVmDJsSxtwZciXohBNCb9R1c8Np4z2ngDbeGzGAalztgjsc0lE+h0rA35NM9dXgEb86sQBovQh8pAcUMpKwFT1MQEWHdjpEUdF0TuncWmn8RqncdijsNb2YMrXPPwNA0AdR4T/Q2SwrxjLKAp9oXxNe2msKZo39FpGMkVnx8GUvkmKhbyAp0Wu/tva1rATIHMPDaKOZyIo/3rz5WxvF9gzvKuTCXjwUgzOXb3AjomAvIXL8RFm91Gr9/6aWX8KUvfWkDwCQLSFFosoJ9cei9j+bmNfoA8O778IHeQh8A3t/hv98AkGf/937lj7FUbwumj2En4SdKBrATerqTHECyKhTdpfwEhXWFD7BCtiYBbkxy576MtoRn2oMoxjpUswGzeF1M1tB5mMUbUPUERG1uQjMuVtBwDKy2c1hsDmK+sQ929Cjma+lE21Ci1AndIgIs1NqCiaLUCcNpJ6cG8dam3KtjE2Wc76kAptNCMWtgqdY9hhhTQ3kh0psydOiqJPIaWZ3Jh3QcBrBiBym4KOqUFPEEYKLJiLqzm5xgB03bRrbZXGPx0s2EzePE/2MeWcvKYDZbwuXCKN4pTmJxeB/OzVYEcOi2R/aV8OGVubW/ixkTtRtnkUmnkM/lkE6lxQM9SJUFgybYXz8Slb0LLV+whl7MQKsChTmKYtvbg7De8SmigXFpGePSUmfOz8uYkJYxhmWkYxtNaR9q8WOwo0cQxwegRgOwoIKuxts1AkfKIa+GPm6GLipmjBdXlvCGW0c9DsRLCnX+mo4vQDe1Cw+PFIXzB3NQY0NFo5CBX0xjWZHgWYaw+2NqwI4gjy8JQYSg1gJWW8BSDWr7Q5QOvIhY71Rwx4DhjaI492OwUBTXH8eEMiwL1fZabp5WX8TT7iUciCtrZ/tt+RDeUXcqyojFOVJbU4RzPRvMC2QVsCjI6i0e6UgyEXjyXtuqPX98HH/z0cyOci6vvvqqqPYtFApbbodOIdeuXRNsXxfU0W7ulVdewQsvvLAB6HUt4sgKdpnB+/sL/Bd7730A+Bd7/O770fcB4P0dAvFQ8+5FkcOdn8cv/+Gb+KVvvr7tBtargDVRvUugUyiQXUoKR7pgrleAdjfi0T+gjeH5so/s+AfIjL8Lq3R9y2OIYgk2fWudIdxYHcWVlQmcmx8Tz2FadH14fWltPT4IRwtZzPZYxrH6lkCb+WjdJgSCG7YACfx/ujwwLErwQDBE31cC1KyuYLrS6vix+siqwLGiBBUeihqZvgiWGicAr+OwcbuRkEOKTtvINprI16rI1RvItJog0CO7RzaSjY/spqJj3szhgsXQ7SjeyE+grRp45ug43rg4m+wmjgUgKOcs4SvL0LumKMhSD6/lwPFDEcqnpt6h4SLemalC1i1IqiHCs6ZpCZu8bu7izrlZyfGROaWItYYYOqVwAhs5XZRDQw7bOBZdwmO4jC9YCspRCpZUBOIBhPEY/HgCMdbt+G7tLweU3V4OQ1wKFFyVfFzRPNxQQ0iqJIS4CVopLUSR6654OV9ahkcKeLtlIyzlBJOHrAk5ZSIiyLtNyLbblwzFK64P3fZQ9AKY1SaKNQdaRwqJ+6rKF1Ef/jPEel0Muojq2xk0zn4JQW0EJyfL+OBaohPJJqzivCYec67haLwIqyf8y2zWS/mHcH34pHhJIgPI66hXkqnrrkMW8E5expLQMV/GVESei1IhLwAx+/AnTg7i4fGCKNbYrm3O5du8HH/Dzpw5I3IEu4Ui7XZbfEcAuLmRHRTe130W8M5/tDtr9gHgXXfhg72BPgC8v+P/eQCAzHf6R7/554JBWNcB9MHkczIIXY/UvfQUQ6p86Kw5geiJd2n3AfeYfg3PHPsDGNn1B2US+pJRbacxXS3h/Nwo3r5xAAuNhHnYbOvF707uHwLD2HlaeJl0HJGFAwZzF8k18pwcj0wcsGJHsIXGYQgniDCUVrHYXA+rGaoMNwgwoEcYNSMMGBFG0pIoojCUDsjbIYWtm+anex6segOl1QoGKxWUqqvItFoiT6+3EU5RxHhVs3DdLKA6dRi/GxYwlx9EIZcStnvFlCZClnxghzEdIVTMV1uCoa02CfICnDo8ircvzwOaKQCephtQKdwNAh8FsdT1Ct4pBy8W4ta64sCS20gpTWS1GkazNpRwHgVtBaaQxomRT2lo2g4MScYAUihLaWRiE1ZsQI8MKJHWSflLGCgRzhf8rwSJUi2SDRl1aKhCiatQpBoUVCHDEYt17el8KGhGOupKAR82C3g9OIzr6UOopYcRFUawomTgG/ThpWPHzgMkRzFUz4fScmHQ7m25jnhuFYrtbnAWObGvjLMzK2vDpZWmUXrkLQRqbY0wjFwTyvSXES4fFCkSZOYYZm63HQy25jC6egk5exkKi0d6Bt6FggtSGX+uHBE5mbttZJzJKGYsDXIUiaIoirKTTSM4FF7eQVKU1a0Evl3o+MkDQ/i7T+Xx9NNPC4mWrdqLL74oWELm7m3XlpeXhfVbt7K40WiAjiHPP//8Lat0WUCKQ99um7vtkwd5uT4AfJBH/x6cex8A3oNOvItNfB4AIA//x37xd/Bhx91i8+nQTYAOHXzAUbOO0hOCASTd1slXIuPHh05T5Ctt7QTSu91f/MI5HDj+nbWvCJwuLg7j0tI+uGEOkExEsYkgMuGHrMzVxeSHFipNaqQxP4pAjkUUEZweB4dSSkOl7W8I6x0qW7i80rWVizCoB/jihAnJbyKnBTCVpB5YaPMRqHDOfMDO38mcos8RJDmknQRCKYAUucjYDQy1GyhUV5FttUW1MnFXzCLU7lxm7iMQpCV4WQVuVoWT0+HlNESsBqF8s7CEI2gNxH4pMs3jYZokGUwuVfeyWLbLWHYGUHGKWLGTuZhcWoLdXiJFlX0MmBUMWKtiXrYqnb+TzwWjJvZ5v1sTGSxgBPMYwQJGxedkGkVd2rrKtnvMZtxGAVWkwzpCO8DKkg6lqqB6eR5SIwnnj+ZNzNWcDdfI04dH8f61hTXfa0oZFdIGVvWPUSl9G6HSWKthkQIL8syzaN08CALFMxdmMRrVcDKcw764ijycW4LZhIBzyOFVdT9m5KJgMLse2yldW5NK6ia49jKbwmHH9sQ9tveW5AEyfCxHfocBlEVRFvHyjz48iEdGM8Lrd3Pjdcdijs25fJuX4+8Yq4XpM8x8QHoGExA+++yzWx5u1/2IFcG7kaLZ+zk/GGv0AeCDMc6f2ln2AeCn1rW73rDrbkwQ3/WK93DB3/7Oh/i9Nz4RDOBeCjq2OwSyHbl0UjwiQqzMAeyEt/iwOGAu4Ce/+GuQWNyxx7ZXWcJYCAN3+RcCOT737z/I2eq03UDHol3GYpvTIJbtEpbtATGtOEX4EUtTtm+KFGDASsDcoLXSAXkrHaC3gqze3ADwCHPZ2EdJoTKTyWSosQ45TCYlMiCHJuRQg0SAGXd8cWOi2kRwO5ZChJKPUPHhSR4cyYUtufDIJqoqfBbYdL2TJUmIa1eRw5wyhgV5GIvyMFakQVSkAayiCFdKKke3a/l4FcPxPIYxj2GpM8cchrGADNZdVbrrh5GCb138MXyydEocR73RAOWNGh5ge74I/TOWyzlfLtiMsU+QP/o+IrW9dhiha6Jc/fdw8YMSxlDDiXARUwR8MdnMjdeUYHcVA9X0EG7kDwPlfbi+3Fh7SdpNmsSt57+eB8jiIYJUsoCGrsO0zFvyALsSMrcTkT42XsLPP1vGU6dOiXzC3sYCtZdffhlf+cpXdnQOqdVqAgSSBazX66CHMJnFrVqXBWQ1MFnAnVMP9vgj8YAs3geAD8hAf1qn2QeAn1bP7n67nwcAeHOlgef+0W9sedBJODdxEyADGPoe8rmMeGB2cwBZsZiwckEnX25nzbIvlR38UDmCaXjQ0ivQUstiLqvu2iQpPiQybYIl++waQaaARsSnlLjj6QTJXHzmJL5P6pFjWUKoJhOrR32FDIsCL4gREygJeEB2TkbTS2OuPYz59lAC7pwiqm5OsHtuuLUbyvqZx9AIqmSaujkwZBeW4iKr+hhOS5BC5olpcH0JNVtCLpXFmQtLaPndmmdgXzmP6ZU69ikGnjMLeMLI4aBmYkDSkN5BViVEjDYirEohZmUf80aEM24Nl+y6yAWNZQUjhTQ+vrGMNtmqfArq+AAwmEWQsRIJFepJ7lRdK/o+BnMmJceHZntItR2UHA+HK1fwff7beBgXMYlZ5KU6iIs9jX0vw9dlMW+mFFTzGhyrw4pGwN//N39DFA2xHR7O4dLCRg3MU4eHcUV6Ecr4+4Dayc0loetncfTGKeyfD5G3V6D7lMjZAvBBwaKUxiV5EEulg7heXX+5OzxawqW5ag/rGItwLoEoi6VMNXlREmkSXU9gOoK4viggYcif052kZHB7OTL4ElDKZ2BQnF1NUjLYfvBYGSdHLKHb19ts2xZaf1/96ld3BdI+/PBD4fjBghEWhzz55JPb3rR9cei7/z3rA8C778MHegt9AHj/h59FIIk0xmfThBeu74vik975L/6/b+LGckMwgF0w1/JCuNuIOu90tKzEFPlKfLjpiRuIKisdC7mkeIQsSKot44CbxmiYQkbSttF1iwDFE4n3oVFFqDUQqC1EqoNY3iIs1mH4hAyKFCd4TdFRcSUsujKu1WPYnoJyNouZ5TaON5bx7PI0TjaXMdiowYwTaZbNjUn7VT2F5dIwzpUmcG7yIVRLIyK/keAoCCKRR9hyA+ipHK6vughlDZKiQ1IUSMJXbuc8PIJrMjwUHDaUCEVDhhQ4UCMfrp9UMpeyKZydXvctZv4Zx1YAr047MlbCynwNX80O4LSZxyHVwpCkw4zJ220jq8JcMsRoSTFuuG1cCmy87zbwuluDVbIws9xY2z4rvRuqhGCoAJRzwsNZK6Ths+hC3YWECqPkQQjNC0ThhVpvA0t1hLMVtGttnDwwhHcuL2wYhlOHhpN8x05j35/ItvC89A6eM6/huLGIQaVFFWcsDhq4tD8Nj/0XxfjCmSraXhYfBxP4bvQEPkx9AXN1F03XgTP8CtTR84BMZxMJ5aqOydkc9i9mYXkc+Y1NMHxQsIIUFqxhnDMmIKfynVxUReSi1lsEgEkuqhdGyKZ03FhqdOzd7qaow4AmRchYJjIpA45tQ9c1YW/YW80v8gCp52nfvtBsspzFP/3qGB4/+egGUedmswl6+pIB3E3rFn9QN5B5gI899thtV+PvD3UI+xZxu+ndW5fpA8A767f+Wp0e6APA+38p3A0A5Fv0ZiC3+e9ekMfPXd1BGrzzbZ0Tf4T/9NwS/tV3L2/ZIV03EBYgUH6iXCqtSa10vUtdn8AnCafxwcccpr02PmTH02kcVQuYUGRktRYktYlQbSNSmLO1NVCWAxNqkIYSpKAGFpQwBYV5WnECitgY3WQRRRSH0P0WLLeKjLsK06lAC9pQAwdK6IpJDR1IoQ9XVVA10/jEKuA7uWF8oCShydNHxvDmRcqsyJDNFCQjhUwmC5tIk6LHO0qmJDqErKRNKTECz0Xs2Wg3G3BdB0M5A4uMT3ZaOZdCpSPV0/3u8QNDglEqZMwk1K6peNzM4EBbxf5Qx3CsIRsrUG+jYxfEEWpRgAX4OOs08I7bwBtODb4midy2lYYDU1cgmzrsgSz8cg41XYVr6vB3q5MXx5D8EDG18AjwWKG9VMfjpoH3L97ccIk8eWgE7/SAO+afDhfSoJKJZagwNRWljClkirqaeSx84IvGzZUmAr+FU5Nv4tS+jzFRWF3D2qof4dGzdZRqG18WCM++kSnim2YOVsPCYNXAUMVAqa7fApCFfJGsoWkUUC/sw1l5BKuhssbMnTo0sgGYMsePOoeswO62R6eG8GEPaKerTi5lChbQMljEpEJllbPQA2RRB4uYAlHo0wVznN9J02QJKV1BIZsSMjmGqkIlCyg8vWO8cKSMJ0b0DaLODOt+9NFHeO6553a9y08++QTValU4flA+5natKw5NALiTIPWuD+ABWrAPAB+gwf40TrUPAD+NXt3bNgnImBTNaTNY2wncdZOpmUjdBXJbzbf6jgCwty1WW/h7/+ufCFaODx0Rdmp7gq24E4KSoWPmAdJGjmK4fJhTokS4pVHHj6yICB0nziNkMU6kmhizQmS1GMoWBFVipKHA9zQEvoXYy0J18yjqGdZlQIMstOQ6WWqEYXsbjNssTQ26WTXCtBpiSY6xosSoybEAlls1NQZSEWBGMcwwgh6G0PwAWSlE3W7DjkO0ESBfMHC5UgXFT9gYmjs6mEYzkJDP0PNVAaU80qaGSsMROWtO28PDgYUvmjnsh4Ex1URWIru69cHwAd+KQyxLAW4ydGtFeCtuoI5QMLEcg2LGwkcNW2jlReUskE9DzlqI6ImWJE5u3zt0M/EDwCbIszEqAXPnb8JaaSCjykKeZh/BY9sVYU7qNAqgI1FLO6leJXtKx5iFVcruJALITCl45ugY3rjQkb3pHMGxiRLOz1TEX2P5FXz90fN4eOwKSqnmhsMMIwmXl6fwrQtfA/wsvm6+j0edd6HYFbyBDC67eWRrJtLurZW4FJhuwMSclEM0dhj/bkFZq9hlV4yVsgJ0dhvFvlebbeRSlsjNIwAkWG20HREsprQQ7dwY7iXTzr7Yyqt3NxcsrxFLlcX9RRbQ0GQ4bVtobZqWJcaUaRm8hymVU9tFAQmrl//516bwyIlja64fKysroOcvNf522/ibRe1A6kyePHlyx9UoDs3fIsrC9HMBd+yuDQv0AeDe+qu/9KYe6APA+39J0Gppbm5OVHqy9YK124E6vjF3Gbx7par/13/pm3j13Mzmq0QwE2RZWE0YejYGigUBTBIR4Y78RCcHUDgX2J4AdbtpKiJ8ddjFgTQrYdfXEGAPEhxoaEgp1KUMmqwMjiEesPPVJpo2c6NckdNUbzvCVS3vtfGjyxfwg+1ZlOsVyIqBUDERqpbwruXkahk0rDJqqSG0MkNoGQUociJETDcSypQ4UowZJcJNNRLAb17ZGuwZMTAQyiiHEsqhjIEomadFHuHuASgBR+cfswoFHGQolv2bV4BRXUFJllFSZaRlactQuQjvSyywCDANFx8GTbzcrmBRDkV/sRGMZA8MozWQRTSQo1IxOxTYhSCyHEYwGLJlTl7LRarehrXahG7bWG37IgeQLw8cu5bjbghHC1mVG+shax7L00dHRQVtbyOQujS3uvbVaDEjBJ7FS4SuIW85+OL+9zGR/wjl1CJUZSOrx2tgsV7Ay5cewpnrzyFancexaAn7oipKUhtqTDebWwO6ZbOJfVYdo1YD46k6cpoLO9ZwAVN4SfkSXoxPIZa1tbxXVvDeWKp1ijo8AaIfnhzExz0MH5exHRdkx7uNkj3vXO1oV1L8W1eTKntTWxdNl+VEyFzYMybi7Ny+YNfpC9wpVNnN/dW7jKFKKKStJC2DAu0KBdq5L76QAc8eKuH0iCqKN/ibQps32r2dPn16T7t68803RWSCVcA7gbpuQQhZwL5F3J66mX27+x+YvW36L8TSD/TJ34sR6gPAe9GLd7cNhksI/rpg7n7e0998/RP85rffFw8YshNdNxAydXfSGNpieJIafQRtgv3hA6cjdkvm50R8Axl5HSwuuzKuthR8UtfQCkkX3tqSEGwHOEQRvly9hr/WvIrxlVmkAu9WCQ5JRiVdwLWhSXx74DDeTA2hZlP0Oe4wTBtDkaXx/QJsbh4LKY6hhSFyUSQAWcENMCApMMDKWQmmrCL0aCUHSJFE9zrozPsLKVEnJewkq2BF9WzSNu+DXFRJlTCgSigqEgp0HNnid96PY1SDGPUwRq0zNaJ1izyeWz0lY76gYKGkivlyTkEtrSDcil4V6LDjVcw8wpYDuW5DX23Codh23RbHTPHtmeX6hkE5NprD+bmN39Fi7e1Lc0ILki8OHH8yYmT6CDp4HZDJIltFNrirYVdMm7iyUEXL9YQWpa7Y+GtfmMdI+j1MllaQ0r1byEgvUDBbH8G3PjqIpQslHIoqGIkbyILXwq1pA7YeYiXnwVUteHgUM+YBeL6NH8T38AP6B3jEWIQhbXyBoe/xBa+M322cxDdqzwCqIUKq1R6bt8f2D2KhZgswR9aT13sxpYuXlG7BFO8tXdNws9IQYO5O7y1D6WptUsw8ubdcpy18lw3TTMLHfgDbTYBjreVssMDb6r4iYP3vvn4QJ44eEsLOfDHldLtijq22w7AxtQEZAh4cHNzxp6NvEbdjF225QB8A3lm/9dfq9EAfAN7/S4E/ft1Q7v0+GgoLn/6FXxNyML2ND34+HDIpveMmkOuY0SePVyEi3a0EdhPNMj7cduNc8MKgg4dyt7I4QSxBOOVKMiKJJRGy+Nvjd16Iozcu4ujsVYzUVqCHAZQwFBMFcskczhlZ3Jg8gv9d24cr6XUf06nBPK4vJWCFOVj7hwrwwgBpQxdhuxt+Fk2KGHcaDdH0yMVkJsKF67Nr7Asx2VA2hQXag3Xa+ADDgtSLW383ZW7Y+ekl5NNWBxioGMimBMBh5w14Mp71UziBFIZiDYZ0q+Ua+7EZxahGEea9AHN+iFoEqJBgKOwbYDmvYl4APRWLBQVLeQWOvjWAVsIY5XqIwVoo5uVGiIF6hFIzhEoQGQs+UjCQVH5x4hC+HMFTIrhqCN+KsQoXdS1AgAj1ZhOaqsINpQ7o8EVu4uUeJo9dJID7Jgu+Jw4O490r64UeGT3A95+4hBPDFzA1sIT0FoCP7jANt4QbC5NYODcIbaGNlFcXRTK3cnsxVrM+FooulooulnMeFqpTaF18BoiS0O/pI6N481JvYYmErwzW8NPqK3hWv4AB1DeATvb3zXgI39W+jF+pnMaqE63lvR4aLmzwH2ZV9PxqfUOh19NHxzfsT7jtWCyYSljOJEzOF6WkWKqrCciXMmpt1trethZvO/2GcB8E5WJfmirSMlS+EAjrxAinpkr44qgswr4Ef5VKZVeh3N79fvDBB+LFptVqrbGJtzuuvkXcTqO29f/3AeCd9Vt/rT4A/NxcA58nAMhO+a9++0W8f3VxPfHcdnesItyuM9ccQVik0EniF+wPfVIRIwzpPhJiMKpgSq1DFYLLdz80azmLiUpLwgF1PosHHQFO53vO+bDlQ5bLvR1O4VI0dMtBCCCIEDoC6FIA+myoUgSGsFnMwTknVmfKDDOKSuIQUsy/qbhHCJu4NzBnbzTSMSwZSEMT/dENGJMbJKhqxj5qio8FuFiRfQGEu14aNzN5LBYLqOVyaGcycA0D8VYdF8fQWWnd8jHQ8pFfcjG+EmC0FiMVK2Cpg0ymUlQFJ21PYesOUOTxBnKESuCiErlYimxMh03kRi2cn11Z86+lnBDlcRSFPspJLmDe8jFVeAuHBs5iMD0PQ3VuuQYY1q3bOVy9UcLS+QLUBQl50E/jVnaP37QkFTNDbVyfrGCp6CFgQmakwKqeRKn6ffDbDgzTEqw7mTIWXVSbtqjeJsAiY3f68BjOiEIfICc7+Nv5N/AfFM5hQlrcYDhCZvBjdxi/XH0Of9g6IdbjSwCF0wmwCObytBnssIBCazNguoOM+Wr7jgumeFwZQ0WWNm8iPJ7IyDCXlpeCaaXWnH3IAlZbyfntJCNDNvFf/MRDOHZwUryYEsTtVMyx+WahHuDw8LAIH09NTQk2cafWfQlmLuDm/OSd1n1Q/78PAB/Ukb9H591nAO9RR97FZj5vAJBh4J//xp/eckbCucAyIMcBCtk0LFNPEvk7QbYgDMWDjQ+bveYB9u4sp0aYykQYS0vI0G83dDFSW0bKdRCqCjxdh6fpCFiRzAc4Q6w7FSnsYXwICFfiFKbDAmaiAuqxKeQ+Pr3GimDKviRzgkQxl7rfRYgIUDUVnqbB1XVE1NFjBYXQYuacAC4S4e904CDj28h4NrK+LUArOcINQDUOBVDVOv/X9bQleJIlhmUlSJEihJ9ZSa1BhxSqQiBa6YhDcy5Hmvj/NXHoTZ1EkB+QvYx9VCIH16MmrElSly/i6f1XbsPwAautNG5OD6DySU4AvnSPh27vbgiMHS2NqjWImewgrh18G+305XW1nUhGe+Yo2heYx5bA3KNDaVxYXBd45ncnpwbxQY8bjmDKqH2pqiI3j3mmA1kTXruFr0vfwffHr2EiXtgAVu1IxZ+2j+JX/R/He5V10e4Dw3lcmVu3leP+nnloAmcurrOOZPFA4gAAIABJREFU3Ur7brpEt/iH7FhSY0NJplDk1nZTM/j9nTR6RXf1B3lfdxlHIVkTA4+O5/H8uIyRkREBAo8dO7an3TAHkMCP7cKFC0IceidQx/OkJirzAPsFIbvr7j4A3F0/9Zfapgf6APD+Xxr8gSUI/Lw0MhX/yf/0B4IJSfKHknDunSaep8lSMMmdeWBMPKf8RCfxnGCLDKBwH+mGt1pJXtT+dgX/zeUXMeVUe3w8gBtmHn8weAy/P3QMEyMDuLZIMV8CHGD/QAZU5MuarJKUwKT3lCqjWm8gnUqJYoIwDJAxNCzXmgiY2xiTAYqRNbREXqTDQPK4WdDAvwPI8CUDsmGh5vOzhlCEpZMQdRhzr5zI+SWfGaYkB5h4ZSSfOcq0BOs6cHw+xjwWQJCMpiaFMBDAkAKYUiA+m5IvPlvwkZY8ZCRXMLUbmqAmlQQQhoaQ4FFCS7iIqIGJdKaC9Mg5pIfOwypfgtwVWe5shH3VdLJYni1j9ZMswpsRtE3+uVyUuyHvt4I0rstFLA8cxIWaEGhB+tgZmOOX1lxe4kiCM/MQWhdO4YlD45irtJDWVXENenZbyJSQARThxygSbN1irS2uAV7vzJvbqkhlaiiP6+KaA1Lw8I9Hz+Dr+lsYURprYJBHdD0cxG+GP4TX5GegqTIypgrb9YUUEcEcQ7teGAupHUrF7CZdYqvrZSsw5zqJ5V3CAiZFJNVGC7YfoekEO+6LnsO/9JMnUM7owt7tyJEje7pUX3/9dRw9ehTFYlHoCJbLZezfv3/HbUxPT4OVx11P4R1XeMAX6APAB/wCuNvT7wPAu+3Bu1//8wYAeUY/+7/8Ef747Vs1AcmK6N3k85S5nqtELTHmAXbEnfkQ7QLHzfmEO/ZYFOGfXf42vly9vgb8XEXDO/sfwR8/8f3wdRO02yV4y6dNXF1kJea69uATB4bx7tWN+VwmnSG89bzGA8MFXJ1PKk2Zq1RIGXhk/yCWqm0hRcLqSEmWkDF0IdchmE0vEBOZzoXqet7foZEiLne21T23p4+M4aOL8/j1oYdxUEuJr8mGVaMAL8Y1/DulidiQhVgy2TZfSOJECBUFNyfLCEoZwWoKnEVKhidsB5BYiLHSRimMsUpfW2rqdHIGqSPH1M11selOfmYHOAl3E4beu9hNAN07i7cb8JGRPOQlG2W5jQG5JSpsySqyGUYLheIsioU5FIrz0LSNdoeBm0Fr4Sja86No3DRhr6wiDpkHuDH3lIfahoZ5KYvLchnZo4/haiUpstA7bhZe+W0sZl5aFwSPJViNE4iufBlt5ua1XVAQ+/zMRgbuSYpMX13ccDkmY1ld+47SKLzO0sKtI9HOG8ilxLVNNNoVXaYgtr90ET+j/QG+ol+AQb/oTquHBn69dhq/n/4JfHxjEwt4dAJnenIPuywgz4/VwUI2iel5ncugC+ZatickZ2w/qRK/k7bGOAr9QSWRGxJvP0mKxNGRLF4YAyYmJvYMAF955RXhLUzwSF9g5gQS1O2k9Xft2jUhIE35mL449M6j2geAO/dRf4nb9EAfAN7/y+PzCAC/9d4V/PIfvSXkKyg82wVzO+UPbd2btLwyhR5gtxqUDCCnDeEt7qvt4hdf+S1MthNwZssq/tX4U/jm8IktN818JcpVMLep2yiQvNxoI63rAsxRANezGzAzBbE/Ai0ye7m0jk9uVtbyG/lA9PxgA9MpZD1ukS4Zw5kLN4WYbi5timT6wXxKsJjMJUzCqTH+gTOIY1EiHH0lsPF/qCv4o5sbq417Ne5iXQV+6tnEKk0gxhhyrYXizQpGlmowQKWWRB6ED2pqNBJoE6CuNh2wmOLty0nOWrcxH22tWrrzJS3Jri5Ukc/QRcJC2jIEkxl2mEw3EpmLsP2ErWSOGxlLmcUmHRC53TiPp+bw5fHX8ezE60hpztpiQaChVhtGdXUE1eoI2u2C0B1RG6vQVxehOJ1wrJSGrA7DVbM4l82gMTiJK0t1UQ1MkfFetxO1OIvsIy9DMZL9CDZ5eRz1j7+Epw8cxJlulXjnKI6NDWC17Qj2l2LmQ8U8ZEXtgGKygLEYy9lKQ1zzBI7c52aBZzqPFLMGlmoJy8Z2cKSAK2vAMcLfyr2NXxg8g3JcWWMFmUbwXfkL+NXop2BDEywgj7nhBoIBvOcsoOsgjmJYKUu8mFXrTfgRBAtYb+/sQkLg+c9/+CAoy3Pq1Kk9/VC+9NJLQlCaII7t/fffF56/OzGJly9fFlqohw8fXmNo97TjB2zhPgB8wAb8Xp9uHwDe6x7d+/ZYedd159j72p/OGgRIp/6Lb4gHYG8jP5A2FFGxSPaNeVFdPcBE2iUSDxuKFbfdAI22uych6Z+58QZ+evFjEep7tTCJ//HRH0E6bQoZGbEv4ZKQKEkLe60gRClj4eJ8VSTuMzeKD9V95Syme6RKcqaChpMUeXTbk4eG8U6n+rTrd3xiYkCE5JgXRVFdEiLMASMgIDhkmJrf3VypC7u8bnvi4AjevbLOOvL718ZPC2HqpdDDj8y/JxY9PFIQ1lzC+UHXBJOVFKPE+OToGKq0VGN18vUlhK+dQ0wUxnwxIYa8UZ/xkakhfER5lk5j3wwXUkJeRei8aaroN5espXCUCAWQHylkbgFHZCw3A6YT+wZwdnqdsWKlKJkuBttVMwXNoPtbBV4sC0/jupd47LJltCZ+8sjvYUqbxsK5IqJpCwqzHA0TYTqLIJUFlHXxZantQ1s9jKy0rzO+CYi+adr4jcr5DdfgqWN5XC/8ayA9v1bYY/jDGFr+96H5A50ih8QSr0WdSBZ1tD2cPDC4wWWEGz11aHSDewclemjh1lvZvX8oL9hWgn2+wJAt+//ZOw84x8py/z+TyWSSTO+zU7aX2Q5LWUFAQVHkXgULYkNB/N+LYr+2e716FbteG2IBlKuoiAJKERSUtkhZQMrCwva+OzM7s9NLpiX/z/c98yYnZ06Skyk7ye55P5/97G5ycs7bkvM7v+f5/R4qswBKMQHXCvjioE/2HO6JlnljbZd79ssXS++WdfkHY0Aw4pFbe1bJZw+fJ1R0PmVpvTy9I6aCZm8ARLlWvtdjlFCECdQsoMqzHVEhXVITUARPlgW0KoLNtYgZV4l3RC5eU67YO78/VZ1qY5lYtwcffFBVD9G+fpSUw+90/fr1EggYD0V2jSoimNqTP8jfhOln0xYrYUcz5A0XAGbIQmRrN1wAOPsrl4kAkFn5xi3/kMe2HFBsmSpDNQU1sFJ7qpJX5AFq+wkDzCk18LiNzBf//GMpD/XK3mCZXLbizY4WZ25Vsaqvqu+wXOvUpSgxe5S1C15z/b09Ul9bLYMjhgoSto5/k5t34Ehv1LSaZH3YMXMzwFE8swbL+NzuVnWjxh6nKJivlJiEjVGU0j4+WC1LwvB2Iu3hEfldf4tsqYzIkxagiF/e0zuaJTK/WuTs1cY4QIUdfSJ7D0vRvnZpLOA8EaNUGAbc5Hf5vKoyCCAdgAMLeNLiWtloYb6UuGFPDCgyP+VFfmnrpmpFvlqXmpKgjEXw5zNCjlwehrOtx8iJMxjgYVm/uFgai/4spy3cIaWBgTgBREtfldy759Xyz5YTpT9cqMb95uY7pCEUM3rWId3DeWWS27hQ/HkR8ecYBuCsxoG85VLXHpQ5g/6oWfNQzpjc5t0j7cMhGa15UoILn4+WBAwP50vv5lfK2rJT1Rya27qFtVGAz+ssy5yyAvWAQpm/spIiqSouUPsA5pYxG2XlfOrhQYsteKhYNa8qDmwDzjgfqQe6rWysjDOB5vVXLK2XvW3dMje/X/7Tf4uc4tmixD20kUiu3DL8SvnZ0OulNxQR6m7zZ7LCDnJWWU+AJw9LgLmRoZCydgkEgyoPNsfjleEx+m3k9fJgkKp9+V+XCft9+fLlqQ5V75PPvGHDBjnrrLMUiNPtpZdeUuAwmaJ48+bNijUEABIZgTV0zaETT7sLAB1tSfegRDPgAsDZ3xsqLDmcvFj7bPTyged3KzGItWEZBktRWkjJKyNXCXYI9aiuX6pKvCHqGDJuNE7rl167+XZZMtghQzm58oGVF0prsFQxjdpMGGaOvChuvsYN22ABAWC7W7sVSOWmTKiQKgrmUlvLGyrk5YNG+TDd1i+JlRmDQSstzBd8AmFYyDEzGEcuJjI0aoSHAQYwYS/ua4+rd2ycKxbixWLl9/VrpT6SF2UxEADsDw/J0+FeeSi3TwbzDX9Fo1JEjuyeXy2H6ysMtKIbAx0Ni58ScIQZDx4R2d8uOcOj0lhRHMd0cq6cnIgU4ikHy5jnldKCfNVn5or+4z9YV1YkT2w9GNf/ExbWyHMmPz5AWW1ZoTR39MnpC7fJG1c/Iw1lnZZSax450lcruzZVy+h2rxQM9ysN8z01r5c9wfmytG+7vKb9QenIK5Gu8vnyYG+J9I5H6wEosGn1uX1yZtWQOu/zoXJ54uCIEvRckL9AmnJLDD85Ccmv1n5VPMFeY1ag3ppPkGD7K6XAZxghs1ZGWT787CLq/x19A4qpha2jpOGJC2onMJ2r5lbLi/tiAJlzIbI2g7um+nI52NGn0hjY8zBzZQU+dQwASzHfo2NKdNTaY1RAGRgekwJfrvQPjSkBEK3c0yfXN9wjr/ACBI2h9Iz55JrwRfKjfYuiS47qWFUHyaf2dkiKCgISyM+PsoCDQ8PS2z8g4sVexjmYs/sdUakM41V+AspKxvg+M+/d3T0yt7pU3rY8qPz8dEg32e9RKBSSxx57TM4+++w49o7XEYcQTkbla9cIFVNCjrxD1xw69a++CwBTz5F7RJIZcAHg7G+PTAWAAKv3//BOwRxalaFSN1HnJd6sM4vpsgJzfkrKGbVSjTBrzBOwvnm3fHTDTYrhQg5wX/liuWbuK2TAG7PUsFsxFYI1JfRzrZMXz5FDnX0S9OVJaKBXykpLFSM4hOoaBeYINscQbYPS1R+ry6qMiXfGh3PjKo+Md0CrQQGfAIOq4qAKxakw2rgnH4rTud058taxcqmTGBBUGAbbi0hY9o+GZK9vVG5tOyT/HO7FUUU8axdIZGGtRIr8IirkbWn4ClKVhKoa/SHJ6x4QaemUgV0tckJD5QQ2zKxc5Uzc8AGdAELmijrAC2vLFFCHMYUR8+SMypkLH5amqscl3xsTcaDY3Xm4SnY+VyeBPREpVtU2THhVRP5cfZ7sKVgguSMDMtC2T725el6VvKBD1pGIYoLXLaiRQx3dcm5hswKAe6RSQv5qBdqYy9q+fFndU6wqPD8y/1Z5sfYRGeutkOqWi2TbvlgOHudfv7TepmZwhWw5ECs/B2PLA0w4PKasjNgblUV+xYgZIVZU4mEJ5HnkcI+xJwBy/KkuypPW3hjjV+T3qjQHQL1uK+pL5aWD8Qwy+3B/e69iixV4zMuVWk+XfCL8C1khO6P2lLvHauSDne+Vl3oL4oB5Or9QAGrWlhQABYoRGQ0PK+U74/L5A0pPxAMBzDF5h05EWldduFpWzilUwo5UjXAvyt9XvepVEw7dsWOHEnmceOKJtqfhc/X19cp+Rj1Mjo2p0HOysHGq/hzL77sA8Fhe3aMwNhcAHoVJTnGJTAWAdPtzv7xfbn5k84QRkDNXVmSAOaPwvcHAKJXpePUC7Qmow01OC9+/umOXfG73BvFFDEUogoRtxTXyl6Wnya7GJROAowJzo2NG7dLuAcU4coMjd8uwiIk1u1y3tQtq5Pk9hhoU8ENOYVnQr5g/X55HMY7cWGF1uNnDbHLjrysvVGIQszDGEAzE8rk4Z315gWKPguKRS4rmyDkFFdLoyZc8FLyWxtzBoTWHh2Sfd1j+3tspD+UNy8jCapGqEsktLZCxvNy4SiNxp1AJhRGR0IjkDQxJsG9QSntCsmBsREL9Rum7kVEjR7O6pEDlxJnzPHUVi39d/Yy85cSnxJdr5Dlyyva+Itm0aZ7kbfNL0XD/BNDXm1ckraUL5LmStdIyRvJ/jtR4B6Uid1AJbwCchE4JifIwwbyRS3daYbvUBcLqGr/aE5Tl8+ao8Lp4Q1J68l9lbd9qOXP3RdLlb5PrfQ/KUPNi1adFtaUqBK6YTl+uAuEjI2GFlw0mOiyUS+voN+r0DhJiHRqV+eV+2dYWDx5ri3zS0hsDuaWqfBuWLbHZXT23Qna19qgQccF4jiUqYQUeTSp4HgDYh0bFjiE1z6o6jKmdspgayPtlbf4huX7On2RunrFPiche371evnTkXMXEYZxNakF4dNhgAf0GC0jEYGBwSPL8frUX8d0kF3CyZeX47nItDRyNhzOP9PR0SzBYqEROb1vqU+xdcXEs19Pup627u1soBUcOoLWR6/z444/LqlWrpLy8fML7GzdulEWLFinbGPXdHyM9IEflAqbyEUzxM3tMvu0CwGNyWY/eoFwAePTmOtmVMEDNxPb4lgPynT8+ZhSjH/fp6+wzbuiTaTrMmgo4Rnr75NJn7pYT2vfGVXsgNLy1oEL+UrFU7q9YKKOeWI6RYoBM+W8wW8sbqlTob2w4JGXFxUrxCsgy6rIa4WNypva0divgqEGqnf/bisZKeclkJWKU0cpRwhPYneJAvsytLpGB0LAKH2uxCrWQD3f3q3MDfGAblzdWyuC+HjkvWCkn5RfJXG9AAjkGgJ4ACiMR6Y+MSUt4WNryw/LUaK88WyrSWV0i/cUBGSrwSygv1zCHTlRGRdf4pW4tFjatXVLb1S+tUYUzClifvHJZnlyw4lop9huAhY+19TTItocbJNDSK7njoFyBFRFpk0J5NrdOtnnrJM/nlUFPgXjL5hhK5cioDBzaHg98zDWcReSc6pAsKTJiwgdGCmRPpFp83hwZLtwtrVV/EvGMiX+kUC59+mvqmF/nbpWe0REFxhvL/LLDAuQWVwVkR1u8wXMNoo6emCIZkceRngEpJHczkK/SBeorChW7rVTcCohFFKBEEQzAAsyxdhVFAWnu7IuOKVr6zzTKkxfXTWBgT1xYPc4Cjivh873iVTvRAKvnhx+Qyz13KD9GWvNosbz94Ltlx2jqOrrW/aIFTaynEpLk5croyLAMhUJSVFysFN3a1kgBx8Fh9d1O1f7rX1bJ2jmBhOyd/jw+ftu3b1el5Ozavn37pKWlRU455ZQJ+/3RRx9VOYKlpYYYSpeIgwUkH9Bt8TPgAkB3R0xpBlwAOKXpm7YPZyoAhEVZ/x83SHtP/E2VgcOWkQsHG8KNBuaDkJNuMHMaOAKSyM9zygLqc1DZ4tJDz8hrOnZJ6WhoAuvUEyiUPVVz5dmGJnm5fql0Dhn5XjAvXGvdolp5xmKNcvKSOfK0yXuNazVUFMmBdgP06PrAI+P1gQFz5ESR9wgrZIwLFnBE6iuKZePWQ3EhuyV1ZbL9UCzX0Gxdose1tK5cdrV0qnq5gBDmb15xgczvz5UVYwFpGPVKhYzXBbbx6lOssUTk8Niw7I8MyWP9nXLfYId0lOSL1FdI8fxq6fHlihT48Y5JDAwpgxYalkhbt9Qf2SxfWfsz8XlGFfA7cLhcdt7XKCUDsRAvgKVb/NJWtVTu6ixVFUqArEFfrtTU1MrBsSJ1LaqSNPl7pNjvVeCJ8CMediPjoV3Kkp1W0iN1fgPwtIY8cvtB4wYfXPRPCc5/cdxORyRn6+lyRefF6r3/7X9OQuNegYhZAGlDI2G1NgCe6tKgYvuiqQUR8iF9SvCiwrnjVTQqAzmyuyMGCjkX9ZkPm/Z5Y2Wx7G+LZ5BJBXhuV4vKFSWdgHUj9K/V4Ua6ZlilACDK0ex3XXnRuFdkDOCfumSObNxqhMdphTkh+ePCO2R1zi6F47Hf+VbH2fLbkdeqMURGh6Is4OgIqvQRJe6IgTlqcMN+pwZzdj9cut43c6lSNLy50t/XJ2WlxapsHQ8571gRlLVrVtuyd/qchw8fFkAeNjB2DVaPXECYPkK95oZ9DCwjjJ9uukQcr5lFJdP245vFJ3IBYBYvXiZ03QWAmbAKRkiHm3omth/csVE2vLhXlaEidNjdNyg9gyOOcofsxuOUBTRXIeHmXT/YJW9v3Szru/dL1cjABFjE7PXlB2Vrfqk8XVwv91cskoHCUqkoypfhoSEj5ytAvl6+wXigPB3PBSwvDsi2gx1R4Ei/laG0SbHLTb2yOKDCe7rNQSQxzgiR30UYDXAHSxotr5UjCqjwOcahWJf+IaktK4gzHeYGS3/M9jIr6sql6khYTvOXynJfgdR7/VLswRLEhilETU1OY2RUto32y6bIgNzadlB6AEwVRRJYNEdCZQUSKQmKBPIpgDxheQKRflkk26V8W6sse/oFKe018tmodtJeWC/bKlZLt8cvoaERVc+3uXNAhVU9gRLJK5ujwF8kPCbDrTtItJP5ZfmypzOe3V5TVygrva1SnGfs95ZBj7w4hndjSHwr/yaREgMU5YzlS13Lu2Vp5wJZ1gtzFZE7Kw9GwTcCjGX15RPy/qz2ODBgCJWYc91qi/KkpXdYKZ3J4cQbEPYWdlanMsACsiZq3ZQSekRdm7nvgkkdb/jk7WiOFxehQn9yW0z9zKGohEkFUKyj36vSJ3Iio+NpE4agCVZ5bf8/5HO+m8WXY4DjJwcb5KLm9yrLGMcNBrMgX2CfeQAhlWGwv09ZGhUVFkXtmgDLA0rhb+T3pmqfOG+lnFLnVyAtkT3LoUOHpLW1NSlT2NzcLLt371YsocGUx+xjTj/99DjLGc0CogaGBXRtYWKr5ALAVDvWfT/pDLgAMDM2SCYDwKe3H5K3ffNW24niZllWGM8CRhXBOhdwvMybqg9sCrOmO/PKSqbAMJQuzM2R05tflnX7t0hDZ7MEhuPZQXVDwWojxyM9BSXyQl6pPFnSII+UzZMBb74YLJ1hNk1T4AuvvHFvP661dn61dPQOGkrn8ZwoAB65VjCjQ0ocMKp848hZ0/lXzAk3ecQluimG0ZIHRr4gOXiwqEVBWBef1JUVKN+6gQEsVjySm2fcwPe19ShwqsPNSz1+WZ9bJGt8RTI/LyBlHsQN9uHjUCQszZFh2ZIzKNtKxmQr4NmTIwN5HmmvKJb+iiIpLOmRTk+5hHLiw2ylXe2S39Yhkb290rYvHuQsry2Sl1v6xBMoEm9Zvboxw/wV9R+UAp/HEDz4vOL3UoU4olhFf3hAlspBFdZXLONQvjzYFpAl9WWyr/rn4i0yAOdob6ks7rhcnt7eLh8KrJByj1+OhEPyt9Jm2dEcWzctZgE4U6eaih2ouAEzMNTakgdW60jPoGIHATydvf0yt7o8zrbFsHaJxKt/GxCRWKt3GMpx1g1mjvXhwQC2WyvGVZpBWBTrrWx6BocVy2xOIWCcigXcsj/uq7CssUraWg7Kn+p+Kct8hoClKxyQS3uulP2jpVIcDKg8R0RAwYJgtAKPkZsas+yZrDcg7B8PSczH6PCgVJSVCWFlwD35vu9eVSCrViyXqir78DTl3Lq6upIKRgB1Tz75pNTV1UljY6MaI/mBjzzyyAT7GN5Dac0fXb4v3d+OY/V4FwAeqyt7lMblAsCjNNEpLsOPHz9wmdiw1Pj3H/9ZjvQOqptc78CgMnimDBU31Mk0I08pZu+i/O20lcw4cNRiBW6gqaxkfGOjclbnHjmza480DXZI+VB/XO6g7qOqGuvxSm9hiewvrZEdNQtkU/0S6fIGpLzIYAF1BQg+YzWUBuziuWf2TzM84gwRCeFjwrorGiqlvccwlMaYGfYQtqmz31BUo7blZs2NsKMvFopUYUeTgTXnnCgsicgrltXLgfYelb/I3AFY53nyZfmQT5aG/VIfyZdiiamRzWs0EgnLwdEheWqoW27tbxVvea586uyrxR8claeeXSfPDZ8kWxatlMOVdbHQMYrjkVGpPXBE6g52qDAnYd2eEY8cipRGmb9GzxHZiU2NqWk2bEXxsJxRaQgmAH9PHMmTTd34G45K2el3SG6wzyhT1zFfCg68URBYFAzkyhnd1Yp1e6mkWzorRqWrP6QU3HoeEfs8YWHbrAIgwBoPIGbF6+p51UqVDLYpxXIlkCeUgmONlP1PVMmdpxhd5Yc5xPc0It39IQX+dTMqxsSsZAxwN9FcG7bwEHYy4359ZRhrj1FBxqgZjQoZdXR7ryFkujL3NnlP8HE1ZyMRj3yg5a1y30CT46+cVgWz98IjQ1JUGBTCxwg5FLM2zjir/NSQUVWG15K1D76mSU6ry1OmznZsHMze4OCgrFhhX71Hn7u9vV1efvnlaN1fPoNAxGofo4+/++675ZZbbpHbbrvN8fiP9QNdAHisr/AMj88FgDM8wQ5Pn8kAkCF8/Q//kOvufcZ2NDF7l/Gkc2+uYVZssnfBQ0/lYI3fZLi5TaZxszYMpX3j1UHwBdTVQQwjX97ff6RXytsOyQkHXpamjoOyYKhbCkdCyl7G2hQozPFIt79QtvtK5PmiWnmkbL40B0rktCX1sr+jW+WXkRNF1RPOD6PDtbTS2e/LlV2tXVFDaRghFKpmn90186pl0954hbAuBQcDqcykySkrCkhnT68SJOTlGSXDKApMeLIvxI16VMoK8qS9Lz5kt6giIDuPxKtbL6yvlUV9PlnnK5a5eX7Jx17ZwhQOhkOy95QvSk7FYdnzwBx5dO8q2VK1TnZhcnzCApG5VSL5ebFpGxoWeWyL5Ow+LP76JiUqiETCMtyyUyQ8qqqdtHYPRNkxwM78SItU5vQZViuSI3vzGqU15JXB0RHpXHCDRPJ7FGU7sL9JBratj17rk0VrJBj2ymBkVL47sEkBJYQY5jA8+XWINWgwVLBXS+vLFXurq2iwb9gzgG3C18yv5PrUa9tM+ZqsW1dfvEHyCQtq5DlTbWmuo22B9PVYv4qSgAJPlIrTc4zQSOcekg/YUFE84VynLqmVjVviq7wsnFOhalzTzivYItfV3KbqLAOQv9f3erl17NXi9+VJYYEREjXAXESGx6gSYoA58gF5YJtMwyqHdeM8T98tAAAgAElEQVSa5SVFBgOONRDKeK9H3r26WFYsWyxz5syZcHoEIPRn6dKlSS/NMc8++6yqF0w+IPYxzzzzjGIA7doNN9wgd955p9x///2TGdIx+RkXAB6Ty3r0BuUCwKM318mulOkAEIbrqps3KNanf3BIevoHJezJVXlV6Qo79Dwo5kWJSCiJZpQuw3rCKEhv5OfpsnLpVCLBWoQbvRl8LawISFvvkJww0i2v6NwjSzsOSW1/pwRCA0ItEruG/Ux3nl/2B0rlhYJq+UfpPNkWrJClDZWyzRQ+5rOE8syl1EqD+dJUXykd/eQCekRpYyKk3eUokKgT93mtrS8kIya/kbml+bKvKx7craovkRct/nLL68vkcM/geE5ZnvK083o9MjZmVFYZHjXMpVu7+pQggbms8uTJv9cvkEWhPFnsDYjfk6uGfnjp76Rz/r0SONIkg49/WP7Qd1i2l0dk66F2tUaeeVXSs3KuUhxrCs///BGRVnLhIlIy2Cw5Y7DCYVU79pmoFU5YLqwPSY3fYJX6RnLktgMBCYU96rj2xhvFW9yhgM3owTUyvOsUtZ9gTs/Mr5VXRGpU7t+zRZ1yuHBIARBAm/avM8Q4o1JbWiDP7m5RFjc0wArhelhr3ezYVTz6dAURBeaCpAeQwxlSgF/XXiaHrm/QyAGkfzzcADqxltFN+UfustRiVqrneE/JeVXFcuBIjwpZo0SuLkbIMSy+XJTjgDlRDzdH+oeN3EPUxyMH5U9V10px7pB6/zqsYjrOc/TjxbeJCjw+T0SBOcL0Y8NDUlpSoj6vzdQ1owpwTGXcftmrlslZDXmKvdM5fLozW7ZsEZ/PJwsXLkzZv56eHgX6OA8MIJVA7OxjONEPfvADee6551wG0DSrLgBMucXcA5LNgAsAM2N/4Hqv1W6Z0aP4XvC0fs7nfz2hTNpMg7lEcwEIIBcwGDW8zY2G0bih8X5zV39U9dk3MKRYvE5T8r628FgwcETO7Nwrq/paZfFIrxQO9imLDrsGvBjw+eVIUbnsKquTTTUL5OWSOhnBH3BkTHoGDeNgPl1f7JODPfECiBVziuWl5nhPuFWN5fLi/iPKoJjwcXHQLz4P9TQ8UlgYVCFKWB7lZTduSUKYmjBn1Fh5vLOaUTT33WAejRA1raIwIFWlAQmMhuT8Aw9LbXC+NNbMkb5zfiziCUvN5kul9OCrhVE8GeqWq7v3yo5RA0g1nbRIXl5cJ5KXJ/kbWiVnLCJFuSFp37cren6VAxnMl67eAXnHvJAUeQ1Q1h3Ol605deL1GECnvfpO6fYbHpP5HWskd/+rpbGiSJ7ccUjyRj3yseBqldfY6RmSH/fGvChZWx4OzA8eTZZcPY6hfFlLV7/KRaRPMKo8bHT1DUp3T6/4gwVqf/D6vvaeKHg0SgvGq3/NQFEPNFZHOKJAMlVYSgt9qkoJangq4/A3LJxWw1OFBeX4U5bSgicvrpGnTFVkuMbcmnJlHaNbsSckD9T/VOrzehQIvHt4nVyde1lcriN7f5QqPKrii5F7SB7iZPVlVDYpLyqIphooYVNujprPd68tk6aFc6M5fLqfeABS6YNybk4ax+PxR07hzp07VWjZrn35y1+Wzs5O+cUvfuHktMfFMS4APC6WeeYG6QLAmZvbdM6c6QCQsVx/7zPy9+d2ydDwiKormucPTLlGMOdNBubItyKspZkebmawP6kS3FV+V9TjzliJtXPLZWtzd7TsFWGtkqBPQsMjip0jpMvNE8GCt7ND1h7aIcs7D8riwU4pH+qTvIgu6BW/soC93lyfdBRXyJO+ChU+3lxQpUx7F9aUKPU0IAQmkBuoCjmPm1eTV4aQANsYbta6GYxfPAgxGCaryXShyolTZcMCPlE5ZeGwyjvUliQwqxgRw+xwLK+Tlzd/8z0yN9KljLZ/4j1NvnjhwzKvYocCMPXPfkwK209Q3QH8HxwbkhtCzbKr2Kiisq+yQcJHRiVclCeyrlTm3f+MeHMRe3gUqJpbUSQLQtulMM8Qe2zp9UpXcG4UiObXb5XCpicUmTjcXic9z52rroW5Njly/+5fLlW5AbXOj85pl319vYbhuEov8KgwrxGGx9jayAdkHyEQ4XU+5wQock0DNGvmLqJyU5fVlat9lq9KoxlMIKwfzK0uc0h4ed/hbiXa0QDLDigaNYljLCDnqSktkOZOwKnBOjaUF0loOCS+vDyjDJvkKBawo48wrsFywgT2D/TLffXXybJ8QxxyW+8q+fBhZzWzybslzxW2PS8nImOjI8riBaBq+GKG1V41hCRUCQklrRX8jtMWy7nzDBbQbM9COTeMnKno4aQheEIQsmDBAiEvEIWxXfvkJz+pche/+93vOjntcXGMCwCPi2WeuUG6AHDm5jadM2cDANx+6Iic+4XfJB0WN13+cJMxSlHFmLkYmDNuMoA5mCxzJY105gwAZ1hqGCpdI3HfcC8GzMEy4dun2RDeP9Ifn3u4qDIoO9vjPQ7XzC2XTftjSlP6tGxOmQwe6ZAzeg7Imo79Mq+nVcr6eyRvbMTGkMUwSe72+qWjvEYe9lYoS5pmvxFyO3lx7QSjYLNogfqv1JmF/SopKoiWlsPKBCGDqkc8bLA7C2pKJ9iNGKKRiWHHvW090emlPvBlnX+TXAnL3uIFsqPuVCkJeuXtq78jxf5uBWgGXr5IVhx4g/hNmZP4Dv4+v1NuHvZJjidXRpqKZWxekfgOtsvIvc+Nnz8s7xpn/jjPM5158mJfUBDLHOkNSV5wQDoW/lzlNeaNFUv9gQ8q0AmQA4CcGK6QRd2GD9zfhw7IU+G2CXl/ZvsdPShVDjAOaImsV2KZXmW7kq/AlUeFQju6eqSouESBOe1XidclIJk+G4yinbVLrNYz110zv1o2marIkH5Q7M9XLJmRf4ga2quYW4RDrB1WSvT/qR3NUdaRc61bWC3/3BE7P0BxTnmxHOrst3wtwnJv/S9kjd9Y47+MnipXey6JglTzA0ZU3NEfkqFJmrcn+k4CjL/3lhWyZG6tAm+6mcu5Of0+b926VSmHMXxeu3at7ccuv/xypSz+whe+4PS0x/xxLgA85pd4ZgfoAsCZnV+nZyf8CwjM9Pbhn90jLZ290tXVLQVFxQYYmWYwF+DGSQhNZbBRD9TIBUT5OQgbMm6/Ys6bs5u31Y3l8sKB+LqsK7ixHzxiCEmCPuWTBrCCBVGV2VSenkeBU8amy3kBCLBsMTdUnpu27JXTuvbJqd0HZFl/u8wZ6RMUyRMNWQyhSVewWA5VN8pz9ctkS8MygfMbGh6VsqKAshuBddFK1ZX1pbLZkveHSnVnSwycYtXBHOHFB5NEGLKhskitCaXEtOIWkQJ+heR2AbpRe/7H8EOqnzd718oBT5kaWtOcoFx51k+lLDiggNCD29ZI5wtvlvcH66Qm1xct9XdupFdCOSLehX7pW1KhQHfTxi1SNByWhWMHpMwzqJjOrf0BeawdIYsRBgbodi38lXgLuyUSzpGRZ94pQ/3+qFihVHxyZcFKxYC1jA3Iz0Nb1Oeo8rK7tdMwHfd5FbhCuQsQ1kwn+4OQa0tnv1o/WCxyA1u7+uMC+qsaK1TI3bqW5hxOhE1N9VWK3QPA8YCB6MKwd4koFTT7g74ArJlTrYg3VM9WoFgbBYpcV5dea+8ZVGvAus2vKZHBoZD4AaoqhJyjzKZ7QrGcURXWHRiW/qEhua/+57I6v0WN/9ruV8iXO1531H8+3nTSAnnjIp9iAcn7o8Hmkf+ny7k56RQ2WFQBoQJIojrBF110kZx//vny0Y9+1Mkpj4tjXAB4XCzzzA3SBYAzN7fpnDlbAOCP735SvvPHx5MOzczMKTCn8q/GmblJgrlEF+TmqXz08C1TLI9Rkxj2DyHAsKraEVYh66GxiDRUlU4EcuqGHZ+8v6KxQl7ab4TZ1A3b61E1WbnxE37EMgS2B9BBuJUGMACgdLa0y4r9W2RFy05Z2HNYqkf6xWsqoabPqapqePNle7BCnqyYL/+Ys0xaR4xzMa75lQUyKuSt+SQwLpAB5OFxN6rC4mMK0FHG7Imth+LC4svqKmTroRjIUWXrvADbWJhZA8D7C06UjrK5SoEMYAoN98t71v1Iiv0GeN7TuVyue/RNsmrYLx8J1Etlrk/OlB4Fql7d0yV/vXAZEySew93StOFROXPc6qV5xC937os3L162tk3aK+9RwDTY+iop61uv2L3+wWFIQDmjuVKpfgnD/8G/RzqGQ8pyCFEITLE57w/DbbOCl77aWa+sW1Qjew/3GMpxvP6AcaNDUliEFYpRuYPB6KodzC8AWtWIpiaxqdkZPC+rr5CtJusb7GsAhnl5hhcitaQJ8xPGVd6U4yFrKoi8sKctyjpymRMWVMmzpso17OFKQGx3vLrb6FJYHmr4mfIKZBxfPvJaubbn9HR+dqZ8LCD1exetliV1FbJkyRJ1vscee0yWL18uZWXGQ4XTBnOIEAQRiJ29zOte9zq54oor5H3ve5/TUx7zx7kA8Jhf4pkdoAsAZ3Z+nZ6dvC2UwJnYAKf0jaf0nYfa5Uu/f0wZFef7/dFKGjBzKCL7h0fjFK3pjMcOzPlyYeaMnChu1Nw8ta0GrIsZ0Nhda82CeOaFGxZefqhDuUkXF/iV+TK1jQGPyo8NcJKfJ539BqujcqIGh5U6dOPWeGZH1QeeABR9cZUiyGvLazkob+jdJyd0HZD63iMSHLE3rsakemdBhTxUMk/+WrFYFsyvk5cPxAPRwnyf8qrTzVyPljkkD3DFvEplQ8OYDH9FQz0L48SYGM+bW/4i+ZFR2ZFTIbfnrVanUwIOv0+6+gfkqjfdKvMrDBC5q71KvnTXW1SO36WFdfLHkhJB3nJTpEBunu+RPzQVKxbw/224Q9AVD4lXno/MVdUuyD+EjYOVC5z2a/HkDcvYYKF0PvpWdW7d/7Pz6uSVvlqVc7ippEvuat4dt6Tk1+G1pwE4TBmhckC+YYUybhgcEekeCEXZzlgZttjpltUUytbWWE1f3rELncNYEr6FQfXnU+/ZF1WXA/hHwmH1YIDJt8pPHU9pMPIK461dlFegiXkElPOwhL2Pblxvd0s8O3nS4jnyzO54j0F9vFdGZePcH0mdt1eN/9KWt8t9g859AtP5fiY69jWrG+XipoCq6kEId8OGDYrFQwiSTnvppZeEMnLUArYzmeb8X//61+WCCy5I57TH9LEuADyml3fmB+cCwJmfYydXOFoA0AzmNKgD2Ol/2/2t1cl40vHny/dsk51t1ryk+FFG64qOG95qZo7wKs0Ac+Fxc12jQkgqMJdsHjWYg8UipKsMmD1U5DDq9/b09QlRyDHxCIDgqe2H4kyBV82tkhdNRr4wL5TSMps0q7yzDvz5MLHOV6wjVScIyemQHeCF11u6+sbLhxl1iRfXlsVVnfBLWM7tPyjrmrfKir42qRjBjia+6dJ2W4pq5LH5a2VHwxLJz/dJOWbU1NclFKmMfPEF9KvzM480+gjQBfDpVl1SIG3dsXDo+SMvyYrIYZWv+BPv6RIoKlZh8YW1pUZJNI/IBSt/K/PLt6tTdA6UytUbLhdS0voK50okJ0e+IwE5KSdPXv2aQhnOzZG3/PMhqertkpv2BaVv1COG2bKhQEb4UbT8CcW2dT99ngRH5yqwCdhuLCiUVxyqMMqs5Q3Lxsojilk1bIaM6hZazGLWZxsefRZvxSV1snF7fBm2poZK2dXSodhihCSorMuKi42Hi3EfPZjq7v5B9SCjQv/9QyrHz1o3+pTFc1T+nrlZjacJ6Q6NDMeV9VveUCkvH4zPK1xPXy0m1mvnV6p6w1GQl+uR8uICaTOtpfnaqIOfavyhsogZjeTIOfuvkO2j9lU6nPwWTeaY77xtjSytLZGmpiZ56KGHlJKXsm3pNNTA/A7ycHnqqafG2cvwvcJY+qabbkroE5jOtY6VY10AeKys5CyNwwWAszTxlstOBgDagblUoM4K5gB05O7wR//b+jfvofLTfl+/fvB5+eVfN0p5aYkSAtB3GDTUtLBlhNA0EJnM7GplJLYtBpjzjpvrSkytOJ57aOToheKS6c3XhPmqKA7G3TxRYJIXRtOs4/LGClW6TeVfjYeQYZrwg9OefYRbqd9rFhro8nSwbboRRgUAmpsOJ2rFM2FdSoMxV4Src8JhWXRwh5y6/yVpaN4jpaHeCYAQte4Bf7E8VbtUbipbKl1ef/QSq+dVxVnCIIY5ralBsW8ALACxCkX6AcRDCvyODg7I6/b9WYVED+UUy01569T5AJisn652ctlpD8k5y15WzGjXQEA+/cd3yGj5SvF4fXLSmMgPc4vlkyf4ZUNNnqzf9aI07muWvZ46BUJhpcjXA0y1zPupRHx9IqFS6XnizWrP6PaRolVSEvbJaCQs3xvYJMMSVkplaz3dExbWyHO7WtV4AFnMJ/mcgEKlns3JUdcdHjGAsVHDd1jmlBfJ87tjVjhc1+78xjzGjoMRJeyOeEU3GN3mjr64vEKr0ledX3lDxjPGKlxs8pBkbRD7mB9+AOAw7eZ28pI6+eeu+P6b35/vPSIbGn+qjJt7xnxy4t5PyoAYOXlHo522dI5ctrZIKXifeuopOeOMM6I5gU6vj3q4oqJCDhw4oKxlzCpiACD/J09wzZo1Tk95zB/nAsBjfolndoAuAJzZ+XV6dkBUb2+vCrMmYuOs72kwBzizA3CJQB0Az2re6rSfHAcLdtqnb3D0EcNqxSj5Fsj3Ri01YHr4UVfiDm09MTgsXUnAXKoLck4FClRdXaNEGipkWJ+WI10qdOfN8ykhCV54m/e3RW+8gAaOMxsHG0AOoBiTdFAf+Pk9BuOkgeqy+nIFEGLGwaKS91XVifEQMuARYYFxPqMpw+regTjDaqOsXJt4wmE5o2uPvL59h6wZbJfgsCEW0M1gBwtkW90ieWD5aXKooELZzBzq7IuyqUb5M8BejDOz+uWdObpT1of3KzDziGeBPOmdp0AVjChzAQBH7XnavAfk1MaHFAgcGA7IFx7+L+mKlKiw738MDEnzynK5YVmZzG9vlpY/vyBD4RifSdWMfx54WcpOv119vmfTq2RN8WlRJfSJ+RVyvneuYv9eCHbK/uJBxd5iW8IeQRlsqGcNq5ctB9rjwOMpS+ZM8NWzVUJXl6hcQN3YK6yPuVqGMT/x4CveJsb4tNWShwcN9gvzH1tfqooMGjmG483OnkjlLVpYwFVzK+SF8X3GR8nfLCkMxgFR6/fhtYFtcmPtzdIfyZNzD/yb7BmtSPWVmdb3v/rmNdJUHVRWLq9+9avT/o3R6mF+m7Zt26aEJfgD0vhNBBzu3btX5s6dO639zuaTuQAwm1cvA/ruAsAMWAQRCYVCcu+99yqmLRUbZ2bopgrmJjv6i676pQwJDF1eNIQGmONmrVkXWB/A3WQbAAbgqMK6gLk8o7wcQChavYDycilYxyjjZyqBZk3wBzwR2sNyg3Byvo98QI/K/SJ/TVuFAEKo6oHyU4+NpP+27oE4RkjXmTWP3QASB6OsI2ObTwg5NBwVrsCYAVpbO7okNDwmw2HlayOjHZ1yfstmeVXnHpk/2BVX51iBwVyf7GxYLD8sbJK9wVjyPUBod2u3AsXMI2CuMJCnAJQSQIyNyfqdd0vhiMFokQu4M6dC1cQ1q40Zx/87a5ectfBeBeKae8vkvx//kgLHIx0H5aKmgNx84mopCQ3Jpf84JPeMdCiAzPX401J2l/QWviAS9krlto8qsEzN456BYfmYf5UEcrwy4BmV7/VuitsudqIOJwIXQvN7LWbOE2sqa5YuPpy7pK5M+TLqplg6pQyPCWiw39ndGq8wtwsNn7K4Vp7aER+OXlhbrsoG6gaoDVNhZyjmAkAfth2Iz/s7ZXGdPG1hMa3frQsKXpAHB5dITzjGDk/2+5fu59bMrZQrTy1ToP2cc85J9+OyceNGVRIOoAcY5G9tL3PkyBH1byqHpJtbmHZHsugDLgDMosXKxK66ADAzVgUGcGiIUld21Wozo4/mXnzxutvkxo3xSe7Jeqlz5gAhgCtfruEPCOhQyfTksqlcL0Nwof3YJjNywBzsDgCL8miEIHNlTOUbBoIFyiMQ6xVPbq60KsaMXK1RZc6rQ8P6umafN/2a1eaDG/iKBsq+hZRaV3kf4gOXm6vOq42DAVx4zZkFHFYRCdewAz2a0QJUlQR8qnLJaw9sknntB5TtjG4KDPoCsrFmifyq/kTxU13BZBvDcVazYl94RD40tlG8kVGVD/hb7zpp9RTL8nrC4qGoACKY75UT6p6QsxYYKt7vPv0heamjSTzhUbmw4EW56czzVZm4ux/olXft+6f0hGP9qnn1bTLm7ZPhjlrpeeb1qrsrG6uktMUjZ/vqFWj4zdB26Q2OKvGKbrVlhWqNzHl/dupcuwoomk3V5yKvs6zIL20mRS2s3eHu/jgW1szy6s9iQ2PN1bOe32ztoj9H3ii2SdjH6KbyFvfEgzs7FnBFQ7ls3hcL+wKkiwr8yhw6UxqheFIGyDclD/Vd62rEO9wrZ599dtpdJLy7atUqVRuYih+bNm2K2svs2rVLTj75ZPWgrFnBtC9wDH7ABYDH4KIezSG5APBoznbyawEAs6Xd8/eH5LsP7JHCgD9q9kzfVWUGBeZGjVJUA0NTAnOETSmPhppUVYJQNi86cd9gsFSO3niJNFhH7cdmnsumulLZ0hIL/ymgNcH+JaLKh7V2DUSNrLnBceNlXGPj1RKomtDdN6jy93RVEgMMxIcO7fzgzGbFhDgBxnPKC2VsTJQi1OslVy9H+vsHlICAkPXAeOgTNbD20zMDudW9zfLO5k2ytrdFAibQBeTYn18sDzetl//zNkhJUSCaM5fvNUqj6dqzhcPdcsL2e1Q+ILmGNwdOldp58ydUHgGoVPv/LBeftFF298yVr238lGIo35K3Se5+xVnSHSyUa54ekEBrl3yg9aXxJQhL5Wt+rSLpvZtPk6Hmper11Y1Vct6ROsnPyZXmsX75RWjreFWOeMZM5/3p9QR81pUVysGOWLgVANKnchtjQMsOXNuFc9ctrJFnLBVWGiuLFEOpG2y0UcM5Fs61htPVniKcaxGgnLSoRv5psnbhuMaqkrgyb+yD0FB8OJrUgi374/P+CKc/nSQXcCq/H+zHoM8j1aVFyponPDQgDTUVMqeiRMoLAwbIGwd6+t98J82tra1NXnjhBaUCTtcG5uGHH1Y5hIWFhgk4OYGBQECWLl2q6gW/9a1vFc5vZxEzlXFn82ddAJjNq5cBfXcBYAYswngXyPGDCcmG9vjjj8v3H9wnT+6MV2Am6zvAhjJbCBG0MEGX2GLYipkbr5SgWUCA3WQboVyuR4m03Ah+fTlSWFhkhJAjEVU1BIAKwCK819M/JCvnVdl7v1lqt66ZXyWbTOE4EvnnVZcoAGJUnfBKgc8r4BHWVIesGTd1ZhFZAJBp3NRRJZubrQl0TansHA8dcuMl9EyOHoxjvtcIWa84vFNe+fwjMr/9gOSavAeHcnLl0bJ5ck3jeunyBUWpTy3XfGWVyPqDDynxCVbWv/GdLFJcGackrioJypGeAblk/QY5d/lm+caTH5cdXQulKbdVetdUy87qBrly25BcuntILm7dJLtHQ+ItaZHSU+5V6t/2B98pEjbECeu8lXJ+/lw1P9cPviyHIyEluKD0mTkvz87vzy7vzy4Eu8g0Z1yT+Sf2jZm4bnbhXLtqLQa4iw8XUzJuqylcbFS/8ShWWTejtnB8uFjVEbaATjsWcOmckjiPQR5Igv586TKd3+77AUiGBdeATUYGpb6qTGorSg3GrsAAc2ZgR7rD5s2bVRoKal4zI+f0O0j+35YtW5QdDGDOKVhjDzz44INy+umnq8/S+vr65Omnn1aKYsLDH//4x2XHjh2Oz+m0z9l8nAsAs3n1MqDvLgDMgEXIQgCI0u/ZlmG56bEd45USvIq9Gi+mEQVzRlgXVbBhrjvZBpgrIqyLKfK4qhXAw40OcYeRo2fkAyowN2AoXc1tRX2JvNTcGw+0Gitks6lmsCEGyVdMD2AEzz3Chpyf6+mQNYIWQpOK5Ry/np2q1GD84kGyAQhidX65Hjd2TIOjwDiCyfOwFBQWjnstjkpZYUCZO5tzKw3wGA9KUDRv3XtY3tT2sry1dbPUDfVGBST0H+Pp36w4Wx7NKYkLrRLu7tq1Rd42uikKAp9fdJ48uD/ehFgLID5/3u0y7C2Xq5/9d8GPrmlBnzy9dKWc2j4qP/nnoLww3Cfvb9ssgQXPScGi50XCudL+wHui8/+RwEop8eRLezgkPxvUbKE9IMaD0ZyXx3wBfpkL3Rori+NYO163lofjtdUNZRMqxKyaVxnH4BrhYl9cuJgUAXI92W+62aUI2IWj1y6If7BQ9YCxFTKVeYN14yHEvG+XN5TLS/sOq3KHrH95gV+W1pXJocNt0rRw3gRWzjMaktb9e+Q1r3ql5I9X5qCvTs2Z+/v7lYoXGxb+NjNyTr67LS0tSsVLqHbZsmW2fn5250Hk8cgjjyiLF3Nd4ZdfflkQu+3cuVO+973vKSbQbbEZcAGguxumNAMuAJzS9E3rh7OJASRJO7+gWN783b9OAFqpJkUpg8cFHkooELV5iSmDNZhDPTsVZTC0E758AV+uVARyxes3auvCBtLISezoxRzZKGlH7mFTfYVstFQGWT0/3mYF4FldFJTW7piqF0YF0AZoLAzmCzlzeO9RAYJiIQbLGVGCjP1tvdI/ZISQEZbYMU6N5UHZ3xGrU6zD0WYxQswEOqYRNrzxYj5yNaEe+XznJll2cLvkjbOCYJiOYIl8v+4UeaxsXnTJCK16j+yLgkDCwb/PP0kORYywHE0zch4Jyw/ffqP8cNNHZH9vgywqOCKbz1gjvrGIPPp3wrMReW3zMxJecb/4a/fI2FBAKndeoYBcufjkg8GVis25V5dByOkAACAASURBVPbLU/2xnDizsbW+pq3fnxLVxDOna+ZVyyaTjQtAqxo1t0mdWxr0SW9oRMzPB/a5mNi4xJ9fMXfWOsvVxXHqYnJCKV8Is6ybIaoxDJ6NvLmAYn7J5ysv0oxcQLCY4SGA90uCPinM90hZocH06tbd3S145lExw9pg0vhuUoZt/vz50bcBV9TYLS4uTvX1FAyZOU9ra6vKwSMM67QB/hBsIOA4ePCgApJOWEAqgBBVIHfQfDxA8oknnpBDhw7J73//e3nggQecduW4OM4FgMfFMs/cIF0AOHNzm+6ZeQpGDJIN7bnnnlPJ2t+6e7M8s6s5LkePsK6uQRtn8zJurjt5ZbAB5qjGgI+eDn+Su0QjrEulEAUeqXk7zsyRs6fbsvrKuJAdiftBf14ck6QMnzv7lOJYW9hg9As4RGCib1Dc6A93DUTzHXsGQqpayLMWpWZjRXw+GZ+DYTSHOfF+22URazTNKZYtzXZ5i5ZwcSMVJmL5h7CY5UX5cexVZXFAurr75V2HnpO3tG6W4rFYiLItLyg/nHe6AoI6h60h3ClvH31eMYFhyZHfeU+QZk+JBdB0SmVhj7zzjJfkuhcuE59nWHrPmiuR/Fz5w4ZeWTgocnv/Yblm8Y8lr7RNRnvLZEHb/1OMaIXkywX++VKS45PHGo/YmCFjtxPLf2M/1ZYa66KbXd6fXV6ebYi9rlQ2H4qxsJxzEf57LbFQLQ8neAuaAXdMXWzsOeb6lcsbFcAsL4rlyXEc3wNYPR1qLS3Ml4qioBGGdtCUv+YwPpHxwrCOjg5lk0JlDLsGACOUSzhVs2mYM59yyilSUFCQ8sqAMUAXIPDMM89U/qBOGzYthG4pBcc5UO7OmTMn5cexwHr22WdtTZ7JKbzxxhsFdvH2229Pea7j6QAXAB5Pqz0DY3UB4AxM6iRPmU0AkB9lmIHN7WPysevvncSIIyqca9iT+FT4E3BF9QdurYA2o2aqwcyRE4jhMwzapFqOSIEvV05cWCdtPSHx+3JV7hwiCG34PDJmKIUJ61aVFMRVmFAl5AowBI6FQwFVR3oG48KoRrkvixgEQ2ALU2UocWMsHWNaPKdUdjR3RodHziQ2O/aMX2wWDFVsvFhAW86Y58rsXfea9h3ybweeksqRATXfzOpTxfXy1bVvjNbcrQt3ycWjzyvLmQ4JyA2+9dHTrVtUG62pfPbSF6Ul9xQpGA3LroVL5MhYrlz6Yp8UDQzLP0pC8tz+VvEUAKwwESwXauCamVOAU09/KGo8zUVU1QyLH58dkLPL+1s8pyxuHg0gF2/jUlMSGK+vG2NOCRfvbu2M5cYVBWTpnDL1YAEjpwAeuXNFfuUjCbAjTcAJw5XOntUG77Bf2hbK/HmEELt371bsml0DuBEqhYWDBbTLr0vVH1hAAFe6fn6EavkdI4ewublZ9ROgmsrdANUv4V5Aq7WRV4j58+tf/3q59dZbU3X9uHrfBYDH1XJP/2BdADj9czrZM2YTAOQGgR1Dw7wFsu7j16tqBtTVVTVTUeuqMGsMzOmSZdEcvX4qTUyS7cwRBdo0E5ivwWMOOXoRlaNlgMdRox6sqTIJYIBbvjk8Z+cZp3LHLCXGVGUHa8hxfrVsMjFVrD2qXnNuF4xfaGgkLlS+ZE65bDeBPT5ngMJ4ds9OVWotWwc4xVT6cHcsXGxU84gHVXbs2Pvyu+X8jfdI1ciAEoj8sXZVnCilNtwt549ukScbz5EXW2PhblUzOECpPAMQ+7zDUhwoUf83Y3RrXznWLlfypMW18k8LIDZYUSsjFw/kkuX9sRdV3lyhX1bNr1b+lPx/dKBHmX6vXLJA/a0VrfwboDidTVf4MZu4p/q3NngHNBGyXbfOqNCiG6FZQq3k5yVqsISEiTWgoj5vOmxeV1eXApGwhun47sFM0u/Fixcr4Pnkk09KXV2dquyRrAHysHpJBGrf9KY3qfEw9lRgcjrXL9PP5QLATF+hDO+fCwAzZ4FGR0dVwnM2tK1bt6q+Up/zI9f+Re56ctuku22UR8s3wrpUC8mFmTPCyGZbGQM8DqnaulMRS1t98Oi4lTVCyWll33QtYPNAE/oEWoQZJy2snWAFsrC2LA7gYHbtzRXlhaibXT6c4VNnZfwm+tQZ9ibxLKO1Zi2AmDDm8pZd8lSpcZO2A1VOc/BOXFAzAThbzwcwY13JfdTN2i9eN1fzIG+TcCrqX3wCYeG0ghVxBmwy72MZVF4QkLKigMq1s2uavQakpNMANHxHAXCpQJx+n4c6Gg9LiUouWl/XpRexhfrHP/6h2C+zpQr5cAAhrFYSNfpKSJXPAcBQ9KbD5hGSRYFbXl6ucgedNh4MiQxoA2fYSlTB5BKaxR3W88EW8scKdvVx73//++Vvf/ubXHPNNfKe98SERE77dawe5wLAY3Vlj9K4XAB4lCbawWWyCQBix0Cu0OrVq+Wvz+yQK358txohN/eioF+pFqNhXU+uodbVHoEWte6kw7oO5tTuEFWP9aCRkK+bHShUTJUFyK1oqJCXTCFeo9ZwvLkwjBKso3lceLptPRB/TSN8GQ/QDHsTuxy/mEjCYPwCcYwf1+wdGI4Lo6prOhmnjXedPcs48ZpW7z0ncwvgPGvlXFWnWDF0iCAKAwLANgQQhFkDRph1XCDB69MVasVfjlw4wqN2pRcTgTvAHMCKfmjQZq7ak+jf5NBNxryY34Pt27er6hdmsLd//35llJyqJi7HAHZPOOEEJQxJx5wZBhDGjYc8Pk++r5PG9UpLS6OMnxalmKt62J0HRhPWMtGY3vGOdygwu3DhQrnqqqucdOW4OMYFgMfFMs/cIF0AOHNzm+6ZswkAktuDGpGbA6G113/pJjl0pG/yYd10J2uKxzdUFMmBIzFLGNTAhKTNwowoK2UqIbduIblv8bYrdrYfdiHkuZXx9i+wb4A5cwkwgy2LFyc4rXxh5OXFW84sqCmJK1lmpyRGeXrIZKrM1FrVtLxmN06AM3mLfk9YaitKpLKkUOrLC8U/rmQFmBpCCC2GmJm8OS2Y0HW0rSDO/H+sTgAm2nPTCYgzHwOYmy4wmmwb83swMDCgPPBg4QBWNC20WLlyZcpvAWHcYDAohw8fthVYJDoBQhIe8lATWwFosovCOtbU1CjWUTdd1YNwdCJByZ49e4R1STSmN7zhDXL55ZfLZZddlnLMx9MBLgA8nlZ7BsbqAsAZmNRJnpKnbX70s6Ht27dPufLrPKRP/uJv8sfHt2RD11Uf7cCMYfFhrQsbn6tHaJhyb/gM6obVC+XEzM1ODKIYPwu7Z+fjZ+TqxYQkgERYsvaemADFyPEjjzImijHsWWIiEvpjl1doN/bV8wybG503B2ijDBtWNjqPDmEMogcF6gqNcCv/xh8RE19YKg1SprIRAGaJgJx+3fw+4E6nTlhraVvBHf/n4QU2CQYQQHI0wNxk5kOLQeivGYSRK0d4GKVtqgaTh2KfeTnjjDNSHR59nxAzTCPAE3sWmH4nlT3wDpw3b55UV1fHXYs+UOEjUdgdsMl48Q60a4BHmL83v/nNjsdwPBzoAsDjYZVncIwuAJzByU3z1NkEAAnZkIukk7YffGGPXPbDu9Ic8ewdjqKzyyJYsBNJKABl8X0zKjYcjOu8tS4sb04Qg/h9MjQSX04slvtmVqPWyLOW3D070GZW4urOGFUtDAaRvDn6gHqZHDkAG8CurrxIATtED9q6xMinS5w3l2qlEgFAnTeXCtBZQ7FcD6YNgGYH4uxe5zUnAgHCoVVVVTJ37txUw5rV93kY1FEBjJx1KBawBONJiTQnDSEGimJMlp02c54hAJTwLPl5qcAy1i/0i9xBcyOnkHlHEawrfZjfJ0+Q9Vu0aNGELrKHqBH8q1/9Kq0wttOxZvNxLgDM5tXLgL67ADADFmG8C1oxmDk9StwTErYJ25DcTUN1e8p/3CBd/aFs6L7qo52Ag/ClucYsuWdY0mBHo5s1lMvr9mHa+gnl1pSwYUc8y2hl7qhCUZCfK92DMa8+hA7cCDHQ1uIHVLIGO6jtSYy8OSWEKPSrfLpUN+x0F4uHFLvwKupPQBXXs4okzHlzGriZQZ35NWuoNd3+OTkelgpvuoaGBieHz9oxgGbmG1CLvQogChCIAAtGzw4s2XWW7ymsYToqYHOeISAUFhDBF7l8yRqiFdhCu5xBcgp1mTnrOXgPtTHsobWxf1AR42WYTPgyaws1ixd2AeAsTv6xcGkXAGbOKmYTACSniAR1czWC/7zxAfndhs2ZM6EpemKnbLWzKLFjASnHte1gR/QKCBswjda2KLwBCAPEmcUgqqTZwSOqTqtm3xBcADDNdVlzhvtlqL9Xzjh13Yz5zZktSpyKIXSo1crAYeNRW1urbuJ2OXXc+KcbjE52o5FTB/irr6+f7CmOyuc0AwgAZH0AYQAg2Hez0jZVZ/DzA6Az3nRAI/mHgD4aKR+EhU8++eSk6/jwww+rY+wMpzkfbCRRA/ISzY0QMQ8QdmvCnoNRBARrdXGqMR8v77sA8HhZ6RkapwsAZ2hiJ3HabAKAutqAOaz02JYD8q7//dMkRj47H4FpI+ety5TPR4iU0nBmu2mlbD0UA3v09uRFtfL0OJOHgATV6smL5igGVKtaMQ2uKStQfnm6GgR/O/Gb4yYPy4oPm5Om8+YS5cjZhWB1vqmdRUkqYYQVzN1///2qr05KjTkZz0weA5Ai/89JhYqZ7Eeqc5sZQI4l9ItQgvVinp2GsCnJxl7iszD2rG2qZs3JA4Qxb4R3rfl9+lxODKcJ9bLvCOmaG5YzsHwISKwNEQnMIH9PR45pqrFn0/suAMym1crAvroAMHMWhR9QnvSzoZFcjuLPbC0xFg7LKz79f9JmMiTO9LFYGT/y5niNih8weDq8igCipAAgZxgL83dFEWBu8nlzieaGfUAIjhs3DEwy3zkzsON8sEV2YdZkeXRO8uZSrSMAEGYnHdPgVOecqffJp4MJswMbM3XNdM+rAT0PhXp92Af0nTmGbXXKYMLeodjnXDBzTvwPCTMDNM3H8lCSrL4vwA7DaR4KE3n+6dq+iMfMe4XcwSVLltiGmAlhE/pm/JOx0zHP/U9+8hP5zne+owAxiuMf/OAHKjSeqN12223yhS98QbGP7Jmvfe1rGSVEcQFgut8s9/i4GXABYOZsiGwCgOQjEUp77WtfGzeBX/rdBvnl/c9nxKQSltWAjZDr6GCvLF80bzz0agA5KmgA7DTQm4m8OW1R4sQ8WB+ja0I7NQ/WoO9oWZRYF/jvf/+7rF+/PisAIHlqyZisTNi8dgCQfpF2AXgBLDllMBFx4NlJ2BtbGBS1qVhAq6Ez12ZPAtTw4gOAWhvgDoDKQ2GycD/sIvWCAXW6JcsdxLeRSiBEHaaSRvD73/9eLrnkEgEEkrpy7bXXys9//nNhrHZsKown4PArX/mKAn1/+tOf5Itf/KIy52avZ0JzAWAmrEIW98EFgJmzeNkEAMnneeSRR1R9TnPDRuWt35iZep1KtTrOvpkrQeg6rfo9bSRMqTh9w8A2A6Xq6173OkdK0WTsnBOvOfMxySxKEoVaudmhxEQ1mQ0tmwAg+xYLFTzuMrUlAoA8IABAYKPsBBN24zGHcwFT5N8BIJM1q6GzPpY9iQ8hAMjKHBNiJpT7qle9Kum5+W4AFM0VTpLlDsIqfvjDH1ZClqkAQPqMkvmnP/1ptH/sgwsvvFC+8Y1vTOjzxRdfrOx3/vKXv0TfO++885Qdzu9+97uM2DouAMyIZcjeTrgAMLPWDqCSDS0RoOLGdcbnfqWqPCRr5jqt5moQURBXZDB0ShhRFFCiianUaeWmQ5gSxlKHp+wsShKJIexKezkJtZrFEumEWrnRErrLFgBImS7yy/B6y/QG2CAHLZWidTbHoQGgVlCb+wIgAsQhtnDSzOFcbcfCWuXn5yf8uJ2hMwfDAsL8Az7NZs+8R5gZ4OjEbxBWkoccQsGMEYUvrJxdn+666y751re+JYDXyTa+v8zZLbfcEhfC/djHPqZ8EtkT1gYr+IlPfEL90e373/++ChsDgjOhuQAwE1Yhi/vgAsDMWjx+qHSFgszqWXxvyPeB9XnNa14zwd3/D/94STbva4sTPuhqEAgkZiJvjt5pixK7UCuAlRwmksjpu2boUlmUJGLoppqLlGptCfNxk3EBYKqZSv99mGDCj06MjdM/+/R8IhkApK4vexwA6CTn0hrO3bRpk1IRJ2MBk4kyUBWTEweIND/UAOgIUTvZs9papqmpSX0nYWUT5Q7++te/FsK3diDN6WzzQEXOJHNHCFy3r3/968pfEJBsbXz3f/nLX8q73vWu6Fs33XSTqkaSKQ/qLgB0ugPc42xnwAWAmbUxsgUAwgTcd999qsC8nbHrVGc1kUVJsjqtiSxKNIiDdeCGAxNgruU6W3lzyeaImyz91T6LU53Pmf48ewEGx87+Y6avne75H3jgAcU8Oa1vm+75p+N4czqINexJCBjQxDF47qVqsHKMVee5OWEBYfkIM9uFybkudi4AKrOXItZQsNZOmUmETgAzxsD1+C2xC/Fec801SoF85513phpqwvc1ACT0bP5OIeoAYKJOtgOAgMN3vvOd0bd++9vfqpJ05DtmQnMBYCasQhb3wQWAmbV42QIAmbV7771XhXtS3fTNpb3sbEqSWZQQrk3HPDhZaa+//vWvKj8J9iPTW7YBQPYCCfNWf7dMnOdsyFdMBgBhwgBNMHmArVRhdzuPPUAh4dZE1UQASijQE9muUAYS1gwwpdlwc/UQJ+uuRSWIWQCDiSqVwNKhPr7xxhudnNb2GDcEPOmpy+gPxuonZXQ3M7dzLgDMrLUBDGkFaGb1zOgNNyYdaiWcQu1ObgCpSn3xWcJFTipAmI9JJ28u1XxlE0uF6S5hNnO4KtX4ZvP9bAKA2ZCvmAgA6nw5wqywbXzvrJ561n1ACTbYOrNyFxUuYd5EpdkIyRImTxRiph98HisdzSwC4rCHcsJK6j6S6sA+h/kzm8qbx/DZz35W/cb86Ec/mtIWRwQC84sKWDdA7gUXXJBQBAJbes8990SPf8Mb3qBAsSsCmdJSTNuHXQA4xal0AeAUJ3CaP360AaAuOG9X3isRWwdA5QebmwBsGiFgq12JXe7cbIdas4H50duJcBrqTRcATvMXbJy5znS2MhEA5LuHYALmXTNoqVhAwrVU0KDShrlRfg3GnIc4ayNPEsCUjNEl54/8QlhAmHptN6OrhzhZOcYJ26jEY2ecYfuRK664QoWjr7rqKienTHiMtoH52c9+pvp83XXXyfXXXy+bN29Wopb3vve9CihrRTD9gpUkTAxIvOOOO+S///u/XRuYKa3C9H7YBYBTnE8XAE5xAqf541MBgPqmkYqNM4M9c96ctbxXsmoQ/ODDEmCmmslqSvPyoALmZpnJuV9mAGgttTfNW21aT5ct4XW+I7CVmZ4KoL0jedAy58Xx3TYLJgjDpmIB8e4j1Es5NXNLxAJqkJlIlavPwVziK8h5AZg8sPDZRGHlRBuOMnWEeAFbduIqcvDID/zUpz415T0L+/ftb39beSnCnKLq1aFnrkGFGIQfut16660K9GFBo42g3/KWt0y5H9N1AjcHcLpm8jg9jwsAM2vhUccByrRFSTrmwdwIaPyIzqRFiZ4xQsAoCROVhsqsmRXlA0gt1WwoJ6VzrJxYasz2PGtQNVOCoOkcnxYvYVaczAZlOq85mXMlAoCoT/neabNlXVmDMnyJcnGTmSzDAvIwhzhKNw0yAcmp1O6UZyMXEaaaUC6/O07rDevrEcqm2gehZACYtZ1//vnyvve9Tz7wgQ9MZiqP6c+4APCYXt6ZH5wLAGd+jtO5AqwPT9L8CCeyKEmVR5fqRzud/iQ7FmaB0InTigTTdd3Jnkcnz1uZkMmebyY/5wLAmZndZPZFM3PFyZ1VA0BrDiwG7IR0Adu6oWDloRE23q7hG4gBsp1YBPPmp556SoV7tTiKqiGoblNV9NDXwjOQ2sR8jpxBpwbV+vOEjskdJN+O0Cwg0tx4CKIc29ve9rbJTeYx/CkXAB7Di3s0huYCwKMxy86vgfM8P6Q6p2628+aS9ZwbB+DPbAXhfKRH/8hsqAChZ6W9vV1efvnlpHVKj/4M2l8xW1g1eg+jjg2M2RA8U+bR3I9EABCQBOAyK2b5vcBGxY4FNItGEqnfyYEDaFIVg0ZoGOFIqooeur8YQKM0BgQSDXBao1h/XoeOAaMASHP9Yfq/du1aVbINz1G3xc+ACwDdHTGlGXAB4JSmb9o/zJM8LEU2NPJ/yP9L94l/tsaWDTVg9dyQYM+NOZE1xmzNod11swkATldJwJme/0QAELBF2NaqmOVhAbBkFWCYRSOJ6v9qVlGzgOlU9NDzQBiYh1fAm12d4GTzBYMJ64dIhd8Uc5USxkRYGAW/U3/BmV6bTDq/CwAzaTWysC8uAMysRcsmAKif+ikOnw0NVR/5SVhXZHrLRgB4zjnnKOY6kxtsGakA1LCeSl3ZmR5jIgDY0dEhiCas1TY0C3jqqafGKXed5vOh5mU+YAETXSPZmGEmiQiQS2gtEZdqrgC0OnSMPyFgUOckMg+kbDDmdHMLU133WHjfBYDHwirO4hhcADiLk29zaV0BI7N6Zd8bfqyxgElVWD5TxpJNOYvchJlfp2G42ZxjHlrw1ssGAEiYESYYAJjJLREAJDeUnDmAnrXZsYCIRHjwSZXPp1lAzsscIcogpJxOw54GsLZmzZp0PqbCx7B/hI51TqIGsrCRjY2NQkpEtrgNpDX4KR7sAsApTuDx/nEXAGbWDsgmAAhrQI6inY9YZs2q0RtdvirdHKXZGAsAkLCaOdl/Nvrh5JrZIqxgLOS3IXA499xznQxt1o5JBACpEINlCobG1mYGcdq/TwMqJ/uI7zONGsnYpCAcSachNuFhAHYynWo71rrDAFnOg00LCmGMpcndRK3stvgZcAGguyOmNAMuAJzS9E37h7MJAOJBxg91Osav0z5haZyQEBX5STAKmd6w13j++eddADjNC0WeGvsg0wUF/A6Qr2hV9Kcqt2YO5TJ1jJd9hPF1qqbDyNixENJFfOG0abEJLB1ALZ3fBJh5ogia4dPWNoBcmEiqb6ASzuSQvdN5mu7jXAA43TN6nJ3PBYCZteDmCgCZ1bOJvUG9x00jndJPszkmlI2EmnTpqtnsS6prc8ND7UnoLtMbeWaYbGe6spZ5JKTIPiBcPVvN7PEJs2VXhYfXUNRaBRWUW+PhIFGY1Sro4FgYNacVZTgW8AeDmKrEnHn+eBAktxKhBkKOZL6E1nm38ynEDouxAGCpBLJ3714XANpsWBcAzta3+Bi5rgsAM2shswkAkovEDZWaodnQAFSEt+zMZjOt/y4AnJkVmQlmVYdrNZhLVlZRv8f33Fob21xOkbA6oV6Am5kFBAgRxk7k+cesmW1dyJ3DoBmFr5OmPQB5UErnwY5xAeQINSPYoP9OASS5g1bAyPkI1QMCv/KVr6h8WLdNnAEXALq7Ykoz4ALAKU3ftH84mwAg+TkkpdvlI037xEzDCbNJtZwJTJXTKdfeeuTVHS0Tcqd9sx6HuhrVaSJxjZWdM5dVTMTW2ZVTtKuNbX0tmccn18XbD59Nc8oCJckIDWvPPrt5MJs7w6DBGqZjocJ1mQer0jjZnAPU+ByMtTmEi7o3WUtWdg7gessttyhmEXDpNhcAWmfArQU8xW+FCwCnOIEz8HF+4LOhwVDwx06RmIn9R1RBaMtsNJuJ/aRPAECS4zM9V42+ZjIANLNzgCoYMfYsoMoK7vT/zRV4nAA5XZnHWrUj0d7i/OZm/T/v0ZfW1lZVFQgWUJ+b0CjHp6q3CwsIwMScmfNQAtFpAyDzYAcrZ1c9xO48hI15wNK5hvQTNjGVIjiZTQ0sOCwinof33HOP0+4fV8e5DOBxtdzTP1gXAE7/nE71jNxQ7W4KUz3vdH8eRSJhYIxbs6FxY6P+azbY1mSLWIF1P1rmyqnYOTtAp03VESYA1BAS0F+8IDW4M5dWTLcCj9331PoaIDQZ4NPHa5GDHifMIqCKSjtauY7wirGk8sTTLCD5roSMUwExc//4nsDiYfHkNIxrzTXUIVzSQ0pKShL+PAASEYEQOrYTebz73e9W7B/A3SnAzsTfIv1QMd19cwHgdM/ocXY+FwBm3oJnCwDMpnq1rHI22dbAqBBSQ1iR6W2yAFCzc07CrNPFzvHQQhg1kSjCCTtHvwEr+ljzZ5I9uJkBjh3YMb+m54bvGEpYwrEAIPYwFisLFixIuS00kOP4ZDmD1hOhGga0cV1Cx05YQAAa82qOBhDC5UEmGftoZQ6tffnMZz4jv/3tb+WnP/2pAAazvSGywWKHxrwi9OGPtu1Jd3wuAEx3xtzjrU+j8fEId35mfQayBQCmyqea9Ym0dIAfX1qy/KlM6XM2AUDYIhL5UdbCuCUTQ5gFElZ2jgoQZlbOjpnjNaf1se3AGDYq5MRpoKLZOQ3oNFNjBndmYGZl6/R+sQK66bAsYa6YI1S1CJfIB0QMAThzomSH+cPyBoCRDgBEJQ3jCHgD3DsRg9j5EwLaMaGGfUR8ZddSqZQ/9KEPKdUzYwYIZmOj/1dffbVK6eB7zZqSM8neq6ysVCK6Cy64wJFVj3X8LgDMxh2RQX12GcAMWozxrvDDaQ0bZV4vRXlzZYtVCfOXTb6Fs21YnIidswuzAhIAKzSAT6K8OSvA0/93GtpzGm5NxM7RP5gqbYsCkLQDdKnYuaP1XSQEzLwePnxYgVZYQPJYAQ1OzcxR0jLOdPJ0MUyHYSR/kM8j8kol5iCvkrm1egeSIoKpOabSdvOarLIJ8/ye97xHpZh89rOfzUobmLvvvls+//nPKxCNzyH5xwByUlEAgSimH3zwQfU7Sv7kN7/5TRV2dxoydgHg0fo2HqPXcQFg5i1s0rFMAQAAIABJREFUtgDAbGKpWGUS0wErTvOaZnNnAABhT173utdNuRvcTDSYmC52zgzmOD83MAQr5Kc5Zb9ShVvN7JwOuzIZVnbOytolY+M4FlADwEm3Zu2UF2ISJ2C/ahaQvD+AFkwgf5w0ACNMPSFvQIeTxvxQ3UfX4IXhTZVDiD0NvwfW7xZ953wYQ9uVciMcmqzqyBvf+EZ517veJf/2b//mpOsZd8yWLVuU7+T555+fkAWl07CtX/7ylxXAx/YGsO8EBLoAMOOWPLs65ALAzFuvbAGAPME+8sgjGV9XVa8wOUkkx6e6mWXCjqCfjz76qC0A1NVikpkIW5k6s7I1ERNnJ4pwws6RyI9Vh7W+rp0YIhk7ZyeG0KyieU2mGm6FTTtw4IC6yToFq7O1JzRwJ8QKUGI95s2bp1gkJw01MMAMMJdKOazPh+iC7wgMIADUCQvId4s919TUNKFbgENYTPIJrfOdytj6rLPOkv/6r/+Siy66yMlws+YY1tXOMgkgyPe7tLTU0VhcAOhomtyDEs2ACwAzb2/w1Ky9xTKvd7EeTTb5f7bGlInG1XbsHDdSGED6S6jPCuZ07hw3kFQ5c2awN53sHP3WoJIHAcAqHnAaMFpZOb3mqcDb0QBkfLd4cNFhudnaj06vq1lAcsiYH0CWHZtmdz5tfQTgJZTqhAXUFT0KCgrUKZ1YuhDKZO3tLJaYb80qYjBtbuxxHiDsSsexhxCQIACZDibc6XxP93EAOuaGcDdhclTdhNQZN+CYNeE1vqvpNhcApjtj7vFxM+ACwMzbENkCAOnn3//+dxX6m8yP19GeeVSNJGSn44mWbh/TZec028uN3QzWuGFwsyDslyinzgk7R/+nI3cuGTvHe1h5IFSwhlWPBqBLd404HsaKHNZsMDHXLCAMIEpb8uxg9Jw0QvNY3rCXUAOnskBiLclJI2SMDQwNppl0BPL4YAXtWip1MgBUe4aa90QyX0P6snDhQuUBmE4Oo5N5OZrHaLbve9/7ngrHf+QjH1El/v73f/9Xvv/976scSf595ZVXpt0tFwCmPWXuB8wz4ALAzNsP2QIA+YG+9957lYeXvllk3mzGepRu5RIzO+fUqoTjaFZ2LpXC1crO6bDqeeedN2FKU+XOmdk5c76cPtFMsHPMLQDFacmx2d4ngBpYQIBFKoHDbPeV68MCsrdg0gBx5uogyfoHa4hiGPBHLhrAjgeKRI3fng0bNihBgvmhDkNq0hKsIg99HtTJhC0T9YsHI/oOQwgg1Q1BDgwYQM/atEqWMLbT8HUmrJW1D8wp328YcirQfOlLX1KCNJS/73vf+wSm9f/+7//kuuuuU+bbTnL/9DVcAJiJK55FfXIBYOYtFk+MOsyXeb2L79F9992nnPp1uCiT+0u+ETYghJsSVYGw5tVp8YEGcE7z55yWREvEzpF4z42Y8mpWwJYIAJqNhFmHoxlu1cABRi2Z8W8m7Q/AB9+1bBAFaRaQUDvfNYCCE3YVL0lYZJTD+Pvx2WSVcACaXIOHOjPDnMrYWTONyYQ1fPd4UAB063Mns7Uhd5EUCPIHraHjqe4jIgEf/ehH5c4771SnetOb3iQ/+tGPEubewdL9z//8j/B7x+8I83nhhRcqwUaq/a4ZQPIqUTPjZ/iNb3xDrQesIHOG6IZQN1ZKLgB0vrpuKTjnc2V7pAsApziBM/DxbAKA999/v7oZJQoNzcD0qFNOFzuXCtDxPn+c3Gx1v8xjtgN4ToyEdZ6a2YIjHSPhmZr3ZOdF8QgQzAZAxThgtGClzjjjjIxnsLUtD6wlDxfJvPXMa0ToFt9LfPgQGOApmIwF1BVEAIDWRtgcUIZvnbVppjGZOIUxAEgRsWigmAw4EjKm74DSZKzlZPb6G97wBiUEgnWjoTImheGuu+6yPR2m2gDASy+9VD1Akrt3xRVXqHW49dZbk3ZB5wByTUK/gEDAI9ckHMx3HVX6n//8Z5WS4AJA5yvqAkDnc+UCwCnO1dH6uM4jO1rXm8p1yBfihpDI6NXpufnRcxpm1Sydtglx6jvHUz83lURVIKx9dZo7ZwV8VqXrZI2EdT1XO2Wl03k9mscBHsgFJHw43TfsmRoHLAzh0dkKMep9b977+t/Wv9n3gCHCrIiEnOSyAhgJ2+oHtFQsICCRY3RNX/O8a2Nnu/JurDuh6VTiFF2JRVc2SQYcySuEASdX02m+q5N9AvMLiKPPOmWBfyOS4SEGNs5Ju+WWW5RPIfueEG+qhr/ipz71KfWQxGduv/12BfxIo/n0pz8tf/nLXxz7O+pruSHgVLPuvp90BlwGMPM2SDYBQMKUVBmw/vDzI+c0zKqrQ7ASsBupWDlzhYh02Dl98zHXLk7HqsQOEJp+iKMbabqMhLXRNlYYTkPKs72byTPjYcAup2u2+2Z3feYYVsya8zbZvtoZaCcDdDpnFIBj3dfWBxtAhq6CAnBKVWeXMVChBYZep2h0d3er+sJ8B+xAeqrKHInKu2Edg6o6VTiU7xBAiNAuytdkwBH28v3vf79i6pwy8E7W7YYbbpBPfvKTCliaGzmMiDIuu+wyJ6eRn//85/Kf//mfSt3rpBHuRvRCCPlf/uVfoqF4Qs/k/H7iE59IW0znAkAnM+8ek3AGXACYeZsj0wBgMnYOZS01LbmBmQGfmZ1LBejM7zsFOumwc5qRQwlJ8rVmAK2hFqvS1Q7c8dp03oyS7T76Q4jSTl2bebvW6BH5WrAohFWnk7WZyfECSAhdMs/mZpdmkIqpM5e3M+9raw6p9TvBXDnZV/rBihAk9juJRBmMw07Ry+sAQIQv5AZam11NX/MxmgXkumavOqt1TLL1Yo9gGwMIZX8nAo4wYpgjw4RPZ/v6178uv/zlL1UfzA0WGPAHqEvVUPOiir7kkkvkq1/9aqrD1fswtrgmpGJJHZ1s/CAXAKYzW+6xE2bABYCZtyn44daltWaid9aqEE6YOvphx87xQwjjw4+albFIh51zCuimYiTMzZOQGIyIWfnp5MY7E+vg5JzaRJc+Z0NjHWGDuJma1Z6Z0Hfzg4yZlSPBH+BDYj+vm99LJAKyEwWZX5sp8KsZRn4fqPObrExbIkWvZgF5ELLaN9nV9LWuHVY0nEOHoBMBzURrzvH0nXw4zmVmKM2fufnmm5U6FibQSUNdC2BM1rguQo5f/epX6mHQ3AhhX3755fK5z30u6TkIk+NLyO8eIhInFliIugDcXDudusypxu0CwFQz5L6fdAZcAJh5GyQdAGhl55yAOW0ynQ4zB7izY+f4QaUsFeEcc0ukVNXH8L5m4KyiCI6xKl/156aqbCWZm7HMVs5XuruNGz1hdtiSbFBaMz5YYQAVlR9msiULt+q0Auvf9Mcu3Ep/eYjBX88u9JpJDwl8xwF3mCgzPhg0u5ZI0cuxiC8I11pD9eTIEtK0E3roa2g7Gq4LCNJAk1QFJ7lwnEfXZOZcuAjYGVRfe+21gsgMJtBJ45z8SdZgeW+66aZJh4ARwVDxJhgMKtGGU/sr1gmvP+b3M5/5jHrYYJ+xF52yv3bjcgGgk53hHpNwBlwAmHmbgxsbP2Tmm1eisl/WHCJzHpFdaS/zzc3pTS0ZO8eNhBsnAHAq7JxTgDfV1WJeCSlxs3I6/qlec6qfp5oDN5psAa3sSUBrOh575nBrIvBm/Q7oBxlAh3XfJwu52j3IZFN5OA18YZXIuQRok4ZhbYSIUd3iP2dt5L8h9rCygNi0wO4lApX6PIBP8gUJg9IPWDqu4/Q7xXqTxwigwhvPbk2+853vqJy53/3ud1P9CsV9XotAmBttMM2/EaYkE4HA/AH+AKuYUwMCnTZtgo1XJsph5pe0A0A4D3Yoo9/2trc5PV30OBcApj1l7gfMM+ACwMzcDyjDtJmwE6bO6ZM3o02HndPHmj9jZuf4gYYBwK5hquzc0VgJbp6EgbEqmc5cnJnsO2F2EsgBrTMVWpzu/gOy2ScwLnaAzu41va9ShVetYonpmJNsKw+nWUBCqPTdLqwIuOIBjX1j1+xYwGSl2czn4DsP6APIsB6AOYBcOg0wBBgjX9ROkPL5z39ehePxx5vuhiULvoSwjDQsWQBh2gYGwEaFoxtvvFGBROYSRTKg+k9/+lMcG49HYarcZULrX/va1xR4ZM1gWQHaqIG5FkCa+UxUIzjR+F0AON074zg7nwsAM3PBuUEmU53qXh+N3Dl9LTuAB5NAUnk2gRNyf7ixZItfHWuMOS85SrOVV8eNyc6WJJHCVTPT7BlueqkUrhr0pVOveLq/uShcuSlzM870pllA1KOomAEpVkaKsZDyQIjVrsHg8WBBeoHOY6PiB+d2wjYDFsmfJLeN6wDk0mkwajCYVCqxE6Tokmnf/OY30zmto2Ppt9UI+pprrokKW0hjwKIFmys8EVFT2zGpXIx5sAqIHHViGg5yAeA0TOLxfAoXAGbm6sP6EBqwA3hOjISto5opdo7+wajZWcFk5syKeppH+QljkQ5zOpvj0Tfb6ahdy5qZbXpSKVt5GDHnjSYLr5rfA1wAWGFWsqFlW3k4zQIC2vh+w8KbG78hMPSENhM1wCN5fIAdGiFQ1tAOkFnPoVlA1hc2L9l17K4PCMPrj71lZ0vz3ve+VwFbJ6rcbNhfsIcASdTHqKgBlrxGriaK6skw2S4AzIaVz+A+ugAw8xbnD3/4g3z7299WT5+6zWaZr1QzxE0DUIq5ajY0ABD+Y+aKBJneb24SAG3YHIyLzY2552ZslyeaiLWzhludMHQAg3RuUoS9ACf02Wlu2GyvA4CE+cwGdlizgIAIwrmYGpv3BmFGmKxkCnLNApILyMMQoXsePJ0yWpwf8Mdn01Wq6/6x92AvYbjNjVq5F110kXzwgx+c7W0x5evz0PnDH/5QCUf0wye/74jo8BME7PI90d9Lpxd0AaDTmXKPs50BFwBm3sbgBxW3f0KVWCXQMvkGyk2EhPJsCgNz44KByMRwn7bpsYI3DHHJNUIQYn5Ph1utNj2pmLqZDrcCULCEgZma7lquM/WtzabycMyBZgFhlVhvcxULADh5bsn2OIADFhD1MywggiP+bVX1J5pvHjxITwB4akGF07Xhd44/AD9CwbCAZjUwDBkVMt7xjnc4PWXGHafLwP3mN7+RH/zgB6p2MMAPsQ02N/x2fuhDH1Kqa0rEuTmA6S2hWwouvfmacLQLAKc4gTPwcX6U+TGkzBBO+JnesjEMjHIRcEIFCDsLiumacx1udSqE4IZuF26FJeF1ci6x7rDLq0uViD5dY0rnPCS80+dMBNqJxkFOK4yUkzy4dOZiJo7VLCDAVVf40PsZcQGq92Rm0fSJByFy+GABAYDYOvHHaePhj3xDvkvpPKiivAYAoYolXYA9rgEs3xvSHa6++mpBsJGtDYDMgxb+grDn119/vWI0+T34xS9+oYZFXWAAID6GLgBMb6VdAJjefLkAcIrzdbQ+jmIMVRj1JrOhZVsYmDmFdUAJ7DTcxWd0lRYneXMa9OmwjpMwq7bp4aZhDbdmI6NG6BqgTX5YtvgY6hJ8AJpsyBHVOZp8B2HidCjVqaWLZgH5LhCWJTUCixKnDfEMYI6wOf52TptZcQyAJRyqw9j0iXHccccdaecWOr3+0ThOA7p3v/vdilml7NvFF1+shC/Y3PA++wyWE1GKCwDTWxUXAKY3Xy4AnOJ8Ha2P8yTOTZNKENlw48zGMDDhMeaXp+9kgM7M3ulSX1aLnmRlv7SJdjrsSKJ9Rk5dX19fUqPeo7VHnV4Hdof5aWpqcvqRWT0O8AEYyRYBi2YB2Rfa248959TShclGMEL+I4AX5jMdiyT2JAwg/cCT0Ok+R6DCXGumletrMQuvA0JhNbNl39htWv3wd9tttwlqZhjNL37xi0oxzd/kBeJziEk0QNDNAUzvq+8CwPTmywWAU5yvo/VxfkwXL16sfjT+9V//9WhddtLXyYQwsF24NVnoFXZKq6xT5ctZ2bvZCrdi+0HOFTcQp1UIJr2o0/TBbGPUGHZra6tSa5KYn47wZZqmLO3TaBYQEKXr/ALMYJTMeYGJTsz3AEYcJo4HIgyKnTaYR74PzBlgzSkLiAcg4WpdjQQxCwIJnUtI/jM5gjoP2ml/MvE41occP/bUAw88oNhSci7xe73qqqvkwx/+cEovQbtxuSKQTFztLOqTmwOYuYuFDxbqsZ/85CeZ20lTz6Y7DKzDrenkz5nDrXYhVytTR/iKsFk25HvpqSZpH9sIaxmvTN0krAk39rq6OiVuyoamvRexQ0knH262xqZZQLz1dD4f+ZcAMx4knTRYQBhEcu/SAYAoh6lEAlAGsKEGdsICwgxzHcKhuvEbAssOAwlw5YEnWx50koFrPR/k/eFAgAituLhYrrzySjnnnHOcLI/tMS4AnPTUuR9kBlwAmLn74G9/+5tccsklystrthindGYnVRhYq1utJe4SmQnrcCthqXQYOubKyQ2IsZEkD2uSbgJ7OvMy3cfCtLAnsslehXA7Nz3ETU7XZrrnLd3zkdeGkIK8tGzos2YBAYB4+wGeeLjRHn+pxg+IxKeOHMD/396ZgFtRXfl+pfM6iaZtY0w6MWa0jRNJ1OfQidoBgiaAAoIEEZFBBkFbQHBkcMABFEEDogIqAiJqmMQgiooSNeiLJh21Ezt56YwmZp5f0i/p/t732znrvqJu1TlVdarOqX1q7e+7H5d7atj13/vs+u81/FcSHUC9HqQRwgZR3rVrlyNuSbK+ka7Bzc7GQBvJWRAkrkflDTbAPlhg47DVLGDi/ZB6iRJyh3incbkH72UEsNGsts/rImAEsLwTBBclCwaB0Gk1top+qqC7VQkd/YWYEOwMaQvr0rEY0pKU+gpa74p8AfhYGo4+U2uXMlxZXxxFz4/w9X0rtUb/feuzWgGJx2NTg3UNIhi0sNUbd553586d7vtJRnDSTSeu4/3339+5aiHNSa2AxFlGJZzgJoV4T5o0yf3rA/lu9H1iDWNMNJ4xKPBPrCOSX6ybaZsRwLSI2fG7IWAEsNwTYtiwYS5LFYmAIlvQ3ZrE5YrVjkWMhS3oVsXqwILNyyBI4vR3ji3bgu5baTjmAS9JrCVIaPjS2BxojJkvfSaODreqLzI2fHexnONe5TsK+YOcJWmcS8Y27ly+v0mJI+59whGI/YNEYsEjg7dRJjHHEXoRJj6sIRBQNjccU7b1IgmWegxJZriw0VUksQ9MWTPVSwHBxWKKpTOqHnKjexkBbISQfW4WQI/nwJo1a1xVkDQLIcQsWLs1CaGr526tJ18Sdrc2cgOXcSh4wWsx+6RWj3Y/hwoWI76d5cXRjv6r9mJUNZN29CfJPVXGBjcwxKjsTa2AfA+JzYNcBF2s9foP8WKdIUGBTRHu+iTfB+SqEPvG2khDsBxiQzJHPfIG2WQDQyxcuCGbgosYi6KvjbkDkQYXnoPYSsgu8bv8MJ9IhPnpT38qzz//fKbHNAKYCTY7SREwC2C55wLxISwiZI6xGJM1x8447F4Nx9GpuzVJIkSe7lbIJ+5JXiK+uCfpM7FLxEr5EPCvMxYXGlYWX2rt0m/ixaLKfpX5W+hTeThwVCsgc5oQknCN4DissUJBuoiHZW7xXUiStEOJQjKHyT6msfZwb5JPomLe9P7EG0ISmQ/hhjwKXg+qZtAfHxtr8saNG50cz8yZM+Wcc85xcjtkxeOmh3Dz3eU5s9b4NgLo48woUZ+NAJZoMGpdofoHGXyIsuoPH0HUqA7C7jjKvRome+1yt+adDdyKEWKRxmrii6sPTIi1ot8+JVZQdQJXGC/1JNalVox9o3tgbcUyhuXSh4xUtQJiVWJzk1TKBmKC1ZDjWXeSWgEhaVhIg0QOCyCWwDgroCacIGcUZcFeuHChE8FnE0lcos9uYObX2rVr3bqddzMCmDeiFbueEcDyDTjFwVkUyaTjh10kiznJIEUmROSFhI9u4FaVhssLY66Dmx9r65FHHulcSj40CAlkKk1sWhmeC0FiBNm1ykYZ+lSvD1gBcc1CsrEyJYkDxDpFzCNkTsWwcR/XqwscR+QaWQE13rBnz56RG4E5c+Y4Sxmk6cQTT/SWAGIFZCNOQ/MPCzgZ1gMHDnSxmlhdNWkuy5wyApgFNTunCwEjgOWfDAT841IloDiNPle7nsxHNzBYkc1IILtPLlXVTWN++NKwDPHji7wKuLKpgQS2szxcIxmlsLwSx5OcgQQPVYUabR6JRaN8HNU8aPyfxB0szHHn1iNyWAGJfYsaZ0Sf2dT27t07ctpSFo3vIvIpvjdcvcuXL5d77rnHWeyxlIIzv8+bN0/69+/v6gFnaUYAs6Bm5xgB9GgOQKgOO+wwueyyy2To0KFe9NxHNzAvShZmXpa+NCwIZGGSDKKWhrL3HcsHcWO+WS7zLA+niVpxmpjhGF/+H5ZRigsD0XrSzAOIG8LhKAk0im9l/qMxybjQVMAb62GcFVCJXK9evbpZ6egv1l5IaLiaB4lXWMPi4vvGjBnjwjFmzZpV9ukc2z/VAMRFPmPGDJk+fbrL3MfDAy78zvNRwm/ZsmWp6wBzYyOA3k6PcnTcLIDlGIdGvbjooouc1QQleR+aj25giAnxRr5kfOo8wJLiU5UN+k18GaQGLUNfWr3ycI3KEEYRPQgCsW1RdaTrxfgmjYdTiyGWPCxxbGzqncsxfG+D0kI8M27hOCsgGxC1jEaNo9bb5jsVtCISC6oxhlHnDRkyxFnFqJThawN/XPDU+d26datLaFmyZIkL6eF32oUXXujG5v7773cuYfRT0zQjgGnQsmO7IWAE0I9JQawXCyJuAx8sPb66gdFPI9Dfl1gvZq+6VH2yXGI5IkYNCxCZ7WVrzN9wZj2yHpQORLaE76B+ruQuXIawnoVOSR8v/KSELgtG9BligRWQ2LN6WblUaiHhpUePHl23UisgFsCoOEIII1Im6PZFNUguG5SwBRJSSkhLnMB9nz59ZNq0aTJixIgsj12Kc5QAXn311c7iBwm86qqrXKb15s2bXR95PsJ6brvtNiOAGUbtDRnOsVMCCBgB9GM6sIjjwiGOxBdZBB/dwD6WhmNusEEgditKU62sMxxSwssvTdmxrM+iQudh0hblauWYoNC5ulSV9OG6Qx4F4homeWnKEGZ9ljTnqRUQSx7WuHrafJBb5hLagcFWzwrI9wXFAq4b18hWh1wGrYBhd3PwXEgnxJBM4FNOOSXN45bqWN0QPPvss84FzM/jjz8ubH5Wr14tK1eulBUrVsjUqVNl+PDhzsXfKE4z/IBmASzVkPvXGSOA/owZtSTJ9pw/f74XnfbRDexjaTgmA1p1NGJFfWmQB2RH2NCkffGp1EkaQgcuELQgoQv/HnTH8llYqkbLw+EmzVK6qx1jo1ZAxM7r1ekl2YxxQL8vTMiw4pG5HRaVfv31153ocz0dO7UCklyl5xNrixZeVAgAxIkKIRs2bHCSNHk21iQSTLZs2eIuSzYubtkkWfT0i4SNRx55RDZt2pQqceOmm25y57HpQQAagosO4rhx42Tu3LmZvTpGAPOcHRW8lhFAfwYdXSwERYm5KdJtlBcivrqBfSwNx8uULOY4WY28xjTP6zA/sI5AOJA7iiNzUfFzwco1jZIhgrWn89Ae9K08nFoBscThesVSHLV+sInYY489nCB6uEH0sPSFs4khfxD5ww8/vO7UCJ/PtSCmUSLVzAuSRki6Cbqj85h7/fr1cyETZOXSJk6c6NzTDz30UMPLQ+Iee+wx2bZtW2oCyDNp7B+ub+bh2LFj5eSTT04d9xfsqBHAhsNmB9RDwAigP/ODzDkqPxA7pUXFy957H93APpaGK5u+XlCypF6mKxIZED9tQbIWJnZRRC+t5TCP74uP5eHUrY0VECtxVJUe4l9xyUfVAGZ+RVkBITMkgjSSIQqfj7wMLSrWFhc76xzkMmkZuyTjSqwiz048Hu5oGr+T4MI6FXZ9B69JxjLuaK2QksYCqK7gJH1Me4wRwLSI2fG7IWAE0J8JwULSt29fJ/lxwQUXeNFxrfxAn9vxss4Ckq+l4XCrYWmpF4+VFQ8sbkndrUHJkkYkDksUxINSYrhUfbBsgyHWMuZJ3haqLOOT5BwdP0gVgs+4bMNY41mAeMWRLq08E7QCYsljvJNsSINWQKzsxFAiERNuxBxCDJFHQXw7r3bXXXc5KRYEpoMN9y/WPSxyUY2YPaymaPYNGjTI4ZaGAHJNdf+yMSJOF41DEnJwByN3k7WetxHAvGZHRa9jBNCvgb/lllvkvvvuc6ryPrwsfXUD+1gaDoJGMkgjGZugZEk961yQ8AUzXJPKliQtRYhlhjgxX8gUKwbkBIuYT+XhdDyxAhJ7t88+++y2+PF3klviMoWjMnqJG2QdSpI1r1ZA7sHGMM7aiHUQXMlIznPTeN1118ndd98t9DnYiDeE/KGzGtWo4QtxQ7+PlpQA6nfm1ltvFWob6/eBucOzMR6EbpB8E+V2T/JmMgKYBCU7JhYBI4B+TQ5cLmRNsvNmF+lD89ENjGuS+LSyypQExz0oWYJlhZcmcyNI7qIkSziuUU3p4OdFSZYomQLrrJaQdnwPkPPAgpOE/LSjf+F7qhUQ3TnCHFTwWY+D0LK21FtXwhm99eIGo55ZM4qJNSTOL8raiJv1jDPOcNbsJJvcK6+80smr1Gtcc/v27bJq1SqnPxhsjB/JGJdeemm3S5AsQvaujnUWAoh6A7GGkEys3IyDZp9jXYSAZiW6RgDL8M3yuA9GAP0aPF72uAwmT54sI0eO9KLzPrqBARaLCMkJrS4Np5IlSatEaAwdgeX88H9eNJrhGueGLZNkCVgTl5bVEtKOL0IZysOleW7NnGZegTdu92BpSWKLScoIWwaD99DqHowTxAb3PS5UrHpJmuoKQoIgXricww2plEsuucQRtSQEkCQUfuo1Ej3uvffe1C5gtAgXL168G0HDGghqVMbCAAAgAElEQVRhY8NCJm+jhn4ilvki5I6MADZC3z6vi4ARwOInCBpYiIHu2LHD7WrZ9ULeKAOUxeJBofRXXnlF1q5dW3znc7iDuoFxO/kincFjay3TZgWWoyRL6pG7YIZrOCminoQJhA6seZETW9Wo9FcOQ5vbJbTKxgknnJDopZ/bjZu4kJIZcI5KnGji0oWdyuaA+YUnAetTMHuX8nyQwr322qvu/bVkIqEGxA3iMk6TrEEmMusXUjpR1kbkX5YuXeoSLvJsmgSCpVPjZPmd73dcEgjrdZhcso7h0h0wYECiDQt6f3hsqGoSLonX7PMZAWwWwYqfbwSw+AlAADClfnBrIHnB4jdhwgQ566yzXJmgtI3aryeeeKJbxMtYRSHqeVh8eWH6pFMXVxoumOHaKDFCX7hgggs1zioXFVeX1S3EhkMD/dPOrXYdD0nG5U4mZpRVqF39anRfCILGrGUdr0b3yPPzoBUQgkUyiBI+rFkQoz333LPuLYM1fpFUgfymGTPWAUqhYTWMcp9T7vILX/iCE03OuyEDA4Gl9i4N1ywWfpWBYdNHFRKEmuOSqZLGAGrfiSfGWoirl2QZSC9WVqyvkGekYLI2I4BZkbPzHAJGANszERYsWODK/7AzTNtYgFk8OR8i6EMrqxuYl5ESuigyh2VK67Wq1Y7jaUmTIdQF2yqCgEwJ1hzKczV6mZdp7vCiZJ7UExUuU3/pC99FLK5s7PK27hT1rLopYaPAXMGixXNAAEm+SLKpVOu4ijZHycrU6z/eEL4/zNGwNuOiRYuca3n9+vW5Q8D8CgtBk1inQtBggnsbgtqrV6/I+6chgIQJTJo0yWWNQzSJvSTxg7hXNmlYjzUJKsv6YAQw9ylSrQsaAWzPeM+ePdtJAxCLk6Wxc2UhQr7Ah9YqN3AwwzWK0AX/poSOl5+SvLCLleNxAREbFbbeJYlPatfYoFsG+fMlQQGcGA+Ia6Ms5nZhGndf5HewKtHvMs8J7b9aAdHbQzwciRNIH9gj14SlulHjGrt27XKbJ9zIwVjCRudyzs6dO53EC67jcPwgCR1ItWjWbaPrlfFzzQDGyoo4O6oN4RKe4ICXIQnhjntGI4BlHH2P+mQEsPWDRdo/iRzUuhw/fnymDuCyIKaEnWWWnWOmmzZ5EjtdWpT6f9ylNcM1TZWIoGRJ0ioRcRmuvOgI4Pap9BdYNlNmrclhbup0wiOwCKWZI03dMIeTeYlDniBCvsS4qhUQDwREhAQFLJm9e/dOTGKxApKoQVmzRnGDQZgh+s8884wTj0aSBSHmoBUQjVMIJeujr03XIOYFCS1gW0QzAlgEqhW6phHA7IOdVH6AHbY2LAXsCPlpZodLADdxN8TJQE58aLhfcO0QdK2ELsoipxIJWr2AxTRKsqQeucszw5UAcV6SPunUgRkvWd9i6rQKC9YSXIS+NMrDUREjLK1S1v6rFRC5I+rTQsaoy8y6lLSpJY/Ytve+971JT3PJJ8Qxcy88IMTBBZNozj77bLemkezmeyNGlNrtuJjPPfdcZ5VnXrOe8dNsaUIjgL7PkDb33whg9gFIKj/wlre8xd0E8scOG1cRgqTNWu5QpWehjBMwzf5kyc8MSpYEiVv4d8icFqXn6ix89TJag/F1HNfsQpn8ibof6WOdXZ4CS3OU3lszWLTiXMgB8XS+ZNaCiW/l4eizWgEhr/wOgSULO2nD8ol1HFcuCRNJ3d/MSUIUIPmsoXgGgrGAQ4cOdWXXzj///KRdKd1xkGPWrM2bN8uQIUNc/7CUMqexbmIp5nMSTpqJ4zYCWLqh96tDRgBbM164SyB/BLjfc889uRAasuVIBCGeJuni2+hpWbgaZbYGJUyCkiX1LHJK6IiXgvj6lA2speGQVvEl0J9xJsYLKyAvdd2ENBr/MnyO2DCuSUhBXvO6Fc+FBY3mi6VYrYBY5LAC8v0lCSRpg/SSuc15WAGTZgLjCcB1jOuX7xZxiEG9zZNOOslZy0aNGpW0K6U7Tl3AEF3EpFnzmNM/+9nPXKITlUDAAJFpJMJYR5PEXoYf1Ahg6Yberw4ZASx+vNTty+4PeYGgNasZQsGLkgBqXJRxOlxByZJ6lSHUYhfOcI3SoQtb59SlkQRJdQMTbO7Ty50MVQLTfXHx6VhQwYDao0WI0CYZ7yzHQEyInYJI+VLthufUiiYQ7mYC+7NglvUcvvd85wnNgAiGExXqXRcSgwuXjRFrERauJN9pdACRsOJ4GtmwxDJDCCFBWBOvv/56GThwYNbHKsV5bKSLDmMwAliKofa3E0YAix873L1xhcbZKaZpuE9YQNlJ8i/FzUkowcKDpACLZpDo8TKlJU2G4DgW4Wbd03HP1Kps4DSYJjnWp9JwwedhjmBp8Elgmf776r6GcJMQgSyMD02tgJSHQwIlqQwMz0ZoBMQR4kZGMPGmWPIaNTbEyCvpZkqtgJB9pFLQykM3NQ0ZbXTPVn6O1Y/xxzVOw1Kq67wSZNbYPMJajAC2cmQ78F5GAP0aVDIN2S2z0PLDLpx6pCyafHbaaad106fTIuRledIs2cBl6DvWDtxcPsWm+WpNU/e1b1qGWLg1vi2LS68d85wNI4LOhGfgkUgqHcSzksVLUhcEMqkVkPtAHtEf1Ma1yACHTEICyZoNft4OXLLeE4kvVBqQ6kL8Py4znJhLcAc3njUJeQ73yQhg1lGy8xwCRgD9mggQPjLJdCfJDhyXCYuq7jjL/kS+uoHzKg3X6vGhUkW47Fer+5Dlfi+99JJzpWJZ8qX5Uh5O5ZUgf1iomNv8i4cB0p2kRGXQlYsbGSugVrqoN17EwnGvoNQP/SEOkWxZLIO4iH3aaAWfl/WNcnYPPvigS/wDEwgeHho262AF6WN+P/zww04oGqmYPfbYI/U0NwKYGjI7IYiAEUC/5wMWHnbs8+bNc5lzPjRf3cDE9JD16JtQMeQPiwouNV9i05jHVFGg1izxonm4y1r13WhHebgovcyorPxgeAh4BOWVsP4Rj4cLO0nMaNiVyyYU1y6yV/ViAbEa8nnY0ghxIqkEbVSuk0ZbsFVjm+Y+WDSpKEKFFQgfpJdQEjbxZAL3799f0DxEBidrMwKYFTk7zyyAHTIHkEvAnXDrrbd680S+uoHZtbNTT+omK8uAkGlJua4PfvCDZelSw35Aap5//nmnMZdGZ67hhQs+QOsaM0eyJnkFK9ookQuSt6jfg3qZURJL4TjgoLySxgKyjuBVwArYKIEBty+JUeqqxbLFRgPLXr3kHUJY+A5Rci1kjHCSKLj/iaX0ifTXm1I8D1hBcAkL4DuYtnRe3PWNABb8Ze70y5sF0P8RRgz6zDPPFPS8fFk0fXUDk3xD1rVvSRVYpUis8E1aBdckliXizJJkmJbl20yfsfqoPl6Y0IUF0BsRunDmfRSZa1YvUzOCsVzts88+3QhaGFsy47FoBSWdcN3yHUHuKm68IJi4esMl4Lj+8uXL5dJLL3UJbvTB5xZO/Ag+i5afbHZOGwH0eYaUoO9GAEswCE12gYUbN8KmTZvcC8eH5qsb2NfScL72G6uSllkrEyGIqzmtRA6rD0SI7HzV1oyraFOP3OVZ0abRuqBWQBI0sNKxWaiXyMKGk3PQANSmVkBIYZyVi1g/4uH4CbcdO3bI8OHD5aKLLpK5c+c26rI3nwfVHpolfcGHNgLozRQoZ0eNAJZzXNL26vTTT3dB0xRS96X56gb2sTQccwI5GAiKb9mVxIxhaSLLvaimhK5eacJwTF245nTY7UoMI9cjiUU/ayWhy4IVz4goMVa6oDhz1LX4HkBew/GCjayAX/7yl50bNCrrlcoZ11xzjasQgvXXJwHzKIx0jmQZiyTnGAFMgpIdE4uAEcDOmBxUF0E89bnnnvPGVearGxgLCVYM35ITVKiYfjeK7yrTt0I1GNNUNOHFGxZBrxdDx2dRhC5onYuy1NUjdD6Wh1MrIOSVDUOwRFt4TlD5hKxWZFuCDQJJLCD1haMkUFQzMOozNFPxZLCexYnbl2lutrsvRgDbPQKe398IoOcDWOs+ZAo3MFmT4eDqsj6hr25g+s0LDstH1iD/do2Jj3V2wYqkAGSOSAYJE7mo/4cJXaMYOv0cl2eeLjpIEtfzqfShWgHRM8RNGxWrx5jwOW7eqAQdRKXJKEakPoynuvSpUBNun/vc51xpOEig742NC9+3nj17dnsUNieECTQr3WUE0PdZ0ub+GwFs8wDkdHtICbWGTz75ZDnvvPNyumrxl/HVDYyWGZZA30rDId2Bi67dSRVBC12ShIhgNQV1p8ZlugYTJPImdGm/ET6Wh1PLKZtK4vwQZ45KLsMKjpUuahMUZwVk3JFFQUoJPdNwI+4P9+/KlSvTQl2a49WSDJGdPHmyI4HMca2uBJYk2vCMCxcu7LI8Z3kAI4BZULNzuhAwAtg5k4HFZOvWrU6FPk8rRpEI+eoGVrck7tQkorlFYpjm2rzc0TLEMoMWWZ6tkcs1HEOnmZCN3Kx8zg/WberO+uYa9K08HHMCws14gjkWvv3337/bVIHY4G2Iq2BBljCuZOaaNq65c+dOl0Uf9b2ZMWOGs4rddNNNeU7NtlyLcJwhQ4Y4Mehwu/fee+Wyyy5zmzEwyareYASwLUPbOTc1Atg5Y0nFhx49erhFJe+Xe1Eo+ZqdCh4Es+N2961iAVZXcGeu1GthQtfIUhesOx1lnYtyw6ax0Km0CtYjn5qWh/MpZlTHHmsc7lwsxuH64Kr5F5edrVZAko70GIglYs+9evWKrDeOCDTu8iuuuMKnIXZ9Vcsf4s/Tpk1zWoeQ4NGjR7tYSdzllJJkzlPrmO/LAw88YASwiZF+QxPn2qlWCq6j5gALEC91dLSGDh3qzbP56gamjieZir4QEn2pY5UBc+Q79G9R5C5I6MLkLS6mrsi60xAKrJdozPmywVFigKA1lkufNgtqBcTVS9ZuWLaFWL4jjjiibsWOsBWQKhhsnCCAUW3YsGHymc98xhEoXxtjvWzZMvecZEoTA8gmgIo8xP1Rbo/M8Ouuu86F7fA9C5PrpM9uFsCkSNlxkQiYBbCzJgb6WajO33XXXd48mK9uYC0Nh3Wk2WDuLIMVR97ipEw4ngZJ43ckNii3FRYVDrtkyxROwAsVIkiGqU8NIW7i6ciqzfqyb/Xz6vxCzzBKjBtLV1wsn/aVuYil8GMf+5izAhI3i8QMLuCo1rdvX1cKbuzYsbk+LpueKVOmyJYtW9x1Bw4cKEuWLHGC1PUaGcuzZs1yFWn4XkB4t23bVrduL/MTKx/hOMQKjxgxwpV/4++QasoxQqjzmAdGAHOdJtW7mBHA9o/5tdde6xYL4m14GVNeKWtjV87ihtvGF6kPn93AZEJC/g488MCsQ9Z1ngoGx5X+Cme7BgldkoQIJXoQOjYJxCb5Yr1UkHiREltFXWOfYi+1PBxW12ZqvzY9yVJeAMICccEKSNa79p3nIZkjLpYveJtgwhSZwYSqsGmKaiScXH311TJ48OCUPa1/eL9+/QSLPZVGaBMnTnQkjHjpuAb5g5ASqzdgwAA33/i+83uSmtr1NADz0gc0ApjrNKnexYwAtn/MiXdhJ8oCdeeddzZFAFmscTWtXr3a6dT50qg8ADGhjqhPjZJV6KVFlYZTTbVw8kMcwQsTuqRu1ywWOrVeUjkGK6BPjexKrEkkhPjUiM3FEqjl4Xzou1oBf/KTn7gNg/adOfzMM88492ajBAa1AiLkzXlYE48++uhuj68hLGvWrIl1EWfBjHAH4grZOOiGh98hm1iUccdGNUjqSSed5Ahp1kasH+LWuH/JembeEguI9Y+KJ82ud0YAs46MnecQMAJYnomACCqxL81YAHkago7R2EIY2peGZQBpBEhrFkLTiudUQhd0sWIhocYuorb0O0j2IOM0zWINypfUi6HLwzWUBA806nh5H3LIIUkOL80xuCR5qUO6W4VVHg/PfNC4uTKVtav3bMx55jt9f+GFFxxZIuuXLHhIFLF8Sb6vfEeIfcOCCJmMkk+CAJJxTJwnrta8GuEw06dP77ausukm2zjK3czGjr4uXrxY1q1b577jfE/w1sS5r7W/GtPHfefPn+825Ggpsq5rLCAbXq5LlrBlAWcfaUsCyY6dEcCE2Klm2cMPP+zcq3mZ78O3z4sArl+/3rktcCknWZwTwlDoYe1wA0cRujhRYX0JAgLxPUEyh1sSnJHKiIqnKytJ4YWERIlP2am1TauzPvnmTqXvuD/RBvRJPxLyx/z/8Y9/LBAjrHc8g86dJAuDWgHRDIwrR8h92EiROIJ7Nq9GsgVrKyUFg435A/ljrQw3tRDSnxtvvNERUrwqt956q9uofvjDH47tnsYAEu9JwtINN9xQN2awmec0C2Az6Nm5ZgEMzYEwudPdHEHAZNby5S8qAzEvAvi73/3O7dIJvvbJusOuGLKUtc9qrUgaQ6cWuiCha+R25fMwofO1NBxznTgnXra+aesR44ol8JhjjvFqFScLFBmUdiUOZQFLN0pqBcSdyncAKywkJ2nDigaBxPIW5frEOsZcZGOSZI298sorG9Y+JxN3+/btsmrVKheqEWyQuHHjxjnVhHBj7Tz++OMdOYRAaiOZBbH9efPmxT62vjOIU0WUH1cvTXUv9cQ8NudGAJPOPjsuEgFzAf8VFvSu2O1FWWvI3iMWpE+fPs4lEKVgHwY36eIUjIXJiwDyYifoGVcFrg9fWtgNHCZ0cdmtSviChK5R6a+gpa5ZC52WhiMRxKcAf+YFcWm8lH0jUj7HMPpYHk4t4Mge8T2l/i+WOmICkza+p5BfNqdRWdwki2AxI6yiUVyhrtms2/UahBLR5bQuYJ6NGFPiEUeOHNl1i9NPP915ANauXRt5W0gs6wm6f2RJ4+aFBPJcRTQjgEWgWqFrGgH862BDmFjYcAkQKKzq9QRtkwmGgCcSAkhnJGksTEkWp+D18iKA9G/p0qVu4WP3m8dOM8kzNzpGCV2U5pySODCDnOmxXJMFt5FlLk9C1+g5oj73tTQcuBOX5pNFSvHHYkzzqc4u/fWxPFwwXIJYQMIdsNSlJTZ4UrgWCRjhRsjKoEGD3Dqc55qlSSDcWwkrvzPn45JANB7x7LPP3i0JBNc974qgVTD4HBBjcMHKyQ+SN2RPcx7EV5NAEInm2s1mshsBzLJa2zldCFSdAKq5HpkDYufI2uLLzw70nHPOcaWMiHWBTPGFhrwUJa+SJwEk044dLMTkHe94RyEzHpwaVYcIxtRxLA1s42RLcOvxOYumHtOsha6Qhw9d1NfScDzGSy+95DY2xET51Ah1oBwZMYxFfSeLwoP1hkStPOSDiupj+LpqBURCiO8pJIbM3jQNkseaCnHk+YONEnHnn3++W7PyJIDcA9JGFjMCzTRkYCBrKgODZRMPD3F+ShJvvvlmV5EEZQZiAHEjEw9IGBDrU1R7/PHHHYHlGcGINZJrk/jC3yCHxAzzGcYFMGymGQFsBj0712IAI+YAX2IWOYRD+bJC/Kizy6JFDEjeDbKG6wAL44IFC5xFhsbLAVdClsbCQ38nTZq0mwuj3rXChK4RuWtE6OLcsPXcOz5kA8dh6GtpODDHUgGR8oFsB/EHcywreSYNZPm+pT2H7zvEmzixJO7OtNcv4vigrBHEm3UxbTILxJc5xk94LdX1D5KYdwPvsBD0Lbfc0iUETUwpdY1x2warlJDFizeF8yG7JHQ0ygLOu+/1rmcEsJVod+C9qm4BDA+pJoHcd999LnYDlzAkjFgOFgHqWuKmmDp1alMlfIL3HTNmjNtdhlt4MUo7/WbPnu1e7FQHIYNPF9w4XbogoUsTQ5fnC0yzgVlsfZHK0HHxrTSc9ps5T2wWQfG+xTBqhQ0C9vO2GqX9vqU5HsxxQ+JKRSLEl6ZWQMgrsXrgnqZBHJF6ISOXDWpQgxLr2+c//3knMO17Y3yJryV8Bes666nWvYb84t3IY7NlBND3mdLm/hsB/P8DoOSPBejMM890MRoqAor5nl3iihUrXGwfRbzL1nBT33HHHS6oHxcD/YRQsQCRVUfpI7I965X+4rM8CV0WjJrNBs5yzzzOaXdpuGaeIVyztZlrtfJc5jeSMGSVYgn0qbEpIzPWJ/KqVkAyalljoly59caA7FrGirWJsImgFZD1CVL84IMP+jSMkX1lbEl0YSMLUcbVi8WUcBw2Wbi/iTXH3dxMHKARQO+nSnsfwAjg7vizMH32s5918SHEfkCGwsW6iecoo6UEdxjkiRchPyw2uJhwYZDF7Evz2Q2cZ2m4Vo4XLylCDyAjzcYltbLf3IuYMWKrNHGr1ffPej9fy8Ox0WGdQdKGkmh4RZI2FcKG9CBBFLQCXnPNNS4uLsobkvT6ZTmORB88SBs2bHDasVj/IMxYTiGH++23n/s/sYkbN27MvOk2AliWEfe0H0YAdx+40047zbkn2IVGlZpqRrW9HVOERBYsmwQ0+9J8dgPXKw1XdvyJvSLcwafEBDCFvGIF9DGTGTchG0pkeNrtwmadQEopqKMZ/h3yB96QP1y5hD0gZZUkVpnr413B8oWUFuss11ICefHFFzuihCXQ16ZeJAS/iRvv3bu3IB2jDdJLPWIqPrHRJRll/PjxkVqESTAwApgEJTsmFgEjgH+FRq18LEJYy3yymNWb3l/4whfk3HPPdTv2PGJOWvVV8tUN7DN59bXEGnOSWFfirLKKiLdqXofvU2R5OK1gFEXiokge5I5zNEYtWO0mHDbCMVj/CIthU9yjR4+GEHIcmb4kUXA9yB+ESAkkm1U2H3Pnzm14rbIeoO8RYsgJH0Lzkb/xrBoHSPk5qko99thjMmfOHCExZuvWrZkeyQhgJtjsJEXACODuc0G/wGG3r68zhiLkaBiy2KSVbGjnM/vsBkZ3jBepb/p09BkXnY/xdFqNhZAHrEg+NaxFqA0kqX8LiaqnoxkuZajVJ8IELkzugrJMhL00skZqLCCWwBdffNHFsjUSyIcEkWxElq1uRokl5HmIlzvjjDOcxWzGjBk+Dd9ufdX3BjHiiE8jLYZlWhvjM2HCBCcJQ9bzzJkzHQF85JFHMj2zEcBMsNlJRgDj50CnkD99wlNPPdUtsCw2vjSfLWm+1thlblD1hvilJGSkTHMJ8kqGKUlOPmXVMs/Bm75DvCFG9QgeBJCWJEtfSZ1mn+Y9XpAZ+sOcgTBGlXcL3hOSS5xyUGYFAkndXayAw4YNExQRKM/meyOWnBhAnm3UqFEuphyC/OijjzqrJ6XkCDfieYnVRl8wSzMCmAU1O6cLAbMANp4MvFyUFOrO2CeSSDILRcy/+MUvNtzZN0ajdUf46gb2WVZFBa1x0yWtetO6GVH/Tgj94pKkykQjC1ZRfVYtzaRWOpVeor9Y3oiliyJ3QYsdn7fr+YK4qRUQLwNi+cT21UsgwkqLqz6so6dWQFzACC9DjDqhkZxEPCOZz7j6tULIhRde6KydZN7jEid5Kau+rBHATpgpbXwGI4Dx4GtAb/AIvsS//e1v5f3vf38bRy3drcmsI2Ab1yS6Y740n93AyHtQqcI3SxpzA5cUGowI4/rUsEbhwiapYN99982l60XG0QVJHdYxrIC4sJuRBcnloVNcRK2AJHRATA8++ODYs/k+4+4OukQ5GCsgVrGrrrrKCeF/6lOfStGD8h9KbC0/WADzFiw3Alj+8S91D40ARg9PkPyxaG3evNnt1tjt8kVm98a//fv3l09/+tOpBVFbOSl4FuQ92HX65F7x2Q3MPGHnT3UNn17ozEuyUpnzPunT6fcpiQsbohgnhh5MjlArXjCOLmyJi4uly6KlCfFGrzOuzFgr14yk91IrIASWLHKsrySHRDXmFRWWcPeGG1YxyPuaNWtS1xdO2teij6OCFBttEpHYbEP60P5D8w/LKK54VZFgg5VHUp4RwKJHtcOvbwQwfoDZmd5+++1OnZ6XAUH97OBw0xC3gZYT4su4Psi0LXOjeDkLLLpUPjVf3cBgjEWHOeJTTBr9VuKdpyWtyDlHf5WsEU9H5qVaWqKyXevF0cXVqC4qji6Ii5bk86k8HP1XK+Crr77qiA4VZaIaNXEhRVFWcc6FPJIdy4bax3biiSfKiBEjXAGB0aNHu8S7d7/73Y74gctb3/pWRwh5r6B5mEeSmBFAH2dKifpsBHD3wVDLH5YEdqUsTIMHD5ZTTjnFuTcgfj42CpijNUbdYRYiX5rPbmCsHYi+anF5XzCnn7j0eFFljU1q5lmT1KQOZrtqHB0vWggc/8cdiZWlXrZrGeLogjj5Wh5OrYCQb4TQjzvuuEirN2sP4TMkpIUboTWE1ZAIcv/99zczfdp2LokfxM1iIKCiCd8hnpcf4h/J/OV3wkNWrlzppHOiwozSPIARwDRo2bHdEDAC2H1SELtFBhcvmSuvvLKhtpgPCSH08aCDDpJrr71WBgwY4M03wWc3MESEsAEsGz6RbiYHLj3isvJwYcfF0YUlS4Ju2Xp6dHFuWHWpUbObigu+WdLA3cfycEErIBZ76vtGubEhPoxxVLYwgthYnHEfY8H1yQ3ezsXUCGA70e+AexsB7D6Iixcvdu67+fPnu5iOcEPPioxDXkQkVfhAAHmGKVOmuJ3obbfd5tXM9dkNjEUEi4CPLzQkO9CQRMIi3IJxdHFELvj3VsXR0U/II/IbWJR8Snqi71rbGG9DGctNxi0cagVk80ymL1ZArLDBhkUMkh5VaQbCfvLJJ8v27dtdjGAe8XHtXuQ2bdrkYsfBhuxmnhtPDG7gqPdKlv4aAcyCmp3ThYARwO6TAZJEMHaw4d4gm5bg+BdeeEGefPJJlwRCpY1mzfitmo5PPPGEi1HBvZ0lSL1V/QzfBzcwVgEsOmVz2zXChNJwvPjKnlARjKNTSxwuLbAn7CFcIkzj6JIIDKusSSvi6HQ8KFHGD/G5vs0ZpGyYN76FDmgsICQnKtJn2ZcAACAASURBVIucjRyxcFHZ5UhUEUfNs/s2XlFrwLp161wlEKyaxJBjUIDYXnbZZS4OElmuPJLDjAA2WoHt87oIGAGMh4cYKIgHhIkECuqN8jKHPLHY8QW/6KKLcl2wWBiQQsAVRIwINXwhPnk0+oxVgeLjvBh9aT67gek7buAjjzzS7fxb1ZLG0amVLhxHp8QOEkggO5mMUaXByvqyhqBCKlqNex7jq+XhfOu7WgHZQEP2sAIGq7Jg5YMYRiVFPfTQQ87jwjGd0Eh0Oeuss1zN33e+851OABsvAERQN+F5PKcRwDxQrPA1jADWH3xcMVgS+BcXxWc/+1kXGE8QLzIfffv2dcKlmt7fzFQi+JlFAxKIxWjZsmVyxx13uMU0L93B4cOHuwUYzS2fms9u4DxKw9WLo4uSNNG6rmxW0ljpwq43kqAgJFGB+2WfPwgME67RjkSWZrFho4mUkG86ksxF5gtuYCzHQd07ZG7Iiucn3NauXSv8sNH2vZHowaYJSx+kmOo0fI8IR2AdY/ONqzyPZgQwDxQrfA0jgNGDr3F9yBKwCPMlDrdZs2a5WCNcq3kQQBYGVOGDMXoETFPKjdJBeTQWWa5FllpZrTdRz+mzG1hLw/Xs2XO32KakcXRK8DTUICqzNa56RLOufl5UWC1IBgnHdOUxH4u8hmoxYkGP06Yr8v7NXBvvAx4H3xKIdE4z5yHgWAF1DjKPcP9iEQs3Nr2QP0JqfG/oHbKWIwPDe4N4P8gg1tB77rlHZs+e7VzdeYQOGQH0fba0uf9GAOMHoN4XlDI/ZApjMdm6dWvTo8hLnphC4kWQndE2depUJ7CKGzGPhhQBgf1c06dKDz64gaPi6BhXrFBYkRlf5osSumAcXZz+XPjvrYyj0/nGZsG3Grvad0qU4b72MQmHWDrIU6Mau3msC3leg/nO3CYBKqiDiceEZ8ENHG5sSpGJgSD53lQ9YseOHTJhwgS55JJLnJEAK+D1118vAwcOdOoSRgCbH+k3NH+Jal/BCGCy8cetwQLFlxj3Brs7XBrEruCubbaRVYyL4Nlnn3W7Zm0IOK9atcrtpvNoLDqUWqKCCQTWp9ZqN3CaODp1fYGn6tEFLXUkETGHIN1lrOtabx5oQkW4hJcPc4cYRk0g8i2zVK2vvpWHUysgcjzET2PFhMhqTCYyMeF26aWXuj8tXbo012nFhhf1gy1btrjrQr6oz1svHpdkP2K7WeMZA8J/Zs6cKUOHDk3cNzRAkdwiYRAiTzwnXgwSQe6+++5cEkDojFkAEw+JHRiFgBHAxvMCaYJHH33UCXhi+cPSg1UBVwaWhTPPPNOVL2pGDkYJILtkFkxtLCKUR4J45tUWLlzoXC38VMkNDKHTbFatHBGuFBH+O5hrHF2jWDp1w0YRDZ9Lw4EZL29eXsx7nxpjzqaK72lU7FnZn8XH8nBgqlZAPA24QLEgP/XUU64OMJnA4TZ58mQnN8R6l2fr16+fs74vX77cXXbixIkuLpGNe1w76aSTnFzWLbfc4uIYqfaEjAtkDiJXr/EOoLEG4AaHREIGuR5uYTbeeTYjgHmiWcFrGQGMH3Q10bN4kDTBYkK5HyxouFF5MZIMQqYuVoZmWqtcwPQRKRsyjIlDaWVmajP4cK66gYnJ1H6H4+jqadLxWb04ujg3bLNxdPrcvpaGo/9YX9ks+OaOpO+IDBOX5ZusCn33tTycfi/pP3XT2TwQ04g1MyqWlMxY4kyxvOXVSL6i3Bpx2qp6wO9ssNlQY9mLauh2EodNQp62fffdV2644YbS1VI3ApjXbKnodYwANh74P/7xj11WoPDRuBiwLhAnRQ3MZuI6WKSwJBIQrY0FbNCgQbklgXBd+khW58UXX+yymsvUVEoizkLHC4X+qxRPmjg6teC1I44OjH0uDYcF48UXXxQSWfIixK2ad8wlEgx8tWBCWrCi+VZTWq2AWDEJb8Ed3KtXr0iRZxQWRo4c6Sx0ebW77rpLpk+f7ixxwcbm8aabbpKxY8dG3gplB9aI1atXu43mAw88IOPHj3cxjVGxpLrmo9rwL//yL450UhIOqycWRK7FvxgNqAgEAc1rI2UEMK/ZUtHrGAHMNvAsblhFCOYlPu/BBx+M3VEmvYPKwNx+++1ukcDyuGLFCmddjKrGkPS6UcdB/rCMYMEssoXj6IIu1yiSh1WVFhVHB4HjfGJ0kPYgs1NJnQ+ubPqOK5UYTxJCfGo+V9cAZ6xBbC6wfPvWCA/Bisa88WGeK75qBSQDlrWG+Q8BjGpYBlFVyHNDSvw08XZI6gQbJTEhf4gyRzU2O6effroL+2Ed4ru6fv16wTVcr5FwRFiNehpIaGHDyqYeQwGZ3Xhf5s6d6zKBWeuCOolZ5qURwCyo2TldCBgBTD4ZCGomoBdrH4kgLGq8GGfMmOGsdHk0rH+4GhCCxkrHThXXSN4Ndww1gXEDp5H3SBJHF3bD0vekcXRK6OIC9qPcwHljU+T1iImKq5Va5H3zuDZJUJBvH12pJOHwvfUtoYJx0/JwhxxyiLMi+dI0Kx6iQ/wchBALcrixphDWgQWtEcniXDbdjXRMEV4mdjsqgQ5Pzbhx40QTT8L9Of/88530EQQSyx3l3FiHsSJT2aNRY2PLmso9WM9Y0zUJDMMBLmZ+8mhGAPNAscLXMAKYbPAhe2effXZXEgELMS6lPn36yDHHHON2cr7tzgmKx81BYDNuEgL8GyVFBOPosMDF6c+F/56n2xCLKHjHxfAkG9H2HEUsGlaAspeGi0KHFxsWTEIV8nqBtXIUICHEcvkkf6T4+FoeDvLHvCF5jk0tFsDwOgkBZEy2bduWaHNBZjc/9RqJHiRvpHUBk+inNXuD1mJiv/k73plGTZMB0W9lE3/NNdc0OiXz50YAM0NnJ4KAEcDk8wC3AbEbWOQgf1Hm+2ZiAJP3JNuRuB1wJ1FnFLcMLmwWZ3alWBcWLVrUTaIkSnSYv0Ho2kV4Wfzpu4+1gdtVGi7bjOl+FhZwyL2P5Jt5T7jGCSec0La5m3UcNI4RoXjfErc0bIMYQAhRWAia7wTEHDc91rm8miaBYPlVqzW/k4kclwSCZ4fwEtaXYJzeZz7zGReGo9nEUX1k7VerJzGAvCdOOeUUF2utscqsmXnKERkBzGu2VPQ6RgCzDTwvQmL2WDAI7h81apSzEOLeKysJZCEingXrJYswC+SGDRtcbWD+lqeVLhuqyc7y3Q3sc0YtsUwEw0O+fZkvOquYN0jCQF59cqVq/4llIyHt8MMPT/ZFKclRkFfWSDafbJrZPAc3j5RO02oZuFzzbCg3cF/cyzSSTCByKgPz2muvOS8OnhBIIn0liQPvyI033uiIKS5gspOJ70sj44JniPOGDRuW5yPtdi0jgIVBW40LGwFMN864NFgYCFjGZUrAMIkUxHlQrxdSmOcOL13v0h2NyClEkJdiXllp6XqQ/Wif3cBxpeGyo9G6M9ncoFVJNiT1Tn1rJFMQy0tgvm+tzOXhNDYYb0I4Bpi/MeexikH2IFgQK22QQ9ytnJcmHjnJ+DHWYSFo9P3UioprHffzk08+2ZWgQogG8YHESRO7h+v3wgsv3E0WJnhv3fATl8j9uDYZwFQAGT16tGA9RPuQsAkwYK1tNvlD728EMMkssGNiETACmG5yICqKaX/atGmuzA+xJmR/8cUmNopSP0OGDMmlNnC6nmU7mh0y8WjEyvjUfHYDqzgx2Yg+WqJ4aWp2o09zhr5CMgjm9zWOsZXl4aI0NsMxwvp/LGfMaza/UWEjWIvZMEMEde6oFZDN3Kc//Wn3mS+b56h5D9nj/UDDUMBz8l5QsgcGEGBKxEXVQ87yXTICmAU1O6cLASOA6SYDu0esfOvWrXNuC4KDsSZA/IgRxM1E5lkzVUHS9ai5oym9tHbtWqdY366YvixP4LsbmGBzrAu+ufOURPkqZ0P/IRwQDd+s3vS9mfJw9SSZoohdlMZmuIxhmOzFWbaC+p4k45BNqzWB8UCgs4cl0Kc1KLxuER7xhz/8wbnpqfyD5RPCx5jxd/7GMRdccIGVgsuy6EecY7WAmwTSCGAyANXMT6IEMSG8AGkoxiM4iuzA8OHD3cKGe9iXhrTHAQcc4Mrc5bUrbdWz++wG5oWwa9cuJ4uRt9urFfgTB0g8aZ5B+63oN/fgpQwJiatK0ap+ZL0Pgty4GXHDQ9LU7Rq0xsVZ6rhnUJIpLskrWBUnL1KGlRDLGFYyQme0rNrDDz/stPGaraaUFU+fzzMLoM+jV4K+GwFMNwjEhxDETBYZgcLEFJFBiw4gVjSIYRKtqHR3Le5oiC0WzHPOOSc2xqW4uzd3ZZ/dwDy5z6XhwJ4XNiTKR7cd2BPDSNxumZpmkcYROP6OJYkfiJluTOPkmOLcse14ZrUC8gwQcLT/9t57b+dNwWuCJdBaOgSMAKbDy44OIWAEMPmU0MWWmDl+yKola23o0KGu1uj8+fPd37HuUPKHnTlaeWVvl19+ucvsZCH2qfkuqeJzaTi+CwTJ+5pRiyYd2nRFV9cAp7SxdHwH4yrhqFA6kipsQCkPB/nLy0pX9PdfrYB4HlgnCYFAW48kDCyB1tIhYAQwHV52tBHAzHNA4/oeeeQRR5jI7mIXi0g0izCZX+hMIfxJ5hk7WlTry97Yjffu3ds9B0HLPjWf3cA+l4ZjjkCggq48n+YN32WSQcg+TSs9ErRkxZU2ZPOnpQ45HoLWyN0a/LyRVdXX8nBB7AibQdeQMBrmEsLN1tIhYAQwHV52tBHApucAixiBvVoNgZcgFkDcSriBWcjQA4RMaSH0pm9a4AV4HrSxlixZ4rLxfGq+u4F9Lg2nsiQIK/u2cWCOE/dKPCCbOGLT6rldg59pvWp1uyZxv+ZdKcjX8nDgrlZAsskhyngewBQiaC0dAkYA0+FlRxsBzG0OoPlERjBFw9nNktVJ/B9kcODAgbJw4cLc7lX0hSZNmuQyl2+++eaib5Xr9X13A/tcGo6BRAIJeQ8SEsrUcLuqBS5ojQsSOQgsbkhtcRImYcudEr5GVrqi8YBAUdEHwWGfmloBGRe8D9TsJWSGEBpr6RAwApgOLzvaCGAuc4BMtjPPPNOJ4g4YMEAGDx7s/iU7b8WKFbJgwQJBuZ8XDi+QsjdU7idPnuyqg7T7xZYWK5/dwBAVEofIiPSpxJeOUavKqzWSMNGShipCHLbSxblficPEekksYzvLG6ad82pJw43tW3k4+s44MfeJ/VuzZo184hOfcOLL1tIhYAQwHV52tBHAXOYAxO+ss85yC1g4k5BYOhYzFra8FN9z6XSdi6BdhSgx1kxcYj41393APpeGayaWLm1yBCQwKGHSyPXK5402M1qVBXF330rb8R2ltjGWTN/0JNUKiKoCmeRz5sxxP9bSIWAEMB1edrQRwFzmAIsuOmhksyEIHW64h9/+9reXti5wFAhYMQmKnzlzZi4YteoivruBtb4uJKQRYWkVpmnuw0scWZKPfexjXW5XLDxxrld1wzYSGm6FhAmkksQtvsNR3+M0OLTjWDZuJJuRzcx65FNTK+BHPvIRJ6XFZtpaOgSMAKbDy442Atj0HNBsYLTzRo4c6XawvAARaNWEEEpNsbD51O68806hMghuJV9kJRRfn93AZZVUSSphwmYIIqKtXULDWb9rr732mtvIffzjH/du3vPML7/8slMhgET51NQKiPWSWFhCZiitaS05AkYAk2NlR0YgYDqA6aeF6gHiesTKRzA2moAQJ4KyWdA4ZsyYMa5mcB6NODHiCiGZaJht2rRJTj311Dwu3XWN119/3VlBiAPcf//9c7120Rfz3Q2MrpvqohWJVRKh4WCiRJyEibpf0bnkd2Q8+C5QVcY3VyqWSL67WDB5Bt8amcwkobER9SHemLWReYWXhLWsb9++8qlPfUpIRPNNhaDdc8UIYLtHwPP7GwFsfgCpB4zljwWMOo8QKbQCIYUrV650C3OztYG3bdvmXD0EfJ922mmFEEAWZoSsKWlHbU6fmu9uYMjfc889J7iB05SGY8xUwiSYCKHJEGFpE46h1RMajqrv2sgizJxHVqVoYeWi5qS6sX2LpVM82BhSWxcC3urGHKRhCSYpiE2w/hv+nf/zw4YN4k32L3OU9RISaC0dAkYA0+FlR4cQMALY3JRA9w9XMAkfkCey2YYMGSIXXXSRnHHGGU4PcPny5W6xy8sywsu4CAsgSFx33XUuK3Xjxo3NAdOGs312AwMXsWhYXhEUT6pJx3Fqkc5TaDjt8EHAmTe+WtE0ls5XTUMI1SuvvOI2m3msM8wpfohPrUfquC+f8y+WSNYmhLWpK87Pu971rq5/STLTH8rw8btqqTbaYKSdj1U53ghgVUa6oOc0ApgNWH3pLl68WB566CG3g2XhhUBR0ogyWZRYo2bwAw88kO0mMWcVSQAhUdQ6JpNZF+dcO1/gxXgJ4b7mJV6mF0rQSleP2GEFVAsdMEVluQZdr1oWjH/zFhrOMkxkpPJ8PtXCDj4notzM+QMPPDDL47f1HOYYmqTMDzwE4aZWOhJz1AoHcVPyRgwe3x+12OnvWJf32GMPR9YgdErglNzxf0geP/wO+VPlgzJ9B9s6OAXe3AhggeBW4dJGAJsbZWJviFshkJwsPAKyCSbH9YtLGE3AqAW5mbsWSQCx5Bx00EGunB1i1j61VrqB60mYqABxMBOWF3AjoWE+Z/5AwBFX9i0jGCF0rJhp3dhlmWO/+MUvHP55WdGKfi610hF+ApFbvXq122xOnz5deJagG1bdrsjesH4Q6xhH6IKkDmKHF4NmhK7oEU1/fSOA6TGzMwIIGAFsfjpQBeGSSy6RUaNGOVHZY4891u2mhw0b5moB510mq0gCCBpTp04VXhQ+lmbK6gZuJDQcttyphEk4GaKeGzaJ0DCVNfbee++2xHI1/00QVw4R915YGzOPaxd9DebArl27XCYqbvhWN7XSsYFIY6VjbpKMA+5Y8g477DCnQBB0uaqFTl2yGmdqpK7Vo5zv/YwA5otn5a5mBDD7kGtiByXfsBycd955rizT5s2bXSIIlULYPeN2YYHOqxVNAJ944gkXv0hQfx7xRHk9d5Lr8OLE7Y4bOFh4PklMHddvt4QJL3Aygn1NpvjRj37kwgd8lVShMgjPgIxTHk2tdNQOV5drkNzp78F/ibujkdQRjKMLul2jrHRYjG+44QbZunWri8e01vkIGAHs/DEu9AmNADYPL4s7peFYsNmFa8MtTHYe2Z2zZ8/OTai1aAIIWeI51q9f717kZWlJJUw0GF3jNBtVjAha7dpNeLU0HNneWAJ9a773n5g3kraw4uOKDze10nFcMGYumCgRFUtHhizzTJMjgta5sKVOrXS6aUxjpcNyTyYza85+++3n2/TJrb/XXnutI8LEdYI7uDRqjO1VV13lxh8SziYAXVTE8cvajACWdWQ86ZcRwHwGisWDGCj00LAG7tixQ3bu3Oky44jHIVbwqKOOynwzro1liEbd2EWLFknv3r1dLE8R7jYsgGgCsiAW1ZIKDav1LihhUs/1igWHRZ9YRo5L8wIt6lnTXJfScFhzfBP21WckEYexxRXpQ1MrHUk4ELlZs2Y5WaehQ4d2i6NTSx0adpxH/WaNpQvG1Cmp0wQJ/oXQM65Fz8c8FQd8GL+oPl5xxRVubNiYI3CfhABef/31AnG8++67u+KgsaSS3KRxkGXDwwhg2UbEs/4YAcxnwMgEXrJkiXObYgEgLpDkEH7HBTxx4sSm9ACfeuopR/jCbfTo0W7ByrutXbvWZTQT05XmhaVu16hEiCg3bJzQcFwsHYSukZUu6AZO0/e8Mcx6Pd9Lw7HpeeGFF1wySDtqYauVDiLE5kszW4NZr1H6dEjB0F9iANnIIev0vve9LzaWDpKn8b0+zrOs89On81gbEeNvRACZM8R9cizx3DTWbYg7xBCprzI2I4BlHBWP+mQEsLnBUjcjEgzEAk6ePNllz+67777uwryEiKlD7R6y40uDhLD48SLHcoF1hH8bxdLhGqPlLTScBrdWZgOn6VfSY8taGi5p/zkOF2Se9XWV1FFyMWksHeSPuUBGdT0rnWrSQeiwqGOl4/tKNjChG9b8RSApAYTws2n/yle+4jws2gYNGuQsiatWrSolCEYASzks/nTKCGAxY6XxalisIE0jRoyQ+fPnO9dCGRsWEQLI9eXKv7giIXT8IHCNW4XnITZJLXRx8XXtljBBFJe+HXzwwWWEu2GfWlUarmFHMh6AJRyreL1SiMGSYMEYurB8STBBgo0IFmD05sLadJrpGna/omNHS2Olo+/z5s2TL33pSxkRsNPKgEBSAsg4Y/ElbjuYAY7nhqSmRx99tAyP060PRgBLOSz+dMoIYH5jBenjpRZ2UeJaoth8mckIMU0QPM0u5F8sl5BAFlESXNpN6tKMlO9u4Kyl4dJglPexwZJgxE1R2gs9SfQxg5mvwSQJrHRYyRFgTmKlg+RhpUsiqdPM8/Fd5qcdLuxm+t3J5yKp1SgmmVjrYPJOWgJI/HAweWbChAlCZjhC/2VsRgDLOCoe9ckIYP6DBeHD6kAcHFY/iBXusClTpsiFF16Y/w0LuiJWKAL5v/vd7zo3iE9N3cC+ZtOCtZaGY+60q6mVjhgqrRYRdsGGpUzIimezAFmD3DGHgla5qCoS1IRNa6VrFyZ23/YgwMaBn3qN+M2g7mpSAmgu4PaMabN3fUOzF6j6+UYA85sBuErvu+8+l0GIJiBWHFy+JFNgSbjgggvk8ccfd/VSNXYwv7vnfyX6iKAsdY0Rtfat4QbWbGDf+k5/sRpDutCWzKsFS4IFXa1R9V6V2PHSDZYEU9erypWEy4Hxd2JgIbADBgxwunrqhs3rOew6hkASBJISQE0CYY2++OKL3aUJ3WFuWxJIEqTbc4wRwCZxNwLYJICh0/v06SO9evWSOXPmOAmC/v37O8mWE088UQgoRtqDBcUXqQYy4rAAUtrOt+a7G5gX0L333utcqfWkfoIlwSCM4QxXJXcQOa39yiZFS4JFxdKFrXQkSmht6KSxdLqBWLBggfseWDMEWoUAmyfCWrZs2SLMv6efftrdmjrPOo9Zi4nzHDx4sPuMdZn/s9Z9+MMfdht31BdMBqZVo5b+PkYA02O22xlGAJsEsHa6VgUZP368s5aw83zppZfcbhLXLy/AuXPnOgsg2lJqiUn6Ms2nl+mv8swzz8gpp5ziSCDWNJ+ar27gYEmwfv36udjRU089dTcXbFQFCUIOcH8poQtWkQha6fg7hI5EiqJLgqFfqS9cn+aO9dVvBMaMGROZufvkk0+6DTqNtReyx7E0FYJetmzZbkLQeEHK2iwGsKwj40m/jADmM1Dq0t2+fbtAAr/2ta+57DEsgkgLfOADH3C7UeKjEFn2JaECSyVB0cgg9OzZMx+wWniVsriB1UqHRl6UuzVspYPgEXcH9kjyYAHULFdNlghmvULo+D9kqxViwy0cQruVIWAIxCBgBNCmRlMIGAFsCr7Ik6kgQDYa+mNYWSipRkwUGmbEQqnVjxjBb33rW3LEEUfk34kcrzh27FhHLHCR+NaKcgMHS4IFrXHBRImozFfEZbGkhq10wbg6ja1TtyubBzYWedWn9W0Mrb+GgCEQjYARQJsZTSFgBLAp+HY7Wa2AWHN4YX/zm990rjsyUcONTGHiTV5//XVXe7LMbcOGDc6VjVXTF8ul4okbmJqgZKIi9FqvqZUOt2VSKx1xRjRkclSbTjNeg3F0/E2tdGwM0ljpxo0b57KwERq3ZggYAoaAImAE0OZCUwgYAWwKvkQnExMY1C3DNXzjjTc6KyE6aSSIlLnhtobAEA946KGHlrmr3Qg5fyCDmSomU6dO7VZFIspKBzknNg4CF6zvGiZ0WucVbBDHphUR00nyBqTRtxhMbyaKddQQ8BQBI4CeDlxZum0EMN+RIBBfA+vDV/7Od77jkkNuv/12l422ePFiOeqoo/LtQEFXIxnhuOOOkxkzZhR0h2SXVdcr7vOkVjoSIyB6kLRwxmuUJh3HqPB1EYQu2ZPaUYaAIWAI1EfACKDNkKYQMALYFHzdTsaq9+CDDzoJmMMPP9y5+kgC+epXv+rcvRAOkkTQm/Kp3XrrrbJmzRqXxZw3KYLUkWyCO1UlTMIadUEJE47RkmBxVjqNo+Nf3KfHHnusc8vzb97992kcra+GgCHQOQgYAeycsWzLkxgBzBd2Ej2WLl3qiAyVNF599VU54IADpEePHk4AGgKCxhRNpWPy7UExV6Mc0oc+9CH3TFjI6jW10uFKDVeNiKvzCsEDj7322quu65U4Oo2xS1MSbPTo0e48NMGsGQKGgCHQCQgYAeyEUWzjMxgBLA58LQnHHRD19TmGC1KHu3rEiBFORysoNhwlYcLnJFNgASU5IhxLp0ROXbAaT0fdWFreVjp0DLl2I/Ja3GywKxsChoAhkC8CRgDzxbNyVzMCWMyQq3XPF8HnJCicdNJJzgVM3VYldEFip5a5oJUO8kcCTBGkLkmf7RhDwBAwBDoVASOAnTqyLXouI4AtArrA2yAns3HjRuduRmeQZA00+6ggkWd77bXXnBUTUmeELk9k7VqGgCFgCKRHwAhgeszsjAACRgD9nw59+/aV4cOHyzHHHOPK0M2aNUtefvll+frXv+6sddYMAUOg8xCgpCQxrS+++KL8+Mc/lk2bNjnd0Xpt586dMn36dPm3f/s3ec973uP0PSdNmtR54FTkiYwAVmSgi3pMI4BFIdu+6xJ/hzuWxf6Tn/xk+zpidzYEDIHCENi2bZs8++yzTmj+tNNOa0gAkaGiru2ECRPknHPOceeee+65sm7dOne+Nf8QMALo35iVqsdGAEs1HLl0hkxdMo2xApa5kHkuD2sXMQQMAZc01cgCeMkll7h65N/4xje6EMP6R4WfXbt2GYoeImAE0MNBK1OX5T8iQgAAE1pJREFUjQCWaTSa7wtJJ4MGDZJf/epX8vTTTzd/QbuCIWAIlB6BJAQQb8CRRx4pn/vc57qeB9JIpRzkq+IE7Ev/8BXuoBHACg9+Ho9uBDAPFMtzjfPOO8/VvqVs23vf+97ydMx6YgiUGAGEzomnI5YOzc6bb75Z/vmf/zmyx1TzGTt2bLfPkH2i6kw7WhICeNBBB8mYMWNk5syZXV380pe+JMcff7z86Ec/kv32268dXbd7NoGAEcAmwLNTRYwAds4sOP/882Xz5s1CcDiizdYMAUOgMQL333+/nHXWWQIJhAwtW7ZM7rjjDpdE9f73v7/bBSCA1JX+93//990+Q/6oXS0pAYS4XnbZZV3dJA7whBNOcMS3nf1vF26+39cIoO8j2Ob+GwFs8wDkcHvcvpA/3DlPPfVUV6WRHC5tlzAEOh6Bf/qnf3KJFLfddlvXsx566KEuoxaJpXCDAE6bNk1+/etflwabJATQXMClGa7cOmIEMDcoq3khI4D+jzuZfPfee6+rQRzU/tt7772dLqA1Q8AQiEaACj1UiPn85z8vgwcP7joIC9+//uu/ukz6KAJIPe/999/f1bA+4ogj5Oqrr3bxde1qSQggSSAPPfSQs2xqmzx5sntOSwJp18g1d18jgM3hV/mzjQD6PwXiyqatXLnSxfxYMwRagUCaODr6s2HDBpkzZ458+9vfln/8x3+Ua6+9djcS1oo+E/sGkcMVioC6tuuuu05WrVrVzc3L588995yrif3Rj35Ufvvb37qkiocffthl02qd71b0nVKL9IMG+Vy0aJH07t1bqJGN6xpXL+Ltq1evdseoDAwSMEjBQPrIAjYZmFaMVjH3MAJYDK6VuaoRwMoMtT2oIVAYAmnj6CAfJFlgOcPyRvjC5Zdf7pKXcMm2qikBJBniE5/4RNdtIaNr1qxx1XUaNco+4kLGxbp48eJGh+f2OeEeEL5wGz16tOCmZvNHDWyO04ZF84ILLugSgsYqaELQuQ1Jyy9kBLDlkHfWDY0AdtZ42tMYAu1AIG0c3emnn+6sZ4gZa6OizT777OMsUq1qWVzAUX3DovbDH/5wt+dp1TPYfaqLgBHA6o59Lk9uBDAXGO0ihkBlEchConBRYoniR9tNN93k5Fe+973vtRRLyOtRRx3lsoC1HXbYYU5PMyoJJNw5krCOPfZY5xK+6667Wtp3u1m1ETACWO3xb/rpjQA2DaFdwBAoDAEEvadMmeIqONAGDhwoS5Yskbe97W2x9+zVq1e35AUsbvfdd18h/cwSR/emN73JuSlHjBjR1ScSmZAp+c///M9C+hl3UXVf33777c4NvHz5clmxYoVzk37gAx+QUaNGuThBJYNXXXWVfPzjH3fxflgxcfviLiaOECJozRBoFQJGAFuFdIfexwhghw6sPVZHINCvXz/nWoSU0CZOnCgf/OAHXTZnXIMAIvo7d+7crkPIBicrvIiWJY4OAkiSxRlnnNHVpbVr18q4cePkT3/6UxHdrHtNrH833HCD08OjfCLWSK2jDZ5gDmGlYbXcuHGjvP766w5TEjCuvPLK3WIIW/4AdsNKImAEsJLDnt9DGwHMD0u7kiGQJwLUbMUVSdapJkbwO1YqkhOCkj/B+0JYkCbBndqK5rsLuBUY2T0MgSIQMAJYBKoVuqYRwAoNtj2qVwgQTzZ9+vRugsO4f7FQRZUj4wEhgLgviU1717veJVgRr7jiCtlrr70Ke/60cXS4pH/3u985+RRt9JNna2USSGGA2IUNgRYgYASwBSB38i2MAHby6Nqz+YwAWnS4Hb/5zW/u9hi4d8MlvYIHEL9GKUBKe73yyitOD+7AAw+Uxx57rDA40sbRIbuCixW5FZItEDGfPXt2y2VgCgPELmwItAABI4AtALmTb2EEsJNH154NBCAZW7dudRUPiD1LUsIL6xnB/sTekYiBhWvp0qXSo0ePpkElXoxr12tf/vKXZfv27ZFixCQfECt36aWXJurLiy++KEcffbTwL3p1RbU0cXT0Yf369Y70/cd//EeXEPSQIUOK6p5d1xDoOASMAHbckLb2gYwAthZvu1vrEcD9iWuRZIo777wzEQG8/vrrHXHEAofF7ZprrpEvfvGLrjJEs67Un//858JPvUbSAVmxWVzA4etCZt/85je7TFVcr9YMAUOgMxAwAtgZ49i2pzAC2Dbo7cYtRgAyN23atIYEEML0nve8xx1LpQQa0iTE00EMKaXViqZJIM8//3yXvAi/I0FSLwkk3DfcwGjUUQVCM1tb0X+7hyFgCBSLgBHAYvHt+KsbAez4IbYHrCGQlACqS/IrX/mKk/jQRqwalkTkS1rVSIxAZmXZsmXulsjAoE2nMjDUeu3Tp4+r94oGHXV1kVPp37+/vOMd75Cvf/3rMmPGDEEGBrfyG9/4xlZ13e5jCBgCBSNgBLBggDv98kYAO32E7fkUgaQEkASF448/XiBXWAK1Qb6oUvHoo4+2DNRf/vKX3YSgb7nlli4haGq9kvDx5JNPuuzfH/zgBzJy5EiX/PH73/9e3ve+98nJJ5/ssoDf/va3t6zfdiNDwBAoHgEjgMVj3NF3MALY0cPbsQ+XNJGC5IesBBDL23777dd1PvVeIViPPPJIx+JqD2YIGAL+IGAE0J+xKmVPjQCWclisUw0QSJpI8Za3vCU1ASyTC9gmQjEI4BonnrNnz55y9tlny3//93/L3/zN3xRzM7uqIVAQAkYACwK2Kpc1AliVkbbnTOoC1iQQSn5dfPHFDjiqXfzDP/xDS5NAqjhiYE97wxvekNvj/9d//VfXtbiuEr177rlHrr76annppZdclrQ1Q8A3BIwA+jZiJeuvEcCSDYh1J3cEvv/97wuxdFu2bJEFCxbI008/7e6BOPLf/d3fud8POeQQmTdvngwePNj9H+sQ/1+5cqWgu4co81NPPZWLDEzuD9iBF4QIRpFA/q6fBT9PQxz1fOr+Yv074YQTZNasWV3X7UA47ZE6FAEjgB06sK16LCOArULa7tMuBMaMGROZuauJE2pxguxxLE2FoMm+DQpBf+QjH2nXY3T8ff/4xz8KFUUg7Jdffrn8+c9/lr/9279N/dwkv/zkJz9x4tIQfzKmv/a1rzn5nwMOOMCJT9Nw+yLuTVk93P7WDAHfEDAC6NuIlay/RgBLNiDWHUOgDQioZS0uDg5C9eyzzwqVOuKsc8FuQ644juulcefidt+1a5c899xz3VD46U9/Ki+//LIT9EaOZ+DAge7a3Gvx4sUuO3vEiBGu9B11hn/zm984LcdnnnnGZUrjwv/LX/4iixYtkre+9a3u+gh7H3rooU5XEcFva4aATwgYAfRptErYVyOAJRwU65IhUCIEIFhz584VRKi3bdvmiJ26XLMmTmDt+9nPfuasfFjqaBC/8ePHO/kdNAyx2N18881O1oaM7HPPPdfpGv793/+9O/6II46Q2267zVkJKa23cOFCOeaYY2TJkiXufPqNjA8E8LjjjnPn4PaFCAb1EPfcc09X8WXYsGElQt26Ygg0RsAIYGOM7Ig6CBgBtOlhCFQHAaxikC4IUrBh3YPkrVu3rpteINa0gw8+2FUSIR4yrlEthWQKrIU7duwQLHbE1x111FG7nUJ5O8rc0Q90CnG7T5kyRV544QWXdIM1bv78+c5qh8t93333dRVM6AMaiNwDIofED6Rv+PDhTih78uTJ7hpa7xiCSQUUCCR9wMIX7Itm/iL1Q8UXrIXWDAGfEDAC6NNoWV8NAUPAEGgvAttF5N0icoKI/JaEW0IeRQSf67dEZDyV70Jd7CMid5M3E/hskIicKiIbROQaETlYRLj2+bVrfFJEyLDh57Mi8nLtmnfUjp0uIi+IyIkisl5ERorIQyIySkQuFZHjReRXtXO49q7adX4nIh8VEVJ7bxaRL4oIpjv6cpOI9MKzKyL/Q0T+IiKjRYTAzj+JyJ6E/onIRbV7o/vC/wkA5Nwl7R0au7shYAikQSA/rYA0d7VjDQFDwBDwEwGyKr5aI0CTReSPNfK1QEQ+ISLfjXisRTXSOKlGGjlkiohcVSN2EMBfishGEfmziNxfI4UQsG+KyAMicrmIIMr49RpZ+18icoCI/EFEHhORb4vICBE5WUSuE5GhIvJSrS+niMhtIkIpk9dF5Ne1+31fRHaIyFoRGUjytoiME5EvBYitPg7ZO5x/Y61PF4jIz0TknbXjeQZq/Ckh9nN0rdeGQIUQMAJYocG2RzUEDIFcEDhMRHaKyMIasfqyiCyvkaPgDdRC9rCIfEdELhGR39cOgKBhFTynRsD485UiMlVEPl6zwvG3W0TkAyJytogQ7AcZfFfNIof1DQKKpW+ziFxds+BBOLEkPlG7F1a9O0VkZo1cRoGAJZHz5ojIgzUiR/+xdv6fgDVxU80SCNn8hYj0rBFZyOO2XNC1ixgChkBLEDAC2BKY7SaGgCHQIQgoqYMAQZaw3OFWnSAiPwg94xtrrtbHReR7NVIGmaL1q5FHLG5K1CbWiB7WNVy2NCx/n6q5YbG2Ya2DzOFu3aN27/8buC+EDGIKIft87e9718jZ/65ZHrEA0iCyBDPiBibQ8FYRWSEiuJlp+4oIfTq8RlzfJyJkkMyvkUSOIfDvMyJyRs2y2CHDbI9hCHQ+AkYAO3+M7QkNAUMgXwSU2CGIN1dEcAUvi3B/ahzduprVjPi839S6QowfMXi4jvmcRqzfhTVLoFrTzqu5mPn31ZrlkXhDLHzacM1C5HAXE2eIC/kpEZkhIm+iEEvNxavuW8glx0MAn6lZDiF5uHBxQ/NMWtftJBEZICI882si8qSIPF+LD8QlTewfbmj6rbjki7ZdzRAwBApBwAhgIbDaRQ0BQ6CDEdA4t2NqJA7LGZa5MAHS/+N67Vtz936jhsv/FJGlInKfiHyu9jfIFnGBuH3vDZBCLIL8/dFajN68msuXe+4jIpz385rlj8QU4gtJ1HhbLcaQxBRiB0lB5rNDReSnIoLr+hERoU/ENmIpxDpI7GGShnsY6ySk8MdJTrBjDAFDoDwIGAEsz1hYTwwBQ8APBJQAYjWD/G2puVzDBFDdxWQBYy3EdXtP7RFRTcaNizUNNy/t2Br5w4KHG5dGUsftIjJLRFbXLHNkIFNk+ehafB5EjnhCCCJxgbiGD6mdj1sacthMU2vgXwsN/zXr2ZohYAh4joARQM8H0LpvCBgCLUdACSBJGZA4sm2RXolzgWJZIzN3PxEZUustiR2QQTJxz6z9DQsdiRzEBBKLR8PKhgozWb8/zOFJlczppSCM1gwBQ6CCCBgBrOCg2yMbAoZALgi8p2aVIwlkcIMYOKx2JFeQzYvMCvFzH6olcWQldqzfuoZjlTPLXC7DahcxBKqBgBHAaoyzPaUhYAjkjwDCyKfXJFk0kSPuLhC+sbX4O+Lw4lqQ0Okxpq2X/9jZFQ2ByiNgBLDyU8AAMAQMgRYhgPsVqx+izdYMAUPAEGgrAkYA2wq/3dwQMAQ8R0DdsBZL5/lAWvcNgaohYASwaiNuz2sIGAKGgCFgCBgClUfACGDlp4ABYAgYAoaAIWAIGAJVQ8AIYNVG3J7XEDAEDAFDwBAwBCqPgBHAyk8BA8AQMAQMAUPAEDAEqoaAEcCqjbg9ryFgCBgChoAhYAhUHgEjgJWfAgaAIWAIGAKGgCFgCFQNASOAVRtxe15DwBAwBAwBQ8AQqDwCRgArPwUMAEPAEDAEDAFDwBCoGgJGAKs24va8hoAhYAgYAoaAIVB5BIwAVn4KGACGgCFgCBgChoAhUDUEjABWbcTteQ0BQ8AQMAQMAUOg8ggYAaz8FDAADAFDwBAwBAwBQ6BqCBgBrNqI2/MaAoaAIWAIGAKGQOURMAJY+SlgABgChoAhYAgYAoZA1RAwAli1EbfnNQQMAUPAEDAEDIHKI2AEsPJTwAAwBAwBQ8AQMAQMgaohYASwaiNuz2sIGAKGgCFgCBgClUfACGDlp4ABYAgYAoaAIWAIGAJVQ8AIYNVG3J7XEDAEDAFDwBAwBCqPgBHAyk8BA8AQMAQMAUPAEDAEqoaAEcCqjbg9ryFgCBgChoAhYAhUHgEjgJWfAgaAIWAIGAKGgCFgCFQNASOAVRtxe15DwBAwBAwBQ8AQqDwCRgArPwUMAEPAEDAEDAFDwBCoGgJGAKs24va8hoAhYAgYAoaAIVB5BIwAVn4KGACGgCFgCBgChoAhUDUEjABWbcTteQ0BQ8AQMAQMAUOg8ggYAaz8FDAADAFDwBAwBAwBQ6BqCBgBrNqI2/MaAoaAIWAIGAKGQOURMAJY+SlgABgChoAhYAgYAoZA1RAwAli1EbfnNQQMAUPAEDAEDIHKI2AEsPJTwAAwBAwBQ8AQMAQMgaohYASwaiNuz2sIGAKGgCFgCBgClUfACGDlp4ABYAgYAoaAIWAIGAJVQ8AIYNVG3J7XEDAEDAFDwBAwBCqPgBHAyk8BA8AQMAQMAUPAEDAEqoaAEcCqjbg9ryFgCBgChoAhYAhUHgEjgJWfAgaAIWAIGAKGgCFgCFQNASOAVRtxe15DwBAwBAwBQ8AQqDwCRgArPwUMAEPAEDAEDAFDwBCoGgJGAKs24va8hoAhYAgYAoaAIVB5BP4fAD1RmObfr9kAAAAASUVORK5CYII=\" width=\"640\">"
      ],
      "text/plain": [
       "<IPython.core.display.HTML object>"
      ]
     },
     "metadata": {},
     "output_type": "display_data"
    }
   ],
   "source": [
    "#PLOT A SURFACE\n",
    "%matplotlib notebook\n",
    "from mpl_toolkits.mplot3d import Axes3D\n",
    "\n",
    "fig = plt.figure('Llit')\n",
    "ax = fig.gca(projection='3d')\n",
    "fig.suptitle(\"Llit elàstic\")\n",
    "plt.xlabel(\"X (meters)\")\n",
    "plt.ylabel(\"Y (meters)\")\n",
    "ax.set_zlabel('Height (meters)')\n",
    "ax.set_zlim(-1,0.1)\n",
    "\n",
    "surf = ax.plot_surface(llit[:,:,0], llit[:,:,1], abs(aux-llit[:,:,2]), antialiased=True)\n"
   ]
  },
  {
   "cell_type": "code",
   "execution_count": 27,
   "metadata": {},
   "outputs": [
    {
     "data": {
      "text/plain": [
       "0.00010248563967730256"
      ]
     },
     "execution_count": 27,
     "metadata": {},
     "output_type": "execute_result"
    }
   ],
   "source": [
    "np.linalg.norm(llit[:,:,2]-aux)"
   ]
  },
  {
   "cell_type": "code",
   "execution_count": 43,
   "metadata": {
    "collapsed": true
   },
   "outputs": [],
   "source": [
    "np.gradient?"
   ]
  },
  {
   "cell_type": "code",
   "execution_count": 52,
   "metadata": {},
   "outputs": [
    {
     "data": {
      "text/plain": [
       "array([[-2.2       , -2.2       , -2.2       , ..., -2.2       ,\n",
       "        -2.2       , -2.2       ],\n",
       "       [-1.8       , -1.80050426, -1.80052828, ..., -1.80052369,\n",
       "        -1.80049979, -1.8       ],\n",
       "       [-1.78325581, -1.78375358, -1.78377662, ..., -1.78377102,\n",
       "        -1.78374814, -1.78325581],\n",
       "       ..., \n",
       "       [ 1.78325581,  1.78377743,  1.78380134, ...,  1.78379616,\n",
       "         1.78377239,  1.78325581],\n",
       "       [ 1.8       ,  1.80052666,  1.80055152, ...,  1.80054733,\n",
       "         1.80052258,  1.8       ],\n",
       "       [ 2.2       ,  2.2       ,  2.2       , ...,  2.2       ,\n",
       "         2.2       ,  2.2       ]])"
      ]
     },
     "execution_count": 52,
     "metadata": {},
     "output_type": "execute_result"
    }
   ],
   "source": [
    "llit[:,:,0]"
   ]
  },
  {
   "cell_type": "code",
   "execution_count": 53,
   "metadata": {},
   "outputs": [
    {
     "data": {
      "text/plain": [
       "(218, 154)"
      ]
     },
     "execution_count": 53,
     "metadata": {},
     "output_type": "execute_result"
    }
   ],
   "source": [
    "llit[:,:,0].shape"
   ]
  },
  {
   "cell_type": "code",
   "execution_count": 54,
   "metadata": {},
   "outputs": [
    {
     "data": {
      "text/plain": [
       "(218, 154)"
      ]
     },
     "execution_count": 54,
     "metadata": {},
     "output_type": "execute_result"
    }
   ],
   "source": [
    "aux.shape"
   ]
  },
  {
   "cell_type": "code",
   "execution_count": 51,
   "metadata": {
    "scrolled": true
   },
   "outputs": [
    {
     "ename": "ValueError",
     "evalue": "distances must be either scalars or match the length of the corresponding dimension",
     "output_type": "error",
     "traceback": [
      "\u001b[0;31m---------------------------------------------------------------------------\u001b[0m",
      "\u001b[0;31mValueError\u001b[0m                                Traceback (most recent call last)",
      "\u001b[0;32m<timed eval>\u001b[0m in \u001b[0;36m<module>\u001b[0;34m()\u001b[0m\n",
      "\u001b[0;32m/media/pau/HDD/anaconda3/lib/python3.6/site-packages/numpy/lib/function_base.py\u001b[0m in \u001b[0;36mgradient\u001b[0;34m(f, *varargs, **kwargs)\u001b[0m\n\u001b[1;32m   1693\u001b[0m                 \u001b[0;32mcontinue\u001b[0m\u001b[0;34m\u001b[0m\u001b[0m\n\u001b[1;32m   1694\u001b[0m             \u001b[0;32mif\u001b[0m \u001b[0mlen\u001b[0m\u001b[0;34m(\u001b[0m\u001b[0mdistances\u001b[0m\u001b[0;34m)\u001b[0m \u001b[0;34m!=\u001b[0m \u001b[0mf\u001b[0m\u001b[0;34m.\u001b[0m\u001b[0mshape\u001b[0m\u001b[0;34m[\u001b[0m\u001b[0maxes\u001b[0m\u001b[0;34m[\u001b[0m\u001b[0mi\u001b[0m\u001b[0;34m]\u001b[0m\u001b[0;34m]\u001b[0m\u001b[0;34m:\u001b[0m\u001b[0;34m\u001b[0m\u001b[0m\n\u001b[0;32m-> 1695\u001b[0;31m                 raise ValueError(\"distances must be either scalars or match \"\n\u001b[0m\u001b[1;32m   1696\u001b[0m                                  \"the length of the corresponding dimension\")\n\u001b[1;32m   1697\u001b[0m             \u001b[0mdiffx\u001b[0m \u001b[0;34m=\u001b[0m \u001b[0mnp\u001b[0m\u001b[0;34m.\u001b[0m\u001b[0mdiff\u001b[0m\u001b[0;34m(\u001b[0m\u001b[0mdx\u001b[0m\u001b[0;34m[\u001b[0m\u001b[0mi\u001b[0m\u001b[0;34m]\u001b[0m\u001b[0;34m)\u001b[0m\u001b[0;34m\u001b[0m\u001b[0m\n",
      "\u001b[0;31mValueError\u001b[0m: distances must be either scalars or match the length of the corresponding dimension"
     ]
    }
   ],
   "source": [
    "%%time \n",
    "np.gradient(aux, llit[:,:,0], llit[:,:,1])"
   ]
  },
  {
   "cell_type": "code",
   "execution_count": 62,
   "metadata": {
    "collapsed": true
   },
   "outputs": [],
   "source": [
    "import numdifftools as nd"
   ]
  },
  {
   "cell_type": "code",
   "execution_count": 73,
   "metadata": {
    "collapsed": true
   },
   "outputs": [],
   "source": [
    "\n",
    ">>> import numdifftools.nd_algopy as nda\n",
    ">>> xdata = np.reshape(np.arange(0,1,0.1),(-1,1))\n",
    ">>> ydata = 1+2*np.exp(0.75*xdata)\n",
    ">>> fun = lambda c: (c[0]+c[1]*np.exp(c[2]*xdata) - ydata)**2\n",
    ">>> Jfun = nda.Jacobian(f, method='reverse')\n"
   ]
  },
  {
   "cell_type": "code",
   "execution_count": 74,
   "metadata": {},
   "outputs": [
    {
     "ename": "TypeError",
     "evalue": "__call__() missing 1 required positional argument: 'y'",
     "output_type": "error",
     "traceback": [
      "\u001b[0;31m---------------------------------------------------------------------------\u001b[0m",
      "\u001b[0;31mTypeError\u001b[0m                                 Traceback (most recent call last)",
      "\u001b[0;32m<ipython-input-74-9dd5f355b028>\u001b[0m in \u001b[0;36m<module>\u001b[0;34m()\u001b[0m\n\u001b[0;32m----> 1\u001b[0;31m \u001b[0mnp\u001b[0m\u001b[0;34m.\u001b[0m\u001b[0mabs\u001b[0m\u001b[0;34m(\u001b[0m\u001b[0mJfun\u001b[0m\u001b[0;34m(\u001b[0m\u001b[0;34m[\u001b[0m\u001b[0;36m1\u001b[0m\u001b[0;34m,\u001b[0m\u001b[0;36m2\u001b[0m\u001b[0;34m,\u001b[0m\u001b[0;36m0.75\u001b[0m\u001b[0;34m]\u001b[0m\u001b[0;34m)\u001b[0m\u001b[0;34m)\u001b[0m \u001b[0;31m# should be numerically zero\u001b[0m\u001b[0;34m\u001b[0m\u001b[0m\n\u001b[0m",
      "\u001b[0;32m/media/pau/HDD/anaconda3/lib/python3.6/site-packages/numdifftools/nd_algopy.py\u001b[0m in \u001b[0;36m__call__\u001b[0;34m(self, x, *args, **kwds)\u001b[0m\n\u001b[1;32m    145\u001b[0m         \u001b[0mfun\u001b[0m \u001b[0;34m=\u001b[0m \u001b[0mself\u001b[0m\u001b[0;34m.\u001b[0m\u001b[0m_get_function\u001b[0m\u001b[0;34m(\u001b[0m\u001b[0;34m)\u001b[0m\u001b[0;34m\u001b[0m\u001b[0m\n\u001b[1;32m    146\u001b[0m         \u001b[0mx0\u001b[0m \u001b[0;34m=\u001b[0m \u001b[0mnp\u001b[0m\u001b[0;34m.\u001b[0m\u001b[0masarray\u001b[0m\u001b[0;34m(\u001b[0m\u001b[0mx\u001b[0m\u001b[0;34m,\u001b[0m \u001b[0mdtype\u001b[0m\u001b[0;34m=\u001b[0m\u001b[0mfloat\u001b[0m\u001b[0;34m)\u001b[0m\u001b[0;34m\u001b[0m\u001b[0m\n\u001b[0;32m--> 147\u001b[0;31m         \u001b[0mdf\u001b[0m \u001b[0;34m=\u001b[0m \u001b[0mfun\u001b[0m\u001b[0;34m(\u001b[0m\u001b[0mx0\u001b[0m\u001b[0;34m,\u001b[0m \u001b[0;34m*\u001b[0m\u001b[0margs\u001b[0m\u001b[0;34m,\u001b[0m \u001b[0;34m**\u001b[0m\u001b[0mkwds\u001b[0m\u001b[0;34m)\u001b[0m\u001b[0;34m\u001b[0m\u001b[0m\n\u001b[0m\u001b[1;32m    148\u001b[0m         \u001b[0;32mif\u001b[0m \u001b[0mself\u001b[0m\u001b[0;34m.\u001b[0m\u001b[0mfull_output\u001b[0m\u001b[0;34m:\u001b[0m\u001b[0;34m\u001b[0m\u001b[0m\n\u001b[1;32m    149\u001b[0m             \u001b[0;32mreturn\u001b[0m \u001b[0mdf\u001b[0m\u001b[0;34m,\u001b[0m \u001b[0mself\u001b[0m\u001b[0;34m.\u001b[0m\u001b[0minfo\u001b[0m\u001b[0;34m(\u001b[0m\u001b[0mnp\u001b[0m\u001b[0;34m.\u001b[0m\u001b[0mmaximum\u001b[0m\u001b[0;34m(\u001b[0m\u001b[0;36m10\u001b[0m\u001b[0;34m*\u001b[0m\u001b[0mEPS\u001b[0m \u001b[0;34m*\u001b[0m \u001b[0mnp\u001b[0m\u001b[0;34m.\u001b[0m\u001b[0mabs\u001b[0m\u001b[0;34m(\u001b[0m\u001b[0mdf\u001b[0m\u001b[0;34m)\u001b[0m\u001b[0;34m,\u001b[0m \u001b[0mEPS\u001b[0m\u001b[0;34m)\u001b[0m\u001b[0;34m,\u001b[0m \u001b[0mEPS\u001b[0m\u001b[0;34m,\u001b[0m \u001b[0;36m0\u001b[0m\u001b[0;34m)\u001b[0m\u001b[0;34m\u001b[0m\u001b[0m\n",
      "\u001b[0;32m/media/pau/HDD/anaconda3/lib/python3.6/site-packages/numdifftools/nd_algopy.py\u001b[0m in \u001b[0;36m_reverse\u001b[0;34m(self, x, *args, **kwds)\u001b[0m\n\u001b[1;32m    348\u001b[0m     \u001b[0;32mdef\u001b[0m \u001b[0m_reverse\u001b[0m\u001b[0;34m(\u001b[0m\u001b[0mself\u001b[0m\u001b[0;34m,\u001b[0m \u001b[0mx\u001b[0m\u001b[0;34m,\u001b[0m \u001b[0;34m*\u001b[0m\u001b[0margs\u001b[0m\u001b[0;34m,\u001b[0m \u001b[0;34m**\u001b[0m\u001b[0mkwds\u001b[0m\u001b[0;34m)\u001b[0m\u001b[0;34m:\u001b[0m\u001b[0;34m\u001b[0m\u001b[0m\n\u001b[1;32m    349\u001b[0m         \u001b[0mx\u001b[0m \u001b[0;34m=\u001b[0m \u001b[0mnp\u001b[0m\u001b[0;34m.\u001b[0m\u001b[0matleast_1d\u001b[0m\u001b[0;34m(\u001b[0m\u001b[0mx\u001b[0m\u001b[0;34m)\u001b[0m\u001b[0;34m\u001b[0m\u001b[0m\n\u001b[0;32m--> 350\u001b[0;31m         \u001b[0mc_graph\u001b[0m \u001b[0;34m=\u001b[0m \u001b[0mself\u001b[0m\u001b[0;34m.\u001b[0m\u001b[0mcomputational_graph\u001b[0m\u001b[0;34m(\u001b[0m\u001b[0mx\u001b[0m\u001b[0;34m,\u001b[0m \u001b[0;34m*\u001b[0m\u001b[0margs\u001b[0m\u001b[0;34m,\u001b[0m \u001b[0;34m**\u001b[0m\u001b[0mkwds\u001b[0m\u001b[0;34m)\u001b[0m\u001b[0;34m\u001b[0m\u001b[0m\n\u001b[0m\u001b[1;32m    351\u001b[0m         \u001b[0;32mreturn\u001b[0m \u001b[0mc_graph\u001b[0m\u001b[0;34m.\u001b[0m\u001b[0mjacobian\u001b[0m\u001b[0;34m(\u001b[0m\u001b[0mx\u001b[0m\u001b[0;34m)\u001b[0m\u001b[0;34m\u001b[0m\u001b[0m\n\u001b[1;32m    352\u001b[0m \u001b[0;34m\u001b[0m\u001b[0m\n",
      "\u001b[0;32m/media/pau/HDD/anaconda3/lib/python3.6/site-packages/numdifftools/nd_algopy.py\u001b[0m in \u001b[0;36mcomputational_graph\u001b[0;34m(self, x, *args, **kwds)\u001b[0m\n\u001b[1;32m    128\u001b[0m             \u001b[0mtmp\u001b[0m \u001b[0;34m=\u001b[0m \u001b[0malgopy\u001b[0m\u001b[0;34m.\u001b[0m\u001b[0mFunction\u001b[0m\u001b[0;34m(\u001b[0m\u001b[0mx\u001b[0m\u001b[0;34m)\u001b[0m\u001b[0;34m\u001b[0m\u001b[0m\n\u001b[1;32m    129\u001b[0m \u001b[0;34m\u001b[0m\u001b[0m\n\u001b[0;32m--> 130\u001b[0;31m             \u001b[0my\u001b[0m \u001b[0;34m=\u001b[0m \u001b[0mself\u001b[0m\u001b[0;34m.\u001b[0m\u001b[0mfun\u001b[0m\u001b[0;34m(\u001b[0m\u001b[0mtmp\u001b[0m\u001b[0;34m,\u001b[0m \u001b[0;34m*\u001b[0m\u001b[0margs\u001b[0m\u001b[0;34m,\u001b[0m \u001b[0;34m**\u001b[0m\u001b[0mkwds\u001b[0m\u001b[0;34m)\u001b[0m\u001b[0;34m\u001b[0m\u001b[0m\n\u001b[0m\u001b[1;32m    131\u001b[0m \u001b[0;34m\u001b[0m\u001b[0m\n\u001b[1;32m    132\u001b[0m             \u001b[0mcg\u001b[0m\u001b[0;34m.\u001b[0m\u001b[0mtrace_off\u001b[0m\u001b[0;34m(\u001b[0m\u001b[0;34m)\u001b[0m\u001b[0;34m\u001b[0m\u001b[0m\n",
      "\u001b[0;31mTypeError\u001b[0m: __call__() missing 1 required positional argument: 'y'"
     ]
    }
   ],
   "source": [
    "np.abs(Jfun([1,2,0.75])) # should be numerically zero\n"
   ]
  },
  {
   "cell_type": "code",
   "execution_count": 56,
   "metadata": {
    "scrolled": false
   },
   "outputs": [
    {
     "name": "stdout",
     "output_type": "stream",
     "text": [
      "Collecting numdifftools\n",
      "  Downloading numdifftools-0.9.20-py2.py3-none-any.whl (3.2MB)\n",
      "\u001b[K    100% |████████████████████████████████| 3.2MB 507kB/s ta 0:00:011\n",
      "\u001b[?25hRequirement already satisfied: numpy>=1.9 in /media/pau/HDD/anaconda3/lib/python3.6/site-packages (from numdifftools)\n",
      "Collecting algopy>=0.4 (from numdifftools)\n",
      "  Downloading algopy-0.5.5.zip (189kB)\n",
      "\u001b[K    100% |████████████████████████████████| 194kB 3.2MB/s eta 0:00:01\n",
      "\u001b[?25hRequirement already satisfied: scipy>=0.8 in /media/pau/HDD/anaconda3/lib/python3.6/site-packages (from numdifftools)\n",
      "Requirement already satisfied: setuptools>=9.0 in /media/pau/HDD/anaconda3/lib/python3.6/site-packages (from numdifftools)\n",
      "Building wheels for collected packages: algopy\n",
      "  Running setup.py bdist_wheel for algopy ... \u001b[?25ldone\n",
      "\u001b[?25h  Stored in directory: /home/pau/.cache/pip/wheels/6d/84/41/a6dbdd08b74835e79671c1cae2c67d157a4e9b57d60770f15a\n",
      "Successfully built algopy\n",
      "Installing collected packages: algopy, numdifftools\n",
      "Successfully installed algopy-0.5.5 numdifftools-0.9.20\n"
     ]
    }
   ],
   "source": [
    "!pip install numdifftools"
   ]
  },
  {
   "cell_type": "code",
   "execution_count": 60,
   "metadata": {},
   "outputs": [
    {
     "ename": "SyntaxError",
     "evalue": "invalid syntax (<ipython-input-60-c10ff896aba3>, line 3)",
     "output_type": "error",
     "traceback": [
      "\u001b[0;36m  File \u001b[0;32m\"<ipython-input-60-c10ff896aba3>\"\u001b[0;36m, line \u001b[0;32m3\u001b[0m\n\u001b[0;31m    >>> import numpy as np\u001b[0m\n\u001b[0m     ^\u001b[0m\n\u001b[0;31mSyntaxError\u001b[0m\u001b[0;31m:\u001b[0m invalid syntax\n"
     ]
    }
   ],
   "source": [
    "%matplotlib inline\n",
    "\n",
    ">>> import numpy as np\n",
    ">>> import numdifftools as nd\n",
    ">>> import matplotlib.pyplot as plt\n",
    ">>> x = np.linspace(-2, 2, 100)\n",
    ">>> for i in range(10):\n",
    "...    df = nd.Derivative(np.tanh, n=i)\n",
    "...    y = df(x)\n",
    "...    h = plt.plot(x, y/np.abs(y).max())\n"
   ]
  },
  {
   "cell_type": "code",
   "execution_count": null,
   "metadata": {
    "collapsed": true
   },
   "outputs": [],
   "source": []
  }
 ],
 "metadata": {
  "kernelspec": {
   "display_name": "Python 3",
   "language": "python",
   "name": "python3"
  },
  "language_info": {
   "codemirror_mode": {
    "name": "ipython",
    "version": 3
   },
   "file_extension": ".py",
   "mimetype": "text/x-python",
   "name": "python",
   "nbconvert_exporter": "python",
   "pygments_lexer": "ipython3",
   "version": "3.5.3"
  }
 },
 "nbformat": 4,
 "nbformat_minor": 2
}
