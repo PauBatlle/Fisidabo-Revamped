{
 "cells": [
  {
   "cell_type": "code",
   "execution_count": 1,
   "metadata": {},
   "outputs": [],
   "source": [
    "import numpy as np\n",
    "import matplotlib.pyplot as plt\n",
    "import seaborn as sns\n",
    "%matplotlib inline"
   ]
  },
  {
   "cell_type": "code",
   "execution_count": 91,
   "metadata": {},
   "outputs": [
    {
     "name": "stdout",
     "output_type": "stream",
     "text": [
      "/home/pau/Desktop/Fisidabo_Final/Codi/Fase3/Ebola4/Grids\n"
     ]
    }
   ],
   "source": [
    "cd Grids"
   ]
  },
  {
   "cell_type": "code",
   "execution_count": 92,
   "metadata": {},
   "outputs": [
    {
     "name": "stdout",
     "output_type": "stream",
     "text": [
      "0f3expc_k_0.1_0.8_sigma_1_1.5_mu_0_0.2_nu_0_2_spin_-5_5.npy\r\n",
      "1f3expc_k_0.1_0.8_sigma_1_1.5_mu_0_0.2_nu_0_2_spin_-5_5.npy\r\n",
      "1f3real_c_1_2.5_k_0.1_0.8_sigma_1_1.5_mu_0_0.2_nu_0_2_spin_-5_5.npy\r\n",
      "2f3expc_k_0.1_0.8_sigma_1_1.5_mu_0_0.2_nu_0_2_spin_-5_5.npy\r\n",
      "2f3real_c_1_2.5_k_0.1_0.8_sigma_1_1.5_mu_0_0.2_nu_0_2_spin_-5_5.npy\r\n",
      "3f3expc_k_0.1_0.8_sigma_1_1.5_mu_0_0.2_nu_0_2_spin_-5_5.npy\r\n",
      "3f3real_c_1_2.5_k_0.1_0.8_sigma_1_1.5_mu_0_0.2_nu_0_2_spin_-5_5.npy\r\n",
      "4f3expc_k_0.1_0.8_sigma_1_1.5_mu_0_0.2_nu_0_2_spin_-5_5.npy\r\n",
      "4f3real_c_1_2.5_k_0.1_0.8_sigma_1_1.5_mu_0_0.2_nu_0_2_spin_-5_5.npy\r\n",
      "exp3ck.npy\r\n",
      "exp3real.npy\r\n",
      "f2expc_k_0.1_0.8_sigma_1_1.5_mu_0_0.2.npy\r\n",
      "f2expc.npy\r\n",
      "f3real_mu_0_0.2_nu_0_2_spin_-5_5.npy\r\n",
      "grid2ck.npy\r\n",
      "Grid_Analysis.ipynb\r\n",
      "hanpetat.txt\r\n",
      "taula1real_mu_0_0.2_nu_0_2_spin_-5_5.npy\r\n",
      "taula2real_mu_0_0.2_nu_0_2_spin_-5_5.npy\r\n",
      "taula3real_mu_0_0.2_nu_0_2_spin_-5_5.npy\r\n",
      "taula4real_mu_0_0.2_nu_0_2_spin_-5_5.npy\r\n"
     ]
    }
   ],
   "source": [
    "ls"
   ]
  },
  {
   "cell_type": "code",
   "execution_count": 93,
   "metadata": {},
   "outputs": [],
   "source": [
    "def index_to_value(M, bounds, s, noms, n=True):\n",
    "    assert len(s) == len(bounds)\n",
    "    assert len(s) == len(M.shape)\n",
    "    for i,j in enumerate(bounds):\n",
    "        if n:\n",
    "            print(noms[i], np.linspace(j[0],j[1],M.shape[i])[s[i]], end = ' ')\n",
    "        else:\n",
    "            print(np.linspace(j[0],j[1],M.shape[i])[s[i]], end = \" \")\n",
    "    print(\"\")"
   ]
  },
  {
   "cell_type": "code",
   "execution_count": 94,
   "metadata": {},
   "outputs": [],
   "source": [
    "def process(M):\n",
    "    for i in np.array(np.where(np.isnan(M))).T:\n",
    "        index_to_value(M,bounds,i, noms)\n",
    "    M[np.isnan(M)] = 99\n",
    "    return np.minimum(M,99)"
   ]
  },
  {
   "cell_type": "code",
   "execution_count": 95,
   "metadata": {},
   "outputs": [],
   "source": [
    "M = np.load(\"f2expc.npy\")"
   ]
  },
  {
   "cell_type": "code",
   "execution_count": 98,
   "metadata": {},
   "outputs": [
    {
     "data": {
      "text/plain": [
       "(10, 10, 10)"
      ]
     },
     "execution_count": 98,
     "metadata": {},
     "output_type": "execute_result"
    }
   ],
   "source": [
    "M.shape"
   ]
  },
  {
   "cell_type": "code",
   "execution_count": 106,
   "metadata": {},
   "outputs": [],
   "source": [
    "M[np.isnan(M)] = -1"
   ]
  },
  {
   "cell_type": "code",
   "execution_count": 108,
   "metadata": {},
   "outputs": [
    {
     "data": {
      "text/plain": [
       "-1.0"
      ]
     },
     "execution_count": 108,
     "metadata": {},
     "output_type": "execute_result"
    }
   ],
   "source": [
    "M[8,5,2]"
   ]
  },
  {
   "cell_type": "code",
   "execution_count": null,
   "metadata": {},
   "outputs": [],
   "source": []
  },
  {
   "cell_type": "code",
   "execution_count": 107,
   "metadata": {
    "scrolled": false
   },
   "outputs": [
    {
     "data": {
      "text/plain": [
       "<matplotlib.axes._subplots.AxesSubplot at 0x7fd648f2ed30>"
      ]
     },
     "execution_count": 107,
     "metadata": {},
     "output_type": "execute_result"
    },
    {
     "data": {
      "image/png": "[encoded data removed]",
      "text/plain": [
       "<matplotlib.figure.Figure at 0x7fd648f25cf8>"
      ]
     },
     "metadata": {},
     "output_type": "display_data"
    }
   ],
   "source": [
    "sns.heatmap(M[:,:,2], annot = True)"
   ]
  },
  {
   "cell_type": "code",
   "execution_count": 86,
   "metadata": {},
   "outputs": [],
   "source": [
    "M = process(M)\n",
    "bounds = ((1,1.5),(0,0.5),(0,0.5),(-2,2))"
   ]
  },
  {
   "cell_type": "code",
   "execution_count": 87,
   "metadata": {},
   "outputs": [],
   "source": [
    "noms = [\"sigma\", \"mu\", \"nu\", \"s0\"]"
   ]
  },
  {
   "cell_type": "code",
   "execution_count": 66,
   "metadata": {},
   "outputs": [
    {
     "data": {
      "text/plain": [
       "16.276524105024027"
      ]
     },
     "execution_count": 66,
     "metadata": {},
     "output_type": "execute_result"
    }
   ],
   "source": [
    "np.min(M)"
   ]
  },
  {
   "cell_type": "code",
   "execution_count": 67,
   "metadata": {},
   "outputs": [
    {
     "data": {
      "text/plain": [
       "125"
      ]
     },
     "execution_count": 67,
     "metadata": {},
     "output_type": "execute_result"
    }
   ],
   "source": [
    "np.argmin(M)"
   ]
  },
  {
   "cell_type": "code",
   "execution_count": 68,
   "metadata": {},
   "outputs": [
    {
     "data": {
      "text/plain": [
       "(5, 5, 5, 5)"
      ]
     },
     "execution_count": 68,
     "metadata": {},
     "output_type": "execute_result"
    }
   ],
   "source": [
    "M.shape"
   ]
  },
  {
   "cell_type": "code",
   "execution_count": 88,
   "metadata": {},
   "outputs": [
    {
     "name": "stdout",
     "output_type": "stream",
     "text": [
      "[0 0 0 0]\n",
      "sigma 1.0 mu 0.0 nu 0.0 s0 -2.0 \n",
      "[1 0 0 0]\n",
      "sigma 1.125 mu 0.0 nu 0.0 s0 -2.0 \n"
     ]
    }
   ],
   "source": [
    "for i in np.array(np.where(M < 20)).T:\n",
    "    print(i)\n",
    "    index_to_value(M, bounds, i, noms)"
   ]
  },
  {
   "cell_type": "code",
   "execution_count": 78,
   "metadata": {},
   "outputs": [],
   "source": [
    "sigma_b = (1,1.5)\n",
    "mu_b = (0, 0.5)\n",
    "nu_b = (0, 0.5)\n",
    "spin_b = (-2, 2)\n",
    "\n",
    "v0 = np.linspace(*sigma_b, 5)\n",
    "v1 = np.linspace(*mu_b, 5)\n",
    "v2 = np.linspace(*nu_b, 5)\n",
    "v3 = np.linspace(*spin_b, 5)"
   ]
  },
  {
   "cell_type": "code",
   "execution_count": 80,
   "metadata": {},
   "outputs": [
    {
     "data": {
      "text/plain": [
       "(1, 0, 0, 0)"
      ]
     },
     "execution_count": 80,
     "metadata": {},
     "output_type": "execute_result"
    }
   ],
   "source": [
    "np.unravel_index(np.argmin(M), dims = M.shape)"
   ]
  },
  {
   "cell_type": "code",
   "execution_count": 72,
   "metadata": {
    "scrolled": true
   },
   "outputs": [
    {
     "name": "stdout",
     "output_type": "stream",
     "text": [
      "/home/pau/Desktop/Fisidabo_Final/Codi/Fase3/Ebola4\n"
     ]
    }
   ],
   "source": [
    "cd .."
   ]
  },
  {
   "cell_type": "code",
   "execution_count": 73,
   "metadata": {
    "scrolled": true
   },
   "outputs": [],
   "source": [
    "%run fit.py"
   ]
  },
  {
   "cell_type": "code",
   "execution_count": 82,
   "metadata": {},
   "outputs": [
    {
     "data": {
      "text/plain": [
       "(1.125, 0.0, 0.0, -2.0)"
      ]
     },
     "execution_count": 82,
     "metadata": {},
     "output_type": "execute_result"
    }
   ],
   "source": [
    "v0[1],v1[0],v2[0],v3[0]"
   ]
  },
  {
   "cell_type": "code",
   "execution_count": 81,
   "metadata": {},
   "outputs": [
    {
     "data": {
      "text/plain": [
       "16.276524105024027"
      ]
     },
     "execution_count": 81,
     "metadata": {},
     "output_type": "execute_result"
    }
   ],
   "source": [
    "f3expck([v0[1],v1[0],v2[0],v3[0]], None)"
   ]
  },
  {
   "cell_type": "code",
   "execution_count": 46,
   "metadata": {
    "scrolled": true
   },
   "outputs": [
    {
     "data": {
      "text/plain": [
       "<matplotlib.axes._subplots.AxesSubplot at 0x7fd6492324a8>"
      ]
     },
     "execution_count": 46,
     "metadata": {},
     "output_type": "execute_result"
    },
    {
     "data": {
      "image/png": "[encoded data removed]",
      "text/plain": [
       "<matplotlib.figure.Figure at 0x7fd649279fd0>"
      ]
     },
     "metadata": {},
     "output_type": "display_data"
    }
   ],
   "source": [
    "sns.heatmap(M[:,0,0,:], annot = True)"
   ]
  },
  {
   "cell_type": "code",
   "execution_count": 35,
   "metadata": {
    "scrolled": true
   },
   "outputs": [
    {
     "data": {
      "text/plain": [
       "(5, 5, 5, 5)"
      ]
     },
     "execution_count": 35,
     "metadata": {},
     "output_type": "execute_result"
    }
   ],
   "source": [
    "M.shape"
   ]
  },
  {
   "cell_type": "code",
   "execution_count": 33,
   "metadata": {},
   "outputs": [
    {
     "name": "stdout",
     "output_type": "stream",
     "text": [
      "1.02631578947 0.157894736842 \n",
      "1.05263157895 0.157894736842 \n",
      "1.05263157895 0.263157894737 \n",
      "1.05263157895 0.473684210526 \n",
      "1.07894736842 0.210526315789 \n",
      "1.07894736842 0.421052631579 \n",
      "1.13157894737 0.210526315789 \n",
      "1.13157894737 0.315789473684 \n",
      "1.18421052632 0.210526315789 \n",
      "1.21052631579 0.210526315789 \n",
      "1.23684210526 0.263157894737 \n",
      "1.31578947368 0.263157894737 \n",
      "1.34210526316 0.473684210526 \n",
      "1.36842105263 0.421052631579 \n",
      "1.39473684211 0.368421052632 \n",
      "1.39473684211 0.421052631579 \n",
      "1.44736842105 0.210526315789 \n",
      "1.44736842105 0.368421052632 \n",
      "1.44736842105 0.473684210526 \n",
      "1.47368421053 0.210526315789 \n",
      "1.47368421053 0.263157894737 \n"
     ]
    }
   ],
   "source": [
    "for i in np.array(np.where(M < 40)).T:\n",
    "    index_to_value(M, bounds, i, noms)"
   ]
  },
  {
   "cell_type": "markdown",
   "metadata": {},
   "source": [
    "Ebola2, exponencial"
   ]
  },
  {
   "cell_type": "code",
   "execution_count": 5,
   "metadata": {},
   "outputs": [],
   "source": [
    "M = np.load(\"f2expc_k_0.1_0.8_sigma_1_1.5_mu_0_0.2.npy\")"
   ]
  },
  {
   "cell_type": "code",
   "execution_count": 6,
   "metadata": {},
   "outputs": [
    {
     "data": {
      "text/plain": [
       "(10, 10, 10)"
      ]
     },
     "execution_count": 6,
     "metadata": {},
     "output_type": "execute_result"
    }
   ],
   "source": [
    "M.shape"
   ]
  },
  {
   "cell_type": "code",
   "execution_count": 7,
   "metadata": {},
   "outputs": [],
   "source": [
    "bounds = ((0.1,0.8),(1,1.5),(0,0.2))"
   ]
  },
  {
   "cell_type": "code",
   "execution_count": 8,
   "metadata": {},
   "outputs": [],
   "source": [
    "noms = [\"k\", \"sigma\", \"mu\"]"
   ]
  },
  {
   "cell_type": "code",
   "execution_count": 9,
   "metadata": {
    "scrolled": true
   },
   "outputs": [
    {
     "name": "stdout",
     "output_type": "stream",
     "text": [
      "k 0.255555555556 sigma 1.33333333333 mu 0.133333333333 \n",
      "k 0.255555555556 sigma 1.33333333333 mu 0.155555555556 \n",
      "k 0.255555555556 sigma 1.33333333333 mu 0.2 \n",
      "k 0.255555555556 sigma 1.38888888889 mu 0.155555555556 \n",
      "k 0.255555555556 sigma 1.44444444444 mu 0.133333333333 \n",
      "k 0.255555555556 sigma 1.44444444444 mu 0.177777777778 \n",
      "k 0.255555555556 sigma 1.5 mu 0.155555555556 \n",
      "k 0.255555555556 sigma 1.5 mu 0.2 \n",
      "k 0.333333333333 sigma 1.0 mu 0.133333333333 \n",
      "k 0.333333333333 sigma 1.0 mu 0.177777777778 \n",
      "k 0.333333333333 sigma 1.0 mu 0.2 \n",
      "k 0.333333333333 sigma 1.05555555556 mu 0.155555555556 \n",
      "k 0.333333333333 sigma 1.11111111111 mu 0.133333333333 \n",
      "k 0.333333333333 sigma 1.11111111111 mu 0.155555555556 \n",
      "k 0.333333333333 sigma 1.11111111111 mu 0.2 \n",
      "k 0.333333333333 sigma 1.16666666667 mu 0.111111111111 \n",
      "k 0.333333333333 sigma 1.16666666667 mu 0.133333333333 \n",
      "k 0.333333333333 sigma 1.16666666667 mu 0.177777777778 \n",
      "k 0.333333333333 sigma 1.16666666667 mu 0.2 \n",
      "k 0.333333333333 sigma 1.22222222222 mu 0.155555555556 \n",
      "k 0.333333333333 sigma 1.22222222222 mu 0.2 \n",
      "k 0.333333333333 sigma 1.27777777778 mu 0.133333333333 \n",
      "k 0.333333333333 sigma 1.27777777778 mu 0.177777777778 \n",
      "k 0.333333333333 sigma 1.33333333333 mu 0.133333333333 \n",
      "k 0.333333333333 sigma 1.33333333333 mu 0.155555555556 \n",
      "k 0.333333333333 sigma 1.33333333333 mu 0.177777777778 \n",
      "k 0.333333333333 sigma 1.33333333333 mu 0.2 \n",
      "k 0.333333333333 sigma 1.38888888889 mu 0.111111111111 \n",
      "k 0.333333333333 sigma 1.38888888889 mu 0.133333333333 \n",
      "k 0.333333333333 sigma 1.38888888889 mu 0.155555555556 \n",
      "k 0.333333333333 sigma 1.44444444444 mu 0.133333333333 \n",
      "k 0.333333333333 sigma 1.44444444444 mu 0.155555555556 \n",
      "k 0.333333333333 sigma 1.44444444444 mu 0.177777777778 \n",
      "k 0.333333333333 sigma 1.5 mu 0.111111111111 \n",
      "k 0.333333333333 sigma 1.5 mu 0.155555555556 \n",
      "k 0.411111111111 sigma 1.0 mu 0.155555555556 \n",
      "k 0.411111111111 sigma 1.0 mu 0.177777777778 \n",
      "k 0.411111111111 sigma 1.0 mu 0.2 \n",
      "k 0.411111111111 sigma 1.05555555556 mu 0.111111111111 \n",
      "k 0.411111111111 sigma 1.05555555556 mu 0.155555555556 \n",
      "k 0.411111111111 sigma 1.05555555556 mu 0.2 \n",
      "k 0.411111111111 sigma 1.11111111111 mu 0.155555555556 \n",
      "k 0.411111111111 sigma 1.11111111111 mu 0.177777777778 \n",
      "k 0.411111111111 sigma 1.16666666667 mu 0.133333333333 \n",
      "k 0.411111111111 sigma 1.16666666667 mu 0.177777777778 \n",
      "k 0.411111111111 sigma 1.22222222222 mu 0.155555555556 \n",
      "k 0.411111111111 sigma 1.22222222222 mu 0.2 \n",
      "k 0.411111111111 sigma 1.27777777778 mu 0.133333333333 \n",
      "k 0.411111111111 sigma 1.27777777778 mu 0.2 \n",
      "k 0.411111111111 sigma 1.33333333333 mu 0.133333333333 \n",
      "k 0.411111111111 sigma 1.33333333333 mu 0.155555555556 \n",
      "k 0.411111111111 sigma 1.33333333333 mu 0.2 \n",
      "k 0.411111111111 sigma 1.38888888889 mu 0.155555555556 \n",
      "k 0.411111111111 sigma 1.38888888889 mu 0.177777777778 \n",
      "k 0.411111111111 sigma 1.44444444444 mu 0.111111111111 \n",
      "k 0.411111111111 sigma 1.44444444444 mu 0.155555555556 \n",
      "k 0.411111111111 sigma 1.44444444444 mu 0.2 \n",
      "k 0.411111111111 sigma 1.5 mu 0.155555555556 \n",
      "k 0.411111111111 sigma 1.5 mu 0.177777777778 \n",
      "k 0.411111111111 sigma 1.5 mu 0.2 \n",
      "k 0.488888888889 sigma 1.05555555556 mu 0.2 \n",
      "k 0.488888888889 sigma 1.38888888889 mu 0.177777777778 \n",
      "k 0.488888888889 sigma 1.38888888889 mu 0.2 \n",
      "k 0.488888888889 sigma 1.5 mu 0.133333333333 \n",
      "k 0.488888888889 sigma 1.5 mu 0.177777777778 \n",
      "k 0.488888888889 sigma 1.5 mu 0.2 \n",
      "k 0.566666666667 sigma 1.44444444444 mu 0.133333333333 \n",
      "k 0.566666666667 sigma 1.5 mu 0.2 \n",
      "k 0.644444444444 sigma 1.0 mu 0.2 \n",
      "k 0.644444444444 sigma 1.38888888889 mu 0.2 \n",
      "k 0.644444444444 sigma 1.44444444444 mu 0.0 \n",
      "k 0.644444444444 sigma 1.44444444444 mu 0.111111111111 \n",
      "k 0.644444444444 sigma 1.44444444444 mu 0.155555555556 \n",
      "k 0.644444444444 sigma 1.5 mu 0.0666666666667 \n",
      "k 0.644444444444 sigma 1.5 mu 0.0888888888889 \n",
      "k 0.644444444444 sigma 1.5 mu 0.155555555556 \n",
      "k 0.644444444444 sigma 1.5 mu 0.177777777778 \n",
      "k 0.722222222222 sigma 1.16666666667 mu 0.2 \n",
      "k 0.722222222222 sigma 1.27777777778 mu 0.0444444444444 \n",
      "k 0.722222222222 sigma 1.27777777778 mu 0.0666666666667 \n",
      "k 0.722222222222 sigma 1.27777777778 mu 0.111111111111 \n",
      "k 0.722222222222 sigma 1.27777777778 mu 0.177777777778 \n",
      "k 0.722222222222 sigma 1.33333333333 mu 0.155555555556 \n",
      "k 0.722222222222 sigma 1.33333333333 mu 0.2 \n",
      "k 0.722222222222 sigma 1.38888888889 mu 0.111111111111 \n",
      "k 0.722222222222 sigma 1.38888888889 mu 0.133333333333 \n",
      "k 0.722222222222 sigma 1.38888888889 mu 0.2 \n",
      "k 0.722222222222 sigma 1.44444444444 mu 0.155555555556 \n",
      "k 0.722222222222 sigma 1.44444444444 mu 0.177777777778 \n",
      "k 0.722222222222 sigma 1.5 mu 0.0666666666667 \n",
      "k 0.722222222222 sigma 1.5 mu 0.133333333333 \n",
      "k 0.722222222222 sigma 1.5 mu 0.2 \n",
      "k 0.8 sigma 1.27777777778 mu 0.2 \n",
      "k 0.8 sigma 1.33333333333 mu 0.0222222222222 \n",
      "k 0.8 sigma 1.33333333333 mu 0.111111111111 \n",
      "k 0.8 sigma 1.33333333333 mu 0.133333333333 \n",
      "k 0.8 sigma 1.33333333333 mu 0.155555555556 \n",
      "k 0.8 sigma 1.33333333333 mu 0.177777777778 \n",
      "k 0.8 sigma 1.33333333333 mu 0.2 \n",
      "k 0.8 sigma 1.38888888889 mu 0.0666666666667 \n",
      "k 0.8 sigma 1.38888888889 mu 0.133333333333 \n",
      "k 0.8 sigma 1.38888888889 mu 0.155555555556 \n",
      "k 0.8 sigma 1.5 mu 0.0888888888889 \n",
      "k 0.8 sigma 1.5 mu 0.133333333333 \n",
      "k 0.8 sigma 1.5 mu 0.155555555556 \n"
     ]
    }
   ],
   "source": [
    "M = process(M)"
   ]
  },
  {
   "cell_type": "code",
   "execution_count": 13,
   "metadata": {},
   "outputs": [
    {
     "data": {
      "text/plain": [
       "18.701146109834951"
      ]
     },
     "execution_count": 13,
     "metadata": {},
     "output_type": "execute_result"
    }
   ],
   "source": [
    "np.min(M)"
   ]
  },
  {
   "cell_type": "code",
   "execution_count": 21,
   "metadata": {},
   "outputs": [
    {
     "data": {
      "text/plain": [
       "array([ 1.        ,  1.05555556,  1.11111111,  1.16666667,  1.22222222,\n",
       "        1.27777778,  1.33333333])"
      ]
     },
     "execution_count": 21,
     "metadata": {},
     "output_type": "execute_result"
    }
   ],
   "source": [
    "np.linspace(1.0,1.5,10)[:7]"
   ]
  },
  {
   "cell_type": "code",
   "execution_count": 48,
   "metadata": {
    "scrolled": true
   },
   "outputs": [
    {
     "data": {
      "text/plain": [
       "<matplotlib.axes._subplots.AxesSubplot at 0x7fc81e5b6390>"
      ]
     },
     "execution_count": 48,
     "metadata": {},
     "output_type": "execute_result"
    },
    {
     "data": {
      "image/png": "[encoded data removed]",
      "text/plain": [
       "<matplotlib.figure.Figure at 0x7fc81e697d68>"
      ]
     },
     "metadata": {},
     "output_type": "display_data"
    }
   ],
   "source": [
    "sns.heatmap(M[5,:,:], annot = True)"
   ]
  },
  {
   "cell_type": "code",
   "execution_count": 25,
   "metadata": {
    "scrolled": true
   },
   "outputs": [
    {
     "name": "stdout",
     "output_type": "stream",
     "text": [
      "k 0.488888888889 sigma 1.22222222222 mu 0.0888888888889 \n"
     ]
    }
   ],
   "source": [
    "index_to_value(M, bounds, [5,4,4], noms)"
   ]
  },
  {
   "cell_type": "code",
   "execution_count": 22,
   "metadata": {
    "scrolled": true
   },
   "outputs": [
    {
     "name": "stdout",
     "output_type": "stream",
     "text": [
      "k 0.1 sigma 1.05555555556 mu 0.0444444444444 \n",
      "k 0.1 sigma 1.11111111111 mu 0.0444444444444 \n",
      "k 0.1 sigma 1.11111111111 mu 0.0666666666667 \n",
      "k 0.1 sigma 1.16666666667 mu 0.0444444444444 \n",
      "k 0.1 sigma 1.16666666667 mu 0.0666666666667 \n",
      "k 0.1 sigma 1.22222222222 mu 0.0444444444444 \n",
      "k 0.1 sigma 1.22222222222 mu 0.0666666666667 \n",
      "k 0.1 sigma 1.27777777778 mu 0.0444444444444 \n",
      "k 0.1 sigma 1.27777777778 mu 0.0666666666667 \n",
      "k 0.1 sigma 1.27777777778 mu 0.0888888888889 \n",
      "k 0.1 sigma 1.33333333333 mu 0.0444444444444 \n",
      "k 0.1 sigma 1.33333333333 mu 0.0666666666667 \n",
      "k 0.1 sigma 1.33333333333 mu 0.0888888888889 \n",
      "k 0.1 sigma 1.38888888889 mu 0.0444444444444 \n",
      "k 0.1 sigma 1.38888888889 mu 0.0666666666667 \n",
      "k 0.1 sigma 1.38888888889 mu 0.0888888888889 \n",
      "k 0.1 sigma 1.44444444444 mu 0.0444444444444 \n",
      "k 0.1 sigma 1.44444444444 mu 0.0666666666667 \n",
      "k 0.1 sigma 1.44444444444 mu 0.0888888888889 \n",
      "k 0.1 sigma 1.5 mu 0.0444444444444 \n",
      "k 0.1 sigma 1.5 mu 0.0666666666667 \n",
      "k 0.1 sigma 1.5 mu 0.0888888888889 \n",
      "k 0.177777777778 sigma 1.0 mu 0.0222222222222 \n",
      "k 0.177777777778 sigma 1.0 mu 0.0444444444444 \n",
      "k 0.177777777778 sigma 1.0 mu 0.0666666666667 \n",
      "k 0.177777777778 sigma 1.0 mu 0.0888888888889 \n",
      "k 0.177777777778 sigma 1.0 mu 0.111111111111 \n",
      "k 0.177777777778 sigma 1.0 mu 0.155555555556 \n",
      "k 0.177777777778 sigma 1.05555555556 mu 0.0222222222222 \n",
      "k 0.177777777778 sigma 1.05555555556 mu 0.0444444444444 \n",
      "k 0.177777777778 sigma 1.05555555556 mu 0.0666666666667 \n",
      "k 0.177777777778 sigma 1.05555555556 mu 0.0888888888889 \n",
      "k 0.177777777778 sigma 1.05555555556 mu 0.111111111111 \n",
      "k 0.177777777778 sigma 1.05555555556 mu 0.133333333333 \n",
      "k 0.177777777778 sigma 1.05555555556 mu 0.155555555556 \n",
      "k 0.177777777778 sigma 1.11111111111 mu 0.0222222222222 \n",
      "k 0.177777777778 sigma 1.11111111111 mu 0.0444444444444 \n",
      "k 0.177777777778 sigma 1.11111111111 mu 0.0666666666667 \n",
      "k 0.177777777778 sigma 1.11111111111 mu 0.0888888888889 \n",
      "k 0.177777777778 sigma 1.11111111111 mu 0.111111111111 \n",
      "k 0.177777777778 sigma 1.11111111111 mu 0.133333333333 \n",
      "k 0.177777777778 sigma 1.11111111111 mu 0.155555555556 \n",
      "k 0.177777777778 sigma 1.16666666667 mu 0.0222222222222 \n",
      "k 0.177777777778 sigma 1.16666666667 mu 0.0444444444444 \n",
      "k 0.177777777778 sigma 1.16666666667 mu 0.0666666666667 \n",
      "k 0.177777777778 sigma 1.16666666667 mu 0.0888888888889 \n",
      "k 0.177777777778 sigma 1.16666666667 mu 0.111111111111 \n",
      "k 0.177777777778 sigma 1.16666666667 mu 0.133333333333 \n",
      "k 0.177777777778 sigma 1.16666666667 mu 0.155555555556 \n",
      "k 0.177777777778 sigma 1.22222222222 mu 0.0222222222222 \n",
      "k 0.177777777778 sigma 1.22222222222 mu 0.0444444444444 \n",
      "k 0.177777777778 sigma 1.22222222222 mu 0.0666666666667 \n",
      "k 0.177777777778 sigma 1.22222222222 mu 0.0888888888889 \n",
      "k 0.177777777778 sigma 1.22222222222 mu 0.155555555556 \n",
      "k 0.177777777778 sigma 1.27777777778 mu 0.0222222222222 \n",
      "k 0.177777777778 sigma 1.27777777778 mu 0.0444444444444 \n",
      "k 0.177777777778 sigma 1.27777777778 mu 0.0666666666667 \n",
      "k 0.177777777778 sigma 1.27777777778 mu 0.0888888888889 \n",
      "k 0.177777777778 sigma 1.27777777778 mu 0.111111111111 \n",
      "k 0.177777777778 sigma 1.27777777778 mu 0.133333333333 \n",
      "k 0.177777777778 sigma 1.27777777778 mu 0.155555555556 \n",
      "k 0.177777777778 sigma 1.33333333333 mu 0.0222222222222 \n",
      "k 0.177777777778 sigma 1.33333333333 mu 0.0444444444444 \n",
      "k 0.177777777778 sigma 1.33333333333 mu 0.0666666666667 \n",
      "k 0.177777777778 sigma 1.33333333333 mu 0.0888888888889 \n",
      "k 0.177777777778 sigma 1.33333333333 mu 0.111111111111 \n",
      "k 0.177777777778 sigma 1.33333333333 mu 0.155555555556 \n",
      "k 0.177777777778 sigma 1.38888888889 mu 0.0222222222222 \n",
      "k 0.177777777778 sigma 1.38888888889 mu 0.0444444444444 \n",
      "k 0.177777777778 sigma 1.38888888889 mu 0.0666666666667 \n",
      "k 0.177777777778 sigma 1.38888888889 mu 0.0888888888889 \n",
      "k 0.177777777778 sigma 1.38888888889 mu 0.111111111111 \n",
      "k 0.177777777778 sigma 1.38888888889 mu 0.133333333333 \n",
      "k 0.177777777778 sigma 1.38888888889 mu 0.155555555556 \n",
      "k 0.177777777778 sigma 1.44444444444 mu 0.0222222222222 \n",
      "k 0.177777777778 sigma 1.44444444444 mu 0.0444444444444 \n",
      "k 0.177777777778 sigma 1.44444444444 mu 0.0666666666667 \n",
      "k 0.177777777778 sigma 1.44444444444 mu 0.133333333333 \n",
      "k 0.177777777778 sigma 1.44444444444 mu 0.155555555556 \n",
      "k 0.177777777778 sigma 1.5 mu 0.0222222222222 \n",
      "k 0.177777777778 sigma 1.5 mu 0.0444444444444 \n",
      "k 0.177777777778 sigma 1.5 mu 0.0666666666667 \n",
      "k 0.177777777778 sigma 1.5 mu 0.0888888888889 \n",
      "k 0.177777777778 sigma 1.5 mu 0.133333333333 \n",
      "k 0.177777777778 sigma 1.5 mu 0.155555555556 \n"
     ]
    }
   ],
   "source": [
    "[]\n",
    "for i in np.array(np.where(M < 35)).T:\n",
    "    index_to_value(M, bounds, i, noms)"
   ]
  },
  {
   "cell_type": "markdown",
   "metadata": {},
   "source": [
    "Ebola3, exponencial"
   ]
  },
  {
   "cell_type": "code",
   "execution_count": 49,
   "metadata": {},
   "outputs": [],
   "source": [
    "M = np.load(\"0f3expc_k_0.1_0.8_sigma_1_1.5_mu_0_0.2_nu_0_2_spin_-5_5.npy\")"
   ]
  },
  {
   "cell_type": "code",
   "execution_count": 55,
   "metadata": {
    "scrolled": true
   },
   "outputs": [
    {
     "name": "stdout",
     "output_type": "stream",
     "text": [
      "k 0.275 sigma 1.0 mu 0.05 nu 0.0 s0 -5.0 \n",
      "k 0.275 sigma 1.25 mu 0.15 nu 0.0 s0 5.0 \n",
      "k 0.275 sigma 1.25 mu 0.15 nu 1.0 s0 -2.5 \n",
      "k 0.275 sigma 1.375 mu 0.0 nu 1.0 s0 2.5 \n",
      "k 0.275 sigma 1.5 mu 0.15 nu 1.0 s0 -2.5 \n",
      "k 0.275 sigma 1.5 mu 0.15 nu 2.0 s0 5.0 \n",
      "k 0.275 sigma 1.5 mu 0.2 nu 0.5 s0 -5.0 \n",
      "k 0.275 sigma 1.5 mu 0.2 nu 0.5 s0 -2.5 \n",
      "k 0.45 sigma 1.0 mu 0.15 nu 0.5 s0 -5.0 \n",
      "k 0.45 sigma 1.0 mu 0.15 nu 0.5 s0 -2.5 \n",
      "k 0.45 sigma 1.0 mu 0.2 nu 0.0 s0 -2.5 \n",
      "k 0.45 sigma 1.0 mu 0.2 nu 1.0 s0 0.0 \n",
      "k 0.45 sigma 1.125 mu 0.15 nu 0.5 s0 2.5 \n",
      "k 0.45 sigma 1.125 mu 0.15 nu 2.0 s0 0.0 \n",
      "k 0.45 sigma 1.125 mu 0.2 nu 2.0 s0 -2.5 \n",
      "k 0.45 sigma 1.25 mu 0.1 nu 1.5 s0 2.5 \n",
      "k 0.45 sigma 1.25 mu 0.15 nu 0.0 s0 5.0 \n",
      "k 0.45 sigma 1.25 mu 0.15 nu 2.0 s0 2.5 \n",
      "k 0.45 sigma 1.25 mu 0.2 nu 0.0 s0 0.0 \n",
      "k 0.45 sigma 1.375 mu 0.1 nu 0.0 s0 -2.5 \n",
      "k 0.45 sigma 1.375 mu 0.1 nu 0.5 s0 -5.0 \n",
      "k 0.45 sigma 1.375 mu 0.1 nu 1.5 s0 -5.0 \n",
      "k 0.45 sigma 1.375 mu 0.15 nu 0.0 s0 5.0 \n",
      "k 0.45 sigma 1.375 mu 0.15 nu 1.0 s0 0.0 \n",
      "k 0.45 sigma 1.375 mu 0.15 nu 1.5 s0 -2.5 \n",
      "k 0.45 sigma 1.375 mu 0.2 nu 0.0 s0 -2.5 \n",
      "k 0.45 sigma 1.375 mu 0.2 nu 0.0 s0 0.0 \n",
      "k 0.45 sigma 1.375 mu 0.2 nu 0.5 s0 0.0 \n",
      "k 0.45 sigma 1.5 mu 0.05 nu 0.0 s0 -2.5 \n",
      "k 0.45 sigma 1.5 mu 0.1 nu 0.0 s0 -2.5 \n",
      "k 0.45 sigma 1.5 mu 0.1 nu 0.0 s0 0.0 \n",
      "k 0.45 sigma 1.5 mu 0.15 nu 0.5 s0 -2.5 \n",
      "k 0.45 sigma 1.5 mu 0.15 nu 0.5 s0 2.5 \n",
      "k 0.45 sigma 1.5 mu 0.15 nu 0.5 s0 5.0 \n",
      "k 0.45 sigma 1.5 mu 0.15 nu 1.0 s0 0.0 \n",
      "k 0.45 sigma 1.5 mu 0.15 nu 1.5 s0 -5.0 \n",
      "k 0.45 sigma 1.5 mu 0.15 nu 2.0 s0 5.0 \n",
      "k 0.45 sigma 1.5 mu 0.2 nu 0.0 s0 0.0 \n",
      "k 0.45 sigma 1.5 mu 0.2 nu 2.0 s0 -2.5 \n",
      "k 0.625 sigma 1.0 mu 0.1 nu 0.0 s0 -5.0 \n",
      "k 0.625 sigma 1.0 mu 0.2 nu 0.0 s0 0.0 \n",
      "k 0.625 sigma 1.0 mu 0.2 nu 0.0 s0 2.5 \n",
      "k 0.625 sigma 1.125 mu 0.15 nu 0.5 s0 2.5 \n",
      "k 0.625 sigma 1.125 mu 0.15 nu 2.0 s0 0.0 \n",
      "k 0.625 sigma 1.125 mu 0.2 nu 0.0 s0 5.0 \n",
      "k 0.625 sigma 1.125 mu 0.2 nu 1.5 s0 5.0 \n",
      "k 0.625 sigma 1.25 mu 0.05 nu 0.0 s0 -2.5 \n",
      "k 0.625 sigma 1.25 mu 0.15 nu 0.0 s0 0.0 \n",
      "k 0.625 sigma 1.25 mu 0.15 nu 1.0 s0 5.0 \n",
      "k 0.625 sigma 1.25 mu 0.2 nu 1.0 s0 -5.0 \n",
      "k 0.625 sigma 1.25 mu 0.2 nu 1.5 s0 5.0 \n",
      "k 0.625 sigma 1.25 mu 0.2 nu 2.0 s0 -2.5 \n",
      "k 0.625 sigma 1.25 mu 0.2 nu 2.0 s0 0.0 \n",
      "k 0.625 sigma 1.375 mu 0.1 nu 0.5 s0 -5.0 \n",
      "k 0.625 sigma 1.375 mu 0.15 nu 0.5 s0 -5.0 \n",
      "k 0.625 sigma 1.375 mu 0.15 nu 1.5 s0 -5.0 \n",
      "k 0.625 sigma 1.375 mu 0.15 nu 2.0 s0 2.5 \n",
      "k 0.625 sigma 1.375 mu 0.2 nu 0.0 s0 0.0 \n",
      "k 0.625 sigma 1.375 mu 0.2 nu 0.5 s0 -2.5 \n",
      "k 0.625 sigma 1.375 mu 0.2 nu 1.0 s0 -5.0 \n",
      "k 0.625 sigma 1.375 mu 0.2 nu 1.0 s0 -2.5 \n",
      "k 0.625 sigma 1.375 mu 0.2 nu 1.0 s0 0.0 \n",
      "k 0.625 sigma 1.375 mu 0.2 nu 1.5 s0 5.0 \n",
      "k 0.625 sigma 1.5 mu 0.0 nu 0.0 s0 -5.0 \n",
      "k 0.625 sigma 1.5 mu 0.05 nu 0.0 s0 -5.0 \n",
      "k 0.625 sigma 1.5 mu 0.05 nu 1.5 s0 -2.5 \n",
      "k 0.625 sigma 1.5 mu 0.1 nu 0.5 s0 -5.0 \n",
      "k 0.625 sigma 1.5 mu 0.1 nu 0.5 s0 -2.5 \n",
      "k 0.625 sigma 1.5 mu 0.1 nu 1.5 s0 2.5 \n",
      "k 0.625 sigma 1.5 mu 0.1 nu 2.0 s0 -5.0 \n",
      "k 0.625 sigma 1.5 mu 0.15 nu 0.0 s0 0.0 \n",
      "k 0.625 sigma 1.5 mu 0.15 nu 0.5 s0 5.0 \n",
      "k 0.625 sigma 1.5 mu 0.15 nu 1.0 s0 -2.5 \n",
      "k 0.625 sigma 1.5 mu 0.15 nu 1.0 s0 0.0 \n",
      "k 0.625 sigma 1.5 mu 0.15 nu 1.5 s0 -2.5 \n",
      "k 0.625 sigma 1.5 mu 0.15 nu 2.0 s0 0.0 \n",
      "k 0.625 sigma 1.5 mu 0.2 nu 0.0 s0 -2.5 \n",
      "k 0.625 sigma 1.5 mu 0.2 nu 0.5 s0 2.5 \n",
      "k 0.625 sigma 1.5 mu 0.2 nu 1.0 s0 2.5 \n",
      "k 0.625 sigma 1.5 mu 0.2 nu 1.5 s0 -2.5 \n",
      "k 0.625 sigma 1.5 mu 0.2 nu 2.0 s0 -5.0 \n",
      "k 0.625 sigma 1.5 mu 0.2 nu 2.0 s0 0.0 \n",
      "k 0.8 sigma 1.0 mu 0.15 nu 0.0 s0 0.0 \n",
      "k 0.8 sigma 1.0 mu 0.15 nu 0.0 s0 2.5 \n",
      "k 0.8 sigma 1.0 mu 0.2 nu 0.0 s0 2.5 \n",
      "k 0.8 sigma 1.125 mu 0.1 nu 0.0 s0 -2.5 \n",
      "k 0.8 sigma 1.125 mu 0.1 nu 1.5 s0 0.0 \n",
      "k 0.8 sigma 1.125 mu 0.15 nu 0.0 s0 -2.5 \n",
      "k 0.8 sigma 1.125 mu 0.15 nu 0.0 s0 0.0 \n",
      "k 0.8 sigma 1.125 mu 0.15 nu 1.5 s0 0.0 \n",
      "k 0.8 sigma 1.125 mu 0.2 nu 0.0 s0 -2.5 \n",
      "k 0.8 sigma 1.125 mu 0.2 nu 0.0 s0 2.5 \n",
      "k 0.8 sigma 1.125 mu 0.2 nu 0.5 s0 -5.0 \n",
      "k 0.8 sigma 1.125 mu 0.2 nu 1.0 s0 -5.0 \n",
      "k 0.8 sigma 1.125 mu 0.2 nu 2.0 s0 -2.5 \n",
      "k 0.8 sigma 1.125 mu 0.2 nu 2.0 s0 5.0 \n",
      "k 0.8 sigma 1.25 mu 0.05 nu 0.0 s0 -2.5 \n",
      "k 0.8 sigma 1.25 mu 0.1 nu 0.5 s0 5.0 \n",
      "k 0.8 sigma 1.25 mu 0.1 nu 1.0 s0 0.0 \n",
      "k 0.8 sigma 1.25 mu 0.1 nu 2.0 s0 -5.0 \n",
      "k 0.8 sigma 1.25 mu 0.1 nu 2.0 s0 0.0 \n",
      "k 0.8 sigma 1.25 mu 0.15 nu 1.0 s0 5.0 \n",
      "k 0.8 sigma 1.25 mu 0.2 nu 2.0 s0 -5.0 \n",
      "k 0.8 sigma 1.375 mu 0.05 nu 1.0 s0 0.0 \n",
      "k 0.8 sigma 1.375 mu 0.1 nu 0.5 s0 0.0 \n",
      "k 0.8 sigma 1.375 mu 0.1 nu 1.5 s0 0.0 \n",
      "k 0.8 sigma 1.375 mu 0.1 nu 1.5 s0 2.5 \n",
      "k 0.8 sigma 1.375 mu 0.1 nu 1.5 s0 5.0 \n",
      "k 0.8 sigma 1.375 mu 0.1 nu 2.0 s0 2.5 \n",
      "k 0.8 sigma 1.375 mu 0.15 nu 0.0 s0 -2.5 \n",
      "k 0.8 sigma 1.375 mu 0.15 nu 1.0 s0 -5.0 \n",
      "k 0.8 sigma 1.375 mu 0.15 nu 1.0 s0 5.0 \n",
      "k 0.8 sigma 1.375 mu 0.15 nu 1.5 s0 -2.5 \n",
      "k 0.8 sigma 1.375 mu 0.2 nu 0.0 s0 -2.5 \n",
      "k 0.8 sigma 1.375 mu 0.2 nu 0.0 s0 2.5 \n",
      "k 0.8 sigma 1.375 mu 0.2 nu 0.5 s0 -5.0 \n",
      "k 0.8 sigma 1.375 mu 0.2 nu 1.0 s0 0.0 \n",
      "k 0.8 sigma 1.375 mu 0.2 nu 1.0 s0 5.0 \n",
      "k 0.8 sigma 1.375 mu 0.2 nu 1.5 s0 2.5 \n",
      "k 0.8 sigma 1.375 mu 0.2 nu 1.5 s0 5.0 \n",
      "k 0.8 sigma 1.375 mu 0.2 nu 2.0 s0 2.5 \n",
      "k 0.8 sigma 1.375 mu 0.2 nu 2.0 s0 5.0 \n",
      "k 0.8 sigma 1.5 mu 0.0 nu 0.0 s0 2.5 \n",
      "k 0.8 sigma 1.5 mu 0.0 nu 0.0 s0 5.0 \n",
      "k 0.8 sigma 1.5 mu 0.05 nu 0.0 s0 -2.5 \n",
      "k 0.8 sigma 1.5 mu 0.05 nu 1.5 s0 -2.5 \n",
      "k 0.8 sigma 1.5 mu 0.05 nu 2.0 s0 0.0 \n",
      "k 0.8 sigma 1.5 mu 0.05 nu 2.0 s0 5.0 \n",
      "k 0.8 sigma 1.5 mu 0.1 nu 0.0 s0 2.5 \n",
      "k 0.8 sigma 1.5 mu 0.1 nu 0.5 s0 2.5 \n",
      "k 0.8 sigma 1.5 mu 0.1 nu 0.5 s0 5.0 \n",
      "k 0.8 sigma 1.5 mu 0.1 nu 1.0 s0 0.0 \n",
      "k 0.8 sigma 1.5 mu 0.1 nu 1.0 s0 5.0 \n",
      "k 0.8 sigma 1.5 mu 0.1 nu 1.5 s0 -5.0 \n",
      "k 0.8 sigma 1.5 mu 0.1 nu 1.5 s0 0.0 \n",
      "k 0.8 sigma 1.5 mu 0.15 nu 0.5 s0 -2.5 \n",
      "k 0.8 sigma 1.5 mu 0.15 nu 1.0 s0 2.5 \n",
      "k 0.8 sigma 1.5 mu 0.15 nu 1.5 s0 -2.5 \n",
      "k 0.8 sigma 1.5 mu 0.15 nu 1.5 s0 2.5 \n",
      "k 0.8 sigma 1.5 mu 0.15 nu 2.0 s0 -5.0 \n",
      "k 0.8 sigma 1.5 mu 0.15 nu 2.0 s0 0.0 \n",
      "k 0.8 sigma 1.5 mu 0.15 nu 2.0 s0 2.5 \n",
      "k 0.8 sigma 1.5 mu 0.15 nu 2.0 s0 5.0 \n",
      "k 0.8 sigma 1.5 mu 0.2 nu 0.0 s0 -2.5 \n",
      "k 0.8 sigma 1.5 mu 0.2 nu 0.5 s0 -2.5 \n",
      "k 0.8 sigma 1.5 mu 0.2 nu 0.5 s0 0.0 \n",
      "k 0.8 sigma 1.5 mu 0.2 nu 0.5 s0 2.5 \n",
      "k 0.8 sigma 1.5 mu 0.2 nu 1.0 s0 -5.0 \n",
      "k 0.8 sigma 1.5 mu 0.2 nu 1.5 s0 5.0 \n",
      "k 0.8 sigma 1.5 mu 0.2 nu 2.0 s0 -2.5 \n",
      "k 0.8 sigma 1.5 mu 0.2 nu 2.0 s0 5.0 \n"
     ]
    }
   ],
   "source": [
    "M = process(M)"
   ]
  },
  {
   "cell_type": "code",
   "execution_count": 50,
   "metadata": {},
   "outputs": [],
   "source": [
    "for i in range(5):\n",
    "    M = np.maximum(np.load(str(i)+\"f3expc_k_0.1_0.8_sigma_1_1.5_mu_0_0.2_nu_0_2_spin_-5_5.npy\"), M)"
   ]
  },
  {
   "cell_type": "code",
   "execution_count": 56,
   "metadata": {
    "scrolled": true
   },
   "outputs": [
    {
     "data": {
      "text/plain": [
       "5"
      ]
     },
     "execution_count": 56,
     "metadata": {},
     "output_type": "execute_result"
    }
   ],
   "source": [
    "len(M.shape)"
   ]
  },
  {
   "cell_type": "code",
   "execution_count": 57,
   "metadata": {},
   "outputs": [],
   "source": [
    "bounds = ((0.1,0.8),(1,1.5),(0,0.2),(0,2),(-5,5))\n",
    "noms = [\"k\",\"sigma\",\"mu\",\"nu\",\"s0\"]"
   ]
  },
  {
   "cell_type": "code",
   "execution_count": 58,
   "metadata": {},
   "outputs": [
    {
     "data": {
      "text/plain": [
       "<matplotlib.axes._subplots.AxesSubplot at 0x7fc81e435278>"
      ]
     },
     "execution_count": 58,
     "metadata": {},
     "output_type": "execute_result"
    },
    {
     "data": {
      "image/png": "[encoded data removed]",
      "text/plain": [
       "<matplotlib.figure.Figure at 0x7fc81e435128>"
      ]
     },
     "metadata": {},
     "output_type": "display_data"
    }
   ],
   "source": [
    "sns.heatmap(M[:,:,0,0,1], annot = True)"
   ]
  },
  {
   "cell_type": "code",
   "execution_count": 61,
   "metadata": {},
   "outputs": [
    {
     "data": {
      "text/plain": [
       "(5, 5, 5, 5, 5)"
      ]
     },
     "execution_count": 61,
     "metadata": {},
     "output_type": "execute_result"
    }
   ],
   "source": [
    "M.shape"
   ]
  },
  {
   "cell_type": "code",
   "execution_count": 62,
   "metadata": {},
   "outputs": [
    {
     "data": {
      "text/plain": [
       "10.810691803755338"
      ]
     },
     "execution_count": 62,
     "metadata": {},
     "output_type": "execute_result"
    }
   ],
   "source": [
    "np.min(M)"
   ]
  },
  {
   "cell_type": "code",
   "execution_count": 59,
   "metadata": {},
   "outputs": [
    {
     "name": "stdout",
     "output_type": "stream",
     "text": [
      "k 0.275 sigma 1.0 mu 0.05 nu 0.0 s0 -2.5 \n",
      "k 0.275 sigma 1.125 mu 0.0 nu 0.5 s0 -2.5 \n",
      "k 0.45 sigma 1.0 mu 0.0 nu 0.0 s0 -2.5 \n",
      "k 0.45 sigma 1.125 mu 0.0 nu 0.0 s0 -2.5 \n",
      "k 0.625 sigma 1.0 mu 0.0 nu 0.0 s0 -5.0 \n",
      "k 0.8 sigma 1.0 mu 0.0 nu 0.0 s0 -5.0 \n"
     ]
    }
   ],
   "source": [
    "for i in np.array(np.where(M < 25)).T:\n",
    "    index_to_value(M, bounds, i, noms)"
   ]
  },
  {
   "cell_type": "code",
   "execution_count": 60,
   "metadata": {
    "scrolled": false
   },
   "outputs": [
    {
     "data": {
      "text/plain": [
       "(4, 0, 0, 0, 0)"
      ]
     },
     "execution_count": 60,
     "metadata": {},
     "output_type": "execute_result"
    }
   ],
   "source": [
    "np.unravel_index(np.argmin(M),M.shape)"
   ]
  },
  {
   "cell_type": "markdown",
   "metadata": {},
   "source": [
    "f3 llit real"
   ]
  },
  {
   "cell_type": "code",
   "execution_count": 11,
   "metadata": {},
   "outputs": [],
   "source": [
    "M = np.load(\"f3real_mu_0_0.2_nu_0_2_spin_-5_5.npy\")"
   ]
  },
  {
   "cell_type": "code",
   "execution_count": 12,
   "metadata": {},
   "outputs": [
    {
     "data": {
      "text/plain": [
       "(10, 10, 10)"
      ]
     },
     "execution_count": 12,
     "metadata": {},
     "output_type": "execute_result"
    }
   ],
   "source": [
    "M.shape"
   ]
  },
  {
   "cell_type": "code",
   "execution_count": 13,
   "metadata": {},
   "outputs": [
    {
     "data": {
      "text/plain": [
       "12.047922493127244"
      ]
     },
     "execution_count": 13,
     "metadata": {},
     "output_type": "execute_result"
    }
   ],
   "source": [
    "np.min(M)"
   ]
  },
  {
   "cell_type": "code",
   "execution_count": 14,
   "metadata": {},
   "outputs": [],
   "source": [
    "bounds = ((0,0.2),(0,2),(-5,5))\n",
    "noms = [\"mu\",\"nu\",\"s0\"]"
   ]
  },
  {
   "cell_type": "code",
   "execution_count": 15,
   "metadata": {},
   "outputs": [],
   "source": [
    "M = process(M)"
   ]
  },
  {
   "cell_type": "code",
   "execution_count": 16,
   "metadata": {
    "scrolled": true
   },
   "outputs": [
    {
     "name": "stdout",
     "output_type": "stream",
     "text": [
      "mu 0.0 nu 0.0 s0 -2.77777777778 \n"
     ]
    }
   ],
   "source": [
    "for i in np.array(np.where(M < 15)).T:\n",
    "    index_to_value(M, bounds, i, noms)"
   ]
  },
  {
   "cell_type": "code",
   "execution_count": 17,
   "metadata": {},
   "outputs": [
    {
     "name": "stdout",
     "output_type": "stream",
     "text": [
      "mu 0.0 nu 0.0 s0 -3.88888888889 \n",
      "mu 0.0 nu 0.0 s0 -2.77777777778 \n"
     ]
    }
   ],
   "source": [
    "for i in np.array(np.where(M < 25)).T:\n",
    "    index_to_value(M, bounds, i, noms)"
   ]
  },
  {
   "cell_type": "markdown",
   "metadata": {},
   "source": [
    "Taula de 4"
   ]
  },
  {
   "cell_type": "code",
   "execution_count": 63,
   "metadata": {},
   "outputs": [],
   "source": [
    "bounds = ((1,2.5),(0.1,0.8),(1,1.5),(0,0.2),(0,2),(-5,5))\n",
    "noms = [\"c\",\"k\",\"sigma\",\"mu\",\"nu\",\"s0\"]"
   ]
  },
  {
   "cell_type": "code",
   "execution_count": 64,
   "metadata": {},
   "outputs": [],
   "source": [
    "M1 = np.load(\"1f3real_c_1_2.5_k_0.1_0.8_sigma_1_1.5_mu_0_0.2_nu_0_2_spin_-5_5.npy\")\n",
    "M2 = np.load(\"2f3real_c_1_2.5_k_0.1_0.8_sigma_1_1.5_mu_0_0.2_nu_0_2_spin_-5_5.npy\")\n",
    "M3 = np.load(\"3f3real_c_1_2.5_k_0.1_0.8_sigma_1_1.5_mu_0_0.2_nu_0_2_spin_-5_5.npy\")\n",
    "M4 = np.load(\"4f3real_c_1_2.5_k_0.1_0.8_sigma_1_1.5_mu_0_0.2_nu_0_2_spin_-5_5.npy\")\n"
   ]
  },
  {
   "cell_type": "code",
   "execution_count": 65,
   "metadata": {},
   "outputs": [
    {
     "data": {
      "text/plain": [
       "(4, 4, 4, 4, 4, 4)"
      ]
     },
     "execution_count": 65,
     "metadata": {},
     "output_type": "execute_result"
    }
   ],
   "source": [
    "M1.shape"
   ]
  },
  {
   "cell_type": "code",
   "execution_count": 66,
   "metadata": {
    "scrolled": true
   },
   "outputs": [
    {
     "name": "stdout",
     "output_type": "stream",
     "text": [
      "c 1.0 k 0.566666666667 sigma 1.5 mu 0.2 nu 0.0 s0 -1.66666666667 \n",
      "c 1.0 k 0.8 sigma 1.5 mu 0.133333333333 nu 2.0 s0 -1.66666666667 \n",
      "c 1.0 k 0.8 sigma 1.5 mu 0.2 nu 2.0 s0 5.0 \n",
      "c 1.5 k 0.333333333333 sigma 1.5 mu 0.133333333333 nu 2.0 s0 -5.0 \n",
      "c 1.5 k 0.333333333333 sigma 1.5 mu 0.2 nu 0.666666666667 s0 5.0 \n",
      "c 1.5 k 0.8 sigma 1.33333333333 mu 0.133333333333 nu 0.666666666667 s0 -5.0 \n",
      "c 1.5 k 0.8 sigma 1.33333333333 mu 0.2 nu 0.0 s0 -1.66666666667 \n",
      "c 1.5 k 0.8 sigma 1.5 mu 0.0 nu 0.0 s0 -5.0 \n",
      "c 1.5 k 0.8 sigma 1.5 mu 0.2 nu 1.33333333333 s0 5.0 \n",
      "c 2.0 k 0.333333333333 sigma 1.33333333333 mu 0.2 nu 1.33333333333 s0 -1.66666666667 \n",
      "c 2.0 k 0.333333333333 sigma 1.5 mu 0.2 nu 0.0 s0 -1.66666666667 \n",
      "c 2.0 k 0.566666666667 sigma 1.16666666667 mu 0.2 nu 0.0 s0 1.66666666667 \n",
      "c 2.0 k 0.566666666667 sigma 1.33333333333 mu 0.0666666666667 nu 0.0 s0 5.0 \n",
      "c 2.0 k 0.566666666667 sigma 1.33333333333 mu 0.133333333333 nu 0.666666666667 s0 -5.0 \n",
      "c 2.0 k 0.8 sigma 1.33333333333 mu 0.0666666666667 nu 0.0 s0 -5.0 \n",
      "c 2.0 k 0.8 sigma 1.33333333333 mu 0.0666666666667 nu 1.33333333333 s0 -1.66666666667 \n",
      "c 2.0 k 0.8 sigma 1.33333333333 mu 0.133333333333 nu 2.0 s0 -1.66666666667 \n",
      "c 2.0 k 0.8 sigma 1.33333333333 mu 0.2 nu 0.0 s0 -5.0 \n",
      "c 2.0 k 0.8 sigma 1.33333333333 mu 0.2 nu 1.33333333333 s0 -5.0 \n",
      "c 2.0 k 0.8 sigma 1.5 mu 0.0 nu 0.666666666667 s0 -5.0 \n",
      "c 2.0 k 0.8 sigma 1.5 mu 0.0666666666667 nu 1.33333333333 s0 -5.0 \n",
      "c 2.0 k 0.8 sigma 1.5 mu 0.0666666666667 nu 2.0 s0 5.0 \n",
      "c 2.0 k 0.8 sigma 1.5 mu 0.133333333333 nu 0.0 s0 -1.66666666667 \n",
      "c 2.5 k 0.333333333333 sigma 1.33333333333 mu 0.133333333333 nu 0.666666666667 s0 5.0 \n",
      "c 2.5 k 0.333333333333 sigma 1.33333333333 mu 0.2 nu 0.666666666667 s0 -1.66666666667 \n",
      "c 2.5 k 0.333333333333 sigma 1.5 mu 0.0666666666667 nu 0.0 s0 -5.0 \n",
      "c 2.5 k 0.566666666667 sigma 1.16666666667 mu 0.133333333333 nu 1.33333333333 s0 -5.0 \n",
      "c 2.5 k 0.566666666667 sigma 1.16666666667 mu 0.2 nu 0.0 s0 1.66666666667 \n",
      "c 2.5 k 0.566666666667 sigma 1.33333333333 mu 0.133333333333 nu 1.33333333333 s0 -1.66666666667 \n",
      "c 2.5 k 0.566666666667 sigma 1.33333333333 mu 0.2 nu 0.666666666667 s0 -5.0 \n",
      "c 2.5 k 0.566666666667 sigma 1.33333333333 mu 0.2 nu 1.33333333333 s0 -5.0 \n",
      "c 2.5 k 0.566666666667 sigma 1.33333333333 mu 0.2 nu 2.0 s0 -1.66666666667 \n",
      "c 2.5 k 0.566666666667 sigma 1.5 mu 0.0666666666667 nu 1.33333333333 s0 5.0 \n",
      "c 2.5 k 0.566666666667 sigma 1.5 mu 0.133333333333 nu 2.0 s0 5.0 \n",
      "c 2.5 k 0.8 sigma 1.16666666667 mu 0.2 nu 0.0 s0 -1.66666666667 \n",
      "c 2.5 k 0.8 sigma 1.33333333333 mu 0.133333333333 nu 1.33333333333 s0 -5.0 \n",
      "c 2.5 k 0.8 sigma 1.33333333333 mu 0.133333333333 nu 1.33333333333 s0 1.66666666667 \n",
      "c 2.5 k 0.8 sigma 1.33333333333 mu 0.2 nu 1.33333333333 s0 -5.0 \n",
      "c 2.5 k 0.8 sigma 1.5 mu 0.0666666666667 nu 1.33333333333 s0 1.66666666667 \n",
      "c 2.5 k 0.8 sigma 1.5 mu 0.0666666666667 nu 2.0 s0 5.0 \n",
      "c 2.5 k 0.8 sigma 1.5 mu 0.133333333333 nu 0.0 s0 5.0 \n",
      "c 2.5 k 0.8 sigma 1.5 mu 0.133333333333 nu 2.0 s0 -5.0 \n",
      "c 2.5 k 0.8 sigma 1.5 mu 0.133333333333 nu 2.0 s0 5.0 \n",
      "c 2.5 k 0.8 sigma 1.5 mu 0.2 nu 1.33333333333 s0 5.0 \n",
      "c 2.5 k 0.8 sigma 1.5 mu 0.2 nu 2.0 s0 -5.0 \n",
      "c 1.5 k 0.333333333333 sigma 1.5 mu 0.0666666666667 nu 0.0 s0 -5.0 \n",
      "c 1.5 k 0.566666666667 sigma 1.33333333333 mu 0.2 nu 0.0 s0 -5.0 \n",
      "c 1.5 k 0.566666666667 sigma 1.5 mu 0.0666666666667 nu 2.0 s0 -1.66666666667 \n",
      "c 1.5 k 0.566666666667 sigma 1.5 mu 0.133333333333 nu 0.0 s0 1.66666666667 \n",
      "c 1.5 k 0.566666666667 sigma 1.5 mu 0.133333333333 nu 1.33333333333 s0 1.66666666667 \n",
      "c 1.5 k 0.566666666667 sigma 1.5 mu 0.133333333333 nu 2.0 s0 -5.0 \n",
      "c 1.5 k 0.8 sigma 1.33333333333 mu 0.0666666666667 nu 2.0 s0 -5.0 \n",
      "c 1.5 k 0.8 sigma 1.5 mu 0.0666666666667 nu 2.0 s0 -5.0 \n",
      "c 1.5 k 0.8 sigma 1.5 mu 0.133333333333 nu 0.666666666667 s0 1.66666666667 \n",
      "c 1.5 k 0.8 sigma 1.5 mu 0.2 nu 0.666666666667 s0 -5.0 \n",
      "c 2.0 k 0.333333333333 sigma 1.0 mu 0.0666666666667 nu 0.0 s0 -5.0 \n",
      "c 2.0 k 0.333333333333 sigma 1.33333333333 mu 0.133333333333 nu 0.0 s0 1.66666666667 \n",
      "c 2.0 k 0.333333333333 sigma 1.33333333333 mu 0.2 nu 0.0 s0 -5.0 \n",
      "c 2.0 k 0.333333333333 sigma 1.33333333333 mu 0.2 nu 1.33333333333 s0 1.66666666667 \n",
      "c 2.0 k 0.333333333333 sigma 1.5 mu 0.2 nu 0.666666666667 s0 -1.66666666667 \n",
      "c 2.0 k 0.566666666667 sigma 1.0 mu 0.2 nu 0.0 s0 -1.66666666667 \n",
      "c 2.0 k 0.566666666667 sigma 1.16666666667 mu 0.2 nu 0.666666666667 s0 -5.0 \n",
      "c 2.0 k 0.566666666667 sigma 1.33333333333 mu 0.2 nu 0.0 s0 1.66666666667 \n",
      "c 2.0 k 0.566666666667 sigma 1.33333333333 mu 0.2 nu 1.33333333333 s0 5.0 \n",
      "c 2.0 k 0.566666666667 sigma 1.5 mu 0.133333333333 nu 0.0 s0 -5.0 \n",
      "c 2.0 k 0.8 sigma 1.0 mu 0.2 nu 0.0 s0 1.66666666667 \n",
      "c 2.0 k 0.8 sigma 1.33333333333 mu 0.0666666666667 nu 1.33333333333 s0 1.66666666667 \n",
      "c 2.0 k 0.8 sigma 1.33333333333 mu 0.133333333333 nu 1.33333333333 s0 1.66666666667 \n",
      "c 2.0 k 0.8 sigma 1.33333333333 mu 0.133333333333 nu 2.0 s0 -5.0 \n",
      "c 2.0 k 0.8 sigma 1.33333333333 mu 0.2 nu 0.0 s0 -1.66666666667 \n",
      "c 2.0 k 0.8 sigma 1.33333333333 mu 0.2 nu 1.33333333333 s0 -1.66666666667 \n",
      "c 2.0 k 0.8 sigma 1.33333333333 mu 0.2 nu 1.33333333333 s0 1.66666666667 \n",
      "c 2.0 k 0.8 sigma 1.33333333333 mu 0.2 nu 1.33333333333 s0 5.0 \n",
      "c 2.0 k 0.8 sigma 1.5 mu 0.0 nu 1.33333333333 s0 -5.0 \n",
      "c 2.0 k 0.8 sigma 1.5 mu 0.0666666666667 nu 0.0 s0 5.0 \n",
      "c 2.0 k 0.8 sigma 1.5 mu 0.0666666666667 nu 2.0 s0 1.66666666667 \n",
      "c 2.0 k 0.8 sigma 1.5 mu 0.0666666666667 nu 2.0 s0 5.0 \n",
      "c 2.0 k 0.8 sigma 1.5 mu 0.133333333333 nu 0.0 s0 -5.0 \n",
      "c 2.0 k 0.8 sigma 1.5 mu 0.133333333333 nu 1.33333333333 s0 -5.0 \n",
      "c 2.0 k 0.8 sigma 1.5 mu 0.133333333333 nu 1.33333333333 s0 5.0 \n",
      "c 2.0 k 0.8 sigma 1.5 mu 0.2 nu 1.33333333333 s0 -5.0 \n",
      "c 2.0 k 0.8 sigma 1.5 mu 0.2 nu 2.0 s0 -1.66666666667 \n",
      "c 2.0 k 0.8 sigma 1.5 mu 0.2 nu 2.0 s0 1.66666666667 \n",
      "c 2.0 k 0.8 sigma 1.5 mu 0.2 nu 2.0 s0 5.0 \n",
      "c 2.5 k 0.333333333333 sigma 1.0 mu 0.2 nu 0.666666666667 s0 5.0 \n",
      "c 2.5 k 0.333333333333 sigma 1.16666666667 mu 0.133333333333 nu 2.0 s0 -5.0 \n",
      "c 2.5 k 0.333333333333 sigma 1.16666666667 mu 0.2 nu 2.0 s0 -1.66666666667 \n",
      "c 2.5 k 0.333333333333 sigma 1.33333333333 mu 0.2 nu 0.0 s0 -1.66666666667 \n",
      "c 2.5 k 0.333333333333 sigma 1.33333333333 mu 0.2 nu 0.0 s0 1.66666666667 \n",
      "c 2.5 k 0.333333333333 sigma 1.5 mu 0.0666666666667 nu 2.0 s0 5.0 \n",
      "c 2.5 k 0.333333333333 sigma 1.5 mu 0.133333333333 nu 0.666666666667 s0 1.66666666667 \n",
      "c 2.5 k 0.333333333333 sigma 1.5 mu 0.133333333333 nu 1.33333333333 s0 5.0 \n",
      "c 2.5 k 0.333333333333 sigma 1.5 mu 0.133333333333 nu 2.0 s0 -1.66666666667 \n",
      "c 2.5 k 0.333333333333 sigma 1.5 mu 0.2 nu 0.0 s0 1.66666666667 \n",
      "c 2.5 k 0.333333333333 sigma 1.5 mu 0.2 nu 2.0 s0 5.0 \n",
      "c 2.5 k 0.566666666667 sigma 1.0 mu 0.133333333333 nu 0.0 s0 -1.66666666667 \n",
      "c 2.5 k 0.566666666667 sigma 1.0 mu 0.2 nu 0.0 s0 5.0 \n",
      "c 2.5 k 0.566666666667 sigma 1.16666666667 mu 0.133333333333 nu 1.33333333333 s0 -5.0 \n",
      "c 2.5 k 0.566666666667 sigma 1.16666666667 mu 0.2 nu 0.0 s0 5.0 \n",
      "c 2.5 k 0.566666666667 sigma 1.16666666667 mu 0.2 nu 2.0 s0 -5.0 \n",
      "c 2.5 k 0.566666666667 sigma 1.33333333333 mu 0.0666666666667 nu 2.0 s0 -1.66666666667 \n",
      "c 2.5 k 0.566666666667 sigma 1.33333333333 mu 0.0666666666667 nu 2.0 s0 1.66666666667 \n",
      "c 2.5 k 0.566666666667 sigma 1.33333333333 mu 0.133333333333 nu 0.666666666667 s0 -1.66666666667 \n",
      "c 2.5 k 0.566666666667 sigma 1.33333333333 mu 0.133333333333 nu 0.666666666667 s0 5.0 \n",
      "c 2.5 k 0.566666666667 sigma 1.33333333333 mu 0.2 nu 0.666666666667 s0 1.66666666667 \n",
      "c 2.5 k 0.566666666667 sigma 1.33333333333 mu 0.2 nu 0.666666666667 s0 5.0 \n",
      "c 2.5 k 0.566666666667 sigma 1.33333333333 mu 0.2 nu 2.0 s0 1.66666666667 \n",
      "c 2.5 k 0.566666666667 sigma 1.5 mu 0.0 nu 0.0 s0 -5.0 \n",
      "c 2.5 k 0.566666666667 sigma 1.5 mu 0.0 nu 1.33333333333 s0 1.66666666667 \n",
      "c 2.5 k 0.566666666667 sigma 1.5 mu 0.0666666666667 nu 1.33333333333 s0 -1.66666666667 \n",
      "c 2.5 k 0.566666666667 sigma 1.5 mu 0.0666666666667 nu 1.33333333333 s0 5.0 \n",
      "c 2.5 k 0.566666666667 sigma 1.5 mu 0.133333333333 nu 0.666666666667 s0 1.66666666667 \n",
      "c 2.5 k 0.566666666667 sigma 1.5 mu 0.133333333333 nu 1.33333333333 s0 -5.0 \n",
      "c 2.5 k 0.566666666667 sigma 1.5 mu 0.133333333333 nu 1.33333333333 s0 -1.66666666667 \n",
      "c 2.5 k 0.566666666667 sigma 1.5 mu 0.133333333333 nu 2.0 s0 -1.66666666667 \n",
      "c 2.5 k 0.566666666667 sigma 1.5 mu 0.2 nu 1.33333333333 s0 -5.0 \n",
      "c 2.5 k 0.566666666667 sigma 1.5 mu 0.2 nu 1.33333333333 s0 -1.66666666667 \n",
      "c 2.5 k 0.566666666667 sigma 1.5 mu 0.2 nu 2.0 s0 1.66666666667 \n",
      "c 2.5 k 0.8 sigma 1.0 mu 0.0666666666667 nu 0.0 s0 -5.0 \n",
      "c 2.5 k 0.8 sigma 1.0 mu 0.133333333333 nu 0.0 s0 5.0 \n",
      "c 2.5 k 0.8 sigma 1.0 mu 0.2 nu 0.0 s0 -1.66666666667 \n",
      "c 2.5 k 0.8 sigma 1.0 mu 0.2 nu 0.0 s0 1.66666666667 \n",
      "c 2.5 k 0.8 sigma 1.0 mu 0.2 nu 0.0 s0 5.0 \n",
      "c 2.5 k 0.8 sigma 1.16666666667 mu 0.133333333333 nu 0.666666666667 s0 1.66666666667 \n",
      "c 2.5 k 0.8 sigma 1.16666666667 mu 0.133333333333 nu 1.33333333333 s0 -5.0 \n",
      "c 2.5 k 0.8 sigma 1.16666666667 mu 0.133333333333 nu 1.33333333333 s0 -1.66666666667 \n",
      "c 2.5 k 0.8 sigma 1.33333333333 mu 0.133333333333 nu 0.0 s0 1.66666666667 \n",
      "c 2.5 k 0.8 sigma 1.33333333333 mu 0.2 nu 0.666666666667 s0 -1.66666666667 \n",
      "c 2.5 k 0.8 sigma 1.5 mu 0.0666666666667 nu 2.0 s0 -5.0 \n",
      "c 2.5 k 0.8 sigma 1.5 mu 0.133333333333 nu 0.0 s0 -1.66666666667 \n",
      "c 2.5 k 0.8 sigma 1.5 mu 0.2 nu 0.0 s0 -1.66666666667 \n",
      "c 2.5 k 0.8 sigma 1.5 mu 0.2 nu 0.666666666667 s0 1.66666666667 \n",
      "c 2.5 k 0.8 sigma 1.5 mu 0.2 nu 1.33333333333 s0 -5.0 \n",
      "c 2.5 k 0.8 sigma 1.5 mu 0.2 nu 2.0 s0 -1.66666666667 \n",
      "c 1.0 k 0.8 sigma 1.5 mu 0.0666666666667 nu 0.0 s0 -1.66666666667 \n",
      "c 1.0 k 0.8 sigma 1.5 mu 0.133333333333 nu 2.0 s0 5.0 \n",
      "c 1.5 k 0.333333333333 sigma 1.5 mu 0.133333333333 nu 2.0 s0 -5.0 \n",
      "c 1.5 k 0.333333333333 sigma 1.5 mu 0.2 nu 0.0 s0 1.66666666667 \n",
      "c 1.5 k 0.8 sigma 1.0 mu 0.2 nu 0.0 s0 1.66666666667 \n",
      "c 1.5 k 0.8 sigma 1.33333333333 mu 0.2 nu 0.0 s0 -5.0 \n",
      "c 1.5 k 0.8 sigma 1.33333333333 mu 0.2 nu 0.666666666667 s0 -5.0 \n",
      "c 1.5 k 0.8 sigma 1.33333333333 mu 0.2 nu 2.0 s0 -5.0 \n",
      "c 1.5 k 0.8 sigma 1.5 mu 0.0666666666667 nu 0.666666666667 s0 1.66666666667 \n",
      "c 1.5 k 0.8 sigma 1.5 mu 0.133333333333 nu 0.666666666667 s0 -5.0 \n",
      "c 1.5 k 0.8 sigma 1.5 mu 0.133333333333 nu 1.33333333333 s0 5.0 \n",
      "c 1.5 k 0.8 sigma 1.5 mu 0.2 nu 0.0 s0 -5.0 \n",
      "c 1.5 k 0.8 sigma 1.5 mu 0.2 nu 0.0 s0 1.66666666667 \n",
      "c 1.5 k 0.8 sigma 1.5 mu 0.2 nu 0.666666666667 s0 -1.66666666667 \n",
      "c 1.5 k 0.8 sigma 1.5 mu 0.2 nu 1.33333333333 s0 5.0 \n",
      "c 1.5 k 0.8 sigma 1.5 mu 0.2 nu 2.0 s0 -1.66666666667 \n",
      "c 2.0 k 0.1 sigma 1.33333333333 mu 0.0666666666667 nu 0.0 s0 -5.0 \n",
      "c 2.0 k 0.333333333333 sigma 1.16666666667 mu 0.2 nu 1.33333333333 s0 5.0 \n",
      "c 2.0 k 0.333333333333 sigma 1.33333333333 mu 0.133333333333 nu 1.33333333333 s0 -1.66666666667 \n",
      "c 2.0 k 0.333333333333 sigma 1.33333333333 mu 0.133333333333 nu 2.0 s0 -1.66666666667 \n",
      "c 2.0 k 0.333333333333 sigma 1.5 mu 0.133333333333 nu 0.0 s0 -5.0 \n",
      "c 2.0 k 0.333333333333 sigma 1.5 mu 0.133333333333 nu 0.666666666667 s0 1.66666666667 \n",
      "c 2.0 k 0.566666666667 sigma 1.0 mu 0.0666666666667 nu 0.0 s0 -5.0 \n",
      "c 2.0 k 0.566666666667 sigma 1.0 mu 0.133333333333 nu 0.0 s0 1.66666666667 \n",
      "c 2.0 k 0.566666666667 sigma 1.0 mu 0.2 nu 0.0 s0 1.66666666667 \n",
      "c 2.0 k 0.566666666667 sigma 1.16666666667 mu 0.2 nu 2.0 s0 -5.0 \n",
      "c 2.0 k 0.566666666667 sigma 1.33333333333 mu 0.133333333333 nu 1.33333333333 s0 5.0 \n",
      "c 2.0 k 0.566666666667 sigma 1.33333333333 mu 0.133333333333 nu 2.0 s0 -5.0 \n",
      "c 2.0 k 0.566666666667 sigma 1.33333333333 mu 0.2 nu 1.33333333333 s0 5.0 \n",
      "c 2.0 k 0.566666666667 sigma 1.5 mu 0.2 nu 2.0 s0 5.0 \n",
      "c 2.0 k 0.8 sigma 1.0 mu 0.2 nu 0.0 s0 -5.0 \n",
      "c 2.0 k 0.8 sigma 1.0 mu 0.2 nu 0.0 s0 -1.66666666667 \n",
      "c 2.0 k 0.8 sigma 1.0 mu 0.2 nu 0.0 s0 1.66666666667 \n",
      "c 2.0 k 0.8 sigma 1.0 mu 0.2 nu 0.0 s0 5.0 \n",
      "c 2.0 k 0.8 sigma 1.16666666667 mu 0.0666666666667 nu 0.0 s0 -1.66666666667 \n",
      "c 2.0 k 0.8 sigma 1.16666666667 mu 0.0666666666667 nu 0.666666666667 s0 1.66666666667 \n",
      "c 2.0 k 0.8 sigma 1.16666666667 mu 0.133333333333 nu 0.0 s0 1.66666666667 \n",
      "c 2.0 k 0.8 sigma 1.33333333333 mu 0.0666666666667 nu 0.666666666667 s0 -1.66666666667 \n",
      "c 2.0 k 0.8 sigma 1.33333333333 mu 0.0666666666667 nu 0.666666666667 s0 5.0 \n",
      "c 2.0 k 0.8 sigma 1.33333333333 mu 0.133333333333 nu 2.0 s0 -5.0 \n",
      "c 2.0 k 0.8 sigma 1.33333333333 mu 0.2 nu 2.0 s0 1.66666666667 \n",
      "c 2.0 k 0.8 sigma 1.33333333333 mu 0.2 nu 2.0 s0 5.0 \n",
      "c 2.0 k 0.8 sigma 1.5 mu 0.0666666666667 nu 1.33333333333 s0 -5.0 \n",
      "c 2.0 k 0.8 sigma 1.5 mu 0.0666666666667 nu 2.0 s0 -5.0 \n",
      "c 2.0 k 0.8 sigma 1.5 mu 0.0666666666667 nu 2.0 s0 -1.66666666667 \n",
      "c 2.0 k 0.8 sigma 1.5 mu 0.0666666666667 nu 2.0 s0 1.66666666667 \n",
      "c 2.0 k 0.8 sigma 1.5 mu 0.133333333333 nu 0.666666666667 s0 1.66666666667 \n",
      "c 2.0 k 0.8 sigma 1.5 mu 0.133333333333 nu 2.0 s0 5.0 \n",
      "c 2.0 k 0.8 sigma 1.5 mu 0.2 nu 0.666666666667 s0 -5.0 \n",
      "c 2.0 k 0.8 sigma 1.5 mu 0.2 nu 0.666666666667 s0 5.0 \n",
      "c 2.5 k 0.333333333333 sigma 1.0 mu 0.2 nu 0.666666666667 s0 1.66666666667 \n",
      "c 2.5 k 0.333333333333 sigma 1.0 mu 0.2 nu 1.33333333333 s0 1.66666666667 \n",
      "c 2.5 k 0.333333333333 sigma 1.0 mu 0.2 nu 2.0 s0 1.66666666667 \n",
      "c 2.5 k 0.333333333333 sigma 1.16666666667 mu 0.133333333333 nu 1.33333333333 s0 -5.0 \n",
      "c 2.5 k 0.333333333333 sigma 1.16666666667 mu 0.2 nu 0.0 s0 -5.0 \n",
      "c 2.5 k 0.333333333333 sigma 1.16666666667 mu 0.2 nu 0.666666666667 s0 -1.66666666667 \n",
      "c 2.5 k 0.333333333333 sigma 1.33333333333 mu 0.2 nu 0.666666666667 s0 -1.66666666667 \n",
      "c 2.5 k 0.333333333333 sigma 1.5 mu 0.0666666666667 nu 0.0 s0 1.66666666667 \n",
      "c 2.5 k 0.333333333333 sigma 1.5 mu 0.133333333333 nu 1.33333333333 s0 -1.66666666667 \n",
      "c 2.5 k 0.333333333333 sigma 1.5 mu 0.2 nu 0.666666666667 s0 5.0 \n",
      "c 2.5 k 0.333333333333 sigma 1.5 mu 0.2 nu 1.33333333333 s0 1.66666666667 \n",
      "c 2.5 k 0.333333333333 sigma 1.5 mu 0.2 nu 2.0 s0 -1.66666666667 \n",
      "c 2.5 k 0.566666666667 sigma 1.0 mu 0.133333333333 nu 0.0 s0 -5.0 \n",
      "c 2.5 k 0.566666666667 sigma 1.0 mu 0.133333333333 nu 0.0 s0 1.66666666667 \n",
      "c 2.5 k 0.566666666667 sigma 1.0 mu 0.133333333333 nu 0.0 s0 5.0 \n",
      "c 2.5 k 0.566666666667 sigma 1.0 mu 0.2 nu 0.0 s0 -1.66666666667 \n",
      "c 2.5 k 0.566666666667 sigma 1.0 mu 0.2 nu 0.0 s0 1.66666666667 \n",
      "c 2.5 k 0.566666666667 sigma 1.0 mu 0.2 nu 0.0 s0 5.0 \n",
      "c 2.5 k 0.566666666667 sigma 1.16666666667 mu 0.0666666666667 nu 0.0 s0 -1.66666666667 \n",
      "c 2.5 k 0.566666666667 sigma 1.16666666667 mu 0.133333333333 nu 0.0 s0 1.66666666667 \n",
      "c 2.5 k 0.566666666667 sigma 1.16666666667 mu 0.133333333333 nu 0.666666666667 s0 1.66666666667 \n",
      "c 2.5 k 0.566666666667 sigma 1.16666666667 mu 0.133333333333 nu 2.0 s0 -1.66666666667 \n",
      "c 2.5 k 0.566666666667 sigma 1.16666666667 mu 0.2 nu 0.666666666667 s0 1.66666666667 \n",
      "c 2.5 k 0.566666666667 sigma 1.16666666667 mu 0.2 nu 1.33333333333 s0 1.66666666667 \n",
      "c 2.5 k 0.566666666667 sigma 1.33333333333 mu 0.0666666666667 nu 2.0 s0 -5.0 \n",
      "c 2.5 k 0.566666666667 sigma 1.33333333333 mu 0.133333333333 nu 2.0 s0 5.0 \n",
      "c 2.5 k 0.566666666667 sigma 1.5 mu 0.0666666666667 nu 1.33333333333 s0 -1.66666666667 \n",
      "c 2.5 k 0.566666666667 sigma 1.5 mu 0.0666666666667 nu 2.0 s0 5.0 \n",
      "c 2.5 k 0.566666666667 sigma 1.5 mu 0.133333333333 nu 2.0 s0 5.0 \n",
      "c 2.5 k 0.566666666667 sigma 1.5 mu 0.2 nu 0.0 s0 -5.0 \n",
      "c 2.5 k 0.566666666667 sigma 1.5 mu 0.2 nu 0.666666666667 s0 -1.66666666667 \n",
      "c 2.5 k 0.8 sigma 1.0 mu 0.0666666666667 nu 0.0 s0 -5.0 \n",
      "c 2.5 k 0.8 sigma 1.0 mu 0.133333333333 nu 0.0 s0 -5.0 \n",
      "c 2.5 k 0.8 sigma 1.0 mu 0.2 nu 0.0 s0 5.0 \n",
      "c 2.5 k 0.8 sigma 1.16666666667 mu 0.2 nu 0.0 s0 1.66666666667 \n",
      "c 2.5 k 0.8 sigma 1.33333333333 mu 0.0666666666667 nu 1.33333333333 s0 1.66666666667 \n",
      "c 2.5 k 0.8 sigma 1.33333333333 mu 0.133333333333 nu 1.33333333333 s0 -5.0 \n",
      "c 2.5 k 0.8 sigma 1.33333333333 mu 0.133333333333 nu 1.33333333333 s0 -1.66666666667 \n",
      "c 2.5 k 0.8 sigma 1.5 mu 0.0 nu 2.0 s0 -5.0 \n",
      "c 2.5 k 0.8 sigma 1.5 mu 0.0 nu 2.0 s0 5.0 \n",
      "c 2.5 k 0.8 sigma 1.5 mu 0.0666666666667 nu 1.33333333333 s0 -5.0 \n",
      "c 2.5 k 0.8 sigma 1.5 mu 0.0666666666667 nu 2.0 s0 5.0 \n",
      "c 2.5 k 0.8 sigma 1.5 mu 0.133333333333 nu 0.0 s0 -1.66666666667 \n",
      "c 2.5 k 0.8 sigma 1.5 mu 0.133333333333 nu 0.666666666667 s0 1.66666666667 \n",
      "c 2.5 k 0.8 sigma 1.5 mu 0.2 nu 0.0 s0 5.0 \n",
      "c 2.5 k 0.8 sigma 1.5 mu 0.2 nu 0.666666666667 s0 -1.66666666667 \n",
      "c 2.5 k 0.8 sigma 1.5 mu 0.2 nu 1.33333333333 s0 -1.66666666667 \n",
      "c 2.5 k 0.566666666667 sigma 1.5 mu 0.2 nu 2.0 s0 5.0 \n",
      "c 2.5 k 0.8 sigma 1.5 mu 0.0666666666667 nu 0.0 s0 -5.0 \n"
     ]
    }
   ],
   "source": [
    "M1 = process(M1)\n",
    "M2 = process(M2)\n",
    "M3 = process(M3)\n",
    "M4 = process(M4)\n"
   ]
  },
  {
   "cell_type": "code",
   "execution_count": 68,
   "metadata": {},
   "outputs": [
    {
     "data": {
      "text/plain": [
       "(4.7789151765204911,\n",
       " 4.9775974575480948,\n",
       " 15.120041827084453,\n",
       " 0.4558125463466679)"
      ]
     },
     "execution_count": 68,
     "metadata": {},
     "output_type": "execute_result"
    }
   ],
   "source": [
    "np.min(M1), np.min(M2), np.min(M3), np.min(M4)"
   ]
  },
  {
   "cell_type": "code",
   "execution_count": 67,
   "metadata": {
    "scrolled": true
   },
   "outputs": [
    {
     "name": "stdout",
     "output_type": "stream",
     "text": [
      "c 1.5 k 0.333333333333 sigma 1.0 mu 0.0 nu 0.666666666667 s0 -5.0 \n",
      "c 1.5 k 0.333333333333 sigma 1.16666666667 mu 0.0 nu 1.33333333333 s0 -5.0 \n",
      "c 1.5 k 0.8 sigma 1.0 mu 0.0 nu 0.0 s0 -5.0 \n"
     ]
    }
   ],
   "source": [
    "for i in np.array(np.where(M1 < 8)).T:\n",
    "    index_to_value(M1, bounds, i, noms)"
   ]
  },
  {
   "cell_type": "code",
   "execution_count": 69,
   "metadata": {},
   "outputs": [
    {
     "name": "stdout",
     "output_type": "stream",
     "text": [
      "c 1.5 k 0.333333333333 sigma 1.16666666667 mu 0.0 nu 0.666666666667 s0 -5.0 \n",
      "c 1.5 k 0.333333333333 sigma 1.16666666667 mu 0.0 nu 1.33333333333 s0 -5.0 \n",
      "c 1.5 k 0.333333333333 sigma 1.16666666667 mu 0.0 nu 2.0 s0 -5.0 \n"
     ]
    }
   ],
   "source": [
    "for i in np.array(np.where(M2 < 8)).T:\n",
    "    index_to_value(M2, bounds, i, noms)"
   ]
  },
  {
   "cell_type": "code",
   "execution_count": 196,
   "metadata": {},
   "outputs": [
    {
     "name": "stdout",
     "output_type": "stream",
     "text": [
      "c 1.0 k 0.566666666667 sigma 1.16666666667 mu 0.0 nu 0.0 s0 -1.66666666667 \n",
      "c 2.0 k 0.333333333333 sigma 1.0 mu 0.0 nu 1.33333333333 s0 -5.0 \n",
      "c 2.0 k 0.333333333333 sigma 1.0 mu 0.0 nu 2.0 s0 -5.0 \n",
      "c 2.0 k 0.333333333333 sigma 1.16666666667 mu 0.0 nu 0.666666666667 s0 -1.66666666667 \n",
      "c 2.0 k 0.333333333333 sigma 1.16666666667 mu 0.0 nu 1.33333333333 s0 -5.0 \n",
      "c 2.0 k 0.333333333333 sigma 1.16666666667 mu 0.0 nu 1.33333333333 s0 -1.66666666667 \n",
      "c 2.0 k 0.333333333333 sigma 1.16666666667 mu 0.0 nu 2.0 s0 -5.0 \n",
      "c 2.0 k 0.333333333333 sigma 1.16666666667 mu 0.0 nu 2.0 s0 -1.66666666667 \n",
      "c 2.0 k 0.333333333333 sigma 1.16666666667 mu 0.0 nu 2.0 s0 1.66666666667 \n",
      "c 2.0 k 0.333333333333 sigma 1.33333333333 mu 0.0 nu 1.33333333333 s0 -5.0 \n",
      "c 2.0 k 0.8 sigma 1.16666666667 mu 0.0 nu 0.0 s0 -5.0 \n"
     ]
    }
   ],
   "source": [
    "for i in np.array(np.where(M3 < 18)).T:\n",
    "    index_to_value(M3, bounds, i, noms)"
   ]
  },
  {
   "cell_type": "code",
   "execution_count": 70,
   "metadata": {},
   "outputs": [
    {
     "name": "stdout",
     "output_type": "stream",
     "text": [
      "c 1.0 k 0.333333333333 sigma 1.0 mu 0.0 nu 0.0 s0 1.66666666667 \n",
      "c 1.5 k 0.333333333333 sigma 1.16666666667 mu 0.0 nu 0.0 s0 -1.66666666667 \n",
      "c 2.0 k 0.333333333333 sigma 1.0 mu 0.0 nu 0.0 s0 -1.66666666667 \n",
      "c 2.0 k 0.333333333333 sigma 1.33333333333 mu 0.0 nu 0.666666666667 s0 -5.0 \n"
     ]
    }
   ],
   "source": [
    "for i in np.array(np.where(M4 < 1)).T:\n",
    "    index_to_value(M4, bounds, i, noms)"
   ]
  },
  {
   "cell_type": "code",
   "execution_count": null,
   "metadata": {},
   "outputs": [],
   "source": []
  },
  {
   "cell_type": "code",
   "execution_count": null,
   "metadata": {},
   "outputs": [],
   "source": []
  }
 ],
 "metadata": {
  "kernelspec": {
   "display_name": "Python 3",
   "language": "python",
   "name": "python3"
  },
  "language_info": {
   "codemirror_mode": {
    "name": "ipython",
    "version": 3
   },
   "file_extension": ".py",
   "mimetype": "text/x-python",
   "name": "python",
   "nbconvert_exporter": "python",
   "pygments_lexer": "ipython3",
   "version": "3.5.3"
  }
 },
 "nbformat": 4,
 "nbformat_minor": 2
}
