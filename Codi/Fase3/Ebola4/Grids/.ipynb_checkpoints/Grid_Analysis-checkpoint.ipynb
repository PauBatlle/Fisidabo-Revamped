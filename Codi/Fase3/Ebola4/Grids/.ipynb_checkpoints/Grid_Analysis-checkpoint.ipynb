{
 "cells": [
  {
   "cell_type": "code",
   "execution_count": 4,
   "metadata": {},
   "outputs": [],
   "source": [
    "import numpy as np\n",
    "import matplotlib.pyplot as plt\n",
    "import seaborn as sns\n",
    "%matplotlib inline"
   ]
  },
  {
   "cell_type": "code",
   "execution_count": 5,
   "metadata": {},
   "outputs": [
    {
     "name": "stdout",
     "output_type": "stream",
     "text": [
      "0f3expc_k_0.1_0.8_sigma_1_1.5_mu_0_0.2_nu_0_2_spin_-5_5.npy\r\n",
      "1f3expc_k_0.1_0.8_sigma_1_1.5_mu_0_0.2_nu_0_2_spin_-5_5.npy\r\n",
      "1f3real_c_1_2.5_k_0.1_0.8_sigma_1_1.5_mu_0_0.2_nu_0_2_spin_-5_5.npy\r\n",
      "2f3expc_k_0.1_0.8_sigma_1_1.5_mu_0_0.2_nu_0_2_spin_-5_5.npy\r\n",
      "2f3real_c_1_2.5_k_0.1_0.8_sigma_1_1.5_mu_0_0.2_nu_0_2_spin_-5_5.npy\r\n",
      "3f3expc_k_0.1_0.8_sigma_1_1.5_mu_0_0.2_nu_0_2_spin_-5_5.npy\r\n",
      "3f3real_c_1_2.5_k_0.1_0.8_sigma_1_1.5_mu_0_0.2_nu_0_2_spin_-5_5.npy\r\n",
      "4f3expc_k_0.1_0.8_sigma_1_1.5_mu_0_0.2_nu_0_2_spin_-5_5.npy\r\n",
      "4f3real_c_1_2.5_k_0.1_0.8_sigma_1_1.5_mu_0_0.2_nu_0_2_spin_-5_5.npy\r\n",
      "f2expc_k_0.1_0.8_sigma_1_1.5_mu_0_0.2.npy\r\n",
      "f2expc.npy\r\n",
      "f3real_mu_0_0.2_nu_0_2_spin_-5_5.npy\r\n",
      "Optimitzant finalerrim.ipynb\r\n",
      "taula1real_mu_0_0.2_nu_0_2_spin_-5_5.npy\r\n",
      "taula2real_mu_0_0.2_nu_0_2_spin_-5_5.npy\r\n",
      "taula3real_mu_0_0.2_nu_0_2_spin_-5_5.npy\r\n",
      "taula4real_mu_0_0.2_nu_0_2_spin_-5_5.npy\r\n"
     ]
    }
   ],
   "source": [
    "ls"
   ]
  },
  {
   "cell_type": "code",
   "execution_count": 76,
   "metadata": {},
   "outputs": [],
   "source": [
    "def index_to_value(M, bounds, s, noms):\n",
    "    assert len(s) == len(bounds)\n",
    "    assert len(s) == len(M.shape)\n",
    "    for i,j in enumerate(bounds):\n",
    "        print(noms[i], np.linspace(j[0],j[1],M.shape[i])[s[i]], end = ' ')\n",
    "    print(\"\")"
   ]
  },
  {
   "cell_type": "code",
   "execution_count": 78,
   "metadata": {},
   "outputs": [],
   "source": [
    "def process(M):\n",
    "    for i in np.array(np.where(np.isnan(M))).T:\n",
    "        index_to_value(M,bounds,i, noms)\n",
    "    M[np.isnan(M)] = 99\n",
    "    return np.minimum(M,99)"
   ]
  },
  {
   "cell_type": "markdown",
   "metadata": {},
   "source": [
    "Ebola2, exponencial"
   ]
  },
  {
   "cell_type": "code",
   "execution_count": 72,
   "metadata": {},
   "outputs": [],
   "source": [
    "M = np.load(\"f2expc_k_0.1_0.8_sigma_1_1.5_mu_0_0.2.npy\")"
   ]
  },
  {
   "cell_type": "code",
   "execution_count": 73,
   "metadata": {},
   "outputs": [
    {
     "data": {
      "text/plain": [
       "(10, 10, 10)"
      ]
     },
     "execution_count": 73,
     "metadata": {},
     "output_type": "execute_result"
    }
   ],
   "source": [
    "M.shape"
   ]
  },
  {
   "cell_type": "code",
   "execution_count": 74,
   "metadata": {},
   "outputs": [],
   "source": [
    "bounds = ((0.1,0.8),(1,1.5),(0,0.2))"
   ]
  },
  {
   "cell_type": "code",
   "execution_count": 75,
   "metadata": {},
   "outputs": [],
   "source": [
    "noms = [\"k\", \"sigma\", \"mu\"]"
   ]
  },
  {
   "cell_type": "code",
   "execution_count": null,
   "metadata": {},
   "outputs": [],
   "source": [
    "M = process(M)"
   ]
  },
  {
   "cell_type": "code",
   "execution_count": 87,
   "metadata": {
    "scrolled": true
   },
   "outputs": [
    {
     "name": "stdout",
     "output_type": "stream",
     "text": [
      "k 0.177777777778 sigma 1.05555555556 mu 0.0222222222222 \n"
     ]
    }
   ],
   "source": [
    "index_to_value(M,bounds,np.unravel_index(np.argmin(M),M.shape),noms)"
   ]
  },
  {
   "cell_type": "markdown",
   "metadata": {},
   "source": [
    "Ebola3, exponencial"
   ]
  },
  {
   "cell_type": "code",
   "execution_count": 88,
   "metadata": {},
   "outputs": [],
   "source": [
    "M = np.load(\"0f3expc_k_0.1_0.8_sigma_1_1.5_mu_0_0.2_nu_0_2_spin_-5_5.npy\")"
   ]
  },
  {
   "cell_type": "code",
   "execution_count": 90,
   "metadata": {},
   "outputs": [],
   "source": [
    "for i in range(5):\n",
    "    M = np.maximum(np.load(str(i)+\"f3expc_k_0.1_0.8_sigma_1_1.5_mu_0_0.2_nu_0_2_spin_-5_5.npy\"), M)"
   ]
  },
  {
   "cell_type": "code",
   "execution_count": 92,
   "metadata": {},
   "outputs": [
    {
     "data": {
      "text/plain": [
       "5"
      ]
     },
     "execution_count": 92,
     "metadata": {},
     "output_type": "execute_result"
    }
   ],
   "source": [
    "len(M.shape)"
   ]
  },
  {
   "cell_type": "code",
   "execution_count": 93,
   "metadata": {},
   "outputs": [],
   "source": [
    "bounds = ((0.1,0.8),(1,1.5),(0,0.2),(0,2),(-5,5))\n",
    "noms = [\"k\",\"sigma\",\"mu\",\"nu\",\"s0\"]"
   ]
  },
  {
   "cell_type": "code",
   "execution_count": 106,
   "metadata": {},
   "outputs": [
    {
     "data": {
      "text/plain": [
       "<matplotlib.axes._subplots.AxesSubplot at 0x7ffaa87c64a8>"
      ]
     },
     "execution_count": 106,
     "metadata": {},
     "output_type": "execute_result"
    },
    {
     "data": {
      "image/png": "[encoded data removed]",
      "text/plain": [
       "<matplotlib.figure.Figure at 0x7ffaa87fbe10>"
      ]
     },
     "metadata": {},
     "output_type": "display_data"
    }
   ],
   "source": [
    "sns.heatmap(M[:,:,0,0,1], annot = True)"
   ]
  },
  {
   "cell_type": "code",
   "execution_count": 125,
   "metadata": {},
   "outputs": [
    {
     "name": "stdout",
     "output_type": "stream",
     "text": [
      "k 0.275 sigma 1.0 mu 0.05 nu 0.0 s0 -2.5 \n",
      "k 0.275 sigma 1.125 mu 0.0 nu 0.5 s0 -2.5 \n",
      "k 0.45 sigma 1.0 mu 0.0 nu 0.0 s0 -2.5 \n",
      "k 0.45 sigma 1.125 mu 0.0 nu 0.0 s0 -2.5 \n",
      "k 0.625 sigma 1.0 mu 0.0 nu 0.0 s0 -5.0 \n",
      "k 0.8 sigma 1.0 mu 0.0 nu 0.0 s0 -5.0 \n"
     ]
    }
   ],
   "source": [
    "for i in np.array(np.where(M < 25)).T:\n",
    "    index_to_value(M, bounds, i, noms)"
   ]
  },
  {
   "cell_type": "code",
   "execution_count": 97,
   "metadata": {
    "scrolled": false
   },
   "outputs": [
    {
     "data": {
      "text/plain": [
       "(4, 0, 0, 0, 0)"
      ]
     },
     "execution_count": 97,
     "metadata": {},
     "output_type": "execute_result"
    }
   ],
   "source": [
    "np.unravel_index(np.argmin(M),M.shape)"
   ]
  },
  {
   "cell_type": "markdown",
   "metadata": {},
   "source": [
    "f3 llit real"
   ]
  },
  {
   "cell_type": "code",
   "execution_count": 175,
   "metadata": {},
   "outputs": [],
   "source": [
    "M = np.load(\"f3real_mu_0_0.2_nu_0_2_spin_-5_5.npy\")"
   ]
  },
  {
   "cell_type": "code",
   "execution_count": 176,
   "metadata": {},
   "outputs": [
    {
     "data": {
      "text/plain": [
       "(10, 10, 10)"
      ]
     },
     "execution_count": 176,
     "metadata": {},
     "output_type": "execute_result"
    }
   ],
   "source": [
    "M.shape"
   ]
  },
  {
   "cell_type": "code",
   "execution_count": 154,
   "metadata": {},
   "outputs": [
    {
     "data": {
      "text/plain": [
       "12.047922493127244"
      ]
     },
     "execution_count": 154,
     "metadata": {},
     "output_type": "execute_result"
    }
   ],
   "source": [
    "np.min(M)"
   ]
  },
  {
   "cell_type": "code",
   "execution_count": 146,
   "metadata": {},
   "outputs": [],
   "source": [
    "bounds = ((0,0.2),(0,2),(-5,5))\n",
    "noms = [\"mu\",\"nu\",\"s0\"]"
   ]
  },
  {
   "cell_type": "code",
   "execution_count": 147,
   "metadata": {},
   "outputs": [],
   "source": [
    "M = process(M)"
   ]
  },
  {
   "cell_type": "code",
   "execution_count": 157,
   "metadata": {
    "scrolled": true
   },
   "outputs": [
    {
     "name": "stdout",
     "output_type": "stream",
     "text": [
      "mu 0.0 nu 0.0 s0 -2.77777777778 \n"
     ]
    }
   ],
   "source": [
    "for i in np.array(np.where(M < 15)).T:\n",
    "    index_to_value(M, bounds, i, noms)"
   ]
  },
  {
   "cell_type": "code",
   "execution_count": 158,
   "metadata": {},
   "outputs": [
    {
     "name": "stdout",
     "output_type": "stream",
     "text": [
      "mu 0.0 nu 0.0 s0 -3.88888888889 \n",
      "mu 0.0 nu 0.0 s0 -2.77777777778 \n"
     ]
    }
   ],
   "source": [
    "for i in np.array(np.where(M < 25)).T:\n",
    "    index_to_value(M, bounds, i, noms)"
   ]
  },
  {
   "cell_type": "markdown",
   "metadata": {},
   "source": [
    "Taula de 4"
   ]
  },
  {
   "cell_type": "code",
   "execution_count": 178,
   "metadata": {},
   "outputs": [],
   "source": [
    "bounds = ((1,2.5),(0.1,0.8),(1,1.5),(0,0.2),(0,2),(-5,5))\n",
    "noms = [\"c\",\"k\",\"sigma\",\"mu\",\"nu\",\"s0\"]"
   ]
  },
  {
   "cell_type": "code",
   "execution_count": 174,
   "metadata": {},
   "outputs": [],
   "source": [
    "M1 = np.load(\"1f3real_c_1_2.5_k_0.1_0.8_sigma_1_1.5_mu_0_0.2_nu_0_2_spin_-5_5.npy\")\n",
    "M2 = np.load(\"1f3real_c_1_2.5_k_0.1_0.8_sigma_1_1.5_mu_0_0.2_nu_0_2_spin_-5_5.npy\")\n",
    "M3 = np.load(\"1f3real_c_1_2.5_k_0.1_0.8_sigma_1_1.5_mu_0_0.2_nu_0_2_spin_-5_5.npy\")\n",
    "M4 = np.load(\"1f3real_c_1_2.5_k_0.1_0.8_sigma_1_1.5_mu_0_0.2_nu_0_2_spin_-5_5.npy\")\n"
   ]
  },
  {
   "cell_type": "code",
   "execution_count": 161,
   "metadata": {},
   "outputs": [
    {
     "data": {
      "text/plain": [
       "(4, 4, 4, 4, 4, 4)"
      ]
     },
     "execution_count": 161,
     "metadata": {},
     "output_type": "execute_result"
    }
   ],
   "source": [
    "M1.shape"
   ]
  },
  {
   "cell_type": "code",
   "execution_count": 171,
   "metadata": {
    "scrolled": true
   },
   "outputs": [
    {
     "name": "stdout",
     "output_type": "stream",
     "text": [
      "c 1.0 k 0.566666666667 sigma 1.5 mu 0.2 nu 0.0 s0 -1.66666666667 \n",
      "c 1.0 k 0.8 sigma 1.5 mu 0.133333333333 nu 2.0 s0 -1.66666666667 \n",
      "c 1.0 k 0.8 sigma 1.5 mu 0.2 nu 2.0 s0 5.0 \n",
      "c 1.5 k 0.333333333333 sigma 1.5 mu 0.133333333333 nu 2.0 s0 -5.0 \n",
      "c 1.5 k 0.333333333333 sigma 1.5 mu 0.2 nu 0.666666666667 s0 5.0 \n",
      "c 1.5 k 0.8 sigma 1.33333333333 mu 0.133333333333 nu 0.666666666667 s0 -5.0 \n",
      "c 1.5 k 0.8 sigma 1.33333333333 mu 0.2 nu 0.0 s0 -1.66666666667 \n",
      "c 1.5 k 0.8 sigma 1.5 mu 0.0 nu 0.0 s0 -5.0 \n",
      "c 1.5 k 0.8 sigma 1.5 mu 0.2 nu 1.33333333333 s0 5.0 \n",
      "c 2.0 k 0.333333333333 sigma 1.33333333333 mu 0.2 nu 1.33333333333 s0 -1.66666666667 \n",
      "c 2.0 k 0.333333333333 sigma 1.5 mu 0.2 nu 0.0 s0 -1.66666666667 \n",
      "c 2.0 k 0.566666666667 sigma 1.16666666667 mu 0.2 nu 0.0 s0 1.66666666667 \n",
      "c 2.0 k 0.566666666667 sigma 1.33333333333 mu 0.0666666666667 nu 0.0 s0 5.0 \n",
      "c 2.0 k 0.566666666667 sigma 1.33333333333 mu 0.133333333333 nu 0.666666666667 s0 -5.0 \n",
      "c 2.0 k 0.8 sigma 1.33333333333 mu 0.0666666666667 nu 0.0 s0 -5.0 \n",
      "c 2.0 k 0.8 sigma 1.33333333333 mu 0.0666666666667 nu 1.33333333333 s0 -1.66666666667 \n",
      "c 2.0 k 0.8 sigma 1.33333333333 mu 0.133333333333 nu 2.0 s0 -1.66666666667 \n",
      "c 2.0 k 0.8 sigma 1.33333333333 mu 0.2 nu 0.0 s0 -5.0 \n",
      "c 2.0 k 0.8 sigma 1.33333333333 mu 0.2 nu 1.33333333333 s0 -5.0 \n",
      "c 2.0 k 0.8 sigma 1.5 mu 0.0 nu 0.666666666667 s0 -5.0 \n",
      "c 2.0 k 0.8 sigma 1.5 mu 0.0666666666667 nu 1.33333333333 s0 -5.0 \n",
      "c 2.0 k 0.8 sigma 1.5 mu 0.0666666666667 nu 2.0 s0 5.0 \n",
      "c 2.0 k 0.8 sigma 1.5 mu 0.133333333333 nu 0.0 s0 -1.66666666667 \n",
      "c 2.5 k 0.333333333333 sigma 1.33333333333 mu 0.133333333333 nu 0.666666666667 s0 5.0 \n",
      "c 2.5 k 0.333333333333 sigma 1.33333333333 mu 0.2 nu 0.666666666667 s0 -1.66666666667 \n",
      "c 2.5 k 0.333333333333 sigma 1.5 mu 0.0666666666667 nu 0.0 s0 -5.0 \n",
      "c 2.5 k 0.566666666667 sigma 1.16666666667 mu 0.133333333333 nu 1.33333333333 s0 -5.0 \n",
      "c 2.5 k 0.566666666667 sigma 1.16666666667 mu 0.2 nu 0.0 s0 1.66666666667 \n",
      "c 2.5 k 0.566666666667 sigma 1.33333333333 mu 0.133333333333 nu 1.33333333333 s0 -1.66666666667 \n",
      "c 2.5 k 0.566666666667 sigma 1.33333333333 mu 0.2 nu 0.666666666667 s0 -5.0 \n",
      "c 2.5 k 0.566666666667 sigma 1.33333333333 mu 0.2 nu 1.33333333333 s0 -5.0 \n",
      "c 2.5 k 0.566666666667 sigma 1.33333333333 mu 0.2 nu 2.0 s0 -1.66666666667 \n",
      "c 2.5 k 0.566666666667 sigma 1.5 mu 0.0666666666667 nu 1.33333333333 s0 5.0 \n",
      "c 2.5 k 0.566666666667 sigma 1.5 mu 0.133333333333 nu 2.0 s0 5.0 \n",
      "c 2.5 k 0.8 sigma 1.16666666667 mu 0.2 nu 0.0 s0 -1.66666666667 \n",
      "c 2.5 k 0.8 sigma 1.33333333333 mu 0.133333333333 nu 1.33333333333 s0 -5.0 \n",
      "c 2.5 k 0.8 sigma 1.33333333333 mu 0.133333333333 nu 1.33333333333 s0 1.66666666667 \n",
      "c 2.5 k 0.8 sigma 1.33333333333 mu 0.2 nu 1.33333333333 s0 -5.0 \n",
      "c 2.5 k 0.8 sigma 1.5 mu 0.0666666666667 nu 1.33333333333 s0 1.66666666667 \n",
      "c 2.5 k 0.8 sigma 1.5 mu 0.0666666666667 nu 2.0 s0 5.0 \n",
      "c 2.5 k 0.8 sigma 1.5 mu 0.133333333333 nu 0.0 s0 5.0 \n",
      "c 2.5 k 0.8 sigma 1.5 mu 0.133333333333 nu 2.0 s0 -5.0 \n",
      "c 2.5 k 0.8 sigma 1.5 mu 0.133333333333 nu 2.0 s0 5.0 \n",
      "c 2.5 k 0.8 sigma 1.5 mu 0.2 nu 1.33333333333 s0 5.0 \n",
      "c 2.5 k 0.8 sigma 1.5 mu 0.2 nu 2.0 s0 -5.0 \n"
     ]
    }
   ],
   "source": [
    "M1 = process(M1)"
   ]
  },
  {
   "cell_type": "code",
   "execution_count": 172,
   "metadata": {},
   "outputs": [
    {
     "data": {
      "text/plain": [
       "4.7789151765204911"
      ]
     },
     "execution_count": 172,
     "metadata": {},
     "output_type": "execute_result"
    }
   ],
   "source": [
    "np.min(M1)"
   ]
  },
  {
   "cell_type": "code",
   "execution_count": 169,
   "metadata": {},
   "outputs": [
    {
     "name": "stdout",
     "output_type": "stream",
     "text": [
      "c 1.0 k 0.566666666667 sigma 1.5 mu 0.2 nu 0.0 s0 -1.66666666667 \n"
     ]
    }
   ],
   "source": [
    "index_to_value(M1,bounds,np.unravel_index(np.argmin(M1),M1.shape),noms)"
   ]
  }
 ],
 "metadata": {
  "kernelspec": {
   "display_name": "Python 3",
   "language": "python",
   "name": "python3"
  },
  "language_info": {
   "codemirror_mode": {
    "name": "ipython",
    "version": 3
   },
   "file_extension": ".py",
   "mimetype": "text/x-python",
   "name": "python",
   "nbconvert_exporter": "python",
   "pygments_lexer": "ipython3",
   "version": "3.5.3"
  }
 },
 "nbformat": 4,
 "nbformat_minor": 2
}
