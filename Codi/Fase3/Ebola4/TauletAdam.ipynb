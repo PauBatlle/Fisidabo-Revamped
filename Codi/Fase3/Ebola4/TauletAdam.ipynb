{
 "cells": [
  {
   "cell_type": "code",
   "execution_count": 1,
   "metadata": {},
   "outputs": [],
   "source": [
    "%run funcions_taula.py"
   ]
  },
  {
   "cell_type": "code",
   "execution_count": 28,
   "metadata": {},
   "outputs": [],
   "source": [
    "l1 = len(d1p)\n",
    "l2 = len(d2p)\n",
    "l3 = len(d3p)\n",
    "l4 = len(d4p)\n",
    "l = [l1,l2,l3,l4]"
   ]
  },
  {
   "cell_type": "code",
   "execution_count": 29,
   "metadata": {},
   "outputs": [],
   "source": [
    "x1 = [ 0.26951544,  1.11203237,  0.94709141,  0.02005412,  0.11674462,\n",
    "        2.15030078]\n",
    "x2 = [ 3.74729509,  0.19025623,  1.12162367,  0.00762243,  0.5570183 ,\n",
    "        3.80019141]\n",
    "x3 = [ 2.3432343 ,  0.21247422,  1.04852414,  0.01279455,  0.10957865,\n",
    "        2.60626072]\n",
    "x4 = [ 2.08050412,  0.42154183,  1.06881135,  0.00395291, -0.02453657,\n",
    "       -3.3707517 ]"
   ]
  },
  {
   "cell_type": "code",
   "execution_count": 30,
   "metadata": {},
   "outputs": [],
   "source": [
    "xs = [x1,x2,x3,x4]\n",
    "fs = [f1,f2,f3,f4]\n",
    "M = np.zeros((4,4))\n",
    "for i in range(4):\n",
    "    for j in range(4):\n",
    "        M[i,j] = fs[i](xs[j], None)"
   ]
  },
  {
   "cell_type": "code",
   "execution_count": 31,
   "metadata": {},
   "outputs": [
    {
     "name": "stdout",
     "output_type": "stream",
     "text": [
      "[[  1.27386714e+00   3.31668804e+02   1.97384323e+01   2.66337046e+01]\n",
      " [  2.73740861e+01   2.93914212e-01   2.18987260e+01   1.04768104e+01]\n",
      " [  2.57257215e+01   7.58233396e+01   5.56769423e-01   2.74524543e+01]\n",
      " [  6.56570620e+00   4.34221009e+00   8.87304233e+00   2.74484255e-03]]\n"
     ]
    }
   ],
   "source": [
    "print(M)"
   ]
  },
  {
   "cell_type": "code",
   "execution_count": 32,
   "metadata": {},
   "outputs": [],
   "source": [
    "for i in range(4):\n",
    "    M[:,i] = M[:,i]/l[i]"
   ]
  },
  {
   "cell_type": "code",
   "execution_count": 33,
   "metadata": {},
   "outputs": [
    {
     "name": "stdout",
     "output_type": "stream",
     "text": [
      "[[  1.92136824e-03   3.73500905e-01   2.04968145e-02   8.09535093e-02]\n",
      " [  4.12882144e-02   3.30984473e-04   2.27401101e-02   3.18444084e-02]\n",
      " [  3.88019932e-02   8.53866437e-02   5.78161395e-04   8.34421102e-02]\n",
      " [  9.90302595e-03   4.88987623e-03   9.21395880e-03   8.34298646e-06]]\n"
     ]
    }
   ],
   "source": [
    "print(M)"
   ]
  },
  {
   "cell_type": "code",
   "execution_count": 34,
   "metadata": {},
   "outputs": [
    {
     "data": {
      "text/plain": [
       "array([  1.27386714,  27.37408612,  25.72572151,   6.5657062 ])"
      ]
     },
     "execution_count": 34,
     "metadata": {},
     "output_type": "execute_result"
    }
   ],
   "source": [
    "M[:,0]*len(d1p)"
   ]
  },
  {
   "cell_type": "code",
   "execution_count": 35,
   "metadata": {},
   "outputs": [
    {
     "data": {
      "text/plain": [
       "<matplotlib.axes._subplots.AxesSubplot at 0x7fac647d5860>"
      ]
     },
     "execution_count": 35,
     "metadata": {},
     "output_type": "execute_result"
    },
    {
     "data": {
      "image/png": "[encoded data removed]",
      "text/plain": [
       "<matplotlib.figure.Figure at 0x7fac57755e48>"
      ]
     },
     "metadata": {},
     "output_type": "display_data"
    }
   ],
   "source": [
    "import seaborn as sns\n",
    "import matplotlib.pyplot as plt\n",
    "%matplotlib inline\n",
    "sns.heatmap(M, annot = True)"
   ]
  },
  {
   "cell_type": "code",
   "execution_count": null,
   "metadata": {},
   "outputs": [],
   "source": []
  }
 ],
 "metadata": {
  "kernelspec": {
   "display_name": "Python 3",
   "language": "python",
   "name": "python3"
  },
  "language_info": {
   "codemirror_mode": {
    "name": "ipython",
    "version": 3
   },
   "file_extension": ".py",
   "mimetype": "text/x-python",
   "name": "python",
   "nbconvert_exporter": "python",
   "pygments_lexer": "ipython3",
   "version": "3.5.3"
  }
 },
 "nbformat": 4,
 "nbformat_minor": 2
}
