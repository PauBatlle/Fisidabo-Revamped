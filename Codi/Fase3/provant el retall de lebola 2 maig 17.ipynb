{
 "cells": [
  {
   "cell_type": "code",
   "execution_count": 15,
   "metadata": {
    "collapsed": true
   },
   "outputs": [],
   "source": [
    "import numpy as np\n",
    "import sympy as s\n",
    "import pandas as pd\n",
    "import matplotlib.pyplot as plt\n",
    "from reader import llegeix_dades\n",
    "from exporter import exporta\n",
    "from ebola_2 import ebola2\n",
    "from ebola_313 import ebola3\n",
    "import distancia\n",
    "from importlib import reload\n",
    "from distancia import distancia as d"
   ]
  },
  {
   "cell_type": "code",
   "execution_count": 16,
   "metadata": {
    "collapsed": true
   },
   "outputs": [],
   "source": [
    "from ebola2opt import *"
   ]
  },
  {
   "cell_type": "code",
   "execution_count": 17,
   "metadata": {
    "collapsed": true
   },
   "outputs": [],
   "source": [
    "dades = [pd.read_csv(\"Dades_takes/\"+str(i)+\"Cart.csv\") for i in range(1,5)]\n"
   ]
  },
  {
   "cell_type": "code",
   "execution_count": 18,
   "metadata": {
    "collapsed": true
   },
   "outputs": [],
   "source": [
    "[c,k,sigma,mu] = [0.8894148276526314,0.29164231949164177,1.0326906401025118,0.010368090273491459]"
   ]
  },
  {
   "cell_type": "code",
   "execution_count": 28,
   "metadata": {
    "collapsed": false
   },
   "outputs": [
    {
     "data": {
      "text/plain": [
       "0.45071712822011534"
      ]
     },
     "execution_count": 28,
     "metadata": {},
     "output_type": "execute_result"
    }
   ],
   "source": [
    "fitness([0.8894148276526314,0.29164231949164177,1.0326906401025118,0.010368090273491459])"
   ]
  },
  {
   "cell_type": "code",
   "execution_count": 19,
   "metadata": {
    "collapsed": false
   },
   "outputs": [],
   "source": [
    "z = calcula(dades[0],c,k,sigma,mu)"
   ]
  },
  {
   "cell_type": "code",
   "execution_count": 27,
   "metadata": {
    "collapsed": false
   },
   "outputs": [],
   "source": [
    "def fitness(v):\n",
    "    [c,k,sigma,mu] = v\n",
    "    return distancia_acc(calcula(dades[0],c,k,sigma,mu))+distancia_acc(calcula(dades[1],c,k,sigma,mu))+distancia_acc(calcula(dades[2],c,k,sigma,mu))+distancia_acc(calcula(dades[3],c,k,sigma,mu))"
   ]
  },
  {
   "cell_type": "code",
   "execution_count": 29,
   "metadata": {
    "collapsed": false
   },
   "outputs": [
    {
     "name": "stdout",
     "output_type": "stream",
     "text": [
      "Optimization terminated successfully.\n",
      "         Current function value: 0.418349\n",
      "         Iterations: 111\n",
      "         Function evaluations: 193\n"
     ]
    }
   ],
   "source": [
    "from scipy.optimize import minimize\n",
    "d = minimize(fitness,[c,k,sigma,mu], method='Nelder-Mead', options={'disp': True})"
   ]
  },
  {
   "cell_type": "code",
   "execution_count": 30,
   "metadata": {
    "collapsed": false
   },
   "outputs": [
    {
     "data": {
      "text/plain": [
       " final_simplex: (array([[ 1.22867941,  0.22170171,  1.07221102,  0.01112147],\n",
       "       [ 1.22875264,  0.22169152,  1.0722087 ,  0.01112053],\n",
       "       [ 1.22873131,  0.22169262,  1.07221917,  0.01112094],\n",
       "       [ 1.22863912,  0.22170565,  1.07221154,  0.0111219 ],\n",
       "       [ 1.22868082,  0.22170206,  1.07220783,  0.01111988]]), array([ 0.41834853,  0.41834853,  0.41834854,  0.41834854,  0.41834854]))\n",
       "           fun: 0.41834853474057154\n",
       "       message: 'Optimization terminated successfully.'\n",
       "          nfev: 193\n",
       "           nit: 111\n",
       "        status: 0\n",
       "       success: True\n",
       "             x: array([ 1.22867941,  0.22170171,  1.07221102,  0.01112147])"
      ]
     },
     "execution_count": 30,
     "metadata": {},
     "output_type": "execute_result"
    }
   ],
   "source": [
    "d"
   ]
  },
  {
   "cell_type": "code",
   "execution_count": 31,
   "metadata": {
    "collapsed": false
   },
   "outputs": [
    {
     "name": "stdout",
     "output_type": "stream",
     "text": [
      "Optimization terminated successfully.\n",
      "         Current function value: 0.418349\n",
      "         Iterations: 70\n",
      "         Function evaluations: 117\n"
     ]
    }
   ],
   "source": [
    "d2 = minimize(fitness, d.x, method = \"Nelder-Mead\", options = {\"disp\": True})"
   ]
  },
  {
   "cell_type": "code",
   "execution_count": 32,
   "metadata": {
    "collapsed": false
   },
   "outputs": [
    {
     "data": {
      "text/plain": [
       "array([ 1.22867941,  0.22170171,  1.07221102,  0.01112147])"
      ]
     },
     "execution_count": 32,
     "metadata": {},
     "output_type": "execute_result"
    }
   ],
   "source": [
    "d2.x"
   ]
  }
 ],
 "metadata": {
  "anaconda-cloud": {},
  "kernelspec": {
   "display_name": "Python [conda root]",
   "language": "python",
   "name": "conda-root-py"
  },
  "language_info": {
   "codemirror_mode": {
    "name": "ipython",
    "version": 3
   },
   "file_extension": ".py",
   "mimetype": "text/x-python",
   "name": "python",
   "nbconvert_exporter": "python",
   "pygments_lexer": "ipython3",
   "version": "3.5.2"
  }
 },
 "nbformat": 4,
 "nbformat_minor": 1
}
