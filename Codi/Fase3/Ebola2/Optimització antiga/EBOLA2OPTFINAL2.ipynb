{
 "cells": [
  {
   "cell_type": "code",
   "execution_count": 3,
   "metadata": {
    "collapsed": true
   },
   "outputs": [],
   "source": [
    "import pandas as pd\n",
    "import numpy as np\n",
    "from scipy.optimize import minimize\n",
    "import time\n",
    "import matplotlib.pyplot as plt\n",
    "from mpl_toolkits.mplot3d import Axes3D"
   ]
  },
  {
   "cell_type": "code",
   "execution_count": 4,
   "metadata": {
    "collapsed": true
   },
   "outputs": [],
   "source": [
    "def Radius_tilla(x, y, s2):\n",
    "    return np.sqrt(x**2 + s2*y*y)\n",
    "    \n",
    "def Modul(v):\n",
    "    return np.sqrt(v[0]**2 + v[1]**2 + v[2]**2)\n",
    "\n",
    "def Normalize(v):\n",
    "    return v/Modul(v)\n",
    "  \n",
    "def F(radi, c, k):\n",
    "    return -k * np.exp(- c * radi)\n",
    "\n",
    "def D_F (z, c):\n",
    "    return -c * z\n",
    "    \n",
    "def D_D_F (z, c):\n",
    "    return c * c * z\n",
    "\n",
    "def V_r (x, v, s2):\n",
    "    return (x[0]*v[0] + s2*x[1]*v[1])/Radius_tilla(x[0], x[1], s2)\n",
    "    \n",
    "def V_z (x, v, c, s2):\n",
    "    return D_F(x[2], c) * V_r (x, v, s2)\n",
    "    \n",
    "def Normal(x, v, c, k, s2):\n",
    "    r = Radius_tilla(x[0], x[1], s2)\n",
    "    v_r = (x[0]*v[0] + s2*x[1]*v[1])/r\n",
    "    dF = D_F(F(r,c,k),c)\n",
    "    ddF = D_D_F(F(r,c,k),c)\n",
    "    \n",
    "    #cÃ lcul i normalitzaciÃ³ del vector normal a la superfÃ­cie\n",
    "    n = np.array([-(dF/r) * x[0],-(dF/r) * x[1]*s2, 1])\n",
    "    modul_n = Modul(n)\n",
    "    n = n / modul_n          #Normalitzem el vector normal  \n",
    "    \n",
    "    #Component normal de l'acceleraciÃ³\n",
    "    a_n = ((ddF*r - dF)*v_r**2 + dF*(v[0]**2 + s2*v[1]*v[1]))/(r * modul_n) \n",
    "\n",
    "    #mÃ²dul i vector de forÃ§a normal\n",
    "    m_normal = m*a_n + m*g/modul_n\n",
    "    normal = m_normal * n\n",
    "    \n",
    "    return m_normal, normal\n",
    "    \n",
    "def Friction(v, N, mu):\n",
    "    u_v = v / Modul(v) #Ã©s el vector velocitat unitari\n",
    "    return - mu * N * u_v\n",
    "\n",
    "def Acc(x, v, c, k, s2, mu):\n",
    "    N, normal = Normal(x, v, c, k, s2) #mÃ²dul i vector\n",
    "    gravity = np.array([0., 0., -m*g])\n",
    "    friction = Friction(v, N, mu)\n",
    "    return normal + gravity + friction\n",
    "    \n",
    "    \n",
    "def E_kinetic(v):\n",
    "    v_square = v[0]**2 + v[1]**2 + v[2]**2\n",
    "    return m * v_square/2.\n",
    "    \n",
    "def E_potential(x):\n",
    "    return m * g * x[2]\n",
    "g = 9.81\n",
    "m = 1.\n",
    "\n",
    "def complete_show (tableau):\n",
    "    fig = plt.figure('pos-accel-time')\n",
    "    axe = fig.gca(projection='3d')\n",
    "    axe.plot(tableau['x'],tableau['y'],tableau['t'], label='trajectÃ²ria')\n",
    "    axe.plot(tableau['ax'],tableau['ay'],tableau['t'], label='acceleraciÃ³')\n",
    "    axe.plot(tableau['axe'],tableau['aye'],tableau['t'], label='accel_Ã¨bola')\n",
    "    plt.xlabel('x var')\n",
    "    plt.ylabel('y var')\n",
    "    axe.set_zlabel('time')\n",
    "\n",
    "    axe.legend()\n",
    "    plt.show()\n",
    "\n",
    "def distancia_acc (tableau, plot = 0):\n",
    "    difx = pd.Series.as_matrix(tableau['ax']-tableau['axe'])\n",
    "    dify = pd.Series.as_matrix(tableau['ay']-tableau['aye'])\n",
    "    if (plot == True):\n",
    "        plt.plot(tableau['t'], difx, label = 'x')\n",
    "        plt.plot(tableau['t'], dify, label = 'y')\n",
    "        plt.legend()\n",
    "    return (np.dot(difx,difx) + np.dot(dify,dify))/len(tableau['t'])\n",
    "\n",
    "def calcula(taula, c, k, sigma, mu):\n",
    "    k = [ebola2r(c,k,sigma,mu,taula[\"x\"][i],taula[\"y\"][i],taula[\"vx\"][i],taula[\"vy\"][i]) for i in range(len(taula))]\n",
    "    k = np.array(k)\n",
    "    taula[\"axe\"] = k[:,0]\n",
    "    taula[\"aye\"] = k[:,1]\n",
    "    return taula\n",
    "\n",
    "\n",
    "def ebola2r(c, k, sigma, mu, x, y, vx, vy):\n",
    "    #sigma:\n",
    "    s2 = sigma**2\n",
    "    pos = [x, y, F(Radius_tilla(x, y, s2), c, k)]\n",
    "    vel = [vx, vy, 0]\n",
    "    vel[2] = V_z(pos, vel,c,s2)\n",
    "    acc = Acc(pos,vel,c,k,s2,mu)\n",
    "    return acc"
   ]
  },
  {
   "cell_type": "code",
   "execution_count": 9,
   "metadata": {},
   "outputs": [
    {
     "data": {
      "text/plain": [
       "['.ipynb_checkpoints',\n",
       " '3.1.2-tmax = 10.0, timestep = 0.004, ws = 0.0, sigma = 1.0',\n",
       " '31615880951-604093847-ticket.pdf',\n",
       " 'Aprenent a integrar.ipynb',\n",
       " 'Big data and Bias in the web (Ricardo Baeza-Yates).txt',\n",
       " 'Bitllets València 1.pdf',\n",
       " 'Bitllets València 2.pdf',\n",
       " 'dataframe_primers_results.txt',\n",
       " 'desktop.ini',\n",
       " 'drive-download-20170221T193914Z.zip',\n",
       " 'ebola.py',\n",
       " 'ebola2 dades',\n",
       " 'ebola2.py',\n",
       " 'EBOLA2OPTFINAL.ipynb',\n",
       " 'EBOLA2OPTFINAL.py',\n",
       " 'Electromagnetism.zip',\n",
       " 'Eventbrite-Tools',\n",
       " 'ffmpeg-20170225-7e4f32f-win64-static.zip',\n",
       " 'ffmpeg-3.2.4.tar.bz2',\n",
       " \"Fisidabo Febrer '17\",\n",
       " 'FISIDABO+API.pdf',\n",
       " 'Fisidabo-API',\n",
       " 'go.txt',\n",
       " 'Importing Notebooks.ipynb',\n",
       " 'Introduction to functional programming.txt',\n",
       " \"La integral de l'Adam returns.ipynb\",\n",
       " \"La integral de l'adam.ipynb\",\n",
       " 'Llibres de Consulta',\n",
       " 'Memòria fixa Q4',\n",
       " 'offset.zip',\n",
       " 'opteb2.py',\n",
       " 'Optimitzant+l%27ebola2.html',\n",
       " 'Prova AWS.ipynb',\n",
       " 'prova.csv',\n",
       " 'raw_results.txt',\n",
       " 'Sense títol.jpg',\n",
       " 'spam de lapi',\n",
       " \"Takes de l'èbola2.ipynb\",\n",
       " 'texmakerwin32_install.exe',\n",
       " 'Tiquets CopenHacsk.pdf',\n",
       " 'Treball actual',\n",
       " 'treball-de-biofisica-PauBatlle-AdamTeixido.pdf',\n",
       " 'treball-de-biofisica.pdf',\n",
       " 'Universitat.lnk',\n",
       " 'Untitled.ipynb',\n",
       " '__pycache__',\n",
       " '~$unts de programació Python.docx',\n",
       " '~$YC Letter.docx',\n",
       " 'Èbola 3.1.2(intent de fricció, cutre version).ipynb',\n",
       " 'Èbola+3.1.2%28intent+de+fricció%2C+cutre+version%29.py']"
      ]
     },
     "execution_count": 9,
     "metadata": {},
     "output_type": "execute_result"
    }
   ],
   "source": [
    "from os import listdir\n",
    "listdir()"
   ]
  },
  {
   "cell_type": "code",
   "execution_count": 5,
   "metadata": {},
   "outputs": [],
   "source": [
    "#Previ import dels datasets via dropbox"
   ]
  },
  {
   "cell_type": "code",
   "execution_count": 7,
   "metadata": {},
   "outputs": [
    {
     "ename": "OSError",
     "evalue": "File b'\\\\Fisidabo-API\\\\Dades_polinomis\\take1_hr.csv' does not exist",
     "output_type": "error",
     "traceback": [
      "\u001b[0;31m---------------------------------------------------------------------------\u001b[0m",
      "\u001b[0;31mOSError\u001b[0m                                   Traceback (most recent call last)",
      "\u001b[0;32m<ipython-input-7-e4dff906b3cc>\u001b[0m in \u001b[0;36m<module>\u001b[0;34m()\u001b[0m\n\u001b[0;32m----> 1\u001b[0;31m \u001b[0mdatasets\u001b[0m \u001b[1;33m=\u001b[0m \u001b[1;33m[\u001b[0m\u001b[0mpd\u001b[0m\u001b[1;33m.\u001b[0m\u001b[0mread_csv\u001b[0m\u001b[1;33m(\u001b[0m\u001b[1;34m\"\\Fisidabo-API\\Dades_polinomis\\take\"\u001b[0m\u001b[1;33m+\u001b[0m\u001b[0mstr\u001b[0m\u001b[1;33m(\u001b[0m\u001b[0mi\u001b[0m\u001b[1;33m)\u001b[0m\u001b[1;33m+\u001b[0m\u001b[1;34m\"_hr.csv\"\u001b[0m\u001b[1;33m)\u001b[0m \u001b[1;32mfor\u001b[0m \u001b[0mi\u001b[0m \u001b[1;32min\u001b[0m \u001b[0mrange\u001b[0m\u001b[1;33m(\u001b[0m\u001b[1;36m1\u001b[0m\u001b[1;33m,\u001b[0m\u001b[1;36m5\u001b[0m\u001b[1;33m)\u001b[0m\u001b[1;33m]\u001b[0m\u001b[1;33m\u001b[0m\u001b[0m\n\u001b[0m",
      "\u001b[0;32m<ipython-input-7-e4dff906b3cc>\u001b[0m in \u001b[0;36m<listcomp>\u001b[0;34m(.0)\u001b[0m\n\u001b[0;32m----> 1\u001b[0;31m \u001b[0mdatasets\u001b[0m \u001b[1;33m=\u001b[0m \u001b[1;33m[\u001b[0m\u001b[0mpd\u001b[0m\u001b[1;33m.\u001b[0m\u001b[0mread_csv\u001b[0m\u001b[1;33m(\u001b[0m\u001b[1;34m\"\\Fisidabo-API\\Dades_polinomis\\take\"\u001b[0m\u001b[1;33m+\u001b[0m\u001b[0mstr\u001b[0m\u001b[1;33m(\u001b[0m\u001b[0mi\u001b[0m\u001b[1;33m)\u001b[0m\u001b[1;33m+\u001b[0m\u001b[1;34m\"_hr.csv\"\u001b[0m\u001b[1;33m)\u001b[0m \u001b[1;32mfor\u001b[0m \u001b[0mi\u001b[0m \u001b[1;32min\u001b[0m \u001b[0mrange\u001b[0m\u001b[1;33m(\u001b[0m\u001b[1;36m1\u001b[0m\u001b[1;33m,\u001b[0m\u001b[1;36m5\u001b[0m\u001b[1;33m)\u001b[0m\u001b[1;33m]\u001b[0m\u001b[1;33m\u001b[0m\u001b[0m\n\u001b[0m",
      "\u001b[0;32mC:\\Users\\Pau Batlle\\Anaconda32\\lib\\site-packages\\pandas\\io\\parsers.py\u001b[0m in \u001b[0;36mparser_f\u001b[0;34m(filepath_or_buffer, sep, delimiter, header, names, index_col, usecols, squeeze, prefix, mangle_dupe_cols, dtype, engine, converters, true_values, false_values, skipinitialspace, skiprows, skipfooter, nrows, na_values, keep_default_na, na_filter, verbose, skip_blank_lines, parse_dates, infer_datetime_format, keep_date_col, date_parser, dayfirst, iterator, chunksize, compression, thousands, decimal, lineterminator, quotechar, quoting, escapechar, comment, encoding, dialect, tupleize_cols, error_bad_lines, warn_bad_lines, skip_footer, doublequote, delim_whitespace, as_recarray, compact_ints, use_unsigned, low_memory, buffer_lines, memory_map, float_precision)\u001b[0m\n\u001b[1;32m    560\u001b[0m                     skip_blank_lines=skip_blank_lines)\n\u001b[1;32m    561\u001b[0m \u001b[1;33m\u001b[0m\u001b[0m\n\u001b[0;32m--> 562\u001b[0;31m         \u001b[1;32mreturn\u001b[0m \u001b[0m_read\u001b[0m\u001b[1;33m(\u001b[0m\u001b[0mfilepath_or_buffer\u001b[0m\u001b[1;33m,\u001b[0m \u001b[0mkwds\u001b[0m\u001b[1;33m)\u001b[0m\u001b[1;33m\u001b[0m\u001b[0m\n\u001b[0m\u001b[1;32m    563\u001b[0m \u001b[1;33m\u001b[0m\u001b[0m\n\u001b[1;32m    564\u001b[0m     \u001b[0mparser_f\u001b[0m\u001b[1;33m.\u001b[0m\u001b[0m__name__\u001b[0m \u001b[1;33m=\u001b[0m \u001b[0mname\u001b[0m\u001b[1;33m\u001b[0m\u001b[0m\n",
      "\u001b[0;32mC:\\Users\\Pau Batlle\\Anaconda32\\lib\\site-packages\\pandas\\io\\parsers.py\u001b[0m in \u001b[0;36m_read\u001b[0;34m(filepath_or_buffer, kwds)\u001b[0m\n\u001b[1;32m    313\u001b[0m \u001b[1;33m\u001b[0m\u001b[0m\n\u001b[1;32m    314\u001b[0m     \u001b[1;31m# Create the parser.\u001b[0m\u001b[1;33m\u001b[0m\u001b[1;33m\u001b[0m\u001b[0m\n\u001b[0;32m--> 315\u001b[0;31m     \u001b[0mparser\u001b[0m \u001b[1;33m=\u001b[0m \u001b[0mTextFileReader\u001b[0m\u001b[1;33m(\u001b[0m\u001b[0mfilepath_or_buffer\u001b[0m\u001b[1;33m,\u001b[0m \u001b[1;33m**\u001b[0m\u001b[0mkwds\u001b[0m\u001b[1;33m)\u001b[0m\u001b[1;33m\u001b[0m\u001b[0m\n\u001b[0m\u001b[1;32m    316\u001b[0m \u001b[1;33m\u001b[0m\u001b[0m\n\u001b[1;32m    317\u001b[0m     \u001b[1;32mif\u001b[0m \u001b[1;33m(\u001b[0m\u001b[0mnrows\u001b[0m \u001b[1;32mis\u001b[0m \u001b[1;32mnot\u001b[0m \u001b[1;32mNone\u001b[0m\u001b[1;33m)\u001b[0m \u001b[1;32mand\u001b[0m \u001b[1;33m(\u001b[0m\u001b[0mchunksize\u001b[0m \u001b[1;32mis\u001b[0m \u001b[1;32mnot\u001b[0m \u001b[1;32mNone\u001b[0m\u001b[1;33m)\u001b[0m\u001b[1;33m:\u001b[0m\u001b[1;33m\u001b[0m\u001b[0m\n",
      "\u001b[0;32mC:\\Users\\Pau Batlle\\Anaconda32\\lib\\site-packages\\pandas\\io\\parsers.py\u001b[0m in \u001b[0;36m__init__\u001b[0;34m(self, f, engine, **kwds)\u001b[0m\n\u001b[1;32m    643\u001b[0m             \u001b[0mself\u001b[0m\u001b[1;33m.\u001b[0m\u001b[0moptions\u001b[0m\u001b[1;33m[\u001b[0m\u001b[1;34m'has_index_names'\u001b[0m\u001b[1;33m]\u001b[0m \u001b[1;33m=\u001b[0m \u001b[0mkwds\u001b[0m\u001b[1;33m[\u001b[0m\u001b[1;34m'has_index_names'\u001b[0m\u001b[1;33m]\u001b[0m\u001b[1;33m\u001b[0m\u001b[0m\n\u001b[1;32m    644\u001b[0m \u001b[1;33m\u001b[0m\u001b[0m\n\u001b[0;32m--> 645\u001b[0;31m         \u001b[0mself\u001b[0m\u001b[1;33m.\u001b[0m\u001b[0m_make_engine\u001b[0m\u001b[1;33m(\u001b[0m\u001b[0mself\u001b[0m\u001b[1;33m.\u001b[0m\u001b[0mengine\u001b[0m\u001b[1;33m)\u001b[0m\u001b[1;33m\u001b[0m\u001b[0m\n\u001b[0m\u001b[1;32m    646\u001b[0m \u001b[1;33m\u001b[0m\u001b[0m\n\u001b[1;32m    647\u001b[0m     \u001b[1;32mdef\u001b[0m \u001b[0mclose\u001b[0m\u001b[1;33m(\u001b[0m\u001b[0mself\u001b[0m\u001b[1;33m)\u001b[0m\u001b[1;33m:\u001b[0m\u001b[1;33m\u001b[0m\u001b[0m\n",
      "\u001b[0;32mC:\\Users\\Pau Batlle\\Anaconda32\\lib\\site-packages\\pandas\\io\\parsers.py\u001b[0m in \u001b[0;36m_make_engine\u001b[0;34m(self, engine)\u001b[0m\n\u001b[1;32m    797\u001b[0m     \u001b[1;32mdef\u001b[0m \u001b[0m_make_engine\u001b[0m\u001b[1;33m(\u001b[0m\u001b[0mself\u001b[0m\u001b[1;33m,\u001b[0m \u001b[0mengine\u001b[0m\u001b[1;33m=\u001b[0m\u001b[1;34m'c'\u001b[0m\u001b[1;33m)\u001b[0m\u001b[1;33m:\u001b[0m\u001b[1;33m\u001b[0m\u001b[0m\n\u001b[1;32m    798\u001b[0m         \u001b[1;32mif\u001b[0m \u001b[0mengine\u001b[0m \u001b[1;33m==\u001b[0m \u001b[1;34m'c'\u001b[0m\u001b[1;33m:\u001b[0m\u001b[1;33m\u001b[0m\u001b[0m\n\u001b[0;32m--> 799\u001b[0;31m             \u001b[0mself\u001b[0m\u001b[1;33m.\u001b[0m\u001b[0m_engine\u001b[0m \u001b[1;33m=\u001b[0m \u001b[0mCParserWrapper\u001b[0m\u001b[1;33m(\u001b[0m\u001b[0mself\u001b[0m\u001b[1;33m.\u001b[0m\u001b[0mf\u001b[0m\u001b[1;33m,\u001b[0m \u001b[1;33m**\u001b[0m\u001b[0mself\u001b[0m\u001b[1;33m.\u001b[0m\u001b[0moptions\u001b[0m\u001b[1;33m)\u001b[0m\u001b[1;33m\u001b[0m\u001b[0m\n\u001b[0m\u001b[1;32m    800\u001b[0m         \u001b[1;32melse\u001b[0m\u001b[1;33m:\u001b[0m\u001b[1;33m\u001b[0m\u001b[0m\n\u001b[1;32m    801\u001b[0m             \u001b[1;32mif\u001b[0m \u001b[0mengine\u001b[0m \u001b[1;33m==\u001b[0m \u001b[1;34m'python'\u001b[0m\u001b[1;33m:\u001b[0m\u001b[1;33m\u001b[0m\u001b[0m\n",
      "\u001b[0;32mC:\\Users\\Pau Batlle\\Anaconda32\\lib\\site-packages\\pandas\\io\\parsers.py\u001b[0m in \u001b[0;36m__init__\u001b[0;34m(self, src, **kwds)\u001b[0m\n\u001b[1;32m   1211\u001b[0m         \u001b[0mkwds\u001b[0m\u001b[1;33m[\u001b[0m\u001b[1;34m'allow_leading_cols'\u001b[0m\u001b[1;33m]\u001b[0m \u001b[1;33m=\u001b[0m \u001b[0mself\u001b[0m\u001b[1;33m.\u001b[0m\u001b[0mindex_col\u001b[0m \u001b[1;32mis\u001b[0m \u001b[1;32mnot\u001b[0m \u001b[1;32mFalse\u001b[0m\u001b[1;33m\u001b[0m\u001b[0m\n\u001b[1;32m   1212\u001b[0m \u001b[1;33m\u001b[0m\u001b[0m\n\u001b[0;32m-> 1213\u001b[0;31m         \u001b[0mself\u001b[0m\u001b[1;33m.\u001b[0m\u001b[0m_reader\u001b[0m \u001b[1;33m=\u001b[0m \u001b[0m_parser\u001b[0m\u001b[1;33m.\u001b[0m\u001b[0mTextReader\u001b[0m\u001b[1;33m(\u001b[0m\u001b[0msrc\u001b[0m\u001b[1;33m,\u001b[0m \u001b[1;33m**\u001b[0m\u001b[0mkwds\u001b[0m\u001b[1;33m)\u001b[0m\u001b[1;33m\u001b[0m\u001b[0m\n\u001b[0m\u001b[1;32m   1214\u001b[0m \u001b[1;33m\u001b[0m\u001b[0m\n\u001b[1;32m   1215\u001b[0m         \u001b[1;31m# XXX\u001b[0m\u001b[1;33m\u001b[0m\u001b[1;33m\u001b[0m\u001b[0m\n",
      "\u001b[0;32mpandas\\parser.pyx\u001b[0m in \u001b[0;36mpandas.parser.TextReader.__cinit__ (pandas\\parser.c:3427)\u001b[0;34m()\u001b[0m\n",
      "\u001b[0;32mpandas\\parser.pyx\u001b[0m in \u001b[0;36mpandas.parser.TextReader._setup_parser_source (pandas\\parser.c:6861)\u001b[0;34m()\u001b[0m\n",
      "\u001b[0;31mOSError\u001b[0m: File b'\\\\Fisidabo-API\\\\Dades_polinomis\\take1_hr.csv' does not exist"
     ]
    }
   ],
   "source": [
    "datasets = [pd.read_csv(\"\\Fisidabo-API\\Dades_polinomis\\take\"+str(i)+\"_hr.csv\") for i in range(1,5)]"
   ]
  },
  {
   "cell_type": "code",
   "execution_count": null,
   "metadata": {
    "collapsed": true
   },
   "outputs": [],
   "source": [
    "lims = [c_l,c_u,k_l,k_u,sigma_l,sigma_u,mu_l,mu_u] = [1,2.5,0.1,0.4,1.2,2.5,0.002,0.015]"
   ]
  },
  {
   "cell_type": "code",
   "execution_count": null,
   "metadata": {},
   "outputs": [],
   "source": [
    "def fitness(v, dades_take):\n",
    "    #[c,k,sigma,mu] = v\n",
    "    return distancia_acc(calcula(dades_take, *v))\n",
    "def fitness_avg(v,dades_take1 = datasets[0], dades_take2 = datasets[1], dades_take3 = datasets[2]):\n",
    "    return (fitness(v,dades_take1) + fitness(v,dades_take2) + fitness(v,dades_take3))*(1/3)\n",
    "def fit(v):\n",
    "    return fitness_avg(v)\n",
    "def constrc1(v):\n",
    "    return v[0]-c_l\n",
    "def constrc2(v):\n",
    "    return c_u-v[0]\n",
    "def constrk1(v):\n",
    "    return v[1]-k_l\n",
    "def constrk2(v):\n",
    "    return k_u-v[1]\n",
    "def constrsigma1(v):\n",
    "    return v[2]-sigma_l\n",
    "def constrsigma2(v):\n",
    "    return sigma_u-v[2]\n",
    "def constrmu1(v):\n",
    "    return v[3]-mu_l\n",
    "def constrmu2(v):\n",
    "    return mu_u-v[3]\n",
    "constr = [constrc1, constrc2, constrk1, constrk2, constrsigma1, constrsigma2, constrmu1, constrmu2]\n",
    "consi =  []\n",
    "for i in constr:\n",
    "    consi.append({'type': 'ineq', 'fun': i})"
   ]
  },
  {
   "cell_type": "code",
   "execution_count": null,
   "metadata": {},
   "outputs": [],
   "source": [
    "resultats = []\n",
    "i = 0\n",
    "for c in np.linspace(c_l,c_u,5):\n",
    "    for k in np.linspace(k_l,k_u,5):\n",
    "        for sigma in np.linspace(sigma_l,sigma_u,5):\n",
    "            for mu in np.linspace(mu_l,mu_u,5):\n",
    "                i += 1\n",
    "                xinicial = [c, k, sigma, mu]\n",
    "                t0 = time.clock()\n",
    "                a = minimize(fitness1, xinicial, method='Nelder-Mead', options={'disp': True, 'maxiter': 100,'maxfev': 50})\n",
    "                t1 = time.clock()\n",
    "                print(\"*\"+str(i)+\"/\"+str(5**4), \" xinicial \", xinicial, \" Ã²ptim \", a.x, \" funcio \", a.fun, \" temps \", t1-t0)\n",
    "                resultats.append([xinicial, a.x, a.fun])"
   ]
  },
  {
   "cell_type": "code",
   "execution_count": 2,
   "metadata": {},
   "outputs": [
    {
     "ename": "NameError",
     "evalue": "name 'resultats' is not defined",
     "output_type": "error",
     "traceback": [
      "\u001b[0;31m---------------------------------------------------------------------------\u001b[0m",
      "\u001b[0;31mNameError\u001b[0m                                 Traceback (most recent call last)",
      "\u001b[0;32m<ipython-input-2-e6e3a3633b03>\u001b[0m in \u001b[0;36m<module>\u001b[0;34m()\u001b[0m\n\u001b[0;32m----> 1\u001b[0;31m \u001b[0mresultats\u001b[0m\u001b[1;33m\u001b[0m\u001b[0m\n\u001b[0m",
      "\u001b[0;31mNameError\u001b[0m: name 'resultats' is not defined"
     ]
    }
   ],
   "source": [
    "resultats"
   ]
  },
  {
   "cell_type": "code",
   "execution_count": 98,
   "metadata": {},
   "outputs": [],
   "source": [
    "po = pd.DataFrame(resultats, columns = [\"x_inicial\", \"x_final\", \"fitness\"])"
   ]
  },
  {
   "cell_type": "code",
   "execution_count": 95,
   "metadata": {},
   "outputs": [
    {
     "data": {
      "text/plain": [
       "11     [1.54786174442, 0.202636150713, 1.02780142762,...\n",
       "12     [1.54786174442, 0.202636150713, 1.02780142762,...\n",
       "13     [1.54786174442, 0.202636150713, 1.02780142762,...\n",
       "14     [1.54786174442, 0.202636150713, 1.02780142762,...\n",
       "26     [1.22261097074, 0.239726426833, 1.01494410884,...\n",
       "27     [1.24134079139, 0.238378888395, 1.00402793203,...\n",
       "28     [1.21879265941, 0.241807998049, 1.00240295493,...\n",
       "29     [1.2289381674, 0.242315829346, 1.00145615069, ...\n",
       "31     [1.21823222004, 0.239672096157, 1.01534023128,...\n",
       "32     [1.19954854852, 0.248488408632, 1.00535782321,...\n",
       "33     [1.21493533613, 0.240899331761, 1.02290785662,...\n",
       "34     [1.22239699511, 0.240260818827, 0.988607018119...\n",
       "36     [1.07520866853, 0.259900027072, 1.03455384672,...\n",
       "37     [1.08353723532, 0.256694248077, 1.03288353834,...\n",
       "38     [1.08353723532, 0.256694248077, 1.03288353834,...\n",
       "39     [1.02428708323, 0.276894356526, 0.991378908605...\n",
       "41     [1.36516865091, 0.222001579063, 0.976990799429...\n",
       "42     [1.3578883184, 0.226839793969, 1.03212063757, ...\n",
       "43     [1.3578883184, 0.226839793969, 1.03212063757, ...\n",
       "44     [1.36114926264, 0.226466262164, 0.995288913507...\n",
       "46     [1.32629686759, 0.225250212985, 0.989309979434...\n",
       "47     [1.32629686759, 0.225250212985, 0.989309979434...\n",
       "48     [1.31042106735, 0.221898593341, 1.05929846108,...\n",
       "49     [1.33725496005, 0.225546096352, 0.981415029312...\n",
       "50     [1.11404268179, 0.256882460114, 1.01302648567,...\n",
       "51     [1.11472164268, 0.256630162792, 1.01520263617,...\n",
       "52     [1.14660374272, 0.252862711072, 1.00607527211,...\n",
       "53     [1.15059621066, 0.252859599298, 1.00552562615,...\n",
       "54     [1.10988731244, 0.26021133014, 0.998795834278,...\n",
       "55     [1.05287680049, 0.26600458023, 1.01500474136, ...\n",
       "                             ...                        \n",
       "282    [1.90528935909, 0.183063290616, 0.998839749823...\n",
       "283    [1.90214378542, 0.183704906801, 0.998178980775...\n",
       "287    [1.89224210846, 0.184139015394, 1.01106772786,...\n",
       "288    [1.85298391816, 0.18516282836, 0.99642974108, ...\n",
       "292    [1.89772182619, 0.18635208806, 0.991668806207,...\n",
       "293    [1.89092974614, 0.185484226284, 1.00474521164,...\n",
       "297    [1.87929283884, 0.18768598089, 0.994636338337,...\n",
       "298    [1.763295604, 0.196530452456, 1.00870638163, 0...\n",
       "301    [1.70870884986, 0.193315883096, 1.00014174406,...\n",
       "302    [1.70943184497, 0.196914050032, 1.00345387406,...\n",
       "303    [1.69838364703, 0.194901712105, 0.999086273547...\n",
       "326    [1.56750999313, 0.205719850341, 1.02755077844,...\n",
       "327    [1.49847957006, 0.21379339091, 0.992697512245,...\n",
       "328    [1.49847957006, 0.21379339091, 0.992697512245,...\n",
       "329    [1.28642914717, 0.235194140097, 0.977411691016...\n",
       "352    [1.48262060806, 0.210654639414, 1.01426481128,...\n",
       "353    [1.54483241793, 0.210736252411, 1.0017245975, ...\n",
       "399    [1.70642613897, 0.193489103705, 0.987141057797...\n",
       "402    [1.62305370348, 0.197359586107, 1.02438974269,...\n",
       "403    [1.77666368192, 0.189618681454, 1.01321115133,...\n",
       "404    [1.53844546412, 0.206188957542, 0.992481085886...\n",
       "409    [1.65507352899, 0.203184947946, 1.01886831363,...\n",
       "456    [1.60177140284, 0.200023233793, 1.04334238694,...\n",
       "457    [1.49207644109, 0.214323460873, 0.961923736775...\n",
       "458    [1.59220588951, 0.205793630558, 0.970827404951...\n",
       "477    [1.85324818949, 0.186528858292, 1.01562956667,...\n",
       "552    [1.84221981218, 0.187446875644, 1.0124789691, ...\n",
       "553    [1.69047443007, 0.192670760136, 0.989419265001...\n",
       "556    [1.66681172059, 0.201641869705, 1.02389199413,...\n",
       "557    [1.53643509079, 0.212000414964, 0.957973917756...\n",
       "Name: x_final, dtype: object"
      ]
     },
     "execution_count": 95,
     "metadata": {},
     "output_type": "execute_result"
    }
   ],
   "source": [
    "po[[\"x_inicial\", \"x_final\"]][po['fitness'] <= 1.1*po['fitness'].min()]['x_final']"
   ]
  },
  {
   "cell_type": "code",
   "execution_count": 1,
   "metadata": {},
   "outputs": [
    {
     "ename": "NameError",
     "evalue": "name 'po' is not defined",
     "output_type": "error",
     "traceback": [
      "\u001b[0;31m---------------------------------------------------------------------------\u001b[0m",
      "\u001b[0;31mNameError\u001b[0m                                 Traceback (most recent call last)",
      "\u001b[0;32m<ipython-input-1-edc89d6f40fa>\u001b[0m in \u001b[0;36m<module>\u001b[0;34m()\u001b[0m\n\u001b[0;32m----> 1\u001b[0;31m \u001b[0mpo\u001b[0m\u001b[1;33m[\u001b[0m\u001b[1;34m'x_final'\u001b[0m\u001b[1;33m]\u001b[0m\u001b[1;33m[\u001b[0m\u001b[1;36m53\u001b[0m\u001b[1;33m]\u001b[0m\u001b[1;33m\u001b[0m\u001b[0m\n\u001b[0m",
      "\u001b[0;31mNameError\u001b[0m: name 'po' is not defined"
     ]
    }
   ],
   "source": [
    "po['x_final'][53]"
   ]
  },
  {
   "cell_type": "code",
   "execution_count": 88,
   "metadata": {},
   "outputs": [
    {
     "data": {
      "text/plain": [
       "<function __main__.fitness1>"
      ]
     },
     "execution_count": 88,
     "metadata": {},
     "output_type": "execute_result"
    }
   ],
   "source": [
    "fitness1"
   ]
  },
  {
   "cell_type": "code",
   "execution_count": 91,
   "metadata": {},
   "outputs": [
    {
     "data": {
      "text/plain": [
       "0.099081887119500819"
      ]
     },
     "execution_count": 91,
     "metadata": {},
     "output_type": "execute_result"
    }
   ],
   "source": [
    "fitness1(po['x_final'][53])"
   ]
  },
  {
   "cell_type": "code",
   "execution_count": null,
   "metadata": {
    "collapsed": true
   },
   "outputs": [],
   "source": []
  }
 ],
 "metadata": {
  "anaconda-cloud": {},
  "kernelspec": {
   "display_name": "Python 3",
   "language": "python",
   "name": "python3"
  },
  "language_info": {
   "codemirror_mode": {
    "name": "ipython",
    "version": 3
   },
   "file_extension": ".py",
   "mimetype": "text/x-python",
   "name": "python",
   "nbconvert_exporter": "python",
   "pygments_lexer": "ipython3",
   "version": "3.5.3"
  }
 },
 "nbformat": 4,
 "nbformat_minor": 1
}
