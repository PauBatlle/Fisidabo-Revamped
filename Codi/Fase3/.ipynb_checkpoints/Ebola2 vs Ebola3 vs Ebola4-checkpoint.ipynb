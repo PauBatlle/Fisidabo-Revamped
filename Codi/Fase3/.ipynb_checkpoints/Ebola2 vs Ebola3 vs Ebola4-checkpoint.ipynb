{
 "cells": [
  {
   "cell_type": "code",
   "execution_count": 1,
   "metadata": {},
   "outputs": [],
   "source": [
    "import pandas as pd\n",
    "import numpy as np"
   ]
  },
  {
   "cell_type": "code",
   "execution_count": 2,
   "metadata": {
    "scrolled": true
   },
   "outputs": [
    {
     "name": "stdout",
     "output_type": "stream",
     "text": [
      "/media/pau/HDD/Fisidabo_Final/Codi/Fase3/Ebola3\n"
     ]
    }
   ],
   "source": [
    "cd Ebola3\n"
   ]
  },
  {
   "cell_type": "code",
   "execution_count": 3,
   "metadata": {},
   "outputs": [],
   "source": [
    "from ebola3_llitexp import ebola3exp\n"
   ]
  },
  {
   "cell_type": "code",
   "execution_count": 4,
   "metadata": {},
   "outputs": [
    {
     "name": "stdout",
     "output_type": "stream",
     "text": [
      "/media/pau/HDD/Fisidabo_Final/Codi/Fase3/Ebola2\n"
     ]
    }
   ],
   "source": [
    "cd ../Ebola2"
   ]
  },
  {
   "cell_type": "code",
   "execution_count": 5,
   "metadata": {},
   "outputs": [],
   "source": [
    "from ebola_2 import ebola2"
   ]
  },
  {
   "cell_type": "code",
   "execution_count": 6,
   "metadata": {},
   "outputs": [
    {
     "name": "stdout",
     "output_type": "stream",
     "text": [
      "/media/pau/HDD/Fisidabo_Final/Codi/Fase3/Data\n"
     ]
    }
   ],
   "source": [
    "cd ../Data"
   ]
  },
  {
   "cell_type": "code",
   "execution_count": 7,
   "metadata": {},
   "outputs": [],
   "source": [
    "dades = [pd.read_csv(str(i)+\"Cart.csv\") for i in range(1,5)]\n",
    "d1 = dades[0]\n",
    "x01 = d1[\"x\"][175]\n",
    "y01 = d1[\"y\"][175]\n",
    "vx01 = d1[\"vx\"][175]\n",
    "vy01 = d1[\"vy\"][175]"
   ]
  },
  {
   "cell_type": "code",
   "execution_count": 32,
   "metadata": {},
   "outputs": [],
   "source": [
    "mu = 0.015\n",
    "sigma = 1.2\n",
    "c = 1.1\n",
    "k = 0.5"
   ]
  },
  {
   "cell_type": "code",
   "execution_count": 33,
   "metadata": {},
   "outputs": [],
   "source": [
    "A1 = np.array(ebola2(c,k,sigma,mu,500,1/500, x01,y01,vx01,vy01,\"Dummy\")[['x','y','z']])"
   ]
  },
  {
   "cell_type": "code",
   "execution_count": 34,
   "metadata": {},
   "outputs": [],
   "source": [
    "A2 = ebola3exp(mu, 0,0,c,k,sigma,x01,y01,vx01,vy01,500,0.00)\n",
    "A3 = ebola3exp(mu, 0,0,c,k,sigma,x01,y01,vx01,vy01,500,0.04)"
   ]
  },
  {
   "cell_type": "code",
   "execution_count": 36,
   "metadata": {},
   "outputs": [
    {
     "data": {
      "text/plain": [
       "array([[-0.34695229,  0.19815813, -0.31479695],\n",
       "       [-0.34340486,  0.19998515, -0.31537553],\n",
       "       [-0.33978293,  0.20174445, -0.31598049],\n",
       "       ..., \n",
       "       [-0.31258042, -0.00860559, -0.35441031],\n",
       "       [-0.31249563, -0.00544195, -0.35448312],\n",
       "       [-0.31230251, -0.00228006, -0.35458022]])"
      ]
     },
     "execution_count": 36,
     "metadata": {},
     "output_type": "execute_result"
    }
   ],
   "source": [
    "A1"
   ]
  },
  {
   "cell_type": "code",
   "execution_count": 37,
   "metadata": {},
   "outputs": [
    {
     "data": {
      "text/plain": [
       "(501, 3)"
      ]
     },
     "execution_count": 37,
     "metadata": {},
     "output_type": "execute_result"
    }
   ],
   "source": [
    "A2.shape"
   ]
  },
  {
   "cell_type": "code",
   "execution_count": 39,
   "metadata": {},
   "outputs": [
    {
     "data": {
      "text/plain": [
       "0.033917555915305438"
      ]
     },
     "execution_count": 39,
     "metadata": {},
     "output_type": "execute_result"
    }
   ],
   "source": [
    "np.max(A1-A2[:500])"
   ]
  },
  {
   "cell_type": "code",
   "execution_count": 40,
   "metadata": {},
   "outputs": [
    {
     "data": {
      "text/plain": [
       "[<matplotlib.lines.Line2D at 0x7ff87c1f77f0>]"
      ]
     },
     "execution_count": 40,
     "metadata": {},
     "output_type": "execute_result"
    },
    {
     "data": {
      "image/png": "[encoded data removed]",
      "text/plain": [
       "<matplotlib.figure.Figure at 0x7ff87c25b4e0>"
      ]
     },
     "metadata": {},
     "output_type": "display_data"
    }
   ],
   "source": [
    "import matplotlib.pyplot as plt\n",
    "%matplotlib inline\n",
    "plt.plot(A1[:,0],A1[:,1])\n",
    "plt.plot(A2[:,0],A2[:,1])\n",
    "#plt.plot(A3[:,0],A3[:,1])"
   ]
  }
 ],
 "metadata": {
  "kernelspec": {
   "display_name": "Python 3",
   "language": "python",
   "name": "python3"
  },
  "language_info": {
   "codemirror_mode": {
    "name": "ipython",
    "version": 3
   },
   "file_extension": ".py",
   "mimetype": "text/x-python",
   "name": "python",
   "nbconvert_exporter": "python",
   "pygments_lexer": "ipython3",
   "version": "3.5.3"
  }
 },
 "nbformat": 4,
 "nbformat_minor": 2
}
