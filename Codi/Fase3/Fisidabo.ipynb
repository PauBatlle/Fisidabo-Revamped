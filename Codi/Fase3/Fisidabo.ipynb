{
 "cells": [
  {
   "cell_type": "markdown",
   "metadata": {},
   "source": [
    "# Teoria física darrere l'ús del programa EBOLA pel projecte Fisidabo"
   ]
  },
  {
   "cell_type": "markdown",
   "metadata": {},
   "source": [
    "## COSES A FER: x, y, z funcions de t"
   ]
  },
  {
   "cell_type": "markdown",
   "metadata": {},
   "source": [
    "Imports de llibreries/eines necessàries"
   ]
  },
  {
   "cell_type": "code",
   "execution_count": 2,
   "metadata": {
    "collapsed": true
   },
   "outputs": [],
   "source": [
    "import sympy as sp\n",
    "from __future__ import division\n",
    "import numpy as np\n",
    "from sympy.tensor.array import Array\n",
    "import matplotlib.pyplot as plt\n",
    "from IPython.display import display, Math, Latex"
   ]
  },
  {
   "cell_type": "markdown",
   "metadata": {},
   "source": [
    "El problema ve definit de la següent forma: Donat un llit elàstic definit per una funció hem de descriure amb lleis de Newton el moviment d'una pilota sobre el llit. "
   ]
  },
  {
   "cell_type": "code",
   "execution_count": 27,
   "metadata": {
    "collapsed": false
   },
   "outputs": [],
   "source": [
    "t = sp.Symbol('t')\n",
    "x = sp.Function('x')(t)\n",
    "y = sp.Function('y')(t)\n",
    "z = sp.Function('z')(t)\n",
    "R = sp.Symbol('R') #Radi de la pilota"
   ]
  },
  {
   "cell_type": "markdown",
   "metadata": {},
   "source": [
    "La funció que descriu l'atura del llit elàstic ve definida segons els paràmetres k, s, a. a és el semieix major"
   ]
  },
  {
   "cell_type": "code",
   "execution_count": 28,
   "metadata": {
    "collapsed": true
   },
   "outputs": [],
   "source": [
    "k, s, c = sp.symbols('k s c', real=True)\n",
    "a = sp.sqrt(x*x+y*y*s*s)"
   ]
  },
  {
   "cell_type": "code",
   "execution_count": 29,
   "metadata": {
    "collapsed": false
   },
   "outputs": [],
   "source": [
    "f = sp.symbols('f', real = True)\n",
    "f = k*sp.exp(-c*a)"
   ]
  },
  {
   "cell_type": "code",
   "execution_count": 30,
   "metadata": {
    "collapsed": false
   },
   "outputs": [
    {
     "data": {
      "text/plain": [
       "k*exp(-c*sqrt(s**2*y(t)**2 + x(t)**2))"
      ]
     },
     "execution_count": 30,
     "metadata": {},
     "output_type": "execute_result"
    }
   ],
   "source": [
    "f"
   ]
  },
  {
   "cell_type": "markdown",
   "metadata": {},
   "source": [
    "Aquesta funció de x i y dóna l'altura."
   ]
  },
  {
   "cell_type": "code",
   "execution_count": 31,
   "metadata": {
    "collapsed": false
   },
   "outputs": [
    {
     "data": {
      "text/plain": [
       "[x(t), y(t), k*exp(-c*sqrt(s**2*y(t)**2 + x(t)**2))]"
      ]
     },
     "execution_count": 31,
     "metadata": {},
     "output_type": "execute_result"
    }
   ],
   "source": [
    "r = Array([x,y,f])\n",
    "r"
   ]
  },
  {
   "cell_type": "code",
   "execution_count": 32,
   "metadata": {
    "collapsed": false,
    "scrolled": true
   },
   "outputs": [],
   "source": [
    "parcial_x = sp.diff(r,x)\n",
    "parcial_y = sp.diff(r,y)\n",
    "vector_normal = np.cross(np.array(parcial_x),np.array(parcial_y))\n",
    "vector_normal = Array(vector_normal)\n",
    "norm_vector_normal = sp.sqrt(np.dot(vector_normal, vector_normal))\n",
    "vector_normal_unitari = (vector_normal/norm_vector_normal)\n",
    "vector_normal_unitari = Array([vector_normal_unitari[0].simplify(),vector_normal_unitari[1].simplify(),vector_normal_unitari[2].simplify()])\n"
   ]
  },
  {
   "cell_type": "code",
   "execution_count": 33,
   "metadata": {
    "collapsed": false
   },
   "outputs": [
    {
     "name": "stdout",
     "output_type": "stream",
     "text": [
      "Component x\n"
     ]
    },
    {
     "data": {
      "text/latex": [
       "$$\\frac{c k x{\\left (t \\right )} e^{- c \\sqrt{s^{2} y^{2}{\\left (t \\right )} + x^{2}{\\left (t \\right )}}}}{\\sqrt{\\frac{e^{- 2 c \\sqrt{s^{2} y^{2}{\\left (t \\right )} + x^{2}{\\left (t \\right )}}}}{s^{2} y^{2}{\\left (t \\right )} + x^{2}{\\left (t \\right )}} \\left(c^{2} k^{2} s^{4} y^{2}{\\left (t \\right )} + c^{2} k^{2} x^{2}{\\left (t \\right )} + \\left(s^{2} y^{2}{\\left (t \\right )} + x^{2}{\\left (t \\right )}\\right) e^{2 c \\sqrt{s^{2} y^{2}{\\left (t \\right )} + x^{2}{\\left (t \\right )}}}\\right)} \\sqrt{s^{2} y^{2}{\\left (t \\right )} + x^{2}{\\left (t \\right )}}}$$"
      ],
      "text/plain": [
       "<IPython.core.display.Math object>"
      ]
     },
     "metadata": {},
     "output_type": "display_data"
    },
    {
     "name": "stdout",
     "output_type": "stream",
     "text": [
      "Component y\n"
     ]
    },
    {
     "data": {
      "text/latex": [
       "$$\\frac{c k s^{2} y{\\left (t \\right )} e^{- c \\sqrt{s^{2} y^{2}{\\left (t \\right )} + x^{2}{\\left (t \\right )}}}}{\\sqrt{\\frac{e^{- 2 c \\sqrt{s^{2} y^{2}{\\left (t \\right )} + x^{2}{\\left (t \\right )}}}}{s^{2} y^{2}{\\left (t \\right )} + x^{2}{\\left (t \\right )}} \\left(c^{2} k^{2} s^{4} y^{2}{\\left (t \\right )} + c^{2} k^{2} x^{2}{\\left (t \\right )} + \\left(s^{2} y^{2}{\\left (t \\right )} + x^{2}{\\left (t \\right )}\\right) e^{2 c \\sqrt{s^{2} y^{2}{\\left (t \\right )} + x^{2}{\\left (t \\right )}}}\\right)} \\sqrt{s^{2} y^{2}{\\left (t \\right )} + x^{2}{\\left (t \\right )}}}$$"
      ],
      "text/plain": [
       "<IPython.core.display.Math object>"
      ]
     },
     "metadata": {},
     "output_type": "display_data"
    },
    {
     "name": "stdout",
     "output_type": "stream",
     "text": [
      "Component z\n"
     ]
    },
    {
     "data": {
      "text/latex": [
       "$$\\frac{1}{\\sqrt{\\frac{e^{- 2 c \\sqrt{s^{2} y^{2}{\\left (t \\right )} + x^{2}{\\left (t \\right )}}}}{s^{2} y^{2}{\\left (t \\right )} + x^{2}{\\left (t \\right )}} \\left(c^{2} k^{2} s^{4} y^{2}{\\left (t \\right )} + c^{2} k^{2} x^{2}{\\left (t \\right )} + \\left(s^{2} y^{2}{\\left (t \\right )} + x^{2}{\\left (t \\right )}\\right) e^{2 c \\sqrt{s^{2} y^{2}{\\left (t \\right )} + x^{2}{\\left (t \\right )}}}\\right)}}$$"
      ],
      "text/plain": [
       "<IPython.core.display.Math object>"
      ]
     },
     "metadata": {},
     "output_type": "display_data"
    }
   ],
   "source": [
    "print(\"Component x\")\n",
    "display(Math(sp.latex((vector_normal_unitari)[0])))\n",
    "print(\"Component y\")\n",
    "display(Math(sp.latex((vector_normal_unitari)[1])))\n",
    "print(\"Component z\")\n",
    "display(Math(sp.latex((vector_normal_unitari)[2])))\n"
   ]
  },
  {
   "cell_type": "code",
   "execution_count": 34,
   "metadata": {
    "collapsed": false
   },
   "outputs": [
    {
     "data": {
      "text/plain": [
       "1"
      ]
     },
     "execution_count": 34,
     "metadata": {},
     "output_type": "execute_result"
    }
   ],
   "source": [
    "np.dot(vector_normal_unitari, vector_normal_unitari).simplify()"
   ]
  },
  {
   "cell_type": "code",
   "execution_count": 35,
   "metadata": {
    "collapsed": true
   },
   "outputs": [],
   "source": [
    "N = vector_normal_unitari"
   ]
  },
  {
   "cell_type": "code",
   "execution_count": 36,
   "metadata": {
    "collapsed": false
   },
   "outputs": [
    {
     "data": {
      "text/latex": [
       "$$\\frac{R c k x{\\left (t \\right )} e^{- c \\sqrt{s^{2} y^{2}{\\left (t \\right )} + x^{2}{\\left (t \\right )}}}}{\\sqrt{\\frac{e^{- 2 c \\sqrt{s^{2} y^{2}{\\left (t \\right )} + x^{2}{\\left (t \\right )}}}}{s^{2} y^{2}{\\left (t \\right )} + x^{2}{\\left (t \\right )}} \\left(c^{2} k^{2} s^{4} y^{2}{\\left (t \\right )} + c^{2} k^{2} x^{2}{\\left (t \\right )} + \\left(s^{2} y^{2}{\\left (t \\right )} + x^{2}{\\left (t \\right )}\\right) e^{2 c \\sqrt{s^{2} y^{2}{\\left (t \\right )} + x^{2}{\\left (t \\right )}}}\\right)} \\sqrt{s^{2} y^{2}{\\left (t \\right )} + x^{2}{\\left (t \\right )}}} + x{\\left (t \\right )}$$"
      ],
      "text/plain": [
       "<IPython.core.display.Math object>"
      ]
     },
     "metadata": {},
     "output_type": "display_data"
    },
    {
     "data": {
      "text/latex": [
       "$$\\frac{R c k s^{2} y{\\left (t \\right )} e^{- c \\sqrt{s^{2} y^{2}{\\left (t \\right )} + x^{2}{\\left (t \\right )}}}}{\\sqrt{\\frac{e^{- 2 c \\sqrt{s^{2} y^{2}{\\left (t \\right )} + x^{2}{\\left (t \\right )}}}}{s^{2} y^{2}{\\left (t \\right )} + x^{2}{\\left (t \\right )}} \\left(c^{2} k^{2} s^{4} y^{2}{\\left (t \\right )} + c^{2} k^{2} x^{2}{\\left (t \\right )} + \\left(s^{2} y^{2}{\\left (t \\right )} + x^{2}{\\left (t \\right )}\\right) e^{2 c \\sqrt{s^{2} y^{2}{\\left (t \\right )} + x^{2}{\\left (t \\right )}}}\\right)} \\sqrt{s^{2} y^{2}{\\left (t \\right )} + x^{2}{\\left (t \\right )}}} + y{\\left (t \\right )}$$"
      ],
      "text/plain": [
       "<IPython.core.display.Math object>"
      ]
     },
     "metadata": {},
     "output_type": "display_data"
    },
    {
     "data": {
      "text/latex": [
       "$$\\frac{R}{\\sqrt{\\frac{e^{- 2 c \\sqrt{s^{2} y^{2}{\\left (t \\right )} + x^{2}{\\left (t \\right )}}}}{s^{2} y^{2}{\\left (t \\right )} + x^{2}{\\left (t \\right )}} \\left(c^{2} k^{2} s^{4} y^{2}{\\left (t \\right )} + c^{2} k^{2} x^{2}{\\left (t \\right )} + \\left(s^{2} y^{2}{\\left (t \\right )} + x^{2}{\\left (t \\right )}\\right) e^{2 c \\sqrt{s^{2} y^{2}{\\left (t \\right )} + x^{2}{\\left (t \\right )}}}\\right)}} + k e^{- c \\sqrt{s^{2} y^{2}{\\left (t \\right )} + x^{2}{\\left (t \\right )}}}$$"
      ],
      "text/plain": [
       "<IPython.core.display.Math object>"
      ]
     },
     "metadata": {},
     "output_type": "display_data"
    }
   ],
   "source": [
    "r_G = r + R*N\n",
    "display(Math(sp.latex(r_G[0])))\n",
    "display(Math(sp.latex(r_G[1])))\n",
    "display(Math(sp.latex(r_G[2])))\n"
   ]
  },
  {
   "cell_type": "code",
   "execution_count": null,
   "metadata": {
    "collapsed": false
   },
   "outputs": [],
   "source": [
    "display(Math(sp.latex(sp.diff(r_G[0],t).simplify())))"
   ]
  },
  {
   "cell_type": "code",
   "execution_count": null,
   "metadata": {
    "collapsed": false
   },
   "outputs": [],
   "source": [
    "l = sp.diff(r_G[0],t)"
   ]
  },
  {
   "cell_type": "code",
   "execution_count": 39,
   "metadata": {
    "collapsed": false
   },
   "outputs": [
    {
     "data": {
      "text/latex": [
       "$$\\frac{d}{d t} x{\\left (t \\right )}$$"
      ],
      "text/plain": [
       "<IPython.core.display.Math object>"
      ]
     },
     "metadata": {},
     "output_type": "display_data"
    }
   ],
   "source": [
    "display(Math(sp.latex(sp.diff(x,t))))"
   ]
  },
  {
   "cell_type": "code",
   "execution_count": null,
   "metadata": {
    "collapsed": true
   },
   "outputs": [],
   "source": []
  }
 ],
 "metadata": {
  "anaconda-cloud": {},
  "kernelspec": {
   "display_name": "Python [conda root]",
   "language": "python",
   "name": "conda-root-py"
  },
  "language_info": {
   "codemirror_mode": {
    "name": "ipython",
    "version": 3
   },
   "file_extension": ".py",
   "mimetype": "text/x-python",
   "name": "python",
   "nbconvert_exporter": "python",
   "pygments_lexer": "ipython3",
   "version": "3.5.2"
  }
 },
 "nbformat": 4,
 "nbformat_minor": 0
}
