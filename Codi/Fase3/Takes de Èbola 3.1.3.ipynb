{
 "cells": [
  {
   "cell_type": "code",
   "execution_count": 90,
   "metadata": {},
   "outputs": [],
   "source": [
    "import numpy as np\n",
    "import sympy as s\n",
    "import pandas as pd\n",
    "import matplotlib.pyplot as plt\n",
    "from reader import llegeix_dades\n",
    "from exporter import exporta\n",
    "from ebola_313 import ebola3\n",
    "from distancia import distancia as d\n",
    "import random as rnd"
   ]
  },
  {
   "cell_type": "markdown",
   "metadata": {},
   "source": [
    "La funció ebola3 rep com a arguments: (c,k,sigma,mu,rnu,ws_inicial,steps,timestep,x,y,vx,vy,escriu = False) i retorna un dataframe de pandas amb totes les dades. Addicionalment se li pot posar un True com a argument addicional si volem que tregui els resultats en un fitxer a la carpeta de fitxers exportats"
   ]
  },
  {
   "cell_type": "code",
   "execution_count": 153,
   "metadata": {},
   "outputs": [
    {
     "name": "stdout",
     "output_type": "stream",
     "text": [
      "1043\n"
     ]
    }
   ],
   "source": [
    "dades = llegeix_dades()\n",
    "d1 = dades['1C']\n",
    "print(len(d1))"
   ]
  },
  {
   "cell_type": "code",
   "execution_count": 152,
   "metadata": {},
   "outputs": [
    {
     "name": "stdout",
     "output_type": "stream",
     "text": [
      "0.00316727952395 c= 1.5  k= 0.2  sigma= 1.3  mu= 0.002  rnu= 0.5  ws= 2\n",
      "0.00316434167791 c1= 1.5  k1= 0.2  sigma1= 1.3  mu1= 0.002  rnu1= 0.5  ws1= 2\n",
      "0.00332290060578 c= 1.55  k= 0.2  sigma= 1.3  mu= 0.002  rnu= 0.5  ws= 2.0\n",
      "0.00332290060578 c= 1.55  k= 0.2  sigma= 1.3  mu= 0.002  rnu= 0.5  ws= 2.0\n",
      "0.0033086140224 c1= 1.5  k1= 0.2  sigma1= 1.3  mu1= 0.002  rnu1= 0.5  ws1= 2\n",
      "0.0033086140224 [1.55, 0.2, 1.3, 0.002, 0.5, 2.0]\n"
     ]
    }
   ],
   "source": [
    "p1 = [c1,k1,sigma1,mu1,rnu1,ws1] = [1.5,0.2,1.3,0.002,0.5,2]\n",
    "factor0 = 20\n",
    "factor1 = 30\n",
    "dp1 = [dc1,dk1,dsigma1,dmu1,drnu1,dws1] = [i/factor1 for i in p1]\n",
    "parametres = ['c','k','sigma','mu', 'rnu', 'ws']\n",
    "x0 = d1[\"x\"][200]\n",
    "y0 = d1[\"y\"][200]\n",
    "vx0 = d1[\"vx\"][200]\n",
    "vy0 = d1[\"vy\"][200]\n",
    "g_anterior = 0\n",
    "g_actual = g(*p1)\n",
    "print(g_actual,\"c1=\", c1 ,\" k1=\", k1, \" sigma1=\", sigma1, \" mu1=\", mu1, \" rnu1=\", rnu1, \" ws1=\", ws1)\n",
    "while abs(g_anterior - g_actual) > 0.0005:\n",
    "    g_anterior = g_actual\n",
    "    rnd.shuffle(parametres)\n",
    "    p1 = aux1(p1, dp1, parametres, g_anterior)\n",
    "    g_actual = g(*p1)\n",
    "    print(g_actual,\"c1=\", c1 ,\" k1=\", k1, \" sigma1=\", sigma1, \" mu1=\", mu1, \" rnu1=\", rnu1, \" ws1=\", ws1)\n",
    "print(g_actual, p1)"
   ]
  },
  {
   "cell_type": "code",
   "execution_count": 140,
   "metadata": {
    "collapsed": true
   },
   "outputs": [],
   "source": [
    "def aux1(p1,dp1,parametres, g_anterior):\n",
    "    dicc = {'c':0,'k':1,'sigma':2,'mu':3, 'rnu':4, 'ws':5}\n",
    "    for i in range(6):\n",
    "        l = dicc[parametres[i]]\n",
    "        vecm = [p1[j]+dp1[j]*delta(j,l) for j in range(6)]\n",
    "        if g(*vecm) < g_anterior:\n",
    "            return vecm\n",
    "        vecm2 = [p1[j]-dp1[j]*delta(j,l) for j in range(6)]\n",
    "        if g(*vecm2) < g_anterior:\n",
    "            return vecm2\n",
    "    return vec"
   ]
  },
  {
   "cell_type": "code",
   "execution_count": 148,
   "metadata": {},
   "outputs": [],
   "source": [
    "def g(c0,k0,sigma0,mu0,rnu0,ws0):\n",
    "    p0 = [c,k,sigma,mu,rnu, ws] = [c0,k0,sigma0,mu0,rnu0,ws0]\n",
    "    dp0 = [dc0,dk0,dsigma0,dmu0,drnu0,dws0] = [i/factor0 for i in p0]\n",
    "    fit_anterior = 0\n",
    "    fit = fitness(c,k,sigma,mu,rnu,ws)\n",
    "    while abs(fit-fit_anterior) > 0.0005:\n",
    "        print(fit,\"c=\", c ,\" k=\", k, \" sigma=\", sigma, \" mu=\", mu, \" rnu=\", rnu, \" ws=\", ws)\n",
    "        fit_anterior = fit\n",
    "        rnd.shuffle(parametres)\n",
    "        [c,k,sigma,mu,rnu,ws] = aux(*p0, parametres, *dp0, fit_anterior)\n",
    "        fit = fitness(c,k,sigma,mu,rnu,ws)\n",
    "    return fit"
   ]
  },
  {
   "cell_type": "code",
   "execution_count": 149,
   "metadata": {},
   "outputs": [],
   "source": [
    "def fitness(c,k,sigma,mu,rnu,ws):\n",
    "    return d(ebola3(c, k, sigma, mu, rnu, ws, 200, 1/180, x0, y0, vx0, vy0, 1),d1[200:400].rename(lambda x: x-200))[2]\n",
    "\n",
    "def delta(i,j):\n",
    "    if i==j:\n",
    "        return 1\n",
    "    return 0\n",
    "\n",
    "def aux(c,k,sigma,mu,rnu,ws,parametres,dc,dk,dsigma,dmu,drnu,dws,fit_anterior):\n",
    "    vec = [c,k,sigma,mu,rnu,ws]\n",
    "    dvec = [dc,dk,dsigma,dmu,drnu,dws]\n",
    "    dicc = {'c':0,'k':1,'sigma':2,'mu':3, 'rnu':4, 'ws':5}\n",
    "    for i in range(6):\n",
    "        l = dicc[parametres[i]]\n",
    "        vecm = [vec[j]+dvec[j]*delta(j,l) for j in range(6)]\n",
    "        if fitness(*vecm) < fit_anterior:\n",
    "            return vecm\n",
    "        vecm2 = [vec[j]-dvec[j]*delta(j,l) for j in range(6)]\n",
    "        if fitness(*vecm2) < fit_anterior:\n",
    "            return vecm2\n",
    "    return vec"
   ]
  },
  {
   "cell_type": "code",
   "execution_count": 111,
   "metadata": {},
   "outputs": [],
   "source": [
    "def fer_el_plot(c, k, sigma, mu, rnu, ws, steps = 200, timestep=1/180, x0 = x0, y0 = y0, vx0 = vx0, vy0 = vy0, take=1):\n",
    "    l = ebola3(c, k, sigma, mu, rnu, ws, steps, timestep, x0, y0, vx0, vy0, 1)\n",
    "    plt.plot(l['x'],l['y'])\n",
    "    plt.axis(\"equal\")\n",
    "    plt.plot(d1[200:400].rename(lambda x: x-200)['x'],d1[200:400].rename(lambda x: x-200)['y'])\n",
    "    plt.show()"
   ]
  },
  {
   "cell_type": "code",
   "execution_count": 114,
   "metadata": {},
   "outputs": [
    {
     "data": {
      "image/png": "[encoded data removed]",
      "text/plain": [
       "<matplotlib.figure.Figure at 0x22b25904128>"
      ]
     },
     "metadata": {},
     "output_type": "display_data"
    }
   ],
   "source": [
    "fer_el_plot(2.2,0.4,2.76,0.005,0.4,+3.6)"
   ]
  },
  {
   "cell_type": "code",
   "execution_count": null,
   "metadata": {
    "collapsed": true
   },
   "outputs": [],
   "source": []
  }
 ],
 "metadata": {
  "anaconda-cloud": {},
  "kernelspec": {
   "display_name": "Python 3",
   "language": "python",
   "name": "python3"
  },
  "language_info": {
   "codemirror_mode": {
    "name": "ipython",
    "version": 3
   },
   "file_extension": ".py",
   "mimetype": "text/x-python",
   "name": "python",
   "nbconvert_exporter": "python",
   "pygments_lexer": "ipython3",
   "version": "3.5.3"
  }
 },
 "nbformat": 4,
 "nbformat_minor": 2
}
