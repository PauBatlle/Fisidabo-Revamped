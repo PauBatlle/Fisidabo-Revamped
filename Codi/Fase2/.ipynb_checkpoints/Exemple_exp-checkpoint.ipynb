{
 "cells": [
  {
   "cell_type": "markdown",
   "metadata": {},
   "source": [
    "## Exemple de càlcul de gradient i Hessiana numèricament amb una funció exponencial coneguda\n",
    "\n",
    "f(x,y) = k* exp(c * sqrt(x^2+(sigma*y)^2))\n"
   ]
  },
  {
   "cell_type": "code",
   "execution_count": 29,
   "metadata": {},
   "outputs": [],
   "source": [
    "import numpy as np\n",
    "import os\n",
    "import matplotlib.pyplot as plt\n",
    "from mpl_toolkits.mplot3d import Axes3D\n",
    "from tqdm import tqdm_notebook as t\n",
    "from scipy import optimize\n",
    "%matplotlib inline"
   ]
  },
  {
   "cell_type": "code",
   "execution_count": null,
   "metadata": {},
   "outputs": [],
   "source": [
    "for i in t(range(len(M))):\n",
    "    for j in range(len(M[0])):\n",
    "        M[i][j] = f0(llit[i,j,0], llit[i,j,1])\n"
   ]
  },
  {
   "cell_type": "code",
   "execution_count": null,
   "metadata": {},
   "outputs": [],
   "source": []
  },
  {
   "cell_type": "code",
   "execution_count": 53,
   "metadata": {},
   "outputs": [],
   "source": [
    "c = 1.8\n",
    "k = 0.4\n",
    "sigma = 1.1\n",
    "sigma2 = sigma**2"
   ]
  },
  {
   "cell_type": "code",
   "execution_count": 54,
   "metadata": {},
   "outputs": [],
   "source": [
    "from math import exp, sqrt\n",
    "def f0(x, y):\n",
    "    return k*exp(c*sqrt(x*x+sigma*sigma*y*y))\n",
    "f_vec = lambda x: f0(*x)"
   ]
  },
  {
   "cell_type": "code",
   "execution_count": 63,
   "metadata": {},
   "outputs": [
    {
     "data": {
      "application/vnd.jupyter.widget-view+json": {
       "model_id": "6dddb3ceb8f3449d8c5847b5c7d1b7d2",
       "version_major": 2,
       "version_minor": 0
      },
      "text/html": [
       "<p>Failed to display Jupyter Widget of type <code>HBox</code>.</p>\n",
       "<p>\n",
       "  If you're reading this message in the Jupyter Notebook or JupyterLab Notebook, it may mean\n",
       "  that the widgets JavaScript is still loading. If this message persists, it\n",
       "  likely means that the widgets JavaScript library is either not installed or\n",
       "  not enabled. See the <a href=\"https://ipywidgets.readthedocs.io/en/stable/user_install.html\">Jupyter\n",
       "  Widgets Documentation</a> for setup instructions.\n",
       "</p>\n",
       "<p>\n",
       "  If you're reading this message in another frontend (for example, a static\n",
       "  rendering on GitHub or <a href=\"https://nbviewer.jupyter.org/\">NBViewer</a>),\n",
       "  it may mean that your frontend doesn't currently support widgets.\n",
       "</p>\n"
      ],
      "text/plain": [
       "HBox(children=(IntProgress(value=0, max=500), HTML(value='')))"
      ]
     },
     "metadata": {},
     "output_type": "display_data"
    },
    {
     "name": "stdout",
     "output_type": "stream",
     "text": [
      "\n"
     ]
    }
   ],
   "source": [
    "N = 500\n",
    "X = np.linspace(-2.5, 2.5, N)\n",
    "Y = np.linspace(-2.5, 2.5, N)\n",
    "M = np.zeros((N,N,2))\n",
    "for i in t(range(N)):\n",
    "    for j in range(N):\n",
    "        M[i][j] = optimize.approx_fprime([X[i],X[j]],f_vec,epsilon = 1e-10)"
   ]
  },
  {
   "cell_type": "code",
   "execution_count": 64,
   "metadata": {},
   "outputs": [
    {
     "data": {
      "text/plain": [
       "(500, 500)"
      ]
     },
     "execution_count": 64,
     "metadata": {},
     "output_type": "execute_result"
    }
   ],
   "source": [
    "M[:,:,0].shape"
   ]
  },
  {
   "cell_type": "code",
   "execution_count": 65,
   "metadata": {
    "scrolled": true
   },
   "outputs": [],
   "source": [
    "#friendship with interp2d ended, RectBivariateSpline is my new friend\n",
    "from scipy.interpolate import RectBivariateSpline\n",
    "dfx = RectBivariateSpline(X,Y,M[:,:,0])\n",
    "dfy = RectBivariateSpline(X,Y,M[:,:,1])"
   ]
  },
  {
   "cell_type": "markdown",
   "metadata": {},
   "source": [
    "Gradient real: 2x+y, 3y²+x"
   ]
  },
  {
   "cell_type": "code",
   "execution_count": 57,
   "metadata": {},
   "outputs": [],
   "source": [
    "dfx0_vec = lambda x: dfx0(*x)\n",
    "dfy0_vec = lambda x: dfy0(*x)"
   ]
  },
  {
   "cell_type": "code",
   "execution_count": 58,
   "metadata": {},
   "outputs": [],
   "source": [
    "dfx_vec = lambda x: dfx(*x)\n",
    "dfy_vec = lambda x: dfy(*x)"
   ]
  },
  {
   "cell_type": "markdown",
   "metadata": {},
   "source": [
    "Hessiana real: [[2, 1], [1, 6y]]"
   ]
  },
  {
   "cell_type": "code",
   "execution_count": 66,
   "metadata": {},
   "outputs": [
    {
     "data": {
      "application/vnd.jupyter.widget-view+json": {
       "model_id": "88deede2402346a0baf9b6bfa75e945c",
       "version_major": 2,
       "version_minor": 0
      },
      "text/html": [
       "<p>Failed to display Jupyter Widget of type <code>HBox</code>.</p>\n",
       "<p>\n",
       "  If you're reading this message in the Jupyter Notebook or JupyterLab Notebook, it may mean\n",
       "  that the widgets JavaScript is still loading. If this message persists, it\n",
       "  likely means that the widgets JavaScript library is either not installed or\n",
       "  not enabled. See the <a href=\"https://ipywidgets.readthedocs.io/en/stable/user_install.html\">Jupyter\n",
       "  Widgets Documentation</a> for setup instructions.\n",
       "</p>\n",
       "<p>\n",
       "  If you're reading this message in another frontend (for example, a static\n",
       "  rendering on GitHub or <a href=\"https://nbviewer.jupyter.org/\">NBViewer</a>),\n",
       "  it may mean that your frontend doesn't currently support widgets.\n",
       "</p>\n"
      ],
      "text/plain": [
       "HBox(children=(IntProgress(value=0, max=500), HTML(value='')))"
      ]
     },
     "metadata": {},
     "output_type": "display_data"
    },
    {
     "name": "stdout",
     "output_type": "stream",
     "text": [
      "\n"
     ]
    }
   ],
   "source": [
    "N = 500\n",
    "X = np.linspace(-2.5, 2.5, N)\n",
    "Y = np.linspace(-2.5, 2.5, N)\n",
    "M = np.zeros((N,N,2))\n",
    "for i in t(range(N)):\n",
    "    for j in range(N):\n",
    "        M[i][j] = optimize.approx_fprime([X[i],X[j]],dfx_vec,epsilon = 1e-10)\n",
    "        \n",
    "dfxx = RectBivariateSpline(X,Y,M[:,:,0])\n",
    "dfxy = RectBivariateSpline(X,Y,M[:,:,1])"
   ]
  },
  {
   "cell_type": "code",
   "execution_count": 67,
   "metadata": {},
   "outputs": [
    {
     "data": {
      "application/vnd.jupyter.widget-view+json": {
       "model_id": "e604f6af97ae40478368f802f8a2dca9",
       "version_major": 2,
       "version_minor": 0
      },
      "text/html": [
       "<p>Failed to display Jupyter Widget of type <code>HBox</code>.</p>\n",
       "<p>\n",
       "  If you're reading this message in the Jupyter Notebook or JupyterLab Notebook, it may mean\n",
       "  that the widgets JavaScript is still loading. If this message persists, it\n",
       "  likely means that the widgets JavaScript library is either not installed or\n",
       "  not enabled. See the <a href=\"https://ipywidgets.readthedocs.io/en/stable/user_install.html\">Jupyter\n",
       "  Widgets Documentation</a> for setup instructions.\n",
       "</p>\n",
       "<p>\n",
       "  If you're reading this message in another frontend (for example, a static\n",
       "  rendering on GitHub or <a href=\"https://nbviewer.jupyter.org/\">NBViewer</a>),\n",
       "  it may mean that your frontend doesn't currently support widgets.\n",
       "</p>\n"
      ],
      "text/plain": [
       "HBox(children=(IntProgress(value=0, max=500), HTML(value='')))"
      ]
     },
     "metadata": {},
     "output_type": "display_data"
    },
    {
     "name": "stdout",
     "output_type": "stream",
     "text": [
      "\n"
     ]
    }
   ],
   "source": [
    "N = 500\n",
    "X = np.linspace(-2.5, 2.5, N)\n",
    "Y = np.linspace(-2.5, 2.5, N)\n",
    "M = np.zeros((N,N,2))\n",
    "for i in t(range(N)):\n",
    "    for j in range(N):\n",
    "        M[i][j] = optimize.approx_fprime([X[i],X[j]],dfy_vec,epsilon = 1e-10)\n",
    "        \n",
    "dfyx = RectBivariateSpline(X,Y,M[:,:,0])\n",
    "dfyy = RectBivariateSpline(X,Y,M[:,:,1])"
   ]
  },
  {
   "cell_type": "code",
   "execution_count": 68,
   "metadata": {},
   "outputs": [],
   "source": [
    "def Hessf(x,y):\n",
    "    return np.array([[dfxx(x,y)[0], dfxy(x,y)[0]], [dfyx(x,y)[0], dfyy(x,y)[0]]])\n",
    "def Hessf0(x,y):\n",
    "    return np.array([[2,1],[1,6*y]])"
   ]
  },
  {
   "cell_type": "code",
   "execution_count": 70,
   "metadata": {},
   "outputs": [],
   "source": [
    "\n",
    "\n",
    "def radius(x,y):\n",
    "    return np.sqrt(x*x + sigma2*y*y)\n",
    "\n",
    "#f FUNCIÓ ALTURA (RADIAL)\n",
    "def f(r):\n",
    "    return k * np.exp(c*r)\n",
    "#Derivades de la funció altura respecte el radi r\n",
    "def df(r):\n",
    "    return k*c * np.exp(c*r)\n",
    "def ddf(r):\n",
    "    return k*c*c * np.exp(c*r)\n",
    "#la funció F(x,y) és f(r(x,y)), F FUNCIÓ ALTURA DEL PUNT en cartesianes.\n",
    "def F(x,y):\n",
    "    return f(radius(x,y));\n",
    "#DERIVADES PARCIALS DE F\n",
    "def derivades_F(x, y):\n",
    "    r = radius(x,y)\n",
    "    grad_r = np.array([x, sigma2*y])/r\n",
    "    hess_r = sigma2 * np.array([[y*y, - x*y],[- y*x, x*x]])/r**3\n",
    "    derf = df(r) #derivade de f respecte r\n",
    "    grad_F = derf * grad_r\n",
    "    hess_F = ddf(r) * np.transpose([grad_r]) * grad_r + derf * hess_r\n",
    "    return grad_F, hess_F"
   ]
  },
  {
   "cell_type": "code",
   "execution_count": 74,
   "metadata": {},
   "outputs": [
    {
     "data": {
      "text/plain": [
       "(array([[ 151.70037519,  121.73555813],\n",
       "        [ 121.73555813,  209.12192118]]), array([[[ 151.69477487],\n",
       "         [ 121.78167527]],\n",
       " \n",
       "        [[ 121.67441289],\n",
       "         [ 209.12919032]]]))"
      ]
     },
     "execution_count": 74,
     "metadata": {},
     "output_type": "execute_result"
    }
   ],
   "source": [
    "derivades_F(2,2)[1], Hessf(2,2)"
   ]
  },
  {
   "cell_type": "code",
   "execution_count": 73,
   "metadata": {
    "scrolled": true
   },
   "outputs": [
    {
     "data": {
      "text/plain": [
       "array([[[ 12.37186113],\n",
       "        [  6.45578384]],\n",
       "\n",
       "       [[  6.45377221],\n",
       "        [ 16.32244931]]])"
      ]
     },
     "execution_count": 73,
     "metadata": {},
     "output_type": "execute_result"
    }
   ],
   "source": [
    "Hessf(1,1)"
   ]
  },
  {
   "cell_type": "code",
   "execution_count": null,
   "metadata": {},
   "outputs": [],
   "source": []
  },
  {
   "cell_type": "code",
   "execution_count": null,
   "metadata": {},
   "outputs": [],
   "source": []
  }
 ],
 "metadata": {
  "kernelspec": {
   "display_name": "Python 3",
   "language": "python",
   "name": "python3"
  },
  "language_info": {
   "codemirror_mode": {
    "name": "ipython",
    "version": 3
   },
   "file_extension": ".py",
   "mimetype": "text/x-python",
   "name": "python",
   "nbconvert_exporter": "python",
   "pygments_lexer": "ipython3",
   "version": "3.5.3"
  }
 },
 "nbformat": 4,
 "nbformat_minor": 2
}
