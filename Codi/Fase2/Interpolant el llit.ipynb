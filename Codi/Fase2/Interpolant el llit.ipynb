{
 "cells": [
  {
   "cell_type": "markdown",
   "metadata": {},
   "source": [
    "Interpolant els resultats d'un llit elàstic, per poder posar a l'èbola la funcio i les dues primeres derivades"
   ]
  },
  {
   "cell_type": "markdown",
   "metadata": {},
   "source": [
    "Aquest exemple usa els resultats de l'òptim de la Fase 1"
   ]
  },
  {
   "cell_type": "code",
   "execution_count": 1,
   "metadata": {},
   "outputs": [],
   "source": [
    "import numpy as np\n",
    "import os\n",
    "import matplotlib.pyplot as plt\n",
    "from scipy import optimize\n",
    "from mpl_toolkits.mplot3d import Axes3D\n",
    "%matplotlib inline"
   ]
  },
  {
   "cell_type": "code",
   "execution_count": 2,
   "metadata": {},
   "outputs": [],
   "source": [
    "llit = np.load(\"Llit_Exemple/Tensor.npy\")"
   ]
  },
  {
   "cell_type": "code",
   "execution_count": 3,
   "metadata": {},
   "outputs": [],
   "source": [
    "llit = llit.reshape((218*154, 3))"
   ]
  },
  {
   "cell_type": "markdown",
   "metadata": {},
   "source": [
    "## 1.1 Donada la funció avaluada en una mesh, vull la funció pel continu"
   ]
  },
  {
   "cell_type": "code",
   "execution_count": null,
   "metadata": {},
   "outputs": [],
   "source": [
    "from scipy.interpolate import interp2d"
   ]
  },
  {
   "cell_type": "code",
   "execution_count": null,
   "metadata": {},
   "outputs": [],
   "source": [
    "%%time\n",
    "f = interp2d(llit[:,0], llit[:,1], llit[:,2], kind='cubic')"
   ]
  },
  {
   "cell_type": "code",
   "execution_count": null,
   "metadata": {},
   "outputs": [],
   "source": [
    "from tqdm import tqdm_notebook as t\n",
    "llit = np.load(\"Llit_Exemple/Tensor.npy\")\n",
    "M = np.zeros(llit[:,:,0].shape)\n",
    "for i in t(range(len(M))):\n",
    "    for j in range(len(M[0])):\n",
    "        M[i][j] = f(llit[i,j,0], llit[i,j,1])\n",
    "np.max(M-llit[:,:,2]) #Sanity check, should be small"
   ]
  },
  {
   "cell_type": "code",
   "execution_count": null,
   "metadata": {},
   "outputs": [],
   "source": [
    "N = 500 #Granularitat de la mesh en la que evaluem gradient i hessiana abans d'interpolar"
   ]
  },
  {
   "cell_type": "markdown",
   "metadata": {},
   "source": [
    "## 1.2 Donada la funció, vull poder evaluar el seu gradient en un punt arbitrari"
   ]
  },
  {
   "cell_type": "code",
   "execution_count": null,
   "metadata": {
    "scrolled": true
   },
   "outputs": [],
   "source": [
    "f"
   ]
  },
  {
   "cell_type": "code",
   "execution_count": null,
   "metadata": {},
   "outputs": [],
   "source": [
    "f_vec = lambda x: f(*x)"
   ]
  },
  {
   "cell_type": "code",
   "execution_count": null,
   "metadata": {},
   "outputs": [],
   "source": [
    "X = np.linspace(-2.5, 2.5, N)\n",
    "Y = np.linspace(-2.5, 2.5, N)\n",
    "M = np.zeros((N,N,2))\n",
    "for i in t(range(N)):\n",
    "    for j in range(N):\n",
    "        M[i][j] = optimize.approx_fprime([X[i],X[j]],f_vec,epsilon = 1e-10)"
   ]
  },
  {
   "cell_type": "code",
   "execution_count": null,
   "metadata": {},
   "outputs": [],
   "source": [
    "#friendship with interp2d ended, RectBivariateSpline is my new friend\n",
    "from scipy.interpolate import RectBivariateSpline\n",
    "dfx = RectBivariateSpline(X,Y,M[:,:,0])\n",
    "dfy = RectBivariateSpline(X,Y,M[:,:,1])"
   ]
  },
  {
   "cell_type": "code",
   "execution_count": null,
   "metadata": {},
   "outputs": [],
   "source": [
    "def gradf(x,y):\n",
    "    return np.array([dfx(x,y)[0], dfy(x,y)[0]]).reshape(2)"
   ]
  },
  {
   "cell_type": "code",
   "execution_count": null,
   "metadata": {},
   "outputs": [],
   "source": [
    "gradf(2,3)"
   ]
  },
  {
   "cell_type": "markdown",
   "metadata": {},
   "source": [
    "## 1.2 Donada la funció, vull poder evaluar la seva Hessiana en un punt arbitrari"
   ]
  },
  {
   "cell_type": "code",
   "execution_count": null,
   "metadata": {},
   "outputs": [],
   "source": [
    "dfx_vec = lambda x: dfx(*x)\n",
    "dfy_vec = lambda x: dfy(*x)"
   ]
  },
  {
   "cell_type": "code",
   "execution_count": null,
   "metadata": {},
   "outputs": [],
   "source": [
    "X = np.linspace(-2.5, 2.5, N)\n",
    "Y = np.linspace(-2.5, 2.5, N)\n",
    "M = np.zeros((N,N,2))\n",
    "for i in t(range(N)):\n",
    "    for j in range(N):\n",
    "        M[i][j] = optimize.approx_fprime([X[i],X[j]],dfx_vec,epsilon = 1e-10)\n",
    "        \n",
    "dfxx = RectBivariateSpline(X,Y,M[:,:,0])\n",
    "dfxy = RectBivariateSpline(X,Y,M[:,:,1])"
   ]
  },
  {
   "cell_type": "code",
   "execution_count": null,
   "metadata": {},
   "outputs": [],
   "source": [
    "X = np.linspace(-2.5, 2.5, N)\n",
    "Y = np.linspace(-2.5, 2.5, N)\n",
    "M = np.zeros((N,N,2))\n",
    "for i in t(range(N)):\n",
    "    for j in range(N):\n",
    "        M[i][j] = optimize.approx_fprime([X[i],X[j]],dfy_vec,epsilon = 1e-10)\n",
    "        \n",
    "dfyx = RectBivariateSpline(X,Y,M[:,:,0])\n",
    "dfyy = RectBivariateSpline(X,Y,M[:,:,1])"
   ]
  },
  {
   "cell_type": "code",
   "execution_count": null,
   "metadata": {},
   "outputs": [],
   "source": [
    "def Hessf(x,y):\n",
    "    return np.array([[dfxx(x,y)[0], dfxy(x,y)[0]], [dfyx(x,y)[0], dfyy(x,y)[0]]]).reshape(2,2)"
   ]
  },
  {
   "cell_type": "code",
   "execution_count": null,
   "metadata": {},
   "outputs": [],
   "source": [
    "Hessf(0.2,0.3)"
   ]
  },
  {
   "cell_type": "markdown",
   "metadata": {},
   "source": [
    "## Ara ens hem de guardar els resultats per poder-li passar les funcions a l'ebola"
   ]
  },
  {
   "cell_type": "code",
   "execution_count": null,
   "metadata": {},
   "outputs": [],
   "source": [
    "import pickle\n",
    "\n",
    "pickle.dump(f, open(\"f.p\", 'wb'))\n",
    "pickle.dump(gradf, open(\"gradf.p\", 'wb'))\n",
    "pickle.dump(Hessf, open(\"Hessf.p\", 'wb'))\n"
   ]
  }
 ],
 "metadata": {
  "kernelspec": {
   "display_name": "Python 3",
   "language": "python",
   "name": "python3"
  },
  "language_info": {
   "codemirror_mode": {
    "name": "ipython",
    "version": 3
   },
   "file_extension": ".py",
   "mimetype": "text/x-python",
   "name": "python",
   "nbconvert_exporter": "python",
   "pygments_lexer": "ipython3",
   "version": "3.5.3"
  }
 },
 "nbformat": 4,
 "nbformat_minor": 2
}
