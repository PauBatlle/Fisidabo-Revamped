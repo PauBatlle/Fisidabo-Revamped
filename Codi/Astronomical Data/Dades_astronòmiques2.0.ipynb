{
 "cells": [
  {
   "cell_type": "code",
   "execution_count": 1,
   "metadata": {},
   "outputs": [],
   "source": [
    "import pandas as pd\n",
    "import numpy as np\n",
    "import matplotlib.pyplot as plt\n",
    "%matplotlib inline"
   ]
  },
  {
   "cell_type": "code",
   "execution_count": 2,
   "metadata": {},
   "outputs": [
    {
     "data": {
      "text/plain": [
       "'/home/pau/Desktop/Fisidabo_Final/Codi/Astronomical Data'"
      ]
     },
     "execution_count": 2,
     "metadata": {},
     "output_type": "execute_result"
    }
   ],
   "source": [
    "pwd"
   ]
  },
  {
   "cell_type": "code",
   "execution_count": 3,
   "metadata": {
    "scrolled": true
   },
   "outputs": [],
   "source": [
    "cart = [pd.read_csv(\"../Data/\"+str(i)+\"Cart.csv\") for i in range(1,5)] #Llegeixo fitxers\n",
    "cart = [c.drop('Unnamed: 0', 1) for c in cart] #Una guarrada, trec a mà una columna que em sobra"
   ]
  },
  {
   "cell_type": "code",
   "execution_count": 4,
   "metadata": {},
   "outputs": [],
   "source": [
    "pol = [pd.read_csv(\"../Data/\"+str(i)+\"Pol.csv\") for i in range(1,5)]\n",
    "pol = [p.drop('Unnamed: 0', 1) for p in pol] #Una guarrada, trec a mà una columna que em sobra"
   ]
  },
  {
   "cell_type": "markdown",
   "metadata": {},
   "source": [
    "Hem de trobar: (semi)Període, perihelion precession, excentricitat i semieix major"
   ]
  },
  {
   "cell_type": "code",
   "execution_count": 5,
   "metadata": {},
   "outputs": [],
   "source": [
    "#Trobem els màxims, per cada take\n",
    "p = pol[0]"
   ]
  },
  {
   "cell_type": "code",
   "execution_count": 6,
   "metadata": {},
   "outputs": [
    {
     "data": {
      "text/html": [
       "<div>\n",
       "<style scoped>\n",
       "    .dataframe tbody tr th:only-of-type {\n",
       "        vertical-align: middle;\n",
       "    }\n",
       "\n",
       "    .dataframe tbody tr th {\n",
       "        vertical-align: top;\n",
       "    }\n",
       "\n",
       "    .dataframe thead th {\n",
       "        text-align: right;\n",
       "    }\n",
       "</style>\n",
       "<table border=\"1\" class=\"dataframe\">\n",
       "  <thead>\n",
       "    <tr style=\"text-align: right;\">\n",
       "      <th></th>\n",
       "      <th>t</th>\n",
       "      <th>phi</th>\n",
       "      <th>omega</th>\n",
       "      <th>alpha</th>\n",
       "      <th>r</th>\n",
       "      <th>r-dot</th>\n",
       "      <th>r-dotdot</th>\n",
       "    </tr>\n",
       "  </thead>\n",
       "  <tbody>\n",
       "    <tr>\n",
       "      <th>403</th>\n",
       "      <td>2.238889</td>\n",
       "      <td>5.061959</td>\n",
       "      <td>1.281938</td>\n",
       "      <td>-0.019233</td>\n",
       "      <td>0.386377</td>\n",
       "      <td>0.001929</td>\n",
       "      <td>-1.251190</td>\n",
       "    </tr>\n",
       "    <tr>\n",
       "      <th>643</th>\n",
       "      <td>3.572222</td>\n",
       "      <td>8.441927</td>\n",
       "      <td>1.815490</td>\n",
       "      <td>0.008452</td>\n",
       "      <td>0.309412</td>\n",
       "      <td>0.001614</td>\n",
       "      <td>-1.077273</td>\n",
       "    </tr>\n",
       "    <tr>\n",
       "      <th>920</th>\n",
       "      <td>5.111111</td>\n",
       "      <td>13.061033</td>\n",
       "      <td>1.653063</td>\n",
       "      <td>0.004167</td>\n",
       "      <td>0.312830</td>\n",
       "      <td>-0.000612</td>\n",
       "      <td>-0.619983</td>\n",
       "    </tr>\n",
       "  </tbody>\n",
       "</table>\n",
       "</div>"
      ],
      "text/plain": [
       "            t        phi     omega     alpha         r     r-dot  r-dotdot\n",
       "403  2.238889   5.061959  1.281938 -0.019233  0.386377  0.001929 -1.251190\n",
       "643  3.572222   8.441927  1.815490  0.008452  0.309412  0.001614 -1.077273\n",
       "920  5.111111  13.061033  1.653063  0.004167  0.312830 -0.000612 -0.619983"
      ]
     },
     "execution_count": 6,
     "metadata": {},
     "output_type": "execute_result"
    }
   ],
   "source": [
    "z = p.loc[abs(p['r-dot']) < 0.0027] #Aquestes precisions són amb prova i error \n",
    "z = z.loc[p['r-dotdot'] < 0] #obvi, no?\n",
    "z"
   ]
  },
  {
   "cell_type": "code",
   "execution_count": 7,
   "metadata": {},
   "outputs": [
    {
     "data": {
      "image/png": "[encoded data removed]",
      "text/plain": [
       "<matplotlib.figure.Figure at 0x7f67a14b3b00>"
      ]
     },
     "metadata": {},
     "output_type": "display_data"
    }
   ],
   "source": [
    "%matplotlib inline\n",
    "plt.plot(p['r'])\n",
    "for i in z.index.tolist():\n",
    "    plt.plot((i,i), (0, 0.5)) #Sempre va bé veure un gràfic :)"
   ]
  },
  {
   "cell_type": "code",
   "execution_count": 8,
   "metadata": {},
   "outputs": [],
   "source": [
    "maxims_1 = z"
   ]
  },
  {
   "cell_type": "code",
   "execution_count": 9,
   "metadata": {},
   "outputs": [],
   "source": [
    "p = pol[1]"
   ]
  },
  {
   "cell_type": "code",
   "execution_count": 10,
   "metadata": {},
   "outputs": [
    {
     "data": {
      "text/html": [
       "<div>\n",
       "<style scoped>\n",
       "    .dataframe tbody tr th:only-of-type {\n",
       "        vertical-align: middle;\n",
       "    }\n",
       "\n",
       "    .dataframe tbody tr th {\n",
       "        vertical-align: top;\n",
       "    }\n",
       "\n",
       "    .dataframe thead th {\n",
       "        text-align: right;\n",
       "    }\n",
       "</style>\n",
       "<table border=\"1\" class=\"dataframe\">\n",
       "  <thead>\n",
       "    <tr style=\"text-align: right;\">\n",
       "      <th></th>\n",
       "      <th>t</th>\n",
       "      <th>phi</th>\n",
       "      <th>omega</th>\n",
       "      <th>alpha</th>\n",
       "      <th>r</th>\n",
       "      <th>r-dot</th>\n",
       "      <th>r-dotdot</th>\n",
       "    </tr>\n",
       "  </thead>\n",
       "  <tbody>\n",
       "    <tr>\n",
       "      <th>28</th>\n",
       "      <td>0.155556</td>\n",
       "      <td>0.257012</td>\n",
       "      <td>1.606302</td>\n",
       "      <td>-0.717342</td>\n",
       "      <td>0.400574</td>\n",
       "      <td>-0.001657</td>\n",
       "      <td>-0.836277</td>\n",
       "    </tr>\n",
       "    <tr>\n",
       "      <th>316</th>\n",
       "      <td>1.755556</td>\n",
       "      <td>4.221656</td>\n",
       "      <td>2.081260</td>\n",
       "      <td>0.506534</td>\n",
       "      <td>0.300785</td>\n",
       "      <td>0.000105</td>\n",
       "      <td>-0.631635</td>\n",
       "    </tr>\n",
       "    <tr>\n",
       "      <th>530</th>\n",
       "      <td>2.944444</td>\n",
       "      <td>7.658388</td>\n",
       "      <td>2.284474</td>\n",
       "      <td>-0.953660</td>\n",
       "      <td>0.261323</td>\n",
       "      <td>0.001013</td>\n",
       "      <td>-0.455887</td>\n",
       "    </tr>\n",
       "    <tr>\n",
       "      <th>825</th>\n",
       "      <td>4.583333</td>\n",
       "      <td>12.715063</td>\n",
       "      <td>2.255815</td>\n",
       "      <td>-1.373537</td>\n",
       "      <td>0.248730</td>\n",
       "      <td>0.001847</td>\n",
       "      <td>-0.894878</td>\n",
       "    </tr>\n",
       "    <tr>\n",
       "      <th>1049</th>\n",
       "      <td>5.827778</td>\n",
       "      <td>17.081513</td>\n",
       "      <td>2.856227</td>\n",
       "      <td>1.271863</td>\n",
       "      <td>0.197211</td>\n",
       "      <td>0.001673</td>\n",
       "      <td>-0.789028</td>\n",
       "    </tr>\n",
       "  </tbody>\n",
       "</table>\n",
       "</div>"
      ],
      "text/plain": [
       "             t        phi     omega     alpha         r     r-dot  r-dotdot\n",
       "28    0.155556   0.257012  1.606302 -0.717342  0.400574 -0.001657 -0.836277\n",
       "316   1.755556   4.221656  2.081260  0.506534  0.300785  0.000105 -0.631635\n",
       "530   2.944444   7.658388  2.284474 -0.953660  0.261323  0.001013 -0.455887\n",
       "825   4.583333  12.715063  2.255815 -1.373537  0.248730  0.001847 -0.894878\n",
       "1049  5.827778  17.081513  2.856227  1.271863  0.197211  0.001673 -0.789028"
      ]
     },
     "execution_count": 10,
     "metadata": {},
     "output_type": "execute_result"
    }
   ],
   "source": [
    "z = p.loc[abs(p['r-dot']) < 0.0027]\n",
    "z = z.loc[p['r-dotdot'] < 0]\n",
    "z = z.drop(z.index[[3]]) #A vegades he tret els duplicates a mà\n",
    "z"
   ]
  },
  {
   "cell_type": "code",
   "execution_count": 11,
   "metadata": {},
   "outputs": [
    {
     "data": {
      "image/png": "[encoded data removed]",
      "text/plain": [
       "<matplotlib.figure.Figure at 0x7f679e69b5c0>"
      ]
     },
     "metadata": {},
     "output_type": "display_data"
    }
   ],
   "source": [
    "%matplotlib inline\n",
    "plt.plot(p['r'])\n",
    "for i in z.index.tolist():\n",
    "    plt.plot((i,i), (0, 0.5))"
   ]
  },
  {
   "cell_type": "code",
   "execution_count": 12,
   "metadata": {},
   "outputs": [],
   "source": [
    "maxims_2 = z"
   ]
  },
  {
   "cell_type": "code",
   "execution_count": 13,
   "metadata": {},
   "outputs": [
    {
     "data": {
      "text/html": [
       "<div>\n",
       "<style scoped>\n",
       "    .dataframe tbody tr th:only-of-type {\n",
       "        vertical-align: middle;\n",
       "    }\n",
       "\n",
       "    .dataframe tbody tr th {\n",
       "        vertical-align: top;\n",
       "    }\n",
       "\n",
       "    .dataframe thead th {\n",
       "        text-align: right;\n",
       "    }\n",
       "</style>\n",
       "<table border=\"1\" class=\"dataframe\">\n",
       "  <thead>\n",
       "    <tr style=\"text-align: right;\">\n",
       "      <th></th>\n",
       "      <th>t</th>\n",
       "      <th>phi</th>\n",
       "      <th>omega</th>\n",
       "      <th>alpha</th>\n",
       "      <th>r</th>\n",
       "      <th>r-dot</th>\n",
       "      <th>r-dotdot</th>\n",
       "    </tr>\n",
       "  </thead>\n",
       "  <tbody>\n",
       "    <tr>\n",
       "      <th>107</th>\n",
       "      <td>0.594444</td>\n",
       "      <td>1.297958</td>\n",
       "      <td>1.678572</td>\n",
       "      <td>-0.746134</td>\n",
       "      <td>0.363604</td>\n",
       "      <td>0.000282</td>\n",
       "      <td>-0.802746</td>\n",
       "    </tr>\n",
       "    <tr>\n",
       "      <th>426</th>\n",
       "      <td>2.366667</td>\n",
       "      <td>5.925370</td>\n",
       "      <td>2.005699</td>\n",
       "      <td>-0.401490</td>\n",
       "      <td>0.305283</td>\n",
       "      <td>-0.000409</td>\n",
       "      <td>-0.502898</td>\n",
       "    </tr>\n",
       "    <tr>\n",
       "      <th>673</th>\n",
       "      <td>3.738889</td>\n",
       "      <td>9.958287</td>\n",
       "      <td>1.795531</td>\n",
       "      <td>-0.180724</td>\n",
       "      <td>0.242513</td>\n",
       "      <td>-0.002499</td>\n",
       "      <td>-1.068311</td>\n",
       "    </tr>\n",
       "    <tr>\n",
       "      <th>888</th>\n",
       "      <td>4.933333</td>\n",
       "      <td>13.842392</td>\n",
       "      <td>1.806601</td>\n",
       "      <td>-1.044155</td>\n",
       "      <td>0.249192</td>\n",
       "      <td>0.001887</td>\n",
       "      <td>-1.221248</td>\n",
       "    </tr>\n",
       "    <tr>\n",
       "      <th>1136</th>\n",
       "      <td>6.311111</td>\n",
       "      <td>18.739458</td>\n",
       "      <td>2.436638</td>\n",
       "      <td>-0.860047</td>\n",
       "      <td>0.204701</td>\n",
       "      <td>-0.001581</td>\n",
       "      <td>-0.686295</td>\n",
       "    </tr>\n",
       "  </tbody>\n",
       "</table>\n",
       "</div>"
      ],
      "text/plain": [
       "             t        phi     omega     alpha         r     r-dot  r-dotdot\n",
       "107   0.594444   1.297958  1.678572 -0.746134  0.363604  0.000282 -0.802746\n",
       "426   2.366667   5.925370  2.005699 -0.401490  0.305283 -0.000409 -0.502898\n",
       "673   3.738889   9.958287  1.795531 -0.180724  0.242513 -0.002499 -1.068311\n",
       "888   4.933333  13.842392  1.806601 -1.044155  0.249192  0.001887 -1.221248\n",
       "1136  6.311111  18.739458  2.436638 -0.860047  0.204701 -0.001581 -0.686295"
      ]
     },
     "execution_count": 13,
     "metadata": {},
     "output_type": "execute_result"
    }
   ],
   "source": [
    "p = pol[2]\n",
    "z = p.loc[abs(p['r-dot']) < 0.0027]\n",
    "z = z.loc[p['r-dotdot'] < 0]\n",
    "z = z.drop(z.index[[1,-2]])\n",
    "z"
   ]
  },
  {
   "cell_type": "code",
   "execution_count": 14,
   "metadata": {},
   "outputs": [
    {
     "data": {
      "image/png": "[encoded data removed]",
      "text/plain": [
       "<matplotlib.figure.Figure at 0x7f679c6322e8>"
      ]
     },
     "metadata": {},
     "output_type": "display_data"
    }
   ],
   "source": [
    "%matplotlib inline\n",
    "plt.plot(p['r'])\n",
    "for i in z.index.tolist():\n",
    "    plt.plot((i,i), (0, 0.5))"
   ]
  },
  {
   "cell_type": "code",
   "execution_count": 15,
   "metadata": {},
   "outputs": [],
   "source": [
    "maxims_3 = z"
   ]
  },
  {
   "cell_type": "code",
   "execution_count": 16,
   "metadata": {},
   "outputs": [
    {
     "data": {
      "text/html": [
       "<div>\n",
       "<style scoped>\n",
       "    .dataframe tbody tr th:only-of-type {\n",
       "        vertical-align: middle;\n",
       "    }\n",
       "\n",
       "    .dataframe tbody tr th {\n",
       "        vertical-align: top;\n",
       "    }\n",
       "\n",
       "    .dataframe thead th {\n",
       "        text-align: right;\n",
       "    }\n",
       "</style>\n",
       "<table border=\"1\" class=\"dataframe\">\n",
       "  <thead>\n",
       "    <tr style=\"text-align: right;\">\n",
       "      <th></th>\n",
       "      <th>t</th>\n",
       "      <th>phi</th>\n",
       "      <th>omega</th>\n",
       "      <th>alpha</th>\n",
       "      <th>r</th>\n",
       "      <th>r-dot</th>\n",
       "      <th>r-dotdot</th>\n",
       "    </tr>\n",
       "  </thead>\n",
       "  <tbody>\n",
       "    <tr>\n",
       "      <th>241</th>\n",
       "      <td>1.338889</td>\n",
       "      <td>3.683203</td>\n",
       "      <td>1.675956</td>\n",
       "      <td>0.758169</td>\n",
       "      <td>0.378450</td>\n",
       "      <td>-0.000049</td>\n",
       "      <td>-0.850489</td>\n",
       "    </tr>\n",
       "    <tr>\n",
       "      <th>532</th>\n",
       "      <td>2.955556</td>\n",
       "      <td>7.960408</td>\n",
       "      <td>1.517275</td>\n",
       "      <td>-0.883836</td>\n",
       "      <td>0.325926</td>\n",
       "      <td>-0.002871</td>\n",
       "      <td>-1.141231</td>\n",
       "    </tr>\n",
       "  </tbody>\n",
       "</table>\n",
       "</div>"
      ],
      "text/plain": [
       "            t       phi     omega     alpha         r     r-dot  r-dotdot\n",
       "241  1.338889  3.683203  1.675956  0.758169  0.378450 -0.000049 -0.850489\n",
       "532  2.955556  7.960408  1.517275 -0.883836  0.325926 -0.002871 -1.141231"
      ]
     },
     "execution_count": 16,
     "metadata": {},
     "output_type": "execute_result"
    }
   ],
   "source": [
    "p = pol[3]\n",
    "z = p.loc[abs(p['r-dot']) < 0.003]\n",
    "z = z.loc[p['r-dotdot'] < 0]\n",
    "z"
   ]
  },
  {
   "cell_type": "code",
   "execution_count": 17,
   "metadata": {},
   "outputs": [
    {
     "data": {
      "image/png": "[encoded data removed]",
      "text/plain": [
       "<matplotlib.figure.Figure at 0x7f679c5e6e80>"
      ]
     },
     "metadata": {},
     "output_type": "display_data"
    }
   ],
   "source": [
    "%matplotlib inline\n",
    "plt.plot(p['r'])\n",
    "for i in z.index.tolist():\n",
    "    plt.plot((i,i), (0, 0.5))\n"
   ]
  },
  {
   "cell_type": "code",
   "execution_count": 18,
   "metadata": {},
   "outputs": [],
   "source": [
    "maxims_4 = z"
   ]
  },
  {
   "cell_type": "code",
   "execution_count": 19,
   "metadata": {},
   "outputs": [],
   "source": [
    "maxims = [maxims_1, maxims_2, maxims_3, maxims_4]"
   ]
  },
  {
   "cell_type": "code",
   "execution_count": 20,
   "metadata": {},
   "outputs": [],
   "source": [
    "quantes_elipses = [2,4,4,1]"
   ]
  },
  {
   "cell_type": "code",
   "execution_count": 21,
   "metadata": {},
   "outputs": [],
   "source": [
    "elipses = {}"
   ]
  },
  {
   "cell_type": "code",
   "execution_count": 22,
   "metadata": {},
   "outputs": [],
   "source": [
    "for i in range(1,5):\n",
    "    elipses[i] = {}\n",
    "    for j in range(quantes_elipses[i-1]):\n",
    "        elipses[i][j+1] = {}"
   ]
  },
  {
   "cell_type": "code",
   "execution_count": 23,
   "metadata": {
    "scrolled": true
   },
   "outputs": [
    {
     "data": {
      "text/plain": [
       "{1: {1: {}, 2: {}},\n",
       " 2: {1: {}, 2: {}, 3: {}, 4: {}},\n",
       " 3: {1: {}, 2: {}, 3: {}, 4: {}},\n",
       " 4: {1: {}}}"
      ]
     },
     "execution_count": 23,
     "metadata": {},
     "output_type": "execute_result"
    }
   ],
   "source": [
    "elipses"
   ]
  },
  {
   "cell_type": "code",
   "execution_count": 24,
   "metadata": {},
   "outputs": [],
   "source": [
    "#Com iterar pel diccionari xetat\n",
    "for take in elipses:\n",
    "    for elipse in elipses[take]:\n",
    "        pass\n",
    "        #assert(elipses[take][elipse]['l'] < elipses[take][elipse]['L'])"
   ]
  },
  {
   "cell_type": "markdown",
   "metadata": {},
   "source": [
    "# Periode OK"
   ]
  },
  {
   "cell_type": "code",
   "execution_count": 25,
   "metadata": {},
   "outputs": [
    {
     "name": "stdout",
     "output_type": "stream",
     "text": [
      "1 1 1.3333333329999997\n",
      "1 2 1.5388888890000008\n",
      "2 1 1.5999999999999943\n",
      "2 2 1.18888888888889\n",
      "2 3 1.6388888888888795\n",
      "2 4 1.24444444444444\n",
      "3 1 1.772222222222217\n",
      "3 2 1.37222222222222\n",
      "3 3 1.1944444444444402\n",
      "3 4 1.3777777777777702\n",
      "4 1 1.61666666666666\n"
     ]
    }
   ],
   "source": [
    "i = 0\n",
    "for dataset in maxims:\n",
    "    i+=1\n",
    "    temps = list(dataset.t)\n",
    "    for j in range(len(temps)-1):\n",
    "        elipses[i][j+1]['t'] = temps[j+1]-temps[j]\n",
    "        print(i, j+1, temps[j+1]-temps[j])"
   ]
  },
  {
   "cell_type": "markdown",
   "metadata": {},
   "source": [
    "# Semieix Major OK "
   ]
  },
  {
   "cell_type": "code",
   "execution_count": 26,
   "metadata": {},
   "outputs": [],
   "source": [
    "i = 0\n",
    "for dataset in maxims:\n",
    "    i+=1\n",
    "    indexos_maxims = list(dataset.transpose())\n",
    "    for j in range(len(indexos_maxims)-1):\n",
    "        max1 = indexos_maxims[j]\n",
    "        max2 = indexos_maxims[j+1]\n",
    "        index_minim = pol[i-1].r[max1:max2].idxmin()\n",
    "        afeli = pol[i-1].r[index_minim]\n",
    "        periheli = 0.5*(pol[i-1].r[max1] + pol[i-1].r[max2])\n",
    "        elipses[i][j+1]['L'] = (afeli+periheli)/2"
   ]
  },
  {
   "cell_type": "code",
   "execution_count": 27,
   "metadata": {},
   "outputs": [
    {
     "data": {
      "text/plain": [
       "{1: {1: {'L': 0.28184624695753752, 't': 1.3333333329999997},\n",
       "  2: {'L': 0.23217574863729576, 't': 1.5388888890000008}},\n",
       " 2: {1: {'L': 0.28579164739621871, 't': 1.5999999999999943},\n",
       "  2: {'L': 0.25552427611644646, 't': 1.18888888888889},\n",
       "  3: {'L': 0.220229590970276, 't': 1.6388888888888795},\n",
       "  4: {'L': 0.17552464485251351, 't': 1.24444444444444}},\n",
       " 3: {1: {'L': 0.26845971958832127, 't': 1.772222222222217},\n",
       "  2: {'L': 0.22343039389208952, 't': 1.37222222222222},\n",
       "  3: {'L': 0.1893539626682465, 't': 1.1944444444444402},\n",
       "  4: {'L': 0.16834463877026024, 't': 1.3777777777777702}},\n",
       " 4: {1: {'L': 0.28353142360328398, 't': 1.61666666666666}}}"
      ]
     },
     "execution_count": 27,
     "metadata": {},
     "output_type": "execute_result"
    }
   ],
   "source": [
    "elipses"
   ]
  },
  {
   "cell_type": "markdown",
   "metadata": {},
   "source": [
    "Semieix Menor"
   ]
  },
  {
   "cell_type": "code",
   "execution_count": 28,
   "metadata": {},
   "outputs": [],
   "source": [
    "dist_acc = {}\n",
    "for i in range(1,5):\n",
    "    df = cart[i-1]\n",
    "    delta_x = [0]+[df.x[i+1]-df.x[i] for i in range(len(df)-1)]\n",
    "    delta_y = [0]+[df.y[i+1]-df.y[i] for i in range(len(df)-1)]\n",
    "    dist = [np.sqrt(a**2 + b**2) for a,b in zip(delta_x, delta_y)]\n",
    "    dist_acc[i] = np.cumsum(dist)\n",
    "    "
   ]
  },
  {
   "cell_type": "code",
   "execution_count": 29,
   "metadata": {},
   "outputs": [],
   "source": [
    "i = 0\n",
    "for dataset in maxims:\n",
    "    i+=1\n",
    "    indexos_maxims = list(dataset.transpose())\n",
    "    for j in range(len(indexos_maxims)-1):\n",
    "        max1 = indexos_maxims[j]\n",
    "        max2 = indexos_maxims[j+1]\n",
    "        index_minim = pol[i-1].r[max1:max2].idxmin()\n",
    "        afeli = pol[i-1].r[index_minim]\n",
    "        d1 = dist_acc[i][max1]\n",
    "        d2 = dist_acc[i][index_minim]\n",
    "        d3 = dist_acc[i][max2]\n",
    "        i1 = np.min(np.where(dist_acc[i]>(d1+d2)/2))\n",
    "        i2 = np.min(np.where(dist_acc[i]>(d2+d3)/2))\n",
    "        v = [pol[i-1].r[i1], pol[i-1].r[i2]]\n",
    "        l1 = np.sqrt(-(elipses[i][j+1]['L']-afeli)**2 + v[0]**2)\n",
    "        l2 = np.sqrt(-(elipses[i][j+1]['L']-afeli)**2 + v[1]**2)\n",
    "        elipses[i][j+1]['l'] = 0.5*(l1+l2)"
   ]
  },
  {
   "cell_type": "code",
   "execution_count": 30,
   "metadata": {},
   "outputs": [
    {
     "data": {
      "text/plain": [
       "{1: {1: {'L': 0.28184624695753752,\n",
       "   'l': 0.26512352252207771,\n",
       "   't': 1.3333333329999997},\n",
       "  2: {'L': 0.23217574863729576,\n",
       "   'l': 0.21789919385831846,\n",
       "   't': 1.5388888890000008}},\n",
       " 2: {1: {'L': 0.28579164739621871,\n",
       "   'l': 0.2786463844464549,\n",
       "   't': 1.5999999999999943},\n",
       "  2: {'L': 0.25552427611644646,\n",
       "   'l': 0.25165738883553024,\n",
       "   't': 1.18888888888889},\n",
       "  3: {'L': 0.220229590970276,\n",
       "   'l': 0.21148022041433875,\n",
       "   't': 1.6388888888888795},\n",
       "  4: {'L': 0.17552464485251351,\n",
       "   'l': 0.17196973157213469,\n",
       "   't': 1.24444444444444}},\n",
       " 3: {1: {'L': 0.26845971958832127,\n",
       "   'l': 0.25677362139418614,\n",
       "   't': 1.772222222222217},\n",
       "  2: {'L': 0.22343039389208952,\n",
       "   'l': 0.21581866373242387,\n",
       "   't': 1.37222222222222},\n",
       "  3: {'L': 0.1893539626682465,\n",
       "   'l': 0.17618013698663706,\n",
       "   't': 1.1944444444444402},\n",
       "  4: {'L': 0.16834463877026024,\n",
       "   'l': 0.15625523988913589,\n",
       "   't': 1.3777777777777702}},\n",
       " 4: {1: {'L': 0.28353142360328398,\n",
       "   'l': 0.26923792083564541,\n",
       "   't': 1.61666666666666}}}"
      ]
     },
     "execution_count": 30,
     "metadata": {},
     "output_type": "execute_result"
    }
   ],
   "source": [
    "elipses"
   ]
  },
  {
   "cell_type": "code",
   "execution_count": 31,
   "metadata": {},
   "outputs": [],
   "source": [
    "def ploteja(take, elipse):\n",
    "    plt.close()\n",
    "    dataset = maxims[take-1]\n",
    "    indexos_maxims = list(dataset.transpose())\n",
    "    plt.plot(cart[take-1].x[indexos_maxims[elipse-1]:indexos_maxims[elipse]],cart[take-1].y[indexos_maxims[elipse-1]:indexos_maxims[elipse]])\n",
    "    max1 = indexos_maxims[elipse-1]\n",
    "    max2 = indexos_maxims[elipse]\n",
    "    index_minim = pol[take-1].r[max1:max2].idxmin()\n",
    "    afeli = pol[take-1].r[index_minim]\n",
    "    d1 = dist_acc[take][max1]\n",
    "    d2 = dist_acc[take][index_minim]\n",
    "    d3 = dist_acc[take][max2]\n",
    "    i1 = np.min(np.where(dist_acc[take]>(d1+d2)/2))\n",
    "    i2 = np.min(np.where(dist_acc[take]>(d2+d3)/2))\n",
    "\n",
    "    plt.scatter(cart[take-1].x[i1],cart[take-1].y[i1], c = 'b')\n",
    "    plt.scatter(cart[take-1].x[i2],cart[take-1].y[i2], c = 'b')\n",
    "    plt.scatter(0,0, s = 3000)\n",
    "    plt.scatter(cart[take-1].x[max1],cart[take-1].y[max1], c = 'r')\n",
    "    plt.scatter(cart[take-1].x[max2],cart[take-1].y[max2], c = 'r')\n",
    "    plt.scatter(cart[take-1].x[index_minim],cart[take-1].y[index_minim], c = 'y')\n",
    "    plt.title(\"get validated son\")\n",
    "    plt.axis('equal')"
   ]
  },
  {
   "cell_type": "code",
   "execution_count": 32,
   "metadata": {},
   "outputs": [],
   "source": [
    "def plotejat(take):\n",
    "    plt.close()\n",
    "    dataset = maxims[take-1]\n",
    "    for elipse in range(1,len(dataset)):\n",
    "        indexos_maxims = list(dataset.transpose())\n",
    "        plt.plot(cart[take-1].x[indexos_maxims[elipse-1]:indexos_maxims[elipse]],cart[take-1].y[indexos_maxims[elipse-1]:indexos_maxims[elipse]])\n",
    "        max1 = indexos_maxims[elipse-1]\n",
    "        max2 = indexos_maxims[elipse]\n",
    "        index_minim = pol[take-1].r[max1:max2].idxmin()\n",
    "        afeli = pol[take-1].r[index_minim]\n",
    "        d1 = dist_acc[take][max1]\n",
    "        d2 = dist_acc[take][index_minim]\n",
    "        d3 = dist_acc[take][max2]\n",
    "        i1 = np.min(np.where(dist_acc[take]>(d1+d2)/2))\n",
    "        i2 = np.min(np.where(dist_acc[take]>(d2+d3)/2))\n",
    "        \"\"\"\n",
    "        plt.scatter(cart[take-1].x[i1],cart[take-1].y[i1], c = 'b')\n",
    "        plt.scatter(cart[take-1].x[i2],cart[take-1].y[i2], c = 'b')\n",
    "        plt.scatter(cart[take-1].x[max1],cart[take-1].y[max1], c = 'r')\n",
    "        plt.scatter(cart[take-1].x[max2],cart[take-1].y[max2], c = 'r')\n",
    "        plt.scatter(cart[take-1].x[index_minim],cart[take-1].y[index_minim], c = 'y')\n",
    "        \"\"\"\n",
    "        plt.scatter(0,0, s = 1000)\n",
    "        plt.title(\"get validated son\")\n",
    "        plt.axis('equal')"
   ]
  },
  {
   "cell_type": "code",
   "execution_count": 33,
   "metadata": {},
   "outputs": [
    {
     "data": {
      "text/plain": [
       "{1: {'L': 0.28353142360328398,\n",
       "  'l': 0.26923792083564541,\n",
       "  't': 1.61666666666666}}"
      ]
     },
     "execution_count": 33,
     "metadata": {},
     "output_type": "execute_result"
    }
   ],
   "source": [
    "elipses[4]"
   ]
  },
  {
   "cell_type": "code",
   "execution_count": 34,
   "metadata": {
    "scrolled": true
   },
   "outputs": [
    {
     "data": {
      "image/png": "[encoded data removed]",
      "text/plain": [
       "<matplotlib.figure.Figure at 0x7f679c5582b0>"
      ]
     },
     "metadata": {},
     "output_type": "display_data"
    }
   ],
   "source": [
    "colors = np.random.random((6,3))\n",
    "for j in range(1,5):\n",
    "    #plt.plot([elipses[j][i+1]['l'] for i in range(len(elipses[j]))], c = colors[j])\n",
    "    #plt.plot([elipses[j][i+1]['L'] for i in range(len(elipses[j]))], c = colors[j])\n",
    "    v = [elipses[j][i+1]['t'] for i in range(len(elipses[j]))]\n",
    "    plt.scatter(range(len(v)), v, c = colors[j])"
   ]
  },
  {
   "cell_type": "code",
   "execution_count": 35,
   "metadata": {
    "scrolled": true
   },
   "outputs": [
    {
     "data": {
      "image/png": "[encoded data removed]",
      "text/plain": [
       "<matplotlib.figure.Figure at 0x7f679c54ca20>"
      ]
     },
     "metadata": {},
     "output_type": "display_data"
    }
   ],
   "source": [
    "ploteja(2,2)"
   ]
  },
  {
   "cell_type": "code",
   "execution_count": 36,
   "metadata": {},
   "outputs": [
    {
     "data": {
      "text/plain": [
       "(-0.25429665583945316,\n",
       " 0.34617094277732618,\n",
       " -0.39245092195400433,\n",
       " 0.33289656760218628)"
      ]
     },
     "execution_count": 36,
     "metadata": {},
     "output_type": "execute_result"
    },
    {
     "data": {
      "image/png": "[encoded data removed]",
      "text/plain": [
       "<matplotlib.figure.Figure at 0x7f679c5304e0>"
      ]
     },
     "metadata": {},
     "output_type": "display_data"
    }
   ],
   "source": [
    "plt.plot(cart[1].x, cart[1].y)\n",
    "plt.axis('equal')"
   ]
  },
  {
   "cell_type": "code",
   "execution_count": 37,
   "metadata": {},
   "outputs": [],
   "source": [
    "i = 0\n",
    "for dataset in maxims:\n",
    "    i+=1\n",
    "    indexos_maxims = list(dataset.transpose())\n",
    "    for j in range(len(indexos_maxims)-1):\n",
    "        elipses[i][j+1]['e'] = np.sqrt(1-(elipses[i][j+1]['l']/elipses[i][j+1]['L'])**2)"
   ]
  },
  {
   "cell_type": "code",
   "execution_count": 38,
   "metadata": {
    "scrolled": true
   },
   "outputs": [
    {
     "data": {
      "text/plain": [
       "{1: {1: {'L': 0.28184624695753752,\n",
       "   'e': 0.33933051987091167,\n",
       "   'l': 0.26512352252207771,\n",
       "   't': 1.3333333329999997},\n",
       "  2: {'L': 0.23217574863729576,\n",
       "   'e': 0.34525284880252183,\n",
       "   'l': 0.21789919385831846,\n",
       "   't': 1.5388888890000008}},\n",
       " 2: {1: {'L': 0.28579164739621871,\n",
       "   'e': 0.22221210345266657,\n",
       "   'l': 0.2786463844464549,\n",
       "   't': 1.5999999999999943},\n",
       "  2: {'L': 0.25552427611644646,\n",
       "   'e': 0.17331268967296162,\n",
       "   'l': 0.25165738883553024,\n",
       "   't': 1.18888888888889},\n",
       "  3: {'L': 0.220229590970276,\n",
       "   'e': 0.27906713411620293,\n",
       "   'l': 0.21148022041433875,\n",
       "   't': 1.6388888888888795},\n",
       "  4: {'L': 0.17552464485251351,\n",
       "   'e': 0.20023974927755117,\n",
       "   'l': 0.17196973157213469,\n",
       "   't': 1.24444444444444}},\n",
       " 3: {1: {'L': 0.26845971958832127,\n",
       "   'e': 0.29183123745886019,\n",
       "   'l': 0.25677362139418614,\n",
       "   't': 1.772222222222217},\n",
       "  2: {'L': 0.22343039389208952,\n",
       "   'e': 0.25879439137071159,\n",
       "   'l': 0.21581866373242387,\n",
       "   't': 1.37222222222222},\n",
       "  3: {'L': 0.1893539626682465,\n",
       "   'e': 0.3664759731287392,\n",
       "   'l': 0.17618013698663706,\n",
       "   't': 1.1944444444444402},\n",
       "  4: {'L': 0.16834463877026024,\n",
       "   'e': 0.37211505414030654,\n",
       "   'l': 0.15625523988913589,\n",
       "   't': 1.3777777777777702}},\n",
       " 4: {1: {'L': 0.28353142360328398,\n",
       "   'e': 0.31350185254773566,\n",
       "   'l': 0.26923792083564541,\n",
       "   't': 1.61666666666666}}}"
      ]
     },
     "execution_count": 38,
     "metadata": {},
     "output_type": "execute_result"
    }
   ],
   "source": [
    "elipses"
   ]
  },
  {
   "cell_type": "code",
   "execution_count": 39,
   "metadata": {},
   "outputs": [],
   "source": [
    "#Perihelion Precession"
   ]
  },
  {
   "cell_type": "code",
   "execution_count": 40,
   "metadata": {},
   "outputs": [
    {
     "data": {
      "text/html": [
       "<div>\n",
       "<style scoped>\n",
       "    .dataframe tbody tr th:only-of-type {\n",
       "        vertical-align: middle;\n",
       "    }\n",
       "\n",
       "    .dataframe tbody tr th {\n",
       "        vertical-align: top;\n",
       "    }\n",
       "\n",
       "    .dataframe thead th {\n",
       "        text-align: right;\n",
       "    }\n",
       "</style>\n",
       "<table border=\"1\" class=\"dataframe\">\n",
       "  <thead>\n",
       "    <tr style=\"text-align: right;\">\n",
       "      <th></th>\n",
       "      <th>t</th>\n",
       "      <th>phi</th>\n",
       "      <th>omega</th>\n",
       "      <th>alpha</th>\n",
       "      <th>r</th>\n",
       "      <th>r-dot</th>\n",
       "      <th>r-dotdot</th>\n",
       "    </tr>\n",
       "  </thead>\n",
       "  <tbody>\n",
       "    <tr>\n",
       "      <th>403</th>\n",
       "      <td>2.238889</td>\n",
       "      <td>5.061959</td>\n",
       "      <td>1.281938</td>\n",
       "      <td>-0.019233</td>\n",
       "      <td>0.386377</td>\n",
       "      <td>0.001929</td>\n",
       "      <td>-1.251190</td>\n",
       "    </tr>\n",
       "    <tr>\n",
       "      <th>643</th>\n",
       "      <td>3.572222</td>\n",
       "      <td>8.441927</td>\n",
       "      <td>1.815490</td>\n",
       "      <td>0.008452</td>\n",
       "      <td>0.309412</td>\n",
       "      <td>0.001614</td>\n",
       "      <td>-1.077273</td>\n",
       "    </tr>\n",
       "    <tr>\n",
       "      <th>920</th>\n",
       "      <td>5.111111</td>\n",
       "      <td>13.061033</td>\n",
       "      <td>1.653063</td>\n",
       "      <td>0.004167</td>\n",
       "      <td>0.312830</td>\n",
       "      <td>-0.000612</td>\n",
       "      <td>-0.619983</td>\n",
       "    </tr>\n",
       "  </tbody>\n",
       "</table>\n",
       "</div>"
      ],
      "text/plain": [
       "            t        phi     omega     alpha         r     r-dot  r-dotdot\n",
       "403  2.238889   5.061959  1.281938 -0.019233  0.386377  0.001929 -1.251190\n",
       "643  3.572222   8.441927  1.815490  0.008452  0.309412  0.001614 -1.077273\n",
       "920  5.111111  13.061033  1.653063  0.004167  0.312830 -0.000612 -0.619983"
      ]
     },
     "execution_count": 40,
     "metadata": {},
     "output_type": "execute_result"
    }
   ],
   "source": [
    "maxims[0]"
   ]
  },
  {
   "cell_type": "code",
   "execution_count": 41,
   "metadata": {
    "scrolled": true
   },
   "outputs": [
    {
     "name": "stdout",
     "output_type": "stream",
     "text": [
      "1 1 -2.9032169245858457\n",
      "1 2 -1.6640795550695682\n",
      "2 1 -2.3185411933930022\n",
      "2 2 -2.8464536128942353\n",
      "2 3 -1.2265097564268768\n",
      "2 4 -1.9167360885572862\n",
      "3 1 -1.6557735566743963\n",
      "3 2 -2.2502680608697654\n",
      "3 3 -2.3990810975874783\n",
      "3 4 -1.3861191630590852\n",
      "4 1 -2.0059799799955655\n"
     ]
    }
   ],
   "source": [
    "i = 0\n",
    "for dataset in maxims:\n",
    "    i+=1\n",
    "    angles = list(dataset.phi)\n",
    "    for j in range(len(angles)-1):\n",
    "        elipses[i][j+1]['peri'] = angles[j+1]-angles[j]-2*np.pi\n",
    "        print(i, j+1, angles[j+1]-angles[j] - 2*np.pi)"
   ]
  },
  {
   "cell_type": "code",
   "execution_count": 42,
   "metadata": {},
   "outputs": [],
   "source": [
    "import pickle"
   ]
  },
  {
   "cell_type": "code",
   "execution_count": 43,
   "metadata": {},
   "outputs": [],
   "source": [
    "pickle.dump(elipses, open(\"resultats2.0.p\", \"wb\"))"
   ]
  },
  {
   "cell_type": "code",
   "execution_count": 67,
   "metadata": {},
   "outputs": [
    {
     "data": {
      "image/png": "[encoded data removed]",
      "text/plain": [
       "<matplotlib.figure.Figure at 0x7f6794a0e860>"
      ]
     },
     "metadata": {},
     "output_type": "display_data"
    }
   ],
   "source": [
    "#Com iterar pel diccionari xetat\n",
    "for take in elipses:\n",
    "    for elipse in elipses[take]:\n",
    "        plt.scatter(elipses[take][elipse]['t'], elipses[take][elipse]['peri'])\n",
    "        plt.axis('equal')"
   ]
  },
  {
   "cell_type": "code",
   "execution_count": 64,
   "metadata": {},
   "outputs": [],
   "source": [
    "from scipy oimport stats\n",
    "slope, intercept, r_value, p_value, std_err = stats.linregress(x,y)\n"
   ]
  },
  {
   "cell_type": "code",
   "execution_count": 65,
   "metadata": {},
   "outputs": [
    {
     "data": {
      "text/plain": [
       "0.99007672597060881"
      ]
     },
     "execution_count": 65,
     "metadata": {},
     "output_type": "execute_result"
    }
   ],
   "source": [
    "r_value**2"
   ]
  },
  {
   "cell_type": "code",
   "execution_count": null,
   "metadata": {},
   "outputs": [],
   "source": []
  }
 ],
 "metadata": {
  "anaconda-cloud": {},
  "kernelspec": {
   "display_name": "Python 3",
   "language": "python",
   "name": "python3"
  },
  "language_info": {
   "codemirror_mode": {
    "name": "ipython",
    "version": 3
   },
   "file_extension": ".py",
   "mimetype": "text/x-python",
   "name": "python",
   "nbconvert_exporter": "python",
   "pygments_lexer": "ipython3",
   "version": "3.5.3"
  }
 },
 "nbformat": 4,
 "nbformat_minor": 1
}
