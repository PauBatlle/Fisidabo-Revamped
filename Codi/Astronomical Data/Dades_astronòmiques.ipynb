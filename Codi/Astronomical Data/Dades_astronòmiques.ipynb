{
 "cells": [
  {
   "cell_type": "code",
   "execution_count": 1,
   "metadata": {},
   "outputs": [],
   "source": [
    "import pandas as pd\n",
    "import numpy as np\n",
    "import matplotlib.pyplot as plt"
   ]
  },
  {
   "cell_type": "code",
   "execution_count": 2,
   "metadata": {},
   "outputs": [
    {
     "data": {
      "text/plain": [
       "'/home/pau/Desktop/Fisidabo_Final/Codi/Astronomical Data'"
      ]
     },
     "execution_count": 2,
     "metadata": {},
     "output_type": "execute_result"
    }
   ],
   "source": [
    "pwd"
   ]
  },
  {
   "cell_type": "code",
   "execution_count": 3,
   "metadata": {
    "scrolled": true
   },
   "outputs": [],
   "source": [
    "cart = [pd.read_csv(\"../Data/\"+str(i)+\"Cart.csv\") for i in range(1,5)] #Llegeixo fitxers"
   ]
  },
  {
   "cell_type": "code",
   "execution_count": 4,
   "metadata": {},
   "outputs": [],
   "source": [
    "pol = [pd.read_csv(\"../Data/\"+str(i)+\"Pol.csv\") for i in range(1,5)]\n",
    "pol = [p.drop('Unnamed: 0', 1) for p in pol] #Una guarrada, trec a mà una columna que em sobra"
   ]
  },
  {
   "cell_type": "code",
   "execution_count": 5,
   "metadata": {},
   "outputs": [],
   "source": [
    "aux = cart[0]"
   ]
  },
  {
   "cell_type": "code",
   "execution_count": 6,
   "metadata": {},
   "outputs": [],
   "source": [
    "colors = np.linspace(0,1,10)"
   ]
  },
  {
   "cell_type": "code",
   "execution_count": 11,
   "metadata": {},
   "outputs": [],
   "source": [
    "aux2 = pol[0]"
   ]
  },
  {
   "cell_type": "code",
   "execution_count": 14,
   "metadata": {},
   "outputs": [
    {
     "ename": "KeyError",
     "evalue": "'phidot'",
     "output_type": "error",
     "traceback": [
      "\u001b[0;31m---------------------------------------------------------------------------\u001b[0m",
      "\u001b[0;31mKeyError\u001b[0m                                  Traceback (most recent call last)",
      "\u001b[0;32m/usr/local/lib/python3.5/dist-packages/pandas/core/indexes/base.py\u001b[0m in \u001b[0;36mget_loc\u001b[0;34m(self, key, method, tolerance)\u001b[0m\n\u001b[1;32m   2521\u001b[0m             \u001b[0;32mtry\u001b[0m\u001b[0;34m:\u001b[0m\u001b[0;34m\u001b[0m\u001b[0m\n\u001b[0;32m-> 2522\u001b[0;31m                 \u001b[0;32mreturn\u001b[0m \u001b[0mself\u001b[0m\u001b[0;34m.\u001b[0m\u001b[0m_engine\u001b[0m\u001b[0;34m.\u001b[0m\u001b[0mget_loc\u001b[0m\u001b[0;34m(\u001b[0m\u001b[0mkey\u001b[0m\u001b[0;34m)\u001b[0m\u001b[0;34m\u001b[0m\u001b[0m\n\u001b[0m\u001b[1;32m   2523\u001b[0m             \u001b[0;32mexcept\u001b[0m \u001b[0mKeyError\u001b[0m\u001b[0;34m:\u001b[0m\u001b[0;34m\u001b[0m\u001b[0m\n",
      "\u001b[0;32mpandas/_libs/index.pyx\u001b[0m in \u001b[0;36mpandas._libs.index.IndexEngine.get_loc\u001b[0;34m()\u001b[0m\n",
      "\u001b[0;32mpandas/_libs/index.pyx\u001b[0m in \u001b[0;36mpandas._libs.index.IndexEngine.get_loc\u001b[0;34m()\u001b[0m\n",
      "\u001b[0;32mpandas/_libs/hashtable_class_helper.pxi\u001b[0m in \u001b[0;36mpandas._libs.hashtable.PyObjectHashTable.get_item\u001b[0;34m()\u001b[0m\n",
      "\u001b[0;32mpandas/_libs/hashtable_class_helper.pxi\u001b[0m in \u001b[0;36mpandas._libs.hashtable.PyObjectHashTable.get_item\u001b[0;34m()\u001b[0m\n",
      "\u001b[0;31mKeyError\u001b[0m: 'phidot'",
      "\nDuring handling of the above exception, another exception occurred:\n",
      "\u001b[0;31mKeyError\u001b[0m                                  Traceback (most recent call last)",
      "\u001b[0;32m<ipython-input-14-2f7f271d4b20>\u001b[0m in \u001b[0;36m<module>\u001b[0;34m()\u001b[0m\n\u001b[0;32m----> 1\u001b[0;31m \u001b[0mplt\u001b[0m\u001b[0;34m.\u001b[0m\u001b[0mplot\u001b[0m\u001b[0;34m(\u001b[0m\u001b[0maux2\u001b[0m\u001b[0;34m[\u001b[0m\u001b[0;34m'phidot'\u001b[0m\u001b[0;34m]\u001b[0m\u001b[0;34m)\u001b[0m\u001b[0;34m\u001b[0m\u001b[0m\n\u001b[0m",
      "\u001b[0;32m/usr/local/lib/python3.5/dist-packages/pandas/core/frame.py\u001b[0m in \u001b[0;36m__getitem__\u001b[0;34m(self, key)\u001b[0m\n\u001b[1;32m   2137\u001b[0m             \u001b[0;32mreturn\u001b[0m \u001b[0mself\u001b[0m\u001b[0;34m.\u001b[0m\u001b[0m_getitem_multilevel\u001b[0m\u001b[0;34m(\u001b[0m\u001b[0mkey\u001b[0m\u001b[0;34m)\u001b[0m\u001b[0;34m\u001b[0m\u001b[0m\n\u001b[1;32m   2138\u001b[0m         \u001b[0;32melse\u001b[0m\u001b[0;34m:\u001b[0m\u001b[0;34m\u001b[0m\u001b[0m\n\u001b[0;32m-> 2139\u001b[0;31m             \u001b[0;32mreturn\u001b[0m \u001b[0mself\u001b[0m\u001b[0;34m.\u001b[0m\u001b[0m_getitem_column\u001b[0m\u001b[0;34m(\u001b[0m\u001b[0mkey\u001b[0m\u001b[0;34m)\u001b[0m\u001b[0;34m\u001b[0m\u001b[0m\n\u001b[0m\u001b[1;32m   2140\u001b[0m \u001b[0;34m\u001b[0m\u001b[0m\n\u001b[1;32m   2141\u001b[0m     \u001b[0;32mdef\u001b[0m \u001b[0m_getitem_column\u001b[0m\u001b[0;34m(\u001b[0m\u001b[0mself\u001b[0m\u001b[0;34m,\u001b[0m \u001b[0mkey\u001b[0m\u001b[0;34m)\u001b[0m\u001b[0;34m:\u001b[0m\u001b[0;34m\u001b[0m\u001b[0m\n",
      "\u001b[0;32m/usr/local/lib/python3.5/dist-packages/pandas/core/frame.py\u001b[0m in \u001b[0;36m_getitem_column\u001b[0;34m(self, key)\u001b[0m\n\u001b[1;32m   2144\u001b[0m         \u001b[0;31m# get column\u001b[0m\u001b[0;34m\u001b[0m\u001b[0;34m\u001b[0m\u001b[0m\n\u001b[1;32m   2145\u001b[0m         \u001b[0;32mif\u001b[0m \u001b[0mself\u001b[0m\u001b[0;34m.\u001b[0m\u001b[0mcolumns\u001b[0m\u001b[0;34m.\u001b[0m\u001b[0mis_unique\u001b[0m\u001b[0;34m:\u001b[0m\u001b[0;34m\u001b[0m\u001b[0m\n\u001b[0;32m-> 2146\u001b[0;31m             \u001b[0;32mreturn\u001b[0m \u001b[0mself\u001b[0m\u001b[0;34m.\u001b[0m\u001b[0m_get_item_cache\u001b[0m\u001b[0;34m(\u001b[0m\u001b[0mkey\u001b[0m\u001b[0;34m)\u001b[0m\u001b[0;34m\u001b[0m\u001b[0m\n\u001b[0m\u001b[1;32m   2147\u001b[0m \u001b[0;34m\u001b[0m\u001b[0m\n\u001b[1;32m   2148\u001b[0m         \u001b[0;31m# duplicate columns & possible reduce dimensionality\u001b[0m\u001b[0;34m\u001b[0m\u001b[0;34m\u001b[0m\u001b[0m\n",
      "\u001b[0;32m/usr/local/lib/python3.5/dist-packages/pandas/core/generic.py\u001b[0m in \u001b[0;36m_get_item_cache\u001b[0;34m(self, item)\u001b[0m\n\u001b[1;32m   1840\u001b[0m         \u001b[0mres\u001b[0m \u001b[0;34m=\u001b[0m \u001b[0mcache\u001b[0m\u001b[0;34m.\u001b[0m\u001b[0mget\u001b[0m\u001b[0;34m(\u001b[0m\u001b[0mitem\u001b[0m\u001b[0;34m)\u001b[0m\u001b[0;34m\u001b[0m\u001b[0m\n\u001b[1;32m   1841\u001b[0m         \u001b[0;32mif\u001b[0m \u001b[0mres\u001b[0m \u001b[0;32mis\u001b[0m \u001b[0;32mNone\u001b[0m\u001b[0;34m:\u001b[0m\u001b[0;34m\u001b[0m\u001b[0m\n\u001b[0;32m-> 1842\u001b[0;31m             \u001b[0mvalues\u001b[0m \u001b[0;34m=\u001b[0m \u001b[0mself\u001b[0m\u001b[0;34m.\u001b[0m\u001b[0m_data\u001b[0m\u001b[0;34m.\u001b[0m\u001b[0mget\u001b[0m\u001b[0;34m(\u001b[0m\u001b[0mitem\u001b[0m\u001b[0;34m)\u001b[0m\u001b[0;34m\u001b[0m\u001b[0m\n\u001b[0m\u001b[1;32m   1843\u001b[0m             \u001b[0mres\u001b[0m \u001b[0;34m=\u001b[0m \u001b[0mself\u001b[0m\u001b[0;34m.\u001b[0m\u001b[0m_box_item_values\u001b[0m\u001b[0;34m(\u001b[0m\u001b[0mitem\u001b[0m\u001b[0;34m,\u001b[0m \u001b[0mvalues\u001b[0m\u001b[0;34m)\u001b[0m\u001b[0;34m\u001b[0m\u001b[0m\n\u001b[1;32m   1844\u001b[0m             \u001b[0mcache\u001b[0m\u001b[0;34m[\u001b[0m\u001b[0mitem\u001b[0m\u001b[0;34m]\u001b[0m \u001b[0;34m=\u001b[0m \u001b[0mres\u001b[0m\u001b[0;34m\u001b[0m\u001b[0m\n",
      "\u001b[0;32m/usr/local/lib/python3.5/dist-packages/pandas/core/internals.py\u001b[0m in \u001b[0;36mget\u001b[0;34m(self, item, fastpath)\u001b[0m\n\u001b[1;32m   3836\u001b[0m \u001b[0;34m\u001b[0m\u001b[0m\n\u001b[1;32m   3837\u001b[0m             \u001b[0;32mif\u001b[0m \u001b[0;32mnot\u001b[0m \u001b[0misna\u001b[0m\u001b[0;34m(\u001b[0m\u001b[0mitem\u001b[0m\u001b[0;34m)\u001b[0m\u001b[0;34m:\u001b[0m\u001b[0;34m\u001b[0m\u001b[0m\n\u001b[0;32m-> 3838\u001b[0;31m                 \u001b[0mloc\u001b[0m \u001b[0;34m=\u001b[0m \u001b[0mself\u001b[0m\u001b[0;34m.\u001b[0m\u001b[0mitems\u001b[0m\u001b[0;34m.\u001b[0m\u001b[0mget_loc\u001b[0m\u001b[0;34m(\u001b[0m\u001b[0mitem\u001b[0m\u001b[0;34m)\u001b[0m\u001b[0;34m\u001b[0m\u001b[0m\n\u001b[0m\u001b[1;32m   3839\u001b[0m             \u001b[0;32melse\u001b[0m\u001b[0;34m:\u001b[0m\u001b[0;34m\u001b[0m\u001b[0m\n\u001b[1;32m   3840\u001b[0m                 \u001b[0mindexer\u001b[0m \u001b[0;34m=\u001b[0m \u001b[0mnp\u001b[0m\u001b[0;34m.\u001b[0m\u001b[0marange\u001b[0m\u001b[0;34m(\u001b[0m\u001b[0mlen\u001b[0m\u001b[0;34m(\u001b[0m\u001b[0mself\u001b[0m\u001b[0;34m.\u001b[0m\u001b[0mitems\u001b[0m\u001b[0;34m)\u001b[0m\u001b[0;34m)\u001b[0m\u001b[0;34m[\u001b[0m\u001b[0misna\u001b[0m\u001b[0;34m(\u001b[0m\u001b[0mself\u001b[0m\u001b[0;34m.\u001b[0m\u001b[0mitems\u001b[0m\u001b[0;34m)\u001b[0m\u001b[0;34m]\u001b[0m\u001b[0;34m\u001b[0m\u001b[0m\n",
      "\u001b[0;32m/usr/local/lib/python3.5/dist-packages/pandas/core/indexes/base.py\u001b[0m in \u001b[0;36mget_loc\u001b[0;34m(self, key, method, tolerance)\u001b[0m\n\u001b[1;32m   2522\u001b[0m                 \u001b[0;32mreturn\u001b[0m \u001b[0mself\u001b[0m\u001b[0;34m.\u001b[0m\u001b[0m_engine\u001b[0m\u001b[0;34m.\u001b[0m\u001b[0mget_loc\u001b[0m\u001b[0;34m(\u001b[0m\u001b[0mkey\u001b[0m\u001b[0;34m)\u001b[0m\u001b[0;34m\u001b[0m\u001b[0m\n\u001b[1;32m   2523\u001b[0m             \u001b[0;32mexcept\u001b[0m \u001b[0mKeyError\u001b[0m\u001b[0;34m:\u001b[0m\u001b[0;34m\u001b[0m\u001b[0m\n\u001b[0;32m-> 2524\u001b[0;31m                 \u001b[0;32mreturn\u001b[0m \u001b[0mself\u001b[0m\u001b[0;34m.\u001b[0m\u001b[0m_engine\u001b[0m\u001b[0;34m.\u001b[0m\u001b[0mget_loc\u001b[0m\u001b[0;34m(\u001b[0m\u001b[0mself\u001b[0m\u001b[0;34m.\u001b[0m\u001b[0m_maybe_cast_indexer\u001b[0m\u001b[0;34m(\u001b[0m\u001b[0mkey\u001b[0m\u001b[0;34m)\u001b[0m\u001b[0;34m)\u001b[0m\u001b[0;34m\u001b[0m\u001b[0m\n\u001b[0m\u001b[1;32m   2525\u001b[0m \u001b[0;34m\u001b[0m\u001b[0m\n\u001b[1;32m   2526\u001b[0m         \u001b[0mindexer\u001b[0m \u001b[0;34m=\u001b[0m \u001b[0mself\u001b[0m\u001b[0;34m.\u001b[0m\u001b[0mget_indexer\u001b[0m\u001b[0;34m(\u001b[0m\u001b[0;34m[\u001b[0m\u001b[0mkey\u001b[0m\u001b[0;34m]\u001b[0m\u001b[0;34m,\u001b[0m \u001b[0mmethod\u001b[0m\u001b[0;34m=\u001b[0m\u001b[0mmethod\u001b[0m\u001b[0;34m,\u001b[0m \u001b[0mtolerance\u001b[0m\u001b[0;34m=\u001b[0m\u001b[0mtolerance\u001b[0m\u001b[0;34m)\u001b[0m\u001b[0;34m\u001b[0m\u001b[0m\n",
      "\u001b[0;32mpandas/_libs/index.pyx\u001b[0m in \u001b[0;36mpandas._libs.index.IndexEngine.get_loc\u001b[0;34m()\u001b[0m\n",
      "\u001b[0;32mpandas/_libs/index.pyx\u001b[0m in \u001b[0;36mpandas._libs.index.IndexEngine.get_loc\u001b[0;34m()\u001b[0m\n",
      "\u001b[0;32mpandas/_libs/hashtable_class_helper.pxi\u001b[0m in \u001b[0;36mpandas._libs.hashtable.PyObjectHashTable.get_item\u001b[0;34m()\u001b[0m\n",
      "\u001b[0;32mpandas/_libs/hashtable_class_helper.pxi\u001b[0m in \u001b[0;36mpandas._libs.hashtable.PyObjectHashTable.get_item\u001b[0;34m()\u001b[0m\n",
      "\u001b[0;31mKeyError\u001b[0m: 'phidot'"
     ]
    }
   ],
   "source": [
    "plt.plot(aux2['phi'])"
   ]
  },
  {
   "cell_type": "code",
   "execution_count": 10,
   "metadata": {},
   "outputs": [
    {
     "data": {
      "text/plain": [
       "[<matplotlib.lines.Line2D at 0x7f302a5e4710>]"
      ]
     },
     "execution_count": 10,
     "metadata": {},
     "output_type": "execute_result"
    },
    {
     "data": {
      "image/png": "[encoded data removed]",
      "text/plain": [
       "<matplotlib.figure.Figure at 0x7f302a60a940>"
      ]
     },
     "metadata": {},
     "output_type": "display_data"
    }
   ],
   "source": [
    "%matplotlib inline\n",
    "plt.plot(aux.x,aux.y)\n",
    "plt.plot(aux.x[:100],aux.y[:100])\n",
    "plt.plot(aux.x[100:200],aux.y[100:200])"
   ]
  },
  {
   "cell_type": "markdown",
   "metadata": {},
   "source": [
    "Hem de trobar: (semi)Període, perihelion precession, excentricitat i semieix major"
   ]
  },
  {
   "cell_type": "code",
   "execution_count": 7,
   "metadata": {},
   "outputs": [],
   "source": [
    "z = list(pol[0]['r'])"
   ]
  },
  {
   "cell_type": "code",
   "execution_count": 8,
   "metadata": {},
   "outputs": [
    {
     "data": {
      "text/plain": [
       "1043"
      ]
     },
     "execution_count": 8,
     "metadata": {},
     "output_type": "execute_result"
    }
   ],
   "source": [
    "len(z)"
   ]
  },
  {
   "cell_type": "code",
   "execution_count": 9,
   "metadata": {},
   "outputs": [],
   "source": [
    "for i in range(0,4):\n",
    "    open(\"radi\"+str(i+1)+\".txt\", \"w\").write(str(list(pol[i]['r'])))"
   ]
  },
  {
   "cell_type": "code",
   "execution_count": 10,
   "metadata": {},
   "outputs": [],
   "source": [
    "#Trobem els màxims, per cada take\n",
    "p = pol[0]"
   ]
  },
  {
   "cell_type": "code",
   "execution_count": 11,
   "metadata": {},
   "outputs": [
    {
     "data": {
      "text/html": [
       "<div>\n",
       "<style scoped>\n",
       "    .dataframe tbody tr th:only-of-type {\n",
       "        vertical-align: middle;\n",
       "    }\n",
       "\n",
       "    .dataframe tbody tr th {\n",
       "        vertical-align: top;\n",
       "    }\n",
       "\n",
       "    .dataframe thead th {\n",
       "        text-align: right;\n",
       "    }\n",
       "</style>\n",
       "<table border=\"1\" class=\"dataframe\">\n",
       "  <thead>\n",
       "    <tr style=\"text-align: right;\">\n",
       "      <th></th>\n",
       "      <th>t</th>\n",
       "      <th>phi</th>\n",
       "      <th>omega</th>\n",
       "      <th>alpha</th>\n",
       "      <th>r</th>\n",
       "      <th>r-dot</th>\n",
       "      <th>r-dotdot</th>\n",
       "    </tr>\n",
       "  </thead>\n",
       "  <tbody>\n",
       "    <tr>\n",
       "      <th>403</th>\n",
       "      <td>2.238889</td>\n",
       "      <td>5.061959</td>\n",
       "      <td>1.281938</td>\n",
       "      <td>-0.019233</td>\n",
       "      <td>0.386377</td>\n",
       "      <td>0.001929</td>\n",
       "      <td>-1.251190</td>\n",
       "    </tr>\n",
       "    <tr>\n",
       "      <th>643</th>\n",
       "      <td>3.572222</td>\n",
       "      <td>8.441927</td>\n",
       "      <td>1.815490</td>\n",
       "      <td>0.008452</td>\n",
       "      <td>0.309412</td>\n",
       "      <td>0.001614</td>\n",
       "      <td>-1.077273</td>\n",
       "    </tr>\n",
       "    <tr>\n",
       "      <th>920</th>\n",
       "      <td>5.111111</td>\n",
       "      <td>13.061033</td>\n",
       "      <td>1.653063</td>\n",
       "      <td>0.004167</td>\n",
       "      <td>0.312830</td>\n",
       "      <td>-0.000612</td>\n",
       "      <td>-0.619983</td>\n",
       "    </tr>\n",
       "  </tbody>\n",
       "</table>\n",
       "</div>"
      ],
      "text/plain": [
       "            t        phi     omega     alpha         r     r-dot  r-dotdot\n",
       "403  2.238889   5.061959  1.281938 -0.019233  0.386377  0.001929 -1.251190\n",
       "643  3.572222   8.441927  1.815490  0.008452  0.309412  0.001614 -1.077273\n",
       "920  5.111111  13.061033  1.653063  0.004167  0.312830 -0.000612 -0.619983"
      ]
     },
     "execution_count": 11,
     "metadata": {},
     "output_type": "execute_result"
    }
   ],
   "source": [
    "z = p.loc[abs(p['r-dot']) < 0.0027] #Aquestes precisions són amb prova i error \n",
    "z = z.loc[p['r-dotdot'] < 0] #obvi, no?\n",
    "z"
   ]
  },
  {
   "cell_type": "code",
   "execution_count": 12,
   "metadata": {},
   "outputs": [
    {
     "data": {
      "image/png": "[encoded data removed]",
      "text/plain": [
       "<matplotlib.figure.Figure at 0x7f7b99104128>"
      ]
     },
     "metadata": {},
     "output_type": "display_data"
    }
   ],
   "source": [
    "%matplotlib inline\n",
    "plt.plot(p['r'])\n",
    "for i in z.index.tolist():\n",
    "    plt.plot((i,i), (0, 0.5)) #Sempre va bé veure un gràfic :)"
   ]
  },
  {
   "cell_type": "code",
   "execution_count": 13,
   "metadata": {},
   "outputs": [],
   "source": [
    "maxims_1 = z"
   ]
  },
  {
   "cell_type": "code",
   "execution_count": 14,
   "metadata": {},
   "outputs": [],
   "source": [
    "p = pol[1]"
   ]
  },
  {
   "cell_type": "code",
   "execution_count": 15,
   "metadata": {},
   "outputs": [
    {
     "data": {
      "text/html": [
       "<div>\n",
       "<style scoped>\n",
       "    .dataframe tbody tr th:only-of-type {\n",
       "        vertical-align: middle;\n",
       "    }\n",
       "\n",
       "    .dataframe tbody tr th {\n",
       "        vertical-align: top;\n",
       "    }\n",
       "\n",
       "    .dataframe thead th {\n",
       "        text-align: right;\n",
       "    }\n",
       "</style>\n",
       "<table border=\"1\" class=\"dataframe\">\n",
       "  <thead>\n",
       "    <tr style=\"text-align: right;\">\n",
       "      <th></th>\n",
       "      <th>t</th>\n",
       "      <th>phi</th>\n",
       "      <th>omega</th>\n",
       "      <th>alpha</th>\n",
       "      <th>r</th>\n",
       "      <th>r-dot</th>\n",
       "      <th>r-dotdot</th>\n",
       "    </tr>\n",
       "  </thead>\n",
       "  <tbody>\n",
       "    <tr>\n",
       "      <th>28</th>\n",
       "      <td>0.155556</td>\n",
       "      <td>0.257012</td>\n",
       "      <td>1.606302</td>\n",
       "      <td>-0.717342</td>\n",
       "      <td>0.400574</td>\n",
       "      <td>-0.001657</td>\n",
       "      <td>-0.836277</td>\n",
       "    </tr>\n",
       "    <tr>\n",
       "      <th>316</th>\n",
       "      <td>1.755556</td>\n",
       "      <td>4.221656</td>\n",
       "      <td>2.081260</td>\n",
       "      <td>0.506534</td>\n",
       "      <td>0.300785</td>\n",
       "      <td>0.000105</td>\n",
       "      <td>-0.631635</td>\n",
       "    </tr>\n",
       "    <tr>\n",
       "      <th>530</th>\n",
       "      <td>2.944444</td>\n",
       "      <td>7.658388</td>\n",
       "      <td>2.284474</td>\n",
       "      <td>-0.953660</td>\n",
       "      <td>0.261323</td>\n",
       "      <td>0.001013</td>\n",
       "      <td>-0.455887</td>\n",
       "    </tr>\n",
       "    <tr>\n",
       "      <th>825</th>\n",
       "      <td>4.583333</td>\n",
       "      <td>12.715063</td>\n",
       "      <td>2.255815</td>\n",
       "      <td>-1.373537</td>\n",
       "      <td>0.248730</td>\n",
       "      <td>0.001847</td>\n",
       "      <td>-0.894878</td>\n",
       "    </tr>\n",
       "    <tr>\n",
       "      <th>1049</th>\n",
       "      <td>5.827778</td>\n",
       "      <td>17.081513</td>\n",
       "      <td>2.856227</td>\n",
       "      <td>1.271863</td>\n",
       "      <td>0.197211</td>\n",
       "      <td>0.001673</td>\n",
       "      <td>-0.789028</td>\n",
       "    </tr>\n",
       "  </tbody>\n",
       "</table>\n",
       "</div>"
      ],
      "text/plain": [
       "             t        phi     omega     alpha         r     r-dot  r-dotdot\n",
       "28    0.155556   0.257012  1.606302 -0.717342  0.400574 -0.001657 -0.836277\n",
       "316   1.755556   4.221656  2.081260  0.506534  0.300785  0.000105 -0.631635\n",
       "530   2.944444   7.658388  2.284474 -0.953660  0.261323  0.001013 -0.455887\n",
       "825   4.583333  12.715063  2.255815 -1.373537  0.248730  0.001847 -0.894878\n",
       "1049  5.827778  17.081513  2.856227  1.271863  0.197211  0.001673 -0.789028"
      ]
     },
     "execution_count": 15,
     "metadata": {},
     "output_type": "execute_result"
    }
   ],
   "source": [
    "z = p.loc[abs(p['r-dot']) < 0.0027]\n",
    "z = z.loc[p['r-dotdot'] < 0]\n",
    "z = z.drop(z.index[[3]]) #A vegades he tret els duplicates a mà\n",
    "z"
   ]
  },
  {
   "cell_type": "code",
   "execution_count": 16,
   "metadata": {},
   "outputs": [
    {
     "data": {
      "image/png": "[encoded data removed]",
      "text/plain": [
       "<matplotlib.figure.Figure at 0x7f7b99704240>"
      ]
     },
     "metadata": {},
     "output_type": "display_data"
    }
   ],
   "source": [
    "%matplotlib inline\n",
    "plt.plot(p['r'])\n",
    "for i in z.index.tolist():\n",
    "    plt.plot((i,i), (0, 0.5))"
   ]
  },
  {
   "cell_type": "code",
   "execution_count": 17,
   "metadata": {},
   "outputs": [],
   "source": [
    "maxims_2 = z"
   ]
  },
  {
   "cell_type": "code",
   "execution_count": 18,
   "metadata": {},
   "outputs": [
    {
     "data": {
      "text/html": [
       "<div>\n",
       "<style scoped>\n",
       "    .dataframe tbody tr th:only-of-type {\n",
       "        vertical-align: middle;\n",
       "    }\n",
       "\n",
       "    .dataframe tbody tr th {\n",
       "        vertical-align: top;\n",
       "    }\n",
       "\n",
       "    .dataframe thead th {\n",
       "        text-align: right;\n",
       "    }\n",
       "</style>\n",
       "<table border=\"1\" class=\"dataframe\">\n",
       "  <thead>\n",
       "    <tr style=\"text-align: right;\">\n",
       "      <th></th>\n",
       "      <th>t</th>\n",
       "      <th>phi</th>\n",
       "      <th>omega</th>\n",
       "      <th>alpha</th>\n",
       "      <th>r</th>\n",
       "      <th>r-dot</th>\n",
       "      <th>r-dotdot</th>\n",
       "    </tr>\n",
       "  </thead>\n",
       "  <tbody>\n",
       "    <tr>\n",
       "      <th>107</th>\n",
       "      <td>0.594444</td>\n",
       "      <td>1.297958</td>\n",
       "      <td>1.678572</td>\n",
       "      <td>-0.746134</td>\n",
       "      <td>0.363604</td>\n",
       "      <td>0.000282</td>\n",
       "      <td>-0.802746</td>\n",
       "    </tr>\n",
       "    <tr>\n",
       "      <th>426</th>\n",
       "      <td>2.366667</td>\n",
       "      <td>5.925370</td>\n",
       "      <td>2.005699</td>\n",
       "      <td>-0.401490</td>\n",
       "      <td>0.305283</td>\n",
       "      <td>-0.000409</td>\n",
       "      <td>-0.502898</td>\n",
       "    </tr>\n",
       "    <tr>\n",
       "      <th>673</th>\n",
       "      <td>3.738889</td>\n",
       "      <td>9.958287</td>\n",
       "      <td>1.795531</td>\n",
       "      <td>-0.180724</td>\n",
       "      <td>0.242513</td>\n",
       "      <td>-0.002499</td>\n",
       "      <td>-1.068311</td>\n",
       "    </tr>\n",
       "    <tr>\n",
       "      <th>888</th>\n",
       "      <td>4.933333</td>\n",
       "      <td>13.842392</td>\n",
       "      <td>1.806601</td>\n",
       "      <td>-1.044155</td>\n",
       "      <td>0.249192</td>\n",
       "      <td>0.001887</td>\n",
       "      <td>-1.221248</td>\n",
       "    </tr>\n",
       "    <tr>\n",
       "      <th>1136</th>\n",
       "      <td>6.311111</td>\n",
       "      <td>18.739458</td>\n",
       "      <td>2.436638</td>\n",
       "      <td>-0.860047</td>\n",
       "      <td>0.204701</td>\n",
       "      <td>-0.001581</td>\n",
       "      <td>-0.686295</td>\n",
       "    </tr>\n",
       "  </tbody>\n",
       "</table>\n",
       "</div>"
      ],
      "text/plain": [
       "             t        phi     omega     alpha         r     r-dot  r-dotdot\n",
       "107   0.594444   1.297958  1.678572 -0.746134  0.363604  0.000282 -0.802746\n",
       "426   2.366667   5.925370  2.005699 -0.401490  0.305283 -0.000409 -0.502898\n",
       "673   3.738889   9.958287  1.795531 -0.180724  0.242513 -0.002499 -1.068311\n",
       "888   4.933333  13.842392  1.806601 -1.044155  0.249192  0.001887 -1.221248\n",
       "1136  6.311111  18.739458  2.436638 -0.860047  0.204701 -0.001581 -0.686295"
      ]
     },
     "execution_count": 18,
     "metadata": {},
     "output_type": "execute_result"
    }
   ],
   "source": [
    "p = pol[2]\n",
    "z = p.loc[abs(p['r-dot']) < 0.0027]\n",
    "z = z.loc[p['r-dotdot'] < 0]\n",
    "z = z.drop(z.index[[1,-2]])\n",
    "z"
   ]
  },
  {
   "cell_type": "code",
   "execution_count": 19,
   "metadata": {},
   "outputs": [
    {
     "data": {
      "image/png": "[encoded data removed]",
      "text/plain": [
       "<matplotlib.figure.Figure at 0x7f7b97077ef0>"
      ]
     },
     "metadata": {},
     "output_type": "display_data"
    }
   ],
   "source": [
    "%matplotlib inline\n",
    "plt.plot(p['r'])\n",
    "for i in z.index.tolist():\n",
    "    plt.plot((i,i), (0, 0.5))"
   ]
  },
  {
   "cell_type": "code",
   "execution_count": 20,
   "metadata": {},
   "outputs": [],
   "source": [
    "maxims_3 = z"
   ]
  },
  {
   "cell_type": "code",
   "execution_count": 21,
   "metadata": {},
   "outputs": [
    {
     "data": {
      "text/html": [
       "<div>\n",
       "<style scoped>\n",
       "    .dataframe tbody tr th:only-of-type {\n",
       "        vertical-align: middle;\n",
       "    }\n",
       "\n",
       "    .dataframe tbody tr th {\n",
       "        vertical-align: top;\n",
       "    }\n",
       "\n",
       "    .dataframe thead th {\n",
       "        text-align: right;\n",
       "    }\n",
       "</style>\n",
       "<table border=\"1\" class=\"dataframe\">\n",
       "  <thead>\n",
       "    <tr style=\"text-align: right;\">\n",
       "      <th></th>\n",
       "      <th>t</th>\n",
       "      <th>phi</th>\n",
       "      <th>omega</th>\n",
       "      <th>alpha</th>\n",
       "      <th>r</th>\n",
       "      <th>r-dot</th>\n",
       "      <th>r-dotdot</th>\n",
       "    </tr>\n",
       "  </thead>\n",
       "  <tbody>\n",
       "    <tr>\n",
       "      <th>241</th>\n",
       "      <td>1.338889</td>\n",
       "      <td>3.683203</td>\n",
       "      <td>1.675956</td>\n",
       "      <td>0.758169</td>\n",
       "      <td>0.378450</td>\n",
       "      <td>-0.000049</td>\n",
       "      <td>-0.850489</td>\n",
       "    </tr>\n",
       "    <tr>\n",
       "      <th>532</th>\n",
       "      <td>2.955556</td>\n",
       "      <td>7.960408</td>\n",
       "      <td>1.517275</td>\n",
       "      <td>-0.883836</td>\n",
       "      <td>0.325926</td>\n",
       "      <td>-0.002871</td>\n",
       "      <td>-1.141231</td>\n",
       "    </tr>\n",
       "  </tbody>\n",
       "</table>\n",
       "</div>"
      ],
      "text/plain": [
       "            t       phi     omega     alpha         r     r-dot  r-dotdot\n",
       "241  1.338889  3.683203  1.675956  0.758169  0.378450 -0.000049 -0.850489\n",
       "532  2.955556  7.960408  1.517275 -0.883836  0.325926 -0.002871 -1.141231"
      ]
     },
     "execution_count": 21,
     "metadata": {},
     "output_type": "execute_result"
    }
   ],
   "source": [
    "p = pol[3]\n",
    "z = p.loc[abs(p['r-dot']) < 0.003]\n",
    "z = z.loc[p['r-dotdot'] < 0]\n",
    "z"
   ]
  },
  {
   "cell_type": "code",
   "execution_count": 22,
   "metadata": {},
   "outputs": [
    {
     "data": {
      "image/png": "[encoded data removed]",
      "text/plain": [
       "<matplotlib.figure.Figure at 0x7f7b990fa1d0>"
      ]
     },
     "metadata": {},
     "output_type": "display_data"
    }
   ],
   "source": [
    "%matplotlib inline\n",
    "plt.plot(p['r'])\n",
    "for i in z.index.tolist():\n",
    "    plt.plot((i,i), (0, 0.5))\n"
   ]
  },
  {
   "cell_type": "code",
   "execution_count": 23,
   "metadata": {},
   "outputs": [],
   "source": [
    "maxims_4 = z"
   ]
  },
  {
   "cell_type": "code",
   "execution_count": 24,
   "metadata": {},
   "outputs": [],
   "source": [
    "maxims = [maxims_1, maxims_2, maxims_3, maxims_4]"
   ]
  },
  {
   "cell_type": "code",
   "execution_count": 25,
   "metadata": {},
   "outputs": [],
   "source": [
    "#Semiperíode"
   ]
  },
  {
   "cell_type": "code",
   "execution_count": 26,
   "metadata": {},
   "outputs": [
    {
     "name": "stdout",
     "output_type": "stream",
     "text": [
      "1 1.3333333329999997\n",
      "1 1.5388888890000008\n",
      "2 1.5999999999999943\n",
      "2 1.18888888888889\n",
      "2 1.6388888888888795\n",
      "2 1.24444444444444\n",
      "3 1.772222222222217\n",
      "3 1.37222222222222\n",
      "3 1.1944444444444402\n",
      "3 1.3777777777777702\n",
      "4 1.61666666666666\n"
     ]
    }
   ],
   "source": [
    "i = 0\n",
    "for dataset in maxims:\n",
    "    i+=1\n",
    "    v = dataset.index.tolist() #en aquest vector només hi ha els màxims (les seves posicions, de fet)\n",
    "    for index in range(len(v)-1):\n",
    "        print(i, float(dataset.iloc[[index+1]]['t']) - float(dataset.iloc[[index]]['t'])) #crec que prou obvi, suda del float"
   ]
  },
  {
   "cell_type": "code",
   "execution_count": 27,
   "metadata": {},
   "outputs": [],
   "source": [
    "#Perihelion Precession"
   ]
  },
  {
   "cell_type": "code",
   "execution_count": 33,
   "metadata": {},
   "outputs": [
    {
     "name": "stdout",
     "output_type": "stream",
     "text": [
      "1 0.23837572900394743\n",
      "1 1.477513098520225\n",
      "2 0.8230514601967909\n",
      "2 0.29513904069555785\n",
      "2 1.9150828971629164\n",
      "2 1.224856565032507\n",
      "3 1.4858190969153968\n",
      "3 0.8913245927200277\n",
      "3 0.7425115560023148\n",
      "3 1.755473490530708\n",
      "4 1.1356126735942276\n"
     ]
    }
   ],
   "source": [
    "i = 0\n",
    "for dataset in maxims:\n",
    "    i+=1\n",
    "    v = dataset.index.tolist()\n",
    "    for index in range(len(v)-1): #en aquest vector només hi ha els màxims\n",
    "        print(i, float(dataset.iloc[[index+1]]['phi']) - float(dataset.iloc[[index]]['phi']) - np.pi) #ídem, però estàs segur del 2pi? surten coses rares"
   ]
  },
  {
   "cell_type": "code",
   "execution_count": 34,
   "metadata": {},
   "outputs": [],
   "source": [
    "#Semieix major"
   ]
  },
  {
   "cell_type": "code",
   "execution_count": 35,
   "metadata": {},
   "outputs": [
    {
     "name": "stdout",
     "output_type": "stream",
     "text": [
      "1 0.347894693513415\n",
      "1 0.31112112539639253\n",
      "2 0.3506796802872085\n",
      "2 0.281054332025614\n",
      "2 0.255026405797552\n",
      "2 0.22297009467388001\n",
      "3 0.33444365529036946\n",
      "3 0.273898072417711\n",
      "3 0.245852281370607\n",
      "3 0.2269463589800905\n",
      "4 0.35218807358550297\n"
     ]
    }
   ],
   "source": [
    "i = 0\n",
    "l = [] #m'ho guardaré tot en un vector, que els necessito per despres l'eccentricitat\n",
    "for dataset in maxims:\n",
    "    i+=1\n",
    "    v = dataset.index.tolist()\n",
    "    for index in range(len(v)-1):\n",
    "        print(i, (float(dataset.iloc[[index+1]]['r']) + float(dataset.iloc[[index]]['r']))/2)\n",
    "        l.append((float(dataset.iloc[[index+1]]['r']) + float(dataset.iloc[[index]]['r']))/2)"
   ]
  },
  {
   "cell_type": "code",
   "execution_count": 36,
   "metadata": {},
   "outputs": [],
   "source": [
    "#Excentricitat"
   ]
  },
  {
   "cell_type": "code",
   "execution_count": 37,
   "metadata": {},
   "outputs": [],
   "source": [
    "i = 0\n",
    "aux = []\n",
    "for dataset in maxims:\n",
    "    i+=1\n",
    "    v = dataset.index.tolist()\n",
    "    for index in range(len(v)-1):\n",
    "        aux.append((i, (v[index]+v[index+1])*0.5))"
   ]
  },
  {
   "cell_type": "code",
   "execution_count": 38,
   "metadata": {},
   "outputs": [
    {
     "data": {
      "text/plain": [
       "[(1, 523.0),\n",
       " (1, 781.5),\n",
       " (2, 172.0),\n",
       " (2, 423.0),\n",
       " (2, 677.5),\n",
       " (2, 937.0),\n",
       " (3, 266.5),\n",
       " (3, 549.5),\n",
       " (3, 780.5),\n",
       " (3, 1012.0),\n",
       " (4, 386.5)]"
      ]
     },
     "execution_count": 38,
     "metadata": {},
     "output_type": "execute_result"
    }
   ],
   "source": [
    "aux"
   ]
  },
  {
   "cell_type": "markdown",
   "metadata": {},
   "source": [
    "Aquí faig mitja triquinyuela de dir bueno, (ta+tb)/2 no te pq ser un punt de datasets, em sumo els indexs i parteixo per dos, i si es imparell, fare la mitjana dels dos del costat"
   ]
  },
  {
   "cell_type": "code",
   "execution_count": 39,
   "metadata": {},
   "outputs": [],
   "source": [
    "def enter(a):\n",
    "    return int(a) == int(a+0.6) #una guarrada, torna true si és .0, false si 0.5"
   ]
  },
  {
   "cell_type": "code",
   "execution_count": 40,
   "metadata": {},
   "outputs": [
    {
     "name": "stdout",
     "output_type": "stream",
     "text": [
      "1 0.223170320032\n",
      "1 0.16075473742\n",
      "2 0.232242009707\n",
      "2 0.231475292139\n",
      "2 0.193894123642\n",
      "2 0.133992227476\n",
      "3 0.202477371532\n",
      "3 0.187233573519\n",
      "3 0.132937038275\n",
      "3 0.110908628434\n",
      "4 0.222437796569\n"
     ]
    }
   ],
   "source": [
    "radis = []  #també mels guardo en un vector\n",
    "for parella in aux:\n",
    "    dataset = pol[parella[0]-1] #simplement marcar d'on agafo les dades, el -1 pq al vector són 0:3\n",
    "    if enter(parella[1]):\n",
    "        radi = dataset['r'][int((parella[1]))] #tot ok\n",
    "    else:\n",
    "        radi = (dataset['r'][int((parella[1]+0.5))] + dataset['r'][int((parella[1]+0.5))])/2 #La cosa sidosa\n",
    "    print(parella[0], radi)\n",
    "    radis.append((parella[0], radi)) #també mels guardo en un vector"
   ]
  },
  {
   "cell_type": "markdown",
   "metadata": {},
   "source": [
    "El següent pot tenir una mica de sidilla, radis[i][0] es nomes l'index (1,2,3 o 4), i radis[i][1] al valor de la seva dreta de la cel·la de dalt."
   ]
  },
  {
   "cell_type": "code",
   "execution_count": 41,
   "metadata": {},
   "outputs": [
    {
     "data": {
      "text/plain": [
       "True"
      ]
     },
     "execution_count": 41,
     "metadata": {},
     "output_type": "execute_result"
    }
   ],
   "source": [
    "len(radis) == len(l) #tot ok? tot ok"
   ]
  },
  {
   "cell_type": "code",
   "execution_count": 42,
   "metadata": {},
   "outputs": [],
   "source": [
    "excentricitats = [(radis[i][0],(np.sqrt(1-((radis[i][1]**2)/(l[i]**2))))) for i in range(len(radis))] "
   ]
  },
  {
   "cell_type": "raw",
   "metadata": {},
   "source": [
    "for i in excentricitats:\n",
    "    print(i[0],i[1])"
   ]
  },
  {
   "cell_type": "markdown",
   "metadata": {},
   "source": [
    "RESULTATS FINALS"
   ]
  },
  {
   "cell_type": "markdown",
   "metadata": {},
   "source": [
    "## Semiperíode (s)\n",
    "1 1.3333333329999997\n",
    "1 1.5388888890000008\n",
    "2 1.5999999999999943\n",
    "2 1.18888888888889\n",
    "2 1.6388888888888795\n",
    "2 1.24444444444444\n",
    "3 1.772222222222217\n",
    "3 1.37222222222222\n",
    "3 1.1944444444444402\n",
    "3 1.3777777777777702\n",
    "4 1.61666666666666\n",
    "\n",
    "## Perihelion precession (rads/0.5rev)\n",
    "1 0.23837572900394743\n",
    "1 1.477513098520225\n",
    "2 0.8230514601967909\n",
    "2 0.29513904069555785\n",
    "2 1.9150828971629164\n",
    "2 1.224856565032507\n",
    "3 1.4858190969153968\n",
    "3 0.8913245927200277\n",
    "3 0.7425115560023148\n",
    "3 1.755473490530708\n",
    "4 1.1356126735942276\n",
    "\n",
    "##  Semieixos majors (metres)\n",
    "1 0.347894693513415\n",
    "1 0.31112112539639253\n",
    "2 0.3506796802872085\n",
    "2 0.281054332025614\n",
    "2 0.255026405797552\n",
    "2 0.22297009467388001\n",
    "3 0.33444365529036946\n",
    "3 0.273898072417711\n",
    "3 0.245852281370607\n",
    "3 0.2269463589800905\n",
    "4 0.35218807358550297\n",
    "\n",
    "## Excentricitats\n",
    "1 0.76713295171\n",
    "1 0.856169522906\n",
    "2 0.749271880628\n",
    "2 0.567176539821\n",
    "2 0.649583354233\n",
    "2 0.799292184731\n",
    "3 0.795909590917\n",
    "3 0.7298676301\n",
    "3 0.841203182051\n",
    "3 0.872452036702\n",
    "4 0.775304115012\n",
    "\n"
   ]
  }
 ],
 "metadata": {
  "anaconda-cloud": {},
  "kernelspec": {
   "display_name": "Python 3",
   "language": "python",
   "name": "python3"
  },
  "language_info": {
   "codemirror_mode": {
    "name": "ipython",
    "version": 3
   },
   "file_extension": ".py",
   "mimetype": "text/x-python",
   "name": "python",
   "nbconvert_exporter": "python",
   "pygments_lexer": "ipython3",
   "version": "3.5.3"
  }
 },
 "nbformat": 4,
 "nbformat_minor": 1
}
