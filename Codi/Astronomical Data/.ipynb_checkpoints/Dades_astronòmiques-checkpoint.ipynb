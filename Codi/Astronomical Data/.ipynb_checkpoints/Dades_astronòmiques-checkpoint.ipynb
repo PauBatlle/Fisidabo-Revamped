{
 "cells": [
  {
   "cell_type": "code",
   "execution_count": 1,
   "metadata": {},
   "outputs": [],
   "source": [
    "import pandas as pd\n",
    "import numpy as np\n",
    "import matplotlib.pyplot as plt"
   ]
  },
  {
   "cell_type": "code",
   "execution_count": 6,
   "metadata": {},
   "outputs": [
    {
     "name": "stdout",
     "output_type": "stream",
     "text": [
      "\u001b[0m\u001b[34;42mAstronomical Data\u001b[0m/  \u001b[34;42mData\u001b[0m/  \u001b[34;42mFase1\u001b[0m/  \u001b[34;42mFase2\u001b[0m/  \u001b[34;42mFase3\u001b[0m/\r\n"
     ]
    }
   ],
   "source": [
    "ls"
   ]
  },
  {
   "cell_type": "code",
   "execution_count": 3,
   "metadata": {},
   "outputs": [
    {
     "ename": "FileNotFoundError",
     "evalue": "File b'Dades/1Cart.csv' does not exist",
     "output_type": "error",
     "traceback": [
      "\u001b[0;31m---------------------------------------------------------------------------\u001b[0m",
      "\u001b[0;31mFileNotFoundError\u001b[0m                         Traceback (most recent call last)",
      "\u001b[0;32m<ipython-input-3-7a78ae3894cb>\u001b[0m in \u001b[0;36m<module>\u001b[0;34m()\u001b[0m\n\u001b[0;32m----> 1\u001b[0;31m \u001b[0mcart\u001b[0m \u001b[0;34m=\u001b[0m \u001b[0;34m[\u001b[0m\u001b[0mpd\u001b[0m\u001b[0;34m.\u001b[0m\u001b[0mread_csv\u001b[0m\u001b[0;34m(\u001b[0m\u001b[0;34m\"Dades/\"\u001b[0m\u001b[0;34m+\u001b[0m\u001b[0mstr\u001b[0m\u001b[0;34m(\u001b[0m\u001b[0mi\u001b[0m\u001b[0;34m)\u001b[0m\u001b[0;34m+\u001b[0m\u001b[0;34m\"Cart.csv\"\u001b[0m\u001b[0;34m)\u001b[0m \u001b[0;32mfor\u001b[0m \u001b[0mi\u001b[0m \u001b[0;32min\u001b[0m \u001b[0mrange\u001b[0m\u001b[0;34m(\u001b[0m\u001b[0;36m1\u001b[0m\u001b[0;34m,\u001b[0m\u001b[0;36m5\u001b[0m\u001b[0;34m)\u001b[0m\u001b[0;34m]\u001b[0m \u001b[0;31m#Llegeixo fitxers\u001b[0m\u001b[0;34m\u001b[0m\u001b[0m\n\u001b[0m",
      "\u001b[0;32m<ipython-input-3-7a78ae3894cb>\u001b[0m in \u001b[0;36m<listcomp>\u001b[0;34m(.0)\u001b[0m\n\u001b[0;32m----> 1\u001b[0;31m \u001b[0mcart\u001b[0m \u001b[0;34m=\u001b[0m \u001b[0;34m[\u001b[0m\u001b[0mpd\u001b[0m\u001b[0;34m.\u001b[0m\u001b[0mread_csv\u001b[0m\u001b[0;34m(\u001b[0m\u001b[0;34m\"Dades/\"\u001b[0m\u001b[0;34m+\u001b[0m\u001b[0mstr\u001b[0m\u001b[0;34m(\u001b[0m\u001b[0mi\u001b[0m\u001b[0;34m)\u001b[0m\u001b[0;34m+\u001b[0m\u001b[0;34m\"Cart.csv\"\u001b[0m\u001b[0;34m)\u001b[0m \u001b[0;32mfor\u001b[0m \u001b[0mi\u001b[0m \u001b[0;32min\u001b[0m \u001b[0mrange\u001b[0m\u001b[0;34m(\u001b[0m\u001b[0;36m1\u001b[0m\u001b[0;34m,\u001b[0m\u001b[0;36m5\u001b[0m\u001b[0;34m)\u001b[0m\u001b[0;34m]\u001b[0m \u001b[0;31m#Llegeixo fitxers\u001b[0m\u001b[0;34m\u001b[0m\u001b[0m\n\u001b[0m",
      "\u001b[0;32m/usr/local/lib/python3.5/dist-packages/pandas/io/parsers.py\u001b[0m in \u001b[0;36mparser_f\u001b[0;34m(filepath_or_buffer, sep, delimiter, header, names, index_col, usecols, squeeze, prefix, mangle_dupe_cols, dtype, engine, converters, true_values, false_values, skipinitialspace, skiprows, nrows, na_values, keep_default_na, na_filter, verbose, skip_blank_lines, parse_dates, infer_datetime_format, keep_date_col, date_parser, dayfirst, iterator, chunksize, compression, thousands, decimal, lineterminator, quotechar, quoting, escapechar, comment, encoding, dialect, tupleize_cols, error_bad_lines, warn_bad_lines, skipfooter, skip_footer, doublequote, delim_whitespace, as_recarray, compact_ints, use_unsigned, low_memory, buffer_lines, memory_map, float_precision)\u001b[0m\n\u001b[1;32m    703\u001b[0m                     skip_blank_lines=skip_blank_lines)\n\u001b[1;32m    704\u001b[0m \u001b[0;34m\u001b[0m\u001b[0m\n\u001b[0;32m--> 705\u001b[0;31m         \u001b[0;32mreturn\u001b[0m \u001b[0m_read\u001b[0m\u001b[0;34m(\u001b[0m\u001b[0mfilepath_or_buffer\u001b[0m\u001b[0;34m,\u001b[0m \u001b[0mkwds\u001b[0m\u001b[0;34m)\u001b[0m\u001b[0;34m\u001b[0m\u001b[0m\n\u001b[0m\u001b[1;32m    706\u001b[0m \u001b[0;34m\u001b[0m\u001b[0m\n\u001b[1;32m    707\u001b[0m     \u001b[0mparser_f\u001b[0m\u001b[0;34m.\u001b[0m\u001b[0m__name__\u001b[0m \u001b[0;34m=\u001b[0m \u001b[0mname\u001b[0m\u001b[0;34m\u001b[0m\u001b[0m\n",
      "\u001b[0;32m/usr/local/lib/python3.5/dist-packages/pandas/io/parsers.py\u001b[0m in \u001b[0;36m_read\u001b[0;34m(filepath_or_buffer, kwds)\u001b[0m\n\u001b[1;32m    443\u001b[0m \u001b[0;34m\u001b[0m\u001b[0m\n\u001b[1;32m    444\u001b[0m     \u001b[0;31m# Create the parser.\u001b[0m\u001b[0;34m\u001b[0m\u001b[0;34m\u001b[0m\u001b[0m\n\u001b[0;32m--> 445\u001b[0;31m     \u001b[0mparser\u001b[0m \u001b[0;34m=\u001b[0m \u001b[0mTextFileReader\u001b[0m\u001b[0;34m(\u001b[0m\u001b[0mfilepath_or_buffer\u001b[0m\u001b[0;34m,\u001b[0m \u001b[0;34m**\u001b[0m\u001b[0mkwds\u001b[0m\u001b[0;34m)\u001b[0m\u001b[0;34m\u001b[0m\u001b[0m\n\u001b[0m\u001b[1;32m    446\u001b[0m \u001b[0;34m\u001b[0m\u001b[0m\n\u001b[1;32m    447\u001b[0m     \u001b[0;32mif\u001b[0m \u001b[0mchunksize\u001b[0m \u001b[0;32mor\u001b[0m \u001b[0miterator\u001b[0m\u001b[0;34m:\u001b[0m\u001b[0;34m\u001b[0m\u001b[0m\n",
      "\u001b[0;32m/usr/local/lib/python3.5/dist-packages/pandas/io/parsers.py\u001b[0m in \u001b[0;36m__init__\u001b[0;34m(self, f, engine, **kwds)\u001b[0m\n\u001b[1;32m    812\u001b[0m             \u001b[0mself\u001b[0m\u001b[0;34m.\u001b[0m\u001b[0moptions\u001b[0m\u001b[0;34m[\u001b[0m\u001b[0;34m'has_index_names'\u001b[0m\u001b[0;34m]\u001b[0m \u001b[0;34m=\u001b[0m \u001b[0mkwds\u001b[0m\u001b[0;34m[\u001b[0m\u001b[0;34m'has_index_names'\u001b[0m\u001b[0;34m]\u001b[0m\u001b[0;34m\u001b[0m\u001b[0m\n\u001b[1;32m    813\u001b[0m \u001b[0;34m\u001b[0m\u001b[0m\n\u001b[0;32m--> 814\u001b[0;31m         \u001b[0mself\u001b[0m\u001b[0;34m.\u001b[0m\u001b[0m_make_engine\u001b[0m\u001b[0;34m(\u001b[0m\u001b[0mself\u001b[0m\u001b[0;34m.\u001b[0m\u001b[0mengine\u001b[0m\u001b[0;34m)\u001b[0m\u001b[0;34m\u001b[0m\u001b[0m\n\u001b[0m\u001b[1;32m    815\u001b[0m \u001b[0;34m\u001b[0m\u001b[0m\n\u001b[1;32m    816\u001b[0m     \u001b[0;32mdef\u001b[0m \u001b[0mclose\u001b[0m\u001b[0;34m(\u001b[0m\u001b[0mself\u001b[0m\u001b[0;34m)\u001b[0m\u001b[0;34m:\u001b[0m\u001b[0;34m\u001b[0m\u001b[0m\n",
      "\u001b[0;32m/usr/local/lib/python3.5/dist-packages/pandas/io/parsers.py\u001b[0m in \u001b[0;36m_make_engine\u001b[0;34m(self, engine)\u001b[0m\n\u001b[1;32m   1043\u001b[0m     \u001b[0;32mdef\u001b[0m \u001b[0m_make_engine\u001b[0m\u001b[0;34m(\u001b[0m\u001b[0mself\u001b[0m\u001b[0;34m,\u001b[0m \u001b[0mengine\u001b[0m\u001b[0;34m=\u001b[0m\u001b[0;34m'c'\u001b[0m\u001b[0;34m)\u001b[0m\u001b[0;34m:\u001b[0m\u001b[0;34m\u001b[0m\u001b[0m\n\u001b[1;32m   1044\u001b[0m         \u001b[0;32mif\u001b[0m \u001b[0mengine\u001b[0m \u001b[0;34m==\u001b[0m \u001b[0;34m'c'\u001b[0m\u001b[0;34m:\u001b[0m\u001b[0;34m\u001b[0m\u001b[0m\n\u001b[0;32m-> 1045\u001b[0;31m             \u001b[0mself\u001b[0m\u001b[0;34m.\u001b[0m\u001b[0m_engine\u001b[0m \u001b[0;34m=\u001b[0m \u001b[0mCParserWrapper\u001b[0m\u001b[0;34m(\u001b[0m\u001b[0mself\u001b[0m\u001b[0;34m.\u001b[0m\u001b[0mf\u001b[0m\u001b[0;34m,\u001b[0m \u001b[0;34m**\u001b[0m\u001b[0mself\u001b[0m\u001b[0;34m.\u001b[0m\u001b[0moptions\u001b[0m\u001b[0;34m)\u001b[0m\u001b[0;34m\u001b[0m\u001b[0m\n\u001b[0m\u001b[1;32m   1046\u001b[0m         \u001b[0;32melse\u001b[0m\u001b[0;34m:\u001b[0m\u001b[0;34m\u001b[0m\u001b[0m\n\u001b[1;32m   1047\u001b[0m             \u001b[0;32mif\u001b[0m \u001b[0mengine\u001b[0m \u001b[0;34m==\u001b[0m \u001b[0;34m'python'\u001b[0m\u001b[0;34m:\u001b[0m\u001b[0;34m\u001b[0m\u001b[0m\n",
      "\u001b[0;32m/usr/local/lib/python3.5/dist-packages/pandas/io/parsers.py\u001b[0m in \u001b[0;36m__init__\u001b[0;34m(self, src, **kwds)\u001b[0m\n\u001b[1;32m   1682\u001b[0m         \u001b[0mkwds\u001b[0m\u001b[0;34m[\u001b[0m\u001b[0;34m'allow_leading_cols'\u001b[0m\u001b[0;34m]\u001b[0m \u001b[0;34m=\u001b[0m \u001b[0mself\u001b[0m\u001b[0;34m.\u001b[0m\u001b[0mindex_col\u001b[0m \u001b[0;32mis\u001b[0m \u001b[0;32mnot\u001b[0m \u001b[0;32mFalse\u001b[0m\u001b[0;34m\u001b[0m\u001b[0m\n\u001b[1;32m   1683\u001b[0m \u001b[0;34m\u001b[0m\u001b[0m\n\u001b[0;32m-> 1684\u001b[0;31m         \u001b[0mself\u001b[0m\u001b[0;34m.\u001b[0m\u001b[0m_reader\u001b[0m \u001b[0;34m=\u001b[0m \u001b[0mparsers\u001b[0m\u001b[0;34m.\u001b[0m\u001b[0mTextReader\u001b[0m\u001b[0;34m(\u001b[0m\u001b[0msrc\u001b[0m\u001b[0;34m,\u001b[0m \u001b[0;34m**\u001b[0m\u001b[0mkwds\u001b[0m\u001b[0;34m)\u001b[0m\u001b[0;34m\u001b[0m\u001b[0m\n\u001b[0m\u001b[1;32m   1685\u001b[0m \u001b[0;34m\u001b[0m\u001b[0m\n\u001b[1;32m   1686\u001b[0m         \u001b[0;31m# XXX\u001b[0m\u001b[0;34m\u001b[0m\u001b[0;34m\u001b[0m\u001b[0m\n",
      "\u001b[0;32mpandas/_libs/parsers.pyx\u001b[0m in \u001b[0;36mpandas._libs.parsers.TextReader.__cinit__\u001b[0;34m()\u001b[0m\n",
      "\u001b[0;32mpandas/_libs/parsers.pyx\u001b[0m in \u001b[0;36mpandas._libs.parsers.TextReader._setup_parser_source\u001b[0;34m()\u001b[0m\n",
      "\u001b[0;31mFileNotFoundError\u001b[0m: File b'Dades/1Cart.csv' does not exist"
     ]
    }
   ],
   "source": [
    "cart = [pd.read_csv(\"../Daes/\"+str(i)+\"Cart.csv\") for i in range(1,5)] #Llegeixo fitxers"
   ]
  },
  {
   "cell_type": "code",
   "execution_count": 3,
   "metadata": {
    "collapsed": true
   },
   "outputs": [],
   "source": [
    "pol = [pd.read_csv(\"Dades_takes/\"+str(i)+\"Pol.csv\") for i in range(1,5)]\n",
    "pol = [p.drop('Unnamed: 0', 1) for p in pol] #Una guarrada, trec a mà una columna que em sobra"
   ]
  },
  {
   "cell_type": "markdown",
   "metadata": {},
   "source": [
    "Hem de trobar: (semi)Període, perihelion precession, excentricitat i semieix major"
   ]
  },
  {
   "cell_type": "code",
   "execution_count": 8,
   "metadata": {
    "collapsed": true
   },
   "outputs": [],
   "source": [
    "z = list(pol[0]['r'])"
   ]
  },
  {
   "cell_type": "code",
   "execution_count": 9,
   "metadata": {},
   "outputs": [
    {
     "data": {
      "text/plain": [
       "1043"
      ]
     },
     "execution_count": 9,
     "metadata": {},
     "output_type": "execute_result"
    }
   ],
   "source": [
    "len(z)"
   ]
  },
  {
   "cell_type": "code",
   "execution_count": 16,
   "metadata": {
    "collapsed": true
   },
   "outputs": [],
   "source": [
    "for i in range(0,4):\n",
    "    open(\"radi\"+str(i+1)+\".txt\", \"w\").write(str(list(pol[i]['r'])))"
   ]
  },
  {
   "cell_type": "code",
   "execution_count": 132,
   "metadata": {
    "collapsed": true
   },
   "outputs": [],
   "source": [
    "#Trobem els màxims, per cada take\n",
    "p = pol[0]"
   ]
  },
  {
   "cell_type": "code",
   "execution_count": 133,
   "metadata": {},
   "outputs": [
    {
     "data": {
      "text/html": [
       "<div>\n",
       "<table border=\"1\" class=\"dataframe\">\n",
       "  <thead>\n",
       "    <tr style=\"text-align: right;\">\n",
       "      <th></th>\n",
       "      <th>t</th>\n",
       "      <th>phi</th>\n",
       "      <th>omega</th>\n",
       "      <th>alpha</th>\n",
       "      <th>r</th>\n",
       "      <th>r-dot</th>\n",
       "      <th>r-dotdot</th>\n",
       "    </tr>\n",
       "  </thead>\n",
       "  <tbody>\n",
       "    <tr>\n",
       "      <th>403</th>\n",
       "      <td>2.238889</td>\n",
       "      <td>5.061959</td>\n",
       "      <td>1.281938</td>\n",
       "      <td>-0.019233</td>\n",
       "      <td>0.386377</td>\n",
       "      <td>0.001929</td>\n",
       "      <td>-1.251190</td>\n",
       "    </tr>\n",
       "    <tr>\n",
       "      <th>643</th>\n",
       "      <td>3.572222</td>\n",
       "      <td>8.441927</td>\n",
       "      <td>1.815490</td>\n",
       "      <td>0.008452</td>\n",
       "      <td>0.309412</td>\n",
       "      <td>0.001614</td>\n",
       "      <td>-1.077273</td>\n",
       "    </tr>\n",
       "    <tr>\n",
       "      <th>920</th>\n",
       "      <td>5.111111</td>\n",
       "      <td>13.061033</td>\n",
       "      <td>1.653063</td>\n",
       "      <td>0.004167</td>\n",
       "      <td>0.312830</td>\n",
       "      <td>-0.000612</td>\n",
       "      <td>-0.619983</td>\n",
       "    </tr>\n",
       "  </tbody>\n",
       "</table>\n",
       "</div>"
      ],
      "text/plain": [
       "            t        phi     omega     alpha         r     r-dot  r-dotdot\n",
       "403  2.238889   5.061959  1.281938 -0.019233  0.386377  0.001929 -1.251190\n",
       "643  3.572222   8.441927  1.815490  0.008452  0.309412  0.001614 -1.077273\n",
       "920  5.111111  13.061033  1.653063  0.004167  0.312830 -0.000612 -0.619983"
      ]
     },
     "execution_count": 133,
     "metadata": {},
     "output_type": "execute_result"
    }
   ],
   "source": [
    "z = p.loc[abs(p['r-dot']) < 0.0027] #Aquestes precisions són amb prova i error \n",
    "z = z.loc[p['r-dotdot'] < 0] #obvi, no?\n",
    "z"
   ]
  },
  {
   "cell_type": "code",
   "execution_count": 134,
   "metadata": {},
   "outputs": [
    {
     "data": {
      "image/png": "[encoded data removed]",
      "text/plain": [
       "<matplotlib.figure.Figure at 0x1d0148d7ba8>"
      ]
     },
     "metadata": {},
     "output_type": "display_data"
    }
   ],
   "source": [
    "%matplotlib inline\n",
    "plt.plot(p['r'])\n",
    "for i in z.index.tolist():\n",
    "    plt.plot((i,i), (0, 0.5)) #Sempre va bé veure un gràfic :)"
   ]
  },
  {
   "cell_type": "code",
   "execution_count": 135,
   "metadata": {
    "collapsed": true
   },
   "outputs": [],
   "source": [
    "maxims_1 = z"
   ]
  },
  {
   "cell_type": "code",
   "execution_count": 136,
   "metadata": {
    "collapsed": true
   },
   "outputs": [],
   "source": [
    "p = pol[1]"
   ]
  },
  {
   "cell_type": "code",
   "execution_count": 137,
   "metadata": {},
   "outputs": [
    {
     "data": {
      "text/html": [
       "<div>\n",
       "<table border=\"1\" class=\"dataframe\">\n",
       "  <thead>\n",
       "    <tr style=\"text-align: right;\">\n",
       "      <th></th>\n",
       "      <th>t</th>\n",
       "      <th>phi</th>\n",
       "      <th>omega</th>\n",
       "      <th>alpha</th>\n",
       "      <th>r</th>\n",
       "      <th>r-dot</th>\n",
       "      <th>r-dotdot</th>\n",
       "    </tr>\n",
       "  </thead>\n",
       "  <tbody>\n",
       "    <tr>\n",
       "      <th>28</th>\n",
       "      <td>0.155556</td>\n",
       "      <td>0.257012</td>\n",
       "      <td>1.606302</td>\n",
       "      <td>-0.717342</td>\n",
       "      <td>0.400574</td>\n",
       "      <td>-0.001657</td>\n",
       "      <td>-0.836277</td>\n",
       "    </tr>\n",
       "    <tr>\n",
       "      <th>316</th>\n",
       "      <td>1.755556</td>\n",
       "      <td>4.221656</td>\n",
       "      <td>2.081260</td>\n",
       "      <td>0.506534</td>\n",
       "      <td>0.300785</td>\n",
       "      <td>0.000105</td>\n",
       "      <td>-0.631635</td>\n",
       "    </tr>\n",
       "    <tr>\n",
       "      <th>530</th>\n",
       "      <td>2.944444</td>\n",
       "      <td>7.658388</td>\n",
       "      <td>2.284474</td>\n",
       "      <td>-0.953660</td>\n",
       "      <td>0.261323</td>\n",
       "      <td>0.001013</td>\n",
       "      <td>-0.455887</td>\n",
       "    </tr>\n",
       "    <tr>\n",
       "      <th>825</th>\n",
       "      <td>4.583333</td>\n",
       "      <td>12.715063</td>\n",
       "      <td>2.255815</td>\n",
       "      <td>-1.373537</td>\n",
       "      <td>0.248730</td>\n",
       "      <td>0.001847</td>\n",
       "      <td>-0.894878</td>\n",
       "    </tr>\n",
       "    <tr>\n",
       "      <th>1049</th>\n",
       "      <td>5.827778</td>\n",
       "      <td>17.081513</td>\n",
       "      <td>2.856227</td>\n",
       "      <td>1.271863</td>\n",
       "      <td>0.197211</td>\n",
       "      <td>0.001673</td>\n",
       "      <td>-0.789028</td>\n",
       "    </tr>\n",
       "  </tbody>\n",
       "</table>\n",
       "</div>"
      ],
      "text/plain": [
       "             t        phi     omega     alpha         r     r-dot  r-dotdot\n",
       "28    0.155556   0.257012  1.606302 -0.717342  0.400574 -0.001657 -0.836277\n",
       "316   1.755556   4.221656  2.081260  0.506534  0.300785  0.000105 -0.631635\n",
       "530   2.944444   7.658388  2.284474 -0.953660  0.261323  0.001013 -0.455887\n",
       "825   4.583333  12.715063  2.255815 -1.373537  0.248730  0.001847 -0.894878\n",
       "1049  5.827778  17.081513  2.856227  1.271863  0.197211  0.001673 -0.789028"
      ]
     },
     "execution_count": 137,
     "metadata": {},
     "output_type": "execute_result"
    }
   ],
   "source": [
    "z = p.loc[abs(p['r-dot']) < 0.0027]\n",
    "z = z.loc[p['r-dotdot'] < 0]\n",
    "z = z.drop(z.index[[3]]) #A vegades he tret els duplicates a mà\n",
    "z"
   ]
  },
  {
   "cell_type": "code",
   "execution_count": 138,
   "metadata": {},
   "outputs": [
    {
     "data": {
      "image/png": "[encoded data removed]",
      "text/plain": [
       "<matplotlib.figure.Figure at 0x1d0148da438>"
      ]
     },
     "metadata": {},
     "output_type": "display_data"
    }
   ],
   "source": [
    "%matplotlib inline\n",
    "plt.plot(p['r'])\n",
    "for i in z.index.tolist():\n",
    "    plt.plot((i,i), (0, 0.5))"
   ]
  },
  {
   "cell_type": "code",
   "execution_count": 139,
   "metadata": {
    "collapsed": true
   },
   "outputs": [],
   "source": [
    "maxims_2 = z"
   ]
  },
  {
   "cell_type": "code",
   "execution_count": 140,
   "metadata": {},
   "outputs": [
    {
     "data": {
      "text/html": [
       "<div>\n",
       "<table border=\"1\" class=\"dataframe\">\n",
       "  <thead>\n",
       "    <tr style=\"text-align: right;\">\n",
       "      <th></th>\n",
       "      <th>t</th>\n",
       "      <th>phi</th>\n",
       "      <th>omega</th>\n",
       "      <th>alpha</th>\n",
       "      <th>r</th>\n",
       "      <th>r-dot</th>\n",
       "      <th>r-dotdot</th>\n",
       "    </tr>\n",
       "  </thead>\n",
       "  <tbody>\n",
       "    <tr>\n",
       "      <th>107</th>\n",
       "      <td>0.594444</td>\n",
       "      <td>1.297958</td>\n",
       "      <td>1.678572</td>\n",
       "      <td>-0.746134</td>\n",
       "      <td>0.363604</td>\n",
       "      <td>0.000282</td>\n",
       "      <td>-0.802746</td>\n",
       "    </tr>\n",
       "    <tr>\n",
       "      <th>426</th>\n",
       "      <td>2.366667</td>\n",
       "      <td>5.925370</td>\n",
       "      <td>2.005699</td>\n",
       "      <td>-0.401490</td>\n",
       "      <td>0.305283</td>\n",
       "      <td>-0.000409</td>\n",
       "      <td>-0.502898</td>\n",
       "    </tr>\n",
       "    <tr>\n",
       "      <th>673</th>\n",
       "      <td>3.738889</td>\n",
       "      <td>9.958287</td>\n",
       "      <td>1.795531</td>\n",
       "      <td>-0.180724</td>\n",
       "      <td>0.242513</td>\n",
       "      <td>-0.002499</td>\n",
       "      <td>-1.068311</td>\n",
       "    </tr>\n",
       "    <tr>\n",
       "      <th>888</th>\n",
       "      <td>4.933333</td>\n",
       "      <td>13.842392</td>\n",
       "      <td>1.806601</td>\n",
       "      <td>-1.044155</td>\n",
       "      <td>0.249192</td>\n",
       "      <td>0.001887</td>\n",
       "      <td>-1.221248</td>\n",
       "    </tr>\n",
       "    <tr>\n",
       "      <th>1136</th>\n",
       "      <td>6.311111</td>\n",
       "      <td>18.739458</td>\n",
       "      <td>2.436638</td>\n",
       "      <td>-0.860047</td>\n",
       "      <td>0.204701</td>\n",
       "      <td>-0.001581</td>\n",
       "      <td>-0.686295</td>\n",
       "    </tr>\n",
       "  </tbody>\n",
       "</table>\n",
       "</div>"
      ],
      "text/plain": [
       "             t        phi     omega     alpha         r     r-dot  r-dotdot\n",
       "107   0.594444   1.297958  1.678572 -0.746134  0.363604  0.000282 -0.802746\n",
       "426   2.366667   5.925370  2.005699 -0.401490  0.305283 -0.000409 -0.502898\n",
       "673   3.738889   9.958287  1.795531 -0.180724  0.242513 -0.002499 -1.068311\n",
       "888   4.933333  13.842392  1.806601 -1.044155  0.249192  0.001887 -1.221248\n",
       "1136  6.311111  18.739458  2.436638 -0.860047  0.204701 -0.001581 -0.686295"
      ]
     },
     "execution_count": 140,
     "metadata": {},
     "output_type": "execute_result"
    }
   ],
   "source": [
    "p = pol[2]\n",
    "z = p.loc[abs(p['r-dot']) < 0.0027]\n",
    "z = z.loc[p['r-dotdot'] < 0]\n",
    "z = z.drop(z.index[[1,-2]])\n",
    "z"
   ]
  },
  {
   "cell_type": "code",
   "execution_count": 141,
   "metadata": {},
   "outputs": [
    {
     "data": {
      "image/png": "[encoded data removed]",
      "text/plain": [
       "<matplotlib.figure.Figure at 0x1d0148da630>"
      ]
     },
     "metadata": {},
     "output_type": "display_data"
    }
   ],
   "source": [
    "%matplotlib inline\n",
    "plt.plot(p['r'])\n",
    "for i in z.index.tolist():\n",
    "    plt.plot((i,i), (0, 0.5))"
   ]
  },
  {
   "cell_type": "code",
   "execution_count": 142,
   "metadata": {
    "collapsed": true
   },
   "outputs": [],
   "source": [
    "maxims_3 = z"
   ]
  },
  {
   "cell_type": "code",
   "execution_count": 143,
   "metadata": {},
   "outputs": [
    {
     "data": {
      "text/html": [
       "<div>\n",
       "<table border=\"1\" class=\"dataframe\">\n",
       "  <thead>\n",
       "    <tr style=\"text-align: right;\">\n",
       "      <th></th>\n",
       "      <th>t</th>\n",
       "      <th>phi</th>\n",
       "      <th>omega</th>\n",
       "      <th>alpha</th>\n",
       "      <th>r</th>\n",
       "      <th>r-dot</th>\n",
       "      <th>r-dotdot</th>\n",
       "    </tr>\n",
       "  </thead>\n",
       "  <tbody>\n",
       "    <tr>\n",
       "      <th>241</th>\n",
       "      <td>1.338889</td>\n",
       "      <td>3.683203</td>\n",
       "      <td>1.675956</td>\n",
       "      <td>0.758169</td>\n",
       "      <td>0.378450</td>\n",
       "      <td>-0.000049</td>\n",
       "      <td>-0.850489</td>\n",
       "    </tr>\n",
       "    <tr>\n",
       "      <th>532</th>\n",
       "      <td>2.955556</td>\n",
       "      <td>7.960408</td>\n",
       "      <td>1.517275</td>\n",
       "      <td>-0.883836</td>\n",
       "      <td>0.325926</td>\n",
       "      <td>-0.002871</td>\n",
       "      <td>-1.141231</td>\n",
       "    </tr>\n",
       "  </tbody>\n",
       "</table>\n",
       "</div>"
      ],
      "text/plain": [
       "            t       phi     omega     alpha         r     r-dot  r-dotdot\n",
       "241  1.338889  3.683203  1.675956  0.758169  0.378450 -0.000049 -0.850489\n",
       "532  2.955556  7.960408  1.517275 -0.883836  0.325926 -0.002871 -1.141231"
      ]
     },
     "execution_count": 143,
     "metadata": {},
     "output_type": "execute_result"
    }
   ],
   "source": [
    "p = pol[3]\n",
    "z = p.loc[abs(p['r-dot']) < 0.003]\n",
    "z = z.loc[p['r-dotdot'] < 0]\n",
    "z"
   ]
  },
  {
   "cell_type": "code",
   "execution_count": 144,
   "metadata": {},
   "outputs": [
    {
     "data": {
      "image/png": "[encoded data removed]",
      "text/plain": [
       "<matplotlib.figure.Figure at 0x1d014877da0>"
      ]
     },
     "metadata": {},
     "output_type": "display_data"
    }
   ],
   "source": [
    "%matplotlib inline\n",
    "plt.plot(p['r'])\n",
    "for i in z.index.tolist():\n",
    "    plt.plot((i,i), (0, 0.5))\n"
   ]
  },
  {
   "cell_type": "code",
   "execution_count": 145,
   "metadata": {
    "collapsed": true
   },
   "outputs": [],
   "source": [
    "maxims_4 = z"
   ]
  },
  {
   "cell_type": "code",
   "execution_count": 146,
   "metadata": {
    "collapsed": true
   },
   "outputs": [],
   "source": [
    "maxims = [maxims_1, maxims_2, maxims_3, maxims_4]"
   ]
  },
  {
   "cell_type": "code",
   "execution_count": 147,
   "metadata": {
    "collapsed": true
   },
   "outputs": [],
   "source": [
    "#Semiperíode"
   ]
  },
  {
   "cell_type": "code",
   "execution_count": 148,
   "metadata": {},
   "outputs": [
    {
     "name": "stdout",
     "output_type": "stream",
     "text": [
      "1 1.3333333329999997\n",
      "1 1.5388888890000008\n",
      "2 1.5999999999999943\n",
      "2 1.18888888888889\n",
      "2 1.6388888888888795\n",
      "2 1.24444444444444\n",
      "3 1.772222222222217\n",
      "3 1.37222222222222\n",
      "3 1.1944444444444402\n",
      "3 1.3777777777777702\n",
      "4 1.61666666666666\n"
     ]
    }
   ],
   "source": [
    "i = 0\n",
    "for dataset in maxims:\n",
    "    i+=1\n",
    "    v = dataset.index.tolist() #en aquest vector només hi ha els màxims (les seves posicions, de fet)\n",
    "    for index in range(len(v)-1):\n",
    "        print(i, float(dataset.iloc[[index+1]]['t']) - float(dataset.iloc[[index]]['t'])) #crec que prou obvi, suda del float"
   ]
  },
  {
   "cell_type": "code",
   "execution_count": 149,
   "metadata": {
    "collapsed": true
   },
   "outputs": [],
   "source": [
    "#Perihelion Precession"
   ]
  },
  {
   "cell_type": "code",
   "execution_count": 151,
   "metadata": {},
   "outputs": [
    {
     "name": "stdout",
     "output_type": "stream",
     "text": [
      "1 0.23837572900394743\n",
      "1 1.477513098520225\n",
      "2 0.8230514601967909\n",
      "2 0.29513904069555785\n",
      "2 1.9150828971629164\n",
      "2 1.224856565032507\n",
      "3 1.4858190969153968\n",
      "3 0.8913245927200277\n",
      "3 0.7425115560023148\n",
      "3 1.755473490530708\n",
      "4 1.1356126735942276\n"
     ]
    }
   ],
   "source": [
    "i = 0\n",
    "for dataset in maxims:\n",
    "    i+=1\n",
    "    v = dataset.index.tolist()\n",
    "    for index in range(len(v)-1): #en aquest vector només hi ha els màxims\n",
    "        print(i, float(dataset.iloc[[index+1]]['phi']) - float(dataset.iloc[[index]]['phi']) - np.pi) #ídem, però estàs segur del 2pi? surten coses rares"
   ]
  },
  {
   "cell_type": "code",
   "execution_count": 112,
   "metadata": {
    "collapsed": true
   },
   "outputs": [],
   "source": [
    "#Semieix major"
   ]
  },
  {
   "cell_type": "code",
   "execution_count": 114,
   "metadata": {},
   "outputs": [
    {
     "name": "stdout",
     "output_type": "stream",
     "text": [
      "1 0.347894693513415\n",
      "1 0.31112112539639253\n",
      "2 0.3506796802872085\n",
      "2 0.281054332025614\n",
      "2 0.255026405797552\n",
      "2 0.22297009467388001\n",
      "3 0.33444365529036946\n",
      "3 0.273898072417711\n",
      "3 0.245852281370607\n",
      "3 0.2269463589800905\n",
      "4 0.35218807358550297\n"
     ]
    }
   ],
   "source": [
    "i = 0\n",
    "l = [] #m'ho guardaré tot en un vector, que els necessito per despres l'eccentricitat\n",
    "for dataset in maxims:\n",
    "    i+=1\n",
    "    v = dataset.index.tolist()\n",
    "    for index in range(len(v)-1):\n",
    "        print(i, (float(dataset.iloc[[index+1]]['r']) + float(dataset.iloc[[index]]['r']))/2)\n",
    "        l.append((float(dataset.iloc[[index+1]]['r']) + float(dataset.iloc[[index]]['r']))/2)"
   ]
  },
  {
   "cell_type": "code",
   "execution_count": 115,
   "metadata": {
    "collapsed": true
   },
   "outputs": [],
   "source": [
    "#Excentricitat"
   ]
  },
  {
   "cell_type": "code",
   "execution_count": 116,
   "metadata": {
    "collapsed": true
   },
   "outputs": [],
   "source": [
    "i = 0\n",
    "aux = []\n",
    "for dataset in maxims:\n",
    "    i+=1\n",
    "    v = dataset.index.tolist()\n",
    "    for index in range(len(v)-1):\n",
    "        aux.append((i, (v[index]+v[index+1])*0.5))"
   ]
  },
  {
   "cell_type": "code",
   "execution_count": 117,
   "metadata": {},
   "outputs": [
    {
     "data": {
      "text/plain": [
       "[(1, 523.0),\n",
       " (1, 781.5),\n",
       " (2, 172.0),\n",
       " (2, 423.0),\n",
       " (2, 677.5),\n",
       " (2, 937.0),\n",
       " (3, 266.5),\n",
       " (3, 549.5),\n",
       " (3, 780.5),\n",
       " (3, 1012.0),\n",
       " (4, 386.5)]"
      ]
     },
     "execution_count": 117,
     "metadata": {},
     "output_type": "execute_result"
    }
   ],
   "source": [
    "aux"
   ]
  },
  {
   "cell_type": "markdown",
   "metadata": {},
   "source": [
    "Aquí faig mitja triquinyuela de dir bueno, (ta+tb)/2 no te pq ser un punt de datasets, em sumo els indexs i parteixo per dos, i si es imparell, fare la mitjana dels dos del costat"
   ]
  },
  {
   "cell_type": "code",
   "execution_count": 118,
   "metadata": {
    "collapsed": true
   },
   "outputs": [],
   "source": [
    "def enter(a):\n",
    "    return int(a) == int(a+0.6) #una guarrada, torna true si és .0, false si 0.5"
   ]
  },
  {
   "cell_type": "code",
   "execution_count": 119,
   "metadata": {},
   "outputs": [
    {
     "name": "stdout",
     "output_type": "stream",
     "text": [
      "1 0.223170320032\n",
      "1 0.16075473742\n",
      "2 0.232242009707\n",
      "2 0.231475292139\n",
      "2 0.193894123642\n",
      "2 0.133992227476\n",
      "3 0.202477371532\n",
      "3 0.187233573519\n",
      "3 0.132937038275\n",
      "3 0.110908628434\n",
      "4 0.222437796569\n"
     ]
    }
   ],
   "source": [
    "radis = []  #també mels guardo en un vector\n",
    "for parella in aux:\n",
    "    dataset = pol[parella[0]-1] #simplement marcar d'on agafo les dades, el -1 pq al vector són 0:3\n",
    "    if enter(parella[1]):\n",
    "        radi = dataset['r'][int((parella[1]))] #tot ok\n",
    "    else:\n",
    "        radi = (dataset['r'][int((parella[1]+0.5))] + dataset['r'][int((parella[1]+0.5))])/2 #La cosa sidosa\n",
    "    print(parella[0], radi)\n",
    "    radis.append((parella[0], radi)) #també mels guardo en un vector"
   ]
  },
  {
   "cell_type": "markdown",
   "metadata": {},
   "source": [
    "El següent pot tenir una mica de sidilla, radis[i][0] es nomes l'index (1,2,3 o 4), i radis[i][1] al valor de la seva dreta de la cel·la de dalt."
   ]
  },
  {
   "cell_type": "code",
   "execution_count": 120,
   "metadata": {},
   "outputs": [
    {
     "data": {
      "text/plain": [
       "True"
      ]
     },
     "execution_count": 120,
     "metadata": {},
     "output_type": "execute_result"
    }
   ],
   "source": [
    "len(radis) == len(l) #tot ok? tot ok"
   ]
  },
  {
   "cell_type": "code",
   "execution_count": 121,
   "metadata": {
    "collapsed": true
   },
   "outputs": [],
   "source": [
    "excentricitats = [(radis[i][0],(np.sqrt(1-((radis[i][1]**2)/(l[i]**2))))) for i in range(len(radis))] "
   ]
  },
  {
   "cell_type": "raw",
   "metadata": {},
   "source": [
    "for i in excentricitats:\n",
    "    print(i[0],i[1])"
   ]
  },
  {
   "cell_type": "markdown",
   "metadata": {},
   "source": [
    "RESULTATS FINALS"
   ]
  },
  {
   "cell_type": "markdown",
   "metadata": {},
   "source": [
    "## Semiperíode (s)\n",
    "1 1.3333333329999997\n",
    "1 1.5388888890000008\n",
    "2 1.5999999999999943\n",
    "2 1.18888888888889\n",
    "2 1.6388888888888795\n",
    "2 1.24444444444444\n",
    "3 1.772222222222217\n",
    "3 1.37222222222222\n",
    "3 1.1944444444444402\n",
    "3 1.3777777777777702\n",
    "4 1.61666666666666"
   ]
  },
  {
   "cell_type": "markdown",
   "metadata": {},
   "source": [
    "## Perihelion precession (rads/0.5rev)\n",
    "1 0.23837572900394743\n",
    "1 1.477513098520225\n",
    "2 0.8230514601967909\n",
    "2 0.29513904069555785\n",
    "2 1.9150828971629164\n",
    "2 1.224856565032507\n",
    "3 1.4858190969153968\n",
    "3 0.8913245927200277\n",
    "3 0.7425115560023148\n",
    "3 1.755473490530708\n",
    "4 1.1356126735942276"
   ]
  },
  {
   "cell_type": "markdown",
   "metadata": {},
   "source": [
    "##  Semieixos majors (metres)\n",
    "1 0.347894693513415\n",
    "1 0.31112112539639253\n",
    "2 0.3506796802872085\n",
    "2 0.281054332025614\n",
    "2 0.255026405797552\n",
    "2 0.22297009467388001\n",
    "3 0.33444365529036946\n",
    "3 0.273898072417711\n",
    "3 0.245852281370607\n",
    "3 0.2269463589800905\n",
    "4 0.35218807358550297"
   ]
  },
  {
   "cell_type": "markdown",
   "metadata": {},
   "source": [
    "## Excentricitats\n",
    "1 0.76713295171\n",
    "1 0.856169522906\n",
    "2 0.749271880628\n",
    "2 0.567176539821\n",
    "2 0.649583354233\n",
    "2 0.799292184731\n",
    "3 0.795909590917\n",
    "3 0.7298676301\n",
    "3 0.841203182051\n",
    "3 0.872452036702\n",
    "4 0.775304115012"
   ]
  },
  {
   "cell_type": "code",
   "execution_count": null,
   "metadata": {
    "collapsed": true
   },
   "outputs": [],
   "source": []
  }
 ],
 "metadata": {
  "anaconda-cloud": {},
  "kernelspec": {
   "display_name": "Python 3",
   "language": "python",
   "name": "python3"
  },
  "language_info": {
   "codemirror_mode": {
    "name": "ipython",
    "version": 3
   },
   "file_extension": ".py",
   "mimetype": "text/x-python",
   "name": "python",
   "nbconvert_exporter": "python",
   "pygments_lexer": "ipython3",
   "version": "3.5.3"
  }
 },
 "nbformat": 4,
 "nbformat_minor": 1
}
